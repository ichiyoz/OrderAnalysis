{
 "cells": [
  {
   "cell_type": "code",
   "execution_count": 1,
   "metadata": {},
   "outputs": [],
   "source": [
    "import pandas as pd"
   ]
  },
  {
   "cell_type": "code",
   "execution_count": 2,
   "metadata": {},
   "outputs": [],
   "source": [
    "path = '/Users/fan/Desktop/Fullhouse/WCM/HospitalManagement/OrderAnalysis-master/'"
   ]
  },
  {
   "cell_type": "markdown",
   "metadata": {},
   "source": [
    "# Order"
   ]
  },
  {
   "cell_type": "code",
   "execution_count": 3,
   "metadata": {},
   "outputs": [
    {
     "data": {
      "text/html": [
       "<div>\n",
       "<style scoped>\n",
       "    .dataframe tbody tr th:only-of-type {\n",
       "        vertical-align: middle;\n",
       "    }\n",
       "\n",
       "    .dataframe tbody tr th {\n",
       "        vertical-align: top;\n",
       "    }\n",
       "\n",
       "    .dataframe thead th {\n",
       "        text-align: right;\n",
       "    }\n",
       "</style>\n",
       "<table border=\"1\" class=\"dataframe\">\n",
       "  <thead>\n",
       "    <tr style=\"text-align: right;\">\n",
       "      <th></th>\n",
       "      <th>name</th>\n",
       "      <th>clientvisitguid</th>\n",
       "      <th>clientguid</th>\n",
       "      <th>createdwhen</th>\n",
       "      <th>ordersetname</th>\n",
       "      <th>enterrole</th>\n",
       "      <th>typecode</th>\n",
       "      <th>userguid</th>\n",
       "      <th>orderstatuscode</th>\n",
       "      <th>year</th>\n",
       "    </tr>\n",
       "  </thead>\n",
       "  <tbody>\n",
       "    <tr>\n",
       "      <td>0</td>\n",
       "      <td>12 hour order check up to</td>\n",
       "      <td>9000834418200270</td>\n",
       "      <td>9000216018000200</td>\n",
       "      <td>2016-01-25 07:00:00</td>\n",
       "      <td>NaN</td>\n",
       "      <td>Nurse</td>\n",
       "      <td>Other</td>\n",
       "      <td>9000081299501190</td>\n",
       "      <td>COMP</td>\n",
       "      <td>2016</td>\n",
       "    </tr>\n",
       "    <tr>\n",
       "      <td>1</td>\n",
       "      <td>12 hour order check up to</td>\n",
       "      <td>9000948214000270</td>\n",
       "      <td>9000225902300200</td>\n",
       "      <td>2017-01-12 07:00:00</td>\n",
       "      <td>NaN</td>\n",
       "      <td>Nurse</td>\n",
       "      <td>Other</td>\n",
       "      <td>9000030646401190</td>\n",
       "      <td>COMP</td>\n",
       "      <td>2017</td>\n",
       "    </tr>\n",
       "    <tr>\n",
       "      <td>2</td>\n",
       "      <td>Occult Blood, Stool</td>\n",
       "      <td>9000805374100270</td>\n",
       "      <td>9000071888900200</td>\n",
       "      <td>2015-11-02 14:00:00</td>\n",
       "      <td>NaN</td>\n",
       "      <td>NP</td>\n",
       "      <td>Diagnostic</td>\n",
       "      <td>9000002688401190</td>\n",
       "      <td>RESF</td>\n",
       "      <td>2015</td>\n",
       "    </tr>\n",
       "    <tr>\n",
       "      <td>3</td>\n",
       "      <td>Urine Culture</td>\n",
       "      <td>9000832536400270</td>\n",
       "      <td>9000143948600200</td>\n",
       "      <td>2016-01-18 09:00:00</td>\n",
       "      <td>NaN</td>\n",
       "      <td>Resident</td>\n",
       "      <td>Diagnostic</td>\n",
       "      <td>9000041766101190</td>\n",
       "      <td>RESF</td>\n",
       "      <td>2016</td>\n",
       "    </tr>\n",
       "    <tr>\n",
       "      <td>4</td>\n",
       "      <td>Liver Function Panel</td>\n",
       "      <td>9000975060500270</td>\n",
       "      <td>9000111865300200</td>\n",
       "      <td>2017-03-02 16:00:00</td>\n",
       "      <td>AM Lab Order Set</td>\n",
       "      <td>Resident</td>\n",
       "      <td>Diagnostic</td>\n",
       "      <td>9000118483601190</td>\n",
       "      <td>RESF</td>\n",
       "      <td>2017</td>\n",
       "    </tr>\n",
       "  </tbody>\n",
       "</table>\n",
       "</div>"
      ],
      "text/plain": [
       "                        name   clientvisitguid        clientguid  \\\n",
       "0  12 hour order check up to  9000834418200270  9000216018000200   \n",
       "1  12 hour order check up to  9000948214000270  9000225902300200   \n",
       "2        Occult Blood, Stool  9000805374100270  9000071888900200   \n",
       "3              Urine Culture  9000832536400270  9000143948600200   \n",
       "4       Liver Function Panel  9000975060500270  9000111865300200   \n",
       "\n",
       "           createdwhen      ordersetname enterrole    typecode  \\\n",
       "0  2016-01-25 07:00:00               NaN     Nurse       Other   \n",
       "1  2017-01-12 07:00:00               NaN     Nurse       Other   \n",
       "2  2015-11-02 14:00:00               NaN        NP  Diagnostic   \n",
       "3  2016-01-18 09:00:00               NaN  Resident  Diagnostic   \n",
       "4  2017-03-02 16:00:00  AM Lab Order Set  Resident  Diagnostic   \n",
       "\n",
       "           userguid orderstatuscode  year  \n",
       "0  9000081299501190            COMP  2016  \n",
       "1  9000030646401190            COMP  2017  \n",
       "2  9000002688401190            RESF  2015  \n",
       "3  9000041766101190            RESF  2016  \n",
       "4  9000118483601190            RESF  2017  "
      ]
     },
     "execution_count": 3,
     "metadata": {},
     "output_type": "execute_result"
    }
   ],
   "source": [
    "#order_task_all = pd.read_csv(path + 'order_2012_2018_task_pull2_all.csv', header=0)\n",
    "#order = pd.read_csv(path + 'order_taskocc_2012_2018.csv', header=0)\n",
    "order = pd.read_csv(path + 'order_EDDC_2012_2018_cv3_notcancelled.csv', header=0)\n",
    "order.head()"
   ]
  },
  {
   "cell_type": "code",
   "execution_count": 3,
   "metadata": {},
   "outputs": [],
   "source": [
    "#order['TaskStatusCode'].value_counts()"
   ]
  },
  {
   "cell_type": "code",
   "execution_count": 5,
   "metadata": {},
   "outputs": [
    {
     "data": {
      "text/plain": [
       "Resident               250831\n",
       "PA                     139980\n",
       "Nurse                   48635\n",
       "Physician               45198\n",
       "NP                      33357\n",
       "Medical Resident          751\n",
       "VerifyChemoTherapy        609\n",
       "Attending Physician        94\n",
       "Fellow                     94\n",
       "Registered Nurse           27\n",
       "Name: enterrole, dtype: int64"
      ]
     },
     "execution_count": 5,
     "metadata": {},
     "output_type": "execute_result"
    }
   ],
   "source": [
    "order['enterrole'].value_counts()"
   ]
  },
  {
   "cell_type": "code",
   "execution_count": 6,
   "metadata": {},
   "outputs": [
    {
     "name": "stdout",
     "output_type": "stream",
     "text": [
      "<class 'pandas.core.frame.DataFrame'>\n",
      "RangeIndex: 519576 entries, 0 to 519575\n",
      "Data columns (total 10 columns):\n",
      "name               519576 non-null object\n",
      "clientvisitguid    519576 non-null int64\n",
      "clientguid         519576 non-null int64\n",
      "createdwhen        519576 non-null object\n",
      "ordersetname       255154 non-null object\n",
      "enterrole          519576 non-null object\n",
      "typecode           519576 non-null object\n",
      "userguid           519576 non-null int64\n",
      "orderstatuscode    519576 non-null object\n",
      "year               519576 non-null int64\n",
      "dtypes: int64(4), object(6)\n",
      "memory usage: 39.6+ MB\n"
     ]
    }
   ],
   "source": [
    "order.info()"
   ]
  },
  {
   "cell_type": "code",
   "execution_count": 7,
   "metadata": {},
   "outputs": [],
   "source": [
    "order['clientvisitguid'] = order['clientvisitguid'] - 9000000000000000\n",
    "order['clientguid'] = order['clientguid'] - 9000000000000000\n",
    "order['userguid'] = 10000000000000000 - order['userguid']"
   ]
  },
  {
   "cell_type": "code",
   "execution_count": 8,
   "metadata": {},
   "outputs": [
    {
     "name": "stdout",
     "output_type": "stream",
     "text": [
      "556943700270\n",
      "1285016600270\n"
     ]
    }
   ],
   "source": [
    "print(order['clientvisitguid'].min())\n",
    "print(order['clientvisitguid'].max())"
   ]
  },
  {
   "cell_type": "code",
   "execution_count": 9,
   "metadata": {},
   "outputs": [
    {
     "data": {
      "text/html": [
       "<div>\n",
       "<style scoped>\n",
       "    .dataframe tbody tr th:only-of-type {\n",
       "        vertical-align: middle;\n",
       "    }\n",
       "\n",
       "    .dataframe tbody tr th {\n",
       "        vertical-align: top;\n",
       "    }\n",
       "\n",
       "    .dataframe thead th {\n",
       "        text-align: right;\n",
       "    }\n",
       "</style>\n",
       "<table border=\"1\" class=\"dataframe\">\n",
       "  <thead>\n",
       "    <tr style=\"text-align: right;\">\n",
       "      <th></th>\n",
       "      <th>name</th>\n",
       "      <th>clientvisitguid</th>\n",
       "      <th>clientguid</th>\n",
       "      <th>createdwhen</th>\n",
       "      <th>ordersetname</th>\n",
       "      <th>enterrole</th>\n",
       "      <th>typecode</th>\n",
       "      <th>userguid</th>\n",
       "      <th>orderstatuscode</th>\n",
       "      <th>year</th>\n",
       "    </tr>\n",
       "  </thead>\n",
       "  <tbody>\n",
       "  </tbody>\n",
       "</table>\n",
       "</div>"
      ],
      "text/plain": [
       "Empty DataFrame\n",
       "Columns: [name, clientvisitguid, clientguid, createdwhen, ordersetname, enterrole, typecode, userguid, orderstatuscode, year]\n",
       "Index: []"
      ]
     },
     "execution_count": 9,
     "metadata": {},
     "output_type": "execute_result"
    }
   ],
   "source": [
    "order[order['clientvisitguid']== order['userguid']]"
   ]
  },
  {
   "cell_type": "code",
   "execution_count": 10,
   "metadata": {},
   "outputs": [],
   "source": [
    "order.to_csv(path + 'order_EDDC_2012_2018_cv3_notcancelled_new.csv', index=False)"
   ]
  },
  {
   "cell_type": "markdown",
   "metadata": {},
   "source": [
    "# client location"
   ]
  },
  {
   "cell_type": "code",
   "execution_count": 10,
   "metadata": {},
   "outputs": [
    {
     "data": {
      "text/html": [
       "<div>\n",
       "<style scoped>\n",
       "    .dataframe tbody tr th:only-of-type {\n",
       "        vertical-align: middle;\n",
       "    }\n",
       "\n",
       "    .dataframe tbody tr th {\n",
       "        vertical-align: top;\n",
       "    }\n",
       "\n",
       "    .dataframe thead th {\n",
       "        text-align: right;\n",
       "    }\n",
       "</style>\n",
       "<table border=\"1\" class=\"dataframe\">\n",
       "  <thead>\n",
       "    <tr style=\"text-align: right;\">\n",
       "      <th></th>\n",
       "      <th>name</th>\n",
       "      <th>code</th>\n",
       "      <th>TypeCode</th>\n",
       "      <th>clientvisitguid</th>\n",
       "      <th>CreatedWhen</th>\n",
       "    </tr>\n",
       "  </thead>\n",
       "  <tbody>\n",
       "    <tr>\n",
       "      <td>0</td>\n",
       "      <td>Adult ED</td>\n",
       "      <td>A              |EMERGENCY      |AEQKER         |</td>\n",
       "      <td>Holding Unit</td>\n",
       "      <td>9000597420000270</td>\n",
       "      <td>2014-04-02 11:10:22.270</td>\n",
       "    </tr>\n",
       "    <tr>\n",
       "      <td>1</td>\n",
       "      <td>Ambulatory Surgery TEE</td>\n",
       "      <td>A              |OUTPATIENT     |STEE           |</td>\n",
       "      <td>Unit</td>\n",
       "      <td>9000597009300270</td>\n",
       "      <td>2014-04-03 09:29:33.000</td>\n",
       "    </tr>\n",
       "    <tr>\n",
       "      <td>2</td>\n",
       "      <td>Adult ED</td>\n",
       "      <td>A              |EMERGENCY      |AEQKER         |</td>\n",
       "      <td>Holding Unit</td>\n",
       "      <td>9000598124400270</td>\n",
       "      <td>2014-04-03 18:13:58.210</td>\n",
       "    </tr>\n",
       "    <tr>\n",
       "      <td>3</td>\n",
       "      <td>G06C-6229-A</td>\n",
       "      <td>A              |INPATIENT      |G06C          ...</td>\n",
       "      <td>Bed</td>\n",
       "      <td>9000598124400270</td>\n",
       "      <td>2014-04-05 01:39:44.550</td>\n",
       "    </tr>\n",
       "    <tr>\n",
       "      <td>4</td>\n",
       "      <td>Adult ED</td>\n",
       "      <td>A              |EMERGENCY      |AEQKER         |</td>\n",
       "      <td>Holding Unit</td>\n",
       "      <td>9000599620400270</td>\n",
       "      <td>2014-04-08 17:50:55.717</td>\n",
       "    </tr>\n",
       "  </tbody>\n",
       "</table>\n",
       "</div>"
      ],
      "text/plain": [
       "                     name                                               code  \\\n",
       "0                Adult ED   A              |EMERGENCY      |AEQKER         |   \n",
       "1  Ambulatory Surgery TEE   A              |OUTPATIENT     |STEE           |   \n",
       "2                Adult ED   A              |EMERGENCY      |AEQKER         |   \n",
       "3             G06C-6229-A  A              |INPATIENT      |G06C          ...   \n",
       "4                Adult ED   A              |EMERGENCY      |AEQKER         |   \n",
       "\n",
       "       TypeCode   clientvisitguid              CreatedWhen  \n",
       "0  Holding Unit  9000597420000270  2014-04-02 11:10:22.270  \n",
       "1          Unit  9000597009300270  2014-04-03 09:29:33.000  \n",
       "2  Holding Unit  9000598124400270  2014-04-03 18:13:58.210  \n",
       "3           Bed  9000598124400270  2014-04-05 01:39:44.550  \n",
       "4  Holding Unit  9000599620400270  2014-04-08 17:50:55.717  "
      ]
     },
     "execution_count": 10,
     "metadata": {},
     "output_type": "execute_result"
    }
   ],
   "source": [
    "location = pd.read_csv(path + 'clientlocation_2012_2018_pull2.csv', header = 0)\n",
    "location.head()"
   ]
  },
  {
   "cell_type": "code",
   "execution_count": 11,
   "metadata": {},
   "outputs": [
    {
     "name": "stdout",
     "output_type": "stream",
     "text": [
      "<class 'pandas.core.frame.DataFrame'>\n",
      "RangeIndex: 91092 entries, 0 to 91091\n",
      "Data columns (total 5 columns):\n",
      "name               91092 non-null object\n",
      "code               91092 non-null object\n",
      "TypeCode           91092 non-null object\n",
      "clientvisitguid    91092 non-null int64\n",
      "CreatedWhen        91092 non-null object\n",
      "dtypes: int64(1), object(4)\n",
      "memory usage: 3.5+ MB\n"
     ]
    }
   ],
   "source": [
    "location.info()"
   ]
  },
  {
   "cell_type": "code",
   "execution_count": 12,
   "metadata": {},
   "outputs": [],
   "source": [
    "location['clientvisitguid'] = location['clientvisitguid'] - 9000000000000000"
   ]
  },
  {
   "cell_type": "code",
   "execution_count": 13,
   "metadata": {},
   "outputs": [
    {
     "name": "stdout",
     "output_type": "stream",
     "text": [
      "7985800270\n",
      "1285337700270\n"
     ]
    }
   ],
   "source": [
    "print(location['clientvisitguid'].min())\n",
    "print(location['clientvisitguid'].max())"
   ]
  },
  {
   "cell_type": "code",
   "execution_count": 14,
   "metadata": {},
   "outputs": [],
   "source": [
    "location.to_csv(path + 'clientlocation_2012_2018_pull2_new.csv', index=False)"
   ]
  },
  {
   "cell_type": "markdown",
   "metadata": {},
   "source": [
    "# client visit"
   ]
  },
  {
   "cell_type": "code",
   "execution_count": 15,
   "metadata": {},
   "outputs": [
    {
     "data": {
      "text/html": [
       "<div>\n",
       "<style scoped>\n",
       "    .dataframe tbody tr th:only-of-type {\n",
       "        vertical-align: middle;\n",
       "    }\n",
       "\n",
       "    .dataframe tbody tr th {\n",
       "        vertical-align: top;\n",
       "    }\n",
       "\n",
       "    .dataframe thead th {\n",
       "        text-align: right;\n",
       "    }\n",
       "</style>\n",
       "<table border=\"1\" class=\"dataframe\">\n",
       "  <thead>\n",
       "    <tr style=\"text-align: right;\">\n",
       "      <th></th>\n",
       "      <th>DischargeDCDesc</th>\n",
       "      <th>DischargeDtm</th>\n",
       "      <th>AdmitDtm</th>\n",
       "      <th>ClientVisitGUID</th>\n",
       "      <th>ClientGUID</th>\n",
       "      <th>HospitalService</th>\n",
       "      <th>EDSite</th>\n",
       "      <th>SummaryDispoCategory</th>\n",
       "      <th>FinalDispoCategory</th>\n",
       "    </tr>\n",
       "  </thead>\n",
       "  <tbody>\n",
       "    <tr>\n",
       "      <td>0</td>\n",
       "      <td>ROUTINE/HOME</td>\n",
       "      <td>2015-11-13 19:03:00.000</td>\n",
       "      <td>2015-11-01 15:20:00.000</td>\n",
       "      <td>9000805358900270</td>\n",
       "      <td>9000199802700200</td>\n",
       "      <td>MED</td>\n",
       "      <td>LMH ED</td>\n",
       "      <td>Admitted</td>\n",
       "      <td>Admitted</td>\n",
       "    </tr>\n",
       "    <tr>\n",
       "      <td>1</td>\n",
       "      <td>DISCHARGE HOME WITH HM HLTH SERV</td>\n",
       "      <td>2014-02-28 17:55:00.000</td>\n",
       "      <td>2014-02-06 21:06:00.000</td>\n",
       "      <td>9000579333200270</td>\n",
       "      <td>9000151733300200</td>\n",
       "      <td>MED</td>\n",
       "      <td>Cornell ED</td>\n",
       "      <td>Admitted</td>\n",
       "      <td>Admitted</td>\n",
       "    </tr>\n",
       "    <tr>\n",
       "      <td>2</td>\n",
       "      <td>ROUTINE/HOME</td>\n",
       "      <td>2014-09-12 15:25:00.000</td>\n",
       "      <td>2014-09-10 18:31:00.000</td>\n",
       "      <td>9000654172500270</td>\n",
       "      <td>9000003370300200</td>\n",
       "      <td>MED</td>\n",
       "      <td>LMH ED</td>\n",
       "      <td>Admitted</td>\n",
       "      <td>Admitted</td>\n",
       "    </tr>\n",
       "    <tr>\n",
       "      <td>3</td>\n",
       "      <td>PATIENT EXPIRED</td>\n",
       "      <td>2015-01-20 11:50:00.000</td>\n",
       "      <td>2015-01-13 18:27:00.000</td>\n",
       "      <td>9000697843400270</td>\n",
       "      <td>9000181146900200</td>\n",
       "      <td>MED</td>\n",
       "      <td>LMH ED</td>\n",
       "      <td>Admitted</td>\n",
       "      <td>Admitted</td>\n",
       "    </tr>\n",
       "    <tr>\n",
       "      <td>4</td>\n",
       "      <td>ROUTINE/HOME</td>\n",
       "      <td>2017-12-04 13:41:00.000</td>\n",
       "      <td>2017-12-01 19:47:00.000</td>\n",
       "      <td>9001092289600270</td>\n",
       "      <td>9000231826600200</td>\n",
       "      <td>MED</td>\n",
       "      <td>LMH ED</td>\n",
       "      <td>Admitted</td>\n",
       "      <td>Admitted</td>\n",
       "    </tr>\n",
       "  </tbody>\n",
       "</table>\n",
       "</div>"
      ],
      "text/plain": [
       "                    DischargeDCDesc             DischargeDtm  \\\n",
       "0                      ROUTINE/HOME  2015-11-13 19:03:00.000   \n",
       "1  DISCHARGE HOME WITH HM HLTH SERV  2014-02-28 17:55:00.000   \n",
       "2                      ROUTINE/HOME  2014-09-12 15:25:00.000   \n",
       "3                   PATIENT EXPIRED  2015-01-20 11:50:00.000   \n",
       "4                      ROUTINE/HOME  2017-12-04 13:41:00.000   \n",
       "\n",
       "                  AdmitDtm   ClientVisitGUID        ClientGUID  \\\n",
       "0  2015-11-01 15:20:00.000  9000805358900270  9000199802700200   \n",
       "1  2014-02-06 21:06:00.000  9000579333200270  9000151733300200   \n",
       "2  2014-09-10 18:31:00.000  9000654172500270  9000003370300200   \n",
       "3  2015-01-13 18:27:00.000  9000697843400270  9000181146900200   \n",
       "4  2017-12-01 19:47:00.000  9001092289600270  9000231826600200   \n",
       "\n",
       "  HospitalService      EDSite SummaryDispoCategory FinalDispoCategory  \n",
       "0             MED      LMH ED             Admitted           Admitted  \n",
       "1             MED  Cornell ED             Admitted           Admitted  \n",
       "2             MED      LMH ED             Admitted           Admitted  \n",
       "3             MED      LMH ED             Admitted           Admitted  \n",
       "4             MED      LMH ED             Admitted           Admitted  "
      ]
     },
     "execution_count": 15,
     "metadata": {},
     "output_type": "execute_result"
    }
   ],
   "source": [
    "clientvisit = pd.read_csv(path + 'clientvisit_2012_2018_pull2.csv', header = 0)\n",
    "clientvisit.head()"
   ]
  },
  {
   "cell_type": "code",
   "execution_count": 16,
   "metadata": {},
   "outputs": [
    {
     "name": "stdout",
     "output_type": "stream",
     "text": [
      "<class 'pandas.core.frame.DataFrame'>\n",
      "RangeIndex: 14044 entries, 0 to 14043\n",
      "Data columns (total 9 columns):\n",
      "DischargeDCDesc         13640 non-null object\n",
      "DischargeDtm            13580 non-null object\n",
      "AdmitDtm                14044 non-null object\n",
      "ClientVisitGUID         14044 non-null int64\n",
      "ClientGUID              14044 non-null int64\n",
      "HospitalService         13454 non-null object\n",
      "EDSite                  11136 non-null object\n",
      "SummaryDispoCategory    11136 non-null object\n",
      "FinalDispoCategory      11136 non-null object\n",
      "dtypes: int64(2), object(7)\n",
      "memory usage: 987.6+ KB\n"
     ]
    }
   ],
   "source": [
    "clientvisit.info()"
   ]
  },
  {
   "cell_type": "code",
   "execution_count": 17,
   "metadata": {},
   "outputs": [],
   "source": [
    "clientvisit['ClientVisitGUID'] = clientvisit['ClientVisitGUID'] - 9000000000000000"
   ]
  },
  {
   "cell_type": "code",
   "execution_count": 18,
   "metadata": {},
   "outputs": [
    {
     "name": "stdout",
     "output_type": "stream",
     "text": [
      "7985800270\n",
      "1285337700270\n"
     ]
    }
   ],
   "source": [
    "print(clientvisit['ClientVisitGUID'].min())\n",
    "print(clientvisit['ClientVisitGUID'].max())"
   ]
  },
  {
   "cell_type": "code",
   "execution_count": 19,
   "metadata": {},
   "outputs": [],
   "source": [
    "clientvisit['ClientGUID'] = clientvisit['ClientGUID'] - 9000000000000000"
   ]
  },
  {
   "cell_type": "code",
   "execution_count": 20,
   "metadata": {},
   "outputs": [
    {
     "name": "stdout",
     "output_type": "stream",
     "text": [
      "1012800200\n",
      "364135200200\n"
     ]
    }
   ],
   "source": [
    "print(clientvisit['ClientGUID'].min())\n",
    "print(clientvisit['ClientGUID'].max())"
   ]
  },
  {
   "cell_type": "code",
   "execution_count": 21,
   "metadata": {},
   "outputs": [
    {
     "data": {
      "text/html": [
       "<div>\n",
       "<style scoped>\n",
       "    .dataframe tbody tr th:only-of-type {\n",
       "        vertical-align: middle;\n",
       "    }\n",
       "\n",
       "    .dataframe tbody tr th {\n",
       "        vertical-align: top;\n",
       "    }\n",
       "\n",
       "    .dataframe thead th {\n",
       "        text-align: right;\n",
       "    }\n",
       "</style>\n",
       "<table border=\"1\" class=\"dataframe\">\n",
       "  <thead>\n",
       "    <tr style=\"text-align: right;\">\n",
       "      <th></th>\n",
       "      <th>DischargeDCDesc</th>\n",
       "      <th>DischargeDtm</th>\n",
       "      <th>AdmitDtm</th>\n",
       "      <th>ClientVisitGUID</th>\n",
       "      <th>ClientGUID</th>\n",
       "      <th>HospitalService</th>\n",
       "      <th>EDSite</th>\n",
       "      <th>SummaryDispoCategory</th>\n",
       "      <th>FinalDispoCategory</th>\n",
       "    </tr>\n",
       "  </thead>\n",
       "  <tbody>\n",
       "  </tbody>\n",
       "</table>\n",
       "</div>"
      ],
      "text/plain": [
       "Empty DataFrame\n",
       "Columns: [DischargeDCDesc, DischargeDtm, AdmitDtm, ClientVisitGUID, ClientGUID, HospitalService, EDSite, SummaryDispoCategory, FinalDispoCategory]\n",
       "Index: []"
      ]
     },
     "execution_count": 21,
     "metadata": {},
     "output_type": "execute_result"
    }
   ],
   "source": [
    "clientvisit[clientvisit['ClientGUID']==clientvisit['ClientVisitGUID']]"
   ]
  },
  {
   "cell_type": "code",
   "execution_count": 22,
   "metadata": {},
   "outputs": [],
   "source": [
    "clientvisit.to_csv(path + 'clientvisit_2012_2018_pull2_new.csv', index=False)"
   ]
  },
  {
   "cell_type": "markdown",
   "metadata": {},
   "source": [
    "# demographics"
   ]
  },
  {
   "cell_type": "code",
   "execution_count": 23,
   "metadata": {},
   "outputs": [
    {
     "data": {
      "text/html": [
       "<div>\n",
       "<style scoped>\n",
       "    .dataframe tbody tr th:only-of-type {\n",
       "        vertical-align: middle;\n",
       "    }\n",
       "\n",
       "    .dataframe tbody tr th {\n",
       "        vertical-align: top;\n",
       "    }\n",
       "\n",
       "    .dataframe thead th {\n",
       "        text-align: right;\n",
       "    }\n",
       "</style>\n",
       "<table border=\"1\" class=\"dataframe\">\n",
       "  <thead>\n",
       "    <tr style=\"text-align: right;\">\n",
       "      <th></th>\n",
       "      <th>clientguid</th>\n",
       "      <th>clientvisitguid</th>\n",
       "      <th>ethnicity</th>\n",
       "      <th>Ethnicity2</th>\n",
       "      <th>BirthYearNum</th>\n",
       "      <th>LanguageCode</th>\n",
       "      <th>GenderCode</th>\n",
       "      <th>RaceCode</th>\n",
       "      <th>MaritalStatusCode</th>\n",
       "    </tr>\n",
       "  </thead>\n",
       "  <tbody>\n",
       "    <tr>\n",
       "      <td>0</td>\n",
       "      <td>9000001014700200</td>\n",
       "      <td>9000721880800270</td>\n",
       "      <td>N</td>\n",
       "      <td>N</td>\n",
       "      <td>1947</td>\n",
       "      <td>English</td>\n",
       "      <td>Female</td>\n",
       "      <td>White</td>\n",
       "      <td>Single</td>\n",
       "    </tr>\n",
       "    <tr>\n",
       "      <td>1</td>\n",
       "      <td>9000001052300200</td>\n",
       "      <td>9000731006600270</td>\n",
       "      <td>N</td>\n",
       "      <td>NaN</td>\n",
       "      <td>1925</td>\n",
       "      <td>English</td>\n",
       "      <td>Female</td>\n",
       "      <td>Other Not Described</td>\n",
       "      <td>Widower</td>\n",
       "    </tr>\n",
       "    <tr>\n",
       "      <td>2</td>\n",
       "      <td>9000001053600200</td>\n",
       "      <td>9001199818100270</td>\n",
       "      <td>N</td>\n",
       "      <td>NaN</td>\n",
       "      <td>1961</td>\n",
       "      <td>English</td>\n",
       "      <td>Male</td>\n",
       "      <td>Black/African Am.</td>\n",
       "      <td>Single</td>\n",
       "    </tr>\n",
       "    <tr>\n",
       "      <td>3</td>\n",
       "      <td>9000001060100200</td>\n",
       "      <td>9001092703500270</td>\n",
       "      <td>U</td>\n",
       "      <td>NaN</td>\n",
       "      <td>1918</td>\n",
       "      <td>English</td>\n",
       "      <td>Male</td>\n",
       "      <td>Declined</td>\n",
       "      <td>Married</td>\n",
       "    </tr>\n",
       "    <tr>\n",
       "      <td>4</td>\n",
       "      <td>9000001086000200</td>\n",
       "      <td>9000974781900270</td>\n",
       "      <td>N</td>\n",
       "      <td>N</td>\n",
       "      <td>1934</td>\n",
       "      <td>English</td>\n",
       "      <td>Female</td>\n",
       "      <td>White</td>\n",
       "      <td>Single</td>\n",
       "    </tr>\n",
       "  </tbody>\n",
       "</table>\n",
       "</div>"
      ],
      "text/plain": [
       "         clientguid   clientvisitguid ethnicity Ethnicity2  BirthYearNum  \\\n",
       "0  9000001014700200  9000721880800270         N          N          1947   \n",
       "1  9000001052300200  9000731006600270         N        NaN          1925   \n",
       "2  9000001053600200  9001199818100270         N        NaN          1961   \n",
       "3  9000001060100200  9001092703500270         U        NaN          1918   \n",
       "4  9000001086000200  9000974781900270         N          N          1934   \n",
       "\n",
       "  LanguageCode GenderCode             RaceCode MaritalStatusCode  \n",
       "0      English     Female                White            Single  \n",
       "1      English     Female  Other Not Described           Widower  \n",
       "2      English       Male    Black/African Am.            Single  \n",
       "3      English       Male             Declined           Married  \n",
       "4      English     Female                White            Single  "
      ]
     },
     "execution_count": 23,
     "metadata": {},
     "output_type": "execute_result"
    }
   ],
   "source": [
    "demo = pd.read_csv(path + 'demographic_2012_2018_pull2.csv', header = 0)\n",
    "demo.head()"
   ]
  },
  {
   "cell_type": "code",
   "execution_count": 24,
   "metadata": {},
   "outputs": [
    {
     "name": "stdout",
     "output_type": "stream",
     "text": [
      "<class 'pandas.core.frame.DataFrame'>\n",
      "RangeIndex: 13437 entries, 0 to 13436\n",
      "Data columns (total 9 columns):\n",
      "clientguid           13437 non-null int64\n",
      "clientvisitguid      13437 non-null int64\n",
      "ethnicity            13433 non-null object\n",
      "Ethnicity2           6612 non-null object\n",
      "BirthYearNum         13437 non-null int64\n",
      "LanguageCode         13436 non-null object\n",
      "GenderCode           13437 non-null object\n",
      "RaceCode             13437 non-null object\n",
      "MaritalStatusCode    13436 non-null object\n",
      "dtypes: int64(3), object(6)\n",
      "memory usage: 944.9+ KB\n"
     ]
    }
   ],
   "source": [
    "demo.info()"
   ]
  },
  {
   "cell_type": "code",
   "execution_count": 25,
   "metadata": {},
   "outputs": [],
   "source": [
    "demo['clientguid'] = demo['clientguid'] - 9000000000000000"
   ]
  },
  {
   "cell_type": "code",
   "execution_count": 26,
   "metadata": {},
   "outputs": [],
   "source": [
    "demo['clientvisitguid'] = demo['clientvisitguid'] - 9000000000000000"
   ]
  },
  {
   "cell_type": "code",
   "execution_count": 27,
   "metadata": {},
   "outputs": [],
   "source": [
    "demo.to_csv(path + 'demographic_2012_2018_pull2_new.csv', index=False)"
   ]
  },
  {
   "cell_type": "markdown",
   "metadata": {},
   "source": [
    "# diagnosis"
   ]
  },
  {
   "cell_type": "code",
   "execution_count": 28,
   "metadata": {},
   "outputs": [
    {
     "data": {
      "text/html": [
       "<div>\n",
       "<style scoped>\n",
       "    .dataframe tbody tr th:only-of-type {\n",
       "        vertical-align: middle;\n",
       "    }\n",
       "\n",
       "    .dataframe tbody tr th {\n",
       "        vertical-align: top;\n",
       "    }\n",
       "\n",
       "    .dataframe thead th {\n",
       "        text-align: right;\n",
       "    }\n",
       "</style>\n",
       "<table border=\"1\" class=\"dataframe\">\n",
       "  <thead>\n",
       "    <tr style=\"text-align: right;\">\n",
       "      <th></th>\n",
       "      <th>ClientGUID</th>\n",
       "      <th>ClientVisitGUID</th>\n",
       "      <th>CreatedWhen</th>\n",
       "      <th>typecode</th>\n",
       "      <th>ShortName</th>\n",
       "      <th>ICD10Code</th>\n",
       "      <th>ICD9Code</th>\n",
       "      <th>userguid</th>\n",
       "    </tr>\n",
       "  </thead>\n",
       "  <tbody>\n",
       "    <tr>\n",
       "      <td>0</td>\n",
       "      <td>9000001012800200</td>\n",
       "      <td>9000745799000270</td>\n",
       "      <td>2015-05-25 22:25:38.277</td>\n",
       "      <td>Admitting Dx</td>\n",
       "      <td>BACK PAIN/FATIGUE</td>\n",
       "      <td>NaN</td>\n",
       "      <td>NaN</td>\n",
       "      <td>9000026324701190</td>\n",
       "    </tr>\n",
       "    <tr>\n",
       "      <td>1</td>\n",
       "      <td>9000001012800200</td>\n",
       "      <td>9000745799000270</td>\n",
       "      <td>2015-05-26 04:22:55.117</td>\n",
       "      <td>ED Diagnosis</td>\n",
       "      <td>Back pain</td>\n",
       "      <td>M54.9</td>\n",
       "      <td>724.5</td>\n",
       "      <td>0</td>\n",
       "    </tr>\n",
       "    <tr>\n",
       "      <td>2</td>\n",
       "      <td>9000001012800200</td>\n",
       "      <td>9000939526300270</td>\n",
       "      <td>2016-10-27 10:50:51.737</td>\n",
       "      <td>Acute Dx</td>\n",
       "      <td>Shortness of breath</td>\n",
       "      <td>R06.02</td>\n",
       "      <td>786.05</td>\n",
       "      <td>9000027857501190</td>\n",
       "    </tr>\n",
       "    <tr>\n",
       "      <td>3</td>\n",
       "      <td>9000001012800200</td>\n",
       "      <td>9000939526300270</td>\n",
       "      <td>2016-10-27 20:27:36.003</td>\n",
       "      <td>Chronic Dx</td>\n",
       "      <td>Nonischemic cardiomyopathy</td>\n",
       "      <td>I42.9</td>\n",
       "      <td>425.4</td>\n",
       "      <td>0</td>\n",
       "    </tr>\n",
       "    <tr>\n",
       "      <td>4</td>\n",
       "      <td>9000001012800200</td>\n",
       "      <td>9000939526300270</td>\n",
       "      <td>2016-10-27 20:27:57.997</td>\n",
       "      <td>Chronic Dx</td>\n",
       "      <td>Chronic kidney disease, stage 3</td>\n",
       "      <td>N18.3</td>\n",
       "      <td>585.3</td>\n",
       "      <td>0</td>\n",
       "    </tr>\n",
       "  </tbody>\n",
       "</table>\n",
       "</div>"
      ],
      "text/plain": [
       "         ClientGUID   ClientVisitGUID              CreatedWhen      typecode  \\\n",
       "0  9000001012800200  9000745799000270  2015-05-25 22:25:38.277  Admitting Dx   \n",
       "1  9000001012800200  9000745799000270  2015-05-26 04:22:55.117  ED Diagnosis   \n",
       "2  9000001012800200  9000939526300270  2016-10-27 10:50:51.737      Acute Dx   \n",
       "3  9000001012800200  9000939526300270  2016-10-27 20:27:36.003    Chronic Dx   \n",
       "4  9000001012800200  9000939526300270  2016-10-27 20:27:57.997    Chronic Dx   \n",
       "\n",
       "                         ShortName ICD10Code ICD9Code          userguid  \n",
       "0                BACK PAIN/FATIGUE       NaN      NaN  9000026324701190  \n",
       "1                        Back pain     M54.9    724.5                 0  \n",
       "2              Shortness of breath    R06.02   786.05  9000027857501190  \n",
       "3       Nonischemic cardiomyopathy     I42.9    425.4                 0  \n",
       "4  Chronic kidney disease, stage 3     N18.3    585.3                 0  "
      ]
     },
     "execution_count": 28,
     "metadata": {},
     "output_type": "execute_result"
    }
   ],
   "source": [
    "diag = pd.read_csv(path + 'diag_2012_2018_pull2.csv')\n",
    "diag.head()"
   ]
  },
  {
   "cell_type": "code",
   "execution_count": 29,
   "metadata": {},
   "outputs": [
    {
     "name": "stdout",
     "output_type": "stream",
     "text": [
      "<class 'pandas.core.frame.DataFrame'>\n",
      "RangeIndex: 393427 entries, 0 to 393426\n",
      "Data columns (total 8 columns):\n",
      "ClientGUID         393427 non-null int64\n",
      "ClientVisitGUID    393427 non-null int64\n",
      "CreatedWhen        393427 non-null object\n",
      "typecode           393427 non-null object\n",
      "ShortName          393425 non-null object\n",
      "ICD10Code          192582 non-null object\n",
      "ICD9Code           200303 non-null object\n",
      "userguid           393427 non-null int64\n",
      "dtypes: int64(3), object(5)\n",
      "memory usage: 24.0+ MB\n"
     ]
    }
   ],
   "source": [
    "diag.info()"
   ]
  },
  {
   "cell_type": "code",
   "execution_count": 30,
   "metadata": {},
   "outputs": [],
   "source": [
    "diag['ClientGUID'] = diag['ClientGUID'] - 9000000000000000"
   ]
  },
  {
   "cell_type": "code",
   "execution_count": 31,
   "metadata": {},
   "outputs": [],
   "source": [
    "diag['ClientVisitGUID'] = diag['ClientVisitGUID'] - 9000000000000000"
   ]
  },
  {
   "cell_type": "code",
   "execution_count": 32,
   "metadata": {},
   "outputs": [],
   "source": [
    "diag['userguid'] = 10000000000000000 - diag['userguid']"
   ]
  },
  {
   "cell_type": "code",
   "execution_count": 33,
   "metadata": {},
   "outputs": [
    {
     "data": {
      "text/html": [
       "<div>\n",
       "<style scoped>\n",
       "    .dataframe tbody tr th:only-of-type {\n",
       "        vertical-align: middle;\n",
       "    }\n",
       "\n",
       "    .dataframe tbody tr th {\n",
       "        vertical-align: top;\n",
       "    }\n",
       "\n",
       "    .dataframe thead th {\n",
       "        text-align: right;\n",
       "    }\n",
       "</style>\n",
       "<table border=\"1\" class=\"dataframe\">\n",
       "  <thead>\n",
       "    <tr style=\"text-align: right;\">\n",
       "      <th></th>\n",
       "      <th>ClientGUID</th>\n",
       "      <th>ClientVisitGUID</th>\n",
       "      <th>CreatedWhen</th>\n",
       "      <th>typecode</th>\n",
       "      <th>ShortName</th>\n",
       "      <th>ICD10Code</th>\n",
       "      <th>ICD9Code</th>\n",
       "      <th>userguid</th>\n",
       "    </tr>\n",
       "  </thead>\n",
       "  <tbody>\n",
       "  </tbody>\n",
       "</table>\n",
       "</div>"
      ],
      "text/plain": [
       "Empty DataFrame\n",
       "Columns: [ClientGUID, ClientVisitGUID, CreatedWhen, typecode, ShortName, ICD10Code, ICD9Code, userguid]\n",
       "Index: []"
      ]
     },
     "execution_count": 33,
     "metadata": {},
     "output_type": "execute_result"
    }
   ],
   "source": [
    "diag[diag['ClientGUID']== diag['ClientVisitGUID']]"
   ]
  },
  {
   "cell_type": "code",
   "execution_count": 34,
   "metadata": {},
   "outputs": [
    {
     "data": {
      "text/html": [
       "<div>\n",
       "<style scoped>\n",
       "    .dataframe tbody tr th:only-of-type {\n",
       "        vertical-align: middle;\n",
       "    }\n",
       "\n",
       "    .dataframe tbody tr th {\n",
       "        vertical-align: top;\n",
       "    }\n",
       "\n",
       "    .dataframe thead th {\n",
       "        text-align: right;\n",
       "    }\n",
       "</style>\n",
       "<table border=\"1\" class=\"dataframe\">\n",
       "  <thead>\n",
       "    <tr style=\"text-align: right;\">\n",
       "      <th></th>\n",
       "      <th>ClientGUID</th>\n",
       "      <th>ClientVisitGUID</th>\n",
       "      <th>CreatedWhen</th>\n",
       "      <th>typecode</th>\n",
       "      <th>ShortName</th>\n",
       "      <th>ICD10Code</th>\n",
       "      <th>ICD9Code</th>\n",
       "      <th>userguid</th>\n",
       "    </tr>\n",
       "  </thead>\n",
       "  <tbody>\n",
       "  </tbody>\n",
       "</table>\n",
       "</div>"
      ],
      "text/plain": [
       "Empty DataFrame\n",
       "Columns: [ClientGUID, ClientVisitGUID, CreatedWhen, typecode, ShortName, ICD10Code, ICD9Code, userguid]\n",
       "Index: []"
      ]
     },
     "execution_count": 34,
     "metadata": {},
     "output_type": "execute_result"
    }
   ],
   "source": [
    "diag[diag['userguid']== diag['ClientVisitGUID']]"
   ]
  },
  {
   "cell_type": "code",
   "execution_count": 35,
   "metadata": {},
   "outputs": [
    {
     "data": {
      "text/html": [
       "<div>\n",
       "<style scoped>\n",
       "    .dataframe tbody tr th:only-of-type {\n",
       "        vertical-align: middle;\n",
       "    }\n",
       "\n",
       "    .dataframe tbody tr th {\n",
       "        vertical-align: top;\n",
       "    }\n",
       "\n",
       "    .dataframe thead th {\n",
       "        text-align: right;\n",
       "    }\n",
       "</style>\n",
       "<table border=\"1\" class=\"dataframe\">\n",
       "  <thead>\n",
       "    <tr style=\"text-align: right;\">\n",
       "      <th></th>\n",
       "      <th>ClientGUID</th>\n",
       "      <th>ClientVisitGUID</th>\n",
       "      <th>CreatedWhen</th>\n",
       "      <th>typecode</th>\n",
       "      <th>ShortName</th>\n",
       "      <th>ICD10Code</th>\n",
       "      <th>ICD9Code</th>\n",
       "      <th>userguid</th>\n",
       "    </tr>\n",
       "  </thead>\n",
       "  <tbody>\n",
       "  </tbody>\n",
       "</table>\n",
       "</div>"
      ],
      "text/plain": [
       "Empty DataFrame\n",
       "Columns: [ClientGUID, ClientVisitGUID, CreatedWhen, typecode, ShortName, ICD10Code, ICD9Code, userguid]\n",
       "Index: []"
      ]
     },
     "execution_count": 35,
     "metadata": {},
     "output_type": "execute_result"
    }
   ],
   "source": [
    "diag[diag['ClientGUID']== diag['userguid']]"
   ]
  },
  {
   "cell_type": "code",
   "execution_count": 36,
   "metadata": {},
   "outputs": [],
   "source": [
    "diag.to_csv(path + 'diag_2012_2018_pull2_new.csv', index=False)"
   ]
  },
  {
   "cell_type": "markdown",
   "metadata": {},
   "source": [
    "# EDDC_ordertask_2012_2018_cluster_MED.xlsx"
   ]
  },
  {
   "cell_type": "code",
   "execution_count": 8,
   "metadata": {},
   "outputs": [
    {
     "data": {
      "text/html": [
       "<div>\n",
       "<style scoped>\n",
       "    .dataframe tbody tr th:only-of-type {\n",
       "        vertical-align: middle;\n",
       "    }\n",
       "\n",
       "    .dataframe tbody tr th {\n",
       "        vertical-align: top;\n",
       "    }\n",
       "\n",
       "    .dataframe thead th {\n",
       "        text-align: right;\n",
       "    }\n",
       "</style>\n",
       "<table border=\"1\" class=\"dataframe\">\n",
       "  <thead>\n",
       "    <tr style=\"text-align: right;\">\n",
       "      <th></th>\n",
       "      <th>clientvisitguid</th>\n",
       "      <th>cluster</th>\n",
       "    </tr>\n",
       "  </thead>\n",
       "  <tbody>\n",
       "    <tr>\n",
       "      <td>0</td>\n",
       "      <td>9000556943700270</td>\n",
       "      <td>1</td>\n",
       "    </tr>\n",
       "    <tr>\n",
       "      <td>1</td>\n",
       "      <td>9000561002000270</td>\n",
       "      <td>1</td>\n",
       "    </tr>\n",
       "    <tr>\n",
       "      <td>2</td>\n",
       "      <td>9000562000000270</td>\n",
       "      <td>1</td>\n",
       "    </tr>\n",
       "    <tr>\n",
       "      <td>3</td>\n",
       "      <td>9000567313100270</td>\n",
       "      <td>2</td>\n",
       "    </tr>\n",
       "    <tr>\n",
       "      <td>4</td>\n",
       "      <td>9000579333200270</td>\n",
       "      <td>1</td>\n",
       "    </tr>\n",
       "  </tbody>\n",
       "</table>\n",
       "</div>"
      ],
      "text/plain": [
       "    clientvisitguid  cluster\n",
       "0  9000556943700270        1\n",
       "1  9000561002000270        1\n",
       "2  9000562000000270        1\n",
       "3  9000567313100270        2\n",
       "4  9000579333200270        1"
      ]
     },
     "execution_count": 8,
     "metadata": {},
     "output_type": "execute_result"
    }
   ],
   "source": [
    "ordertask_med = pd.read_excel(path + 'EDDC_ordertask_2012_2018_cluster_MED.xlsx')\n",
    "ordertask_med.head()"
   ]
  },
  {
   "cell_type": "code",
   "execution_count": 9,
   "metadata": {},
   "outputs": [
    {
     "name": "stdout",
     "output_type": "stream",
     "text": [
      "<class 'pandas.core.frame.DataFrame'>\n",
      "RangeIndex: 1516 entries, 0 to 1515\n",
      "Data columns (total 2 columns):\n",
      "clientvisitguid    1516 non-null int64\n",
      "cluster            1516 non-null int64\n",
      "dtypes: int64(2)\n",
      "memory usage: 23.8 KB\n"
     ]
    }
   ],
   "source": [
    "ordertask_med.info()"
   ]
  },
  {
   "cell_type": "code",
   "execution_count": 10,
   "metadata": {},
   "outputs": [
    {
     "data": {
      "text/plain": [
       "0        556943700270\n",
       "1        561002000270\n",
       "2        562000000270\n",
       "3        567313100270\n",
       "4        579333200270\n",
       "            ...      \n",
       "1511    1283883400270\n",
       "1512    1284311200270\n",
       "1513    1284903800270\n",
       "1514    1284909400270\n",
       "1515    1285016600270\n",
       "Name: clientvisitguid, Length: 1516, dtype: int64"
      ]
     },
     "execution_count": 10,
     "metadata": {},
     "output_type": "execute_result"
    }
   ],
   "source": [
    "ordertask_med['clientvisitguid'] = ordertask_med['clientvisitguid'] - 9000000000000000\n",
    "ordertask_med['clientvisitguid']"
   ]
  },
  {
   "cell_type": "code",
   "execution_count": 16,
   "metadata": {},
   "outputs": [],
   "source": [
    "ordertask_med.to_excel(path + 'EDDC_ordertask_2012_2018_cluster_MED_new.xlsx', index=False)"
   ]
  },
  {
   "cell_type": "markdown",
   "metadata": {},
   "source": [
    "# EDDC_order_2012_2018_cluster_MED.xlsx"
   ]
  },
  {
   "cell_type": "code",
   "execution_count": 12,
   "metadata": {},
   "outputs": [
    {
     "data": {
      "text/html": [
       "<div>\n",
       "<style scoped>\n",
       "    .dataframe tbody tr th:only-of-type {\n",
       "        vertical-align: middle;\n",
       "    }\n",
       "\n",
       "    .dataframe tbody tr th {\n",
       "        vertical-align: top;\n",
       "    }\n",
       "\n",
       "    .dataframe thead th {\n",
       "        text-align: right;\n",
       "    }\n",
       "</style>\n",
       "<table border=\"1\" class=\"dataframe\">\n",
       "  <thead>\n",
       "    <tr style=\"text-align: right;\">\n",
       "      <th></th>\n",
       "      <th>clientvisitguid</th>\n",
       "      <th>LOS</th>\n",
       "      <th>30day</th>\n",
       "      <th>60day</th>\n",
       "      <th>90ay</th>\n",
       "      <th>charlson</th>\n",
       "      <th>elixhauser</th>\n",
       "      <th>userQ</th>\n",
       "      <th>dischargedisposition</th>\n",
       "      <th>home</th>\n",
       "      <th>...</th>\n",
       "      <th>marital</th>\n",
       "      <th>language_raw</th>\n",
       "      <th>language</th>\n",
       "      <th>ethnicity_raw</th>\n",
       "      <th>ethnicity</th>\n",
       "      <th>race_raw</th>\n",
       "      <th>race</th>\n",
       "      <th>death</th>\n",
       "      <th>insurance</th>\n",
       "      <th>payor</th>\n",
       "    </tr>\n",
       "  </thead>\n",
       "  <tbody>\n",
       "    <tr>\n",
       "      <td>0</td>\n",
       "      <td>9000556943700270</td>\n",
       "      <td>8</td>\n",
       "      <td>0</td>\n",
       "      <td>0</td>\n",
       "      <td>0</td>\n",
       "      <td>1</td>\n",
       "      <td>1</td>\n",
       "      <td>medium</td>\n",
       "      <td>ROUTINE/HOME</td>\n",
       "      <td>1</td>\n",
       "      <td>...</td>\n",
       "      <td>Married</td>\n",
       "      <td>Spanish</td>\n",
       "      <td>Non-English</td>\n",
       "      <td>H</td>\n",
       "      <td>H</td>\n",
       "      <td>OtherNotDescribed</td>\n",
       "      <td>Other</td>\n",
       "      <td>0</td>\n",
       "      <td>MCRFFS</td>\n",
       "      <td>Medicare</td>\n",
       "    </tr>\n",
       "    <tr>\n",
       "      <td>1</td>\n",
       "      <td>9000561002000270</td>\n",
       "      <td>5</td>\n",
       "      <td>0</td>\n",
       "      <td>0</td>\n",
       "      <td>0</td>\n",
       "      <td>0</td>\n",
       "      <td>1</td>\n",
       "      <td>low</td>\n",
       "      <td>PATIENTEXPIRED</td>\n",
       "      <td>0</td>\n",
       "      <td>...</td>\n",
       "      <td>Married</td>\n",
       "      <td>English</td>\n",
       "      <td>English</td>\n",
       "      <td>N</td>\n",
       "      <td>N</td>\n",
       "      <td>OtherNotDescribed</td>\n",
       "      <td>Other</td>\n",
       "      <td>1</td>\n",
       "      <td>MCRFFS</td>\n",
       "      <td>Medicare</td>\n",
       "    </tr>\n",
       "    <tr>\n",
       "      <td>2</td>\n",
       "      <td>9000562000000270</td>\n",
       "      <td>9</td>\n",
       "      <td>0</td>\n",
       "      <td>0</td>\n",
       "      <td>0</td>\n",
       "      <td>2</td>\n",
       "      <td>3</td>\n",
       "      <td>medium</td>\n",
       "      <td>ROUTINE/HOME</td>\n",
       "      <td>1</td>\n",
       "      <td>...</td>\n",
       "      <td>NotMarried</td>\n",
       "      <td>English</td>\n",
       "      <td>English</td>\n",
       "      <td>N</td>\n",
       "      <td>N</td>\n",
       "      <td>OtherNotDescribed</td>\n",
       "      <td>Other</td>\n",
       "      <td>0</td>\n",
       "      <td>MCRFFS</td>\n",
       "      <td>Medicare</td>\n",
       "    </tr>\n",
       "    <tr>\n",
       "      <td>3</td>\n",
       "      <td>9000567313100270</td>\n",
       "      <td>52</td>\n",
       "      <td>0</td>\n",
       "      <td>0</td>\n",
       "      <td>0</td>\n",
       "      <td>1</td>\n",
       "      <td>5</td>\n",
       "      <td>medium</td>\n",
       "      <td>DISCHARGETOSNF</td>\n",
       "      <td>0</td>\n",
       "      <td>...</td>\n",
       "      <td>Married</td>\n",
       "      <td>German</td>\n",
       "      <td>Non-English</td>\n",
       "      <td>N</td>\n",
       "      <td>N</td>\n",
       "      <td>OtherNotDescribed</td>\n",
       "      <td>Other</td>\n",
       "      <td>0</td>\n",
       "      <td>MCRFFS</td>\n",
       "      <td>Medicare</td>\n",
       "    </tr>\n",
       "    <tr>\n",
       "      <td>4</td>\n",
       "      <td>9000579333200270</td>\n",
       "      <td>21</td>\n",
       "      <td>0</td>\n",
       "      <td>0</td>\n",
       "      <td>0</td>\n",
       "      <td>3</td>\n",
       "      <td>4</td>\n",
       "      <td>medium</td>\n",
       "      <td>DISCHARGEHOMEWITHHMHLTHSERV</td>\n",
       "      <td>0</td>\n",
       "      <td>...</td>\n",
       "      <td>NotMarried</td>\n",
       "      <td>English</td>\n",
       "      <td>English</td>\n",
       "      <td>D</td>\n",
       "      <td>unknown</td>\n",
       "      <td>Declined</td>\n",
       "      <td>Unknown</td>\n",
       "      <td>0</td>\n",
       "      <td>MCRFFS</td>\n",
       "      <td>Medicare</td>\n",
       "    </tr>\n",
       "  </tbody>\n",
       "</table>\n",
       "<p>5 rows × 27 columns</p>\n",
       "</div>"
      ],
      "text/plain": [
       "    clientvisitguid  LOS  30day  60day  90ay  charlson  elixhauser   userQ  \\\n",
       "0  9000556943700270    8      0      0     0         1           1  medium   \n",
       "1  9000561002000270    5      0      0     0         0           1     low   \n",
       "2  9000562000000270    9      0      0     0         2           3  medium   \n",
       "3  9000567313100270   52      0      0     0         1           5  medium   \n",
       "4  9000579333200270   21      0      0     0         3           4  medium   \n",
       "\n",
       "          dischargedisposition  home  ...     marital language_raw  \\\n",
       "0                 ROUTINE/HOME     1  ...     Married      Spanish   \n",
       "1               PATIENTEXPIRED     0  ...     Married      English   \n",
       "2                 ROUTINE/HOME     1  ...  NotMarried      English   \n",
       "3               DISCHARGETOSNF     0  ...     Married       German   \n",
       "4  DISCHARGEHOMEWITHHMHLTHSERV     0  ...  NotMarried      English   \n",
       "\n",
       "      language  ethnicity_raw  ethnicity           race_raw     race death  \\\n",
       "0  Non-English              H          H  OtherNotDescribed    Other     0   \n",
       "1      English              N          N  OtherNotDescribed    Other     1   \n",
       "2      English              N          N  OtherNotDescribed    Other     0   \n",
       "3  Non-English              N          N  OtherNotDescribed    Other     0   \n",
       "4      English              D    unknown           Declined  Unknown     0   \n",
       "\n",
       "  insurance     payor  \n",
       "0    MCRFFS  Medicare  \n",
       "1    MCRFFS  Medicare  \n",
       "2    MCRFFS  Medicare  \n",
       "3    MCRFFS  Medicare  \n",
       "4    MCRFFS  Medicare  \n",
       "\n",
       "[5 rows x 27 columns]"
      ]
     },
     "execution_count": 12,
     "metadata": {},
     "output_type": "execute_result"
    }
   ],
   "source": [
    "order_med = pd.read_excel(path + 'EDDC_order_2012_2018_cluster_MED.xlsx', sheet_name = 'EDDC_order_2012_2018_cluster')\n",
    "order_med.head()"
   ]
  },
  {
   "cell_type": "code",
   "execution_count": 13,
   "metadata": {},
   "outputs": [
    {
     "name": "stdout",
     "output_type": "stream",
     "text": [
      "<class 'pandas.core.frame.DataFrame'>\n",
      "RangeIndex: 1473 entries, 0 to 1472\n",
      "Data columns (total 27 columns):\n",
      "clientvisitguid         1473 non-null int64\n",
      "LOS                     1473 non-null int64\n",
      "30day                   1473 non-null int64\n",
      "60day                   1473 non-null int64\n",
      "90ay                    1473 non-null int64\n",
      "charlson                1473 non-null int64\n",
      "elixhauser              1473 non-null int64\n",
      "userQ                   1473 non-null object\n",
      "dischargedisposition    1468 non-null object\n",
      "home                    1473 non-null int64\n",
      "campus                  1473 non-null object\n",
      "Eddecision              1229 non-null object\n",
      "Edcampus                1229 non-null object\n",
      "cluster_by30%           1473 non-null int64\n",
      "VTE                     1473 non-null int64\n",
      "CCW                     1473 non-null int64\n",
      "gender                  1473 non-null object\n",
      "marital                 1473 non-null object\n",
      "language_raw            1473 non-null object\n",
      "language                1473 non-null object\n",
      "ethnicity_raw           1432 non-null object\n",
      "ethnicity               1473 non-null object\n",
      "race_raw                1473 non-null object\n",
      "race                    1473 non-null object\n",
      "death                   1473 non-null int64\n",
      "insurance               1459 non-null object\n",
      "payor                   1473 non-null object\n",
      "dtypes: int64(12), object(15)\n",
      "memory usage: 310.8+ KB\n"
     ]
    }
   ],
   "source": [
    "order_med.info()"
   ]
  },
  {
   "cell_type": "code",
   "execution_count": 14,
   "metadata": {},
   "outputs": [
    {
     "data": {
      "text/plain": [
       "0        556943700270\n",
       "1        561002000270\n",
       "2        562000000270\n",
       "3        567313100270\n",
       "4        579333200270\n",
       "            ...      \n",
       "1468    1283883400270\n",
       "1469    1284311200270\n",
       "1470    1284903800270\n",
       "1471    1284909400270\n",
       "1472    1285016600270\n",
       "Name: clientvisitguid, Length: 1473, dtype: int64"
      ]
     },
     "execution_count": 14,
     "metadata": {},
     "output_type": "execute_result"
    }
   ],
   "source": [
    "order_med['clientvisitguid'] = order_med['clientvisitguid'] - 9000000000000000\n",
    "order_med['clientvisitguid']"
   ]
  },
  {
   "cell_type": "code",
   "execution_count": 17,
   "metadata": {},
   "outputs": [],
   "source": [
    "order_med.to_excel(path + 'EDDC_order_2012_2018_cluster_MED_new.xlsx', index=False)"
   ]
  },
  {
   "cell_type": "markdown",
   "metadata": {},
   "source": [
    "# Insurance"
   ]
  },
  {
   "cell_type": "code",
   "execution_count": 3,
   "metadata": {},
   "outputs": [
    {
     "data": {
      "text/html": [
       "<div>\n",
       "<style scoped>\n",
       "    .dataframe tbody tr th:only-of-type {\n",
       "        vertical-align: middle;\n",
       "    }\n",
       "\n",
       "    .dataframe tbody tr th {\n",
       "        vertical-align: top;\n",
       "    }\n",
       "\n",
       "    .dataframe thead th {\n",
       "        text-align: right;\n",
       "    }\n",
       "</style>\n",
       "<table border=\"1\" class=\"dataframe\">\n",
       "  <thead>\n",
       "    <tr style=\"text-align: right;\">\n",
       "      <th></th>\n",
       "      <th>guid</th>\n",
       "      <th>Financial Group</th>\n",
       "    </tr>\n",
       "  </thead>\n",
       "  <tbody>\n",
       "    <tr>\n",
       "      <td>0</td>\n",
       "      <td>9000816106500270</td>\n",
       "      <td>MCRFFS</td>\n",
       "    </tr>\n",
       "    <tr>\n",
       "      <td>1</td>\n",
       "      <td>9001152418600270</td>\n",
       "      <td>MCRMGDCONTR</td>\n",
       "    </tr>\n",
       "    <tr>\n",
       "      <td>2</td>\n",
       "      <td>9000876894400270</td>\n",
       "      <td>COMMRCONTR</td>\n",
       "    </tr>\n",
       "    <tr>\n",
       "      <td>3</td>\n",
       "      <td>9000682894300270</td>\n",
       "      <td>MCDMGDCONTR</td>\n",
       "    </tr>\n",
       "    <tr>\n",
       "      <td>4</td>\n",
       "      <td>9000726159600270</td>\n",
       "      <td>MCRFFS</td>\n",
       "    </tr>\n",
       "  </tbody>\n",
       "</table>\n",
       "</div>"
      ],
      "text/plain": [
       "               guid Financial Group\n",
       "0  9000816106500270          MCRFFS\n",
       "1  9001152418600270     MCRMGDCONTR\n",
       "2  9000876894400270      COMMRCONTR\n",
       "3  9000682894300270     MCDMGDCONTR\n",
       "4  9000726159600270          MCRFFS"
      ]
     },
     "execution_count": 3,
     "metadata": {},
     "output_type": "execute_result"
    }
   ],
   "source": [
    "insurance = pd.read_csv(path + 'insurance_2012_2018_pull2.csv', header = 0)\n",
    "insurance.head()"
   ]
  },
  {
   "cell_type": "code",
   "execution_count": 4,
   "metadata": {},
   "outputs": [
    {
     "name": "stdout",
     "output_type": "stream",
     "text": [
      "<class 'pandas.core.frame.DataFrame'>\n",
      "RangeIndex: 15999 entries, 0 to 15998\n",
      "Data columns (total 2 columns):\n",
      "guid               15999 non-null int64\n",
      "Financial Group    15999 non-null object\n",
      "dtypes: int64(1), object(1)\n",
      "memory usage: 250.1+ KB\n"
     ]
    }
   ],
   "source": [
    "insurance.info()"
   ]
  },
  {
   "cell_type": "code",
   "execution_count": 6,
   "metadata": {},
   "outputs": [],
   "source": [
    "insurance.columns = ['clientvisitguid', 'Financial Group']"
   ]
  },
  {
   "cell_type": "code",
   "execution_count": 7,
   "metadata": {},
   "outputs": [],
   "source": [
    "insurance['clientvisitguid'] = insurance['clientvisitguid'] - 9000000000000000"
   ]
  },
  {
   "cell_type": "code",
   "execution_count": 8,
   "metadata": {},
   "outputs": [],
   "source": [
    "insurance.to_csv(path + 'insurance_2012_2018_pull2_new2.csv', index=False)"
   ]
  },
  {
   "cell_type": "code",
   "execution_count": null,
   "metadata": {},
   "outputs": [],
   "source": []
  }
 ],
 "metadata": {
  "kernelspec": {
   "display_name": "Python 3",
   "language": "python",
   "name": "python3"
  },
  "language_info": {
   "codemirror_mode": {
    "name": "ipython",
    "version": 3
   },
   "file_extension": ".py",
   "mimetype": "text/x-python",
   "name": "python",
   "nbconvert_exporter": "python",
   "pygments_lexer": "ipython3",
   "version": "3.7.4"
  }
 },
 "nbformat": 4,
 "nbformat_minor": 2
}
