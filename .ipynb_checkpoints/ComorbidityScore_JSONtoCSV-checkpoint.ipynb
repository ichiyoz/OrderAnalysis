{
 "cells": [
  {
   "cell_type": "code",
   "execution_count": 1,
   "metadata": {},
   "outputs": [],
   "source": [
    "import json\n",
    "import csv\n",
    "import pandas as pd"
   ]
  },
  {
   "cell_type": "code",
   "execution_count": 2,
   "metadata": {},
   "outputs": [],
   "source": [
    "## extract diagnosis from appt"
   ]
  },
  {
   "cell_type": "code",
   "execution_count": 3,
   "metadata": {},
   "outputs": [],
   "source": [
    "fh = open('/Users/fan/Desktop/Fullhouse/WCM/HospitalManagement/Data/EDDC_HF_2012_2018_ouput.json','r')"
   ]
  },
  {
   "cell_type": "code",
   "execution_count": 4,
   "metadata": {},
   "outputs": [],
   "source": [
    "data = json.load(fh)"
   ]
  },
  {
   "cell_type": "code",
   "execution_count": 5,
   "metadata": {},
   "outputs": [],
   "source": [
    "with open('/Users/fan/Desktop/Fullhouse/WCM/HospitalManagement/Data/diag.csv', 'w+') as f:\n",
    "    for pid in data:\n",
    "        for date in data[pid]['appt']: \n",
    "            print(pid, data[pid]['appt'][date]['diag'], file = f, sep = ' ')"
   ]
  },
  {
   "cell_type": "code",
   "execution_count": 6,
   "metadata": {},
   "outputs": [],
   "source": [
    "diag = pd.read_csv('/Users/fan/Desktop/Fullhouse/WCM/HospitalManagement/Data/diag.csv', sep = '\\s+', names = ['ID', 'Diagnosis'])"
   ]
  },
  {
   "cell_type": "code",
   "execution_count": 7,
   "metadata": {},
   "outputs": [
    {
     "data": {
      "text/html": [
       "<div>\n",
       "<style scoped>\n",
       "    .dataframe tbody tr th:only-of-type {\n",
       "        vertical-align: middle;\n",
       "    }\n",
       "\n",
       "    .dataframe tbody tr th {\n",
       "        vertical-align: top;\n",
       "    }\n",
       "\n",
       "    .dataframe thead th {\n",
       "        text-align: right;\n",
       "    }\n",
       "</style>\n",
       "<table border=\"1\" class=\"dataframe\">\n",
       "  <thead>\n",
       "    <tr style=\"text-align: right;\">\n",
       "      <th></th>\n",
       "      <th>ID</th>\n",
       "      <th>Diagnosis</th>\n",
       "    </tr>\n",
       "  </thead>\n",
       "  <tbody>\n",
       "    <tr>\n",
       "      <td>0</td>\n",
       "      <td>556943700270</td>\n",
       "      <td>[nan]</td>\n",
       "    </tr>\n",
       "    <tr>\n",
       "      <td>1</td>\n",
       "      <td>556943700270</td>\n",
       "      <td>[]</td>\n",
       "    </tr>\n",
       "    <tr>\n",
       "      <td>2</td>\n",
       "      <td>556943700270</td>\n",
       "      <td>[]</td>\n",
       "    </tr>\n",
       "    <tr>\n",
       "      <td>3</td>\n",
       "      <td>556943700270</td>\n",
       "      <td>[]</td>\n",
       "    </tr>\n",
       "    <tr>\n",
       "      <td>4</td>\n",
       "      <td>556943700270</td>\n",
       "      <td>[nan,</td>\n",
       "    </tr>\n",
       "    <tr>\n",
       "      <td>...</td>\n",
       "      <td>...</td>\n",
       "      <td>...</td>\n",
       "    </tr>\n",
       "    <tr>\n",
       "      <td>136446</td>\n",
       "      <td>1285016600270</td>\n",
       "      <td>[]</td>\n",
       "    </tr>\n",
       "    <tr>\n",
       "      <td>136447</td>\n",
       "      <td>1285016600270</td>\n",
       "      <td>[]</td>\n",
       "    </tr>\n",
       "    <tr>\n",
       "      <td>136448</td>\n",
       "      <td>1285016600270</td>\n",
       "      <td>['I50.1',</td>\n",
       "    </tr>\n",
       "    <tr>\n",
       "      <td>136449</td>\n",
       "      <td>1285016600270</td>\n",
       "      <td>[]</td>\n",
       "    </tr>\n",
       "    <tr>\n",
       "      <td>136450</td>\n",
       "      <td>1285016600270</td>\n",
       "      <td>[]</td>\n",
       "    </tr>\n",
       "  </tbody>\n",
       "</table>\n",
       "<p>136451 rows × 2 columns</p>\n",
       "</div>"
      ],
      "text/plain": [
       "                   ID  Diagnosis\n",
       "0        556943700270      [nan]\n",
       "1        556943700270         []\n",
       "2        556943700270         []\n",
       "3        556943700270         []\n",
       "4        556943700270      [nan,\n",
       "...               ...        ...\n",
       "136446  1285016600270         []\n",
       "136447  1285016600270         []\n",
       "136448  1285016600270  ['I50.1',\n",
       "136449  1285016600270         []\n",
       "136450  1285016600270         []\n",
       "\n",
       "[136451 rows x 2 columns]"
      ]
     },
     "execution_count": 7,
     "metadata": {},
     "output_type": "execute_result"
    }
   ],
   "source": [
    "#diag.columns = ['oldname']\n",
    "diag"
   ]
  },
  {
   "cell_type": "code",
   "execution_count": 8,
   "metadata": {},
   "outputs": [],
   "source": [
    "diag['ID'] = diag['ID'].astype(int)\n",
    "diag['Diagnosis'] = diag['Diagnosis'].astype(str)"
   ]
  },
  {
   "cell_type": "code",
   "execution_count": 9,
   "metadata": {},
   "outputs": [
    {
     "data": {
      "text/plain": [
       "0             [nan]\n",
       "1                []\n",
       "2                []\n",
       "3                []\n",
       "4             [nan,\n",
       "            ...    \n",
       "136446           []\n",
       "136447           []\n",
       "136448    ['I50.1',\n",
       "136449           []\n",
       "136450           []\n",
       "Name: Diagnosis, Length: 136451, dtype: object"
      ]
     },
     "execution_count": 9,
     "metadata": {},
     "output_type": "execute_result"
    }
   ],
   "source": [
    "diag['Diagnosis']"
   ]
  },
  {
   "cell_type": "code",
   "execution_count": 10,
   "metadata": {},
   "outputs": [],
   "source": [
    "diag['Diagnosis'] = diag['Diagnosis'].str.strip('['']')"
   ]
  },
  {
   "cell_type": "code",
   "execution_count": 11,
   "metadata": {},
   "outputs": [],
   "source": [
    "nan_value = float(\"NaN\")\n",
    "diag.replace(\"nan\", nan_value, inplace = True)\n",
    "diag.replace(\"\", nan_value, inplace = True)\n",
    "diag.dropna(subset = [\"Diagnosis\"], inplace = True)"
   ]
  },
  {
   "cell_type": "code",
   "execution_count": 12,
   "metadata": {},
   "outputs": [],
   "source": [
    "diag.replace(\"nan,\", nan_value, inplace = True)\n",
    "diag.dropna(subset = [\"Diagnosis\"], inplace = True)"
   ]
  },
  {
   "cell_type": "code",
   "execution_count": 13,
   "metadata": {},
   "outputs": [
    {
     "data": {
      "text/html": [
       "<div>\n",
       "<style scoped>\n",
       "    .dataframe tbody tr th:only-of-type {\n",
       "        vertical-align: middle;\n",
       "    }\n",
       "\n",
       "    .dataframe tbody tr th {\n",
       "        vertical-align: top;\n",
       "    }\n",
       "\n",
       "    .dataframe thead th {\n",
       "        text-align: right;\n",
       "    }\n",
       "</style>\n",
       "<table border=\"1\" class=\"dataframe\">\n",
       "  <thead>\n",
       "    <tr style=\"text-align: right;\">\n",
       "      <th></th>\n",
       "      <th>Diagnosis</th>\n",
       "    </tr>\n",
       "  </thead>\n",
       "  <tbody>\n",
       "    <tr>\n",
       "      <td>24</td>\n",
       "      <td>'I50.9'</td>\n",
       "    </tr>\n",
       "    <tr>\n",
       "      <td>26</td>\n",
       "      <td>'I50.9'</td>\n",
       "    </tr>\n",
       "    <tr>\n",
       "      <td>28</td>\n",
       "      <td>'N17.9'</td>\n",
       "    </tr>\n",
       "    <tr>\n",
       "      <td>46</td>\n",
       "      <td>'R07.9',</td>\n",
       "    </tr>\n",
       "    <tr>\n",
       "      <td>65</td>\n",
       "      <td>'R57.9'</td>\n",
       "    </tr>\n",
       "    <tr>\n",
       "      <td>...</td>\n",
       "      <td>...</td>\n",
       "    </tr>\n",
       "    <tr>\n",
       "      <td>136435</td>\n",
       "      <td>'Z95.0'</td>\n",
       "    </tr>\n",
       "    <tr>\n",
       "      <td>136440</td>\n",
       "      <td>'R06.02',</td>\n",
       "    </tr>\n",
       "    <tr>\n",
       "      <td>136444</td>\n",
       "      <td>'I16.1'</td>\n",
       "    </tr>\n",
       "    <tr>\n",
       "      <td>136445</td>\n",
       "      <td>'I50.1'</td>\n",
       "    </tr>\n",
       "    <tr>\n",
       "      <td>136448</td>\n",
       "      <td>'I50.1',</td>\n",
       "    </tr>\n",
       "  </tbody>\n",
       "</table>\n",
       "<p>16935 rows × 1 columns</p>\n",
       "</div>"
      ],
      "text/plain": [
       "        Diagnosis\n",
       "24        'I50.9'\n",
       "26        'I50.9'\n",
       "28        'N17.9'\n",
       "46       'R07.9',\n",
       "65        'R57.9'\n",
       "...           ...\n",
       "136435    'Z95.0'\n",
       "136440  'R06.02',\n",
       "136444    'I16.1'\n",
       "136445    'I50.1'\n",
       "136448   'I50.1',\n",
       "\n",
       "[16935 rows x 1 columns]"
      ]
     },
     "execution_count": 13,
     "metadata": {},
     "output_type": "execute_result"
    }
   ],
   "source": [
    "diag[['Diagnosis']]"
   ]
  },
  {
   "cell_type": "code",
   "execution_count": 14,
   "metadata": {},
   "outputs": [
    {
     "data": {
      "text/plain": [
       "1986"
      ]
     },
     "execution_count": 14,
     "metadata": {},
     "output_type": "execute_result"
    }
   ],
   "source": [
    "diag['Diagnosis'].nunique()  ## 1986 out of 112929"
   ]
  },
  {
   "cell_type": "code",
   "execution_count": 15,
   "metadata": {},
   "outputs": [
    {
     "name": "stdout",
     "output_type": "stream",
     "text": [
      "<class 'pandas.core.frame.DataFrame'>\n",
      "Int64Index: 16935 entries, 24 to 136448\n",
      "Data columns (total 2 columns):\n",
      "ID           16935 non-null int64\n",
      "Diagnosis    16935 non-null object\n",
      "dtypes: int64(1), object(1)\n",
      "memory usage: 396.9+ KB\n"
     ]
    }
   ],
   "source": [
    "diag.info()"
   ]
  },
  {
   "cell_type": "code",
   "execution_count": 16,
   "metadata": {},
   "outputs": [],
   "source": [
    "diag.to_csv('/Users/fan/Desktop/Fullhouse/WCM/HospitalManagement/Data/diag.csv', index=None)"
   ]
  },
  {
   "cell_type": "code",
   "execution_count": null,
   "metadata": {},
   "outputs": [],
   "source": []
  },
  {
   "cell_type": "code",
   "execution_count": null,
   "metadata": {},
   "outputs": [],
   "source": []
  }
 ],
 "metadata": {
  "kernelspec": {
   "display_name": "Python 3",
   "language": "python",
   "name": "python3"
  },
  "language_info": {
   "codemirror_mode": {
    "name": "ipython",
    "version": 3
   },
   "file_extension": ".py",
   "mimetype": "text/x-python",
   "name": "python",
   "nbconvert_exporter": "python",
   "pygments_lexer": "ipython3",
   "version": "3.7.3"
  }
 },
 "nbformat": 4,
 "nbformat_minor": 2
}
