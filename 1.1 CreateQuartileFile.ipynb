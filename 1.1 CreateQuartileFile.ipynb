{
 "cells": [
  {
   "cell_type": "code",
   "execution_count": 1,
   "metadata": {},
   "outputs": [],
   "source": [
    "import pandas as pd"
   ]
  },
  {
   "cell_type": "code",
   "execution_count": 2,
   "metadata": {},
   "outputs": [],
   "source": [
    "path='/Users/fan/Desktop/Fullhouse/WCM/HospitalManagement/OrderAnalysis-master/'"
   ]
  },
  {
   "cell_type": "code",
   "execution_count": 3,
   "metadata": {},
   "outputs": [],
   "source": [
    "user_role = pd.read_csv(path + \"2_2012_2018_user_role_cv3_notcancelled.csv\")\n",
    "user_role = user_role.iloc[:,1:]"
   ]
  },
  {
   "cell_type": "code",
   "execution_count": 4,
   "metadata": {},
   "outputs": [],
   "source": [
    "user_os = pd.read_csv(path + \"2_order_2012_2018_OScount_cv3_notcancelled.csv\")\n",
    "user_os = user_os.iloc[:,1:]"
   ]
  },
  {
   "cell_type": "code",
   "execution_count": 5,
   "metadata": {},
   "outputs": [],
   "source": [
    "mean_user_orders = pd.read_csv(path+\"2_order_2012_2018_ordercount_cv3_notcancelled.csv\")\n",
    "mean_user_orders = mean_user_orders.iloc[:,1:]"
   ]
  },
  {
   "cell_type": "code",
   "execution_count": 6,
   "metadata": {},
   "outputs": [
    {
     "name": "stdout",
     "output_type": "stream",
     "text": [
      "<class 'pandas.core.frame.DataFrame'>\n",
      "RangeIndex: 4514 entries, 0 to 4513\n",
      "Data columns (total 2 columns):\n",
      "userguid     4514 non-null int64\n",
      "enterrole    4514 non-null object\n",
      "dtypes: int64(1), object(1)\n",
      "memory usage: 70.7+ KB\n"
     ]
    }
   ],
   "source": [
    "user_role.info()"
   ]
  },
  {
   "cell_type": "code",
   "execution_count": 7,
   "metadata": {},
   "outputs": [
    {
     "data": {
      "text/html": [
       "<div>\n",
       "<style scoped>\n",
       "    .dataframe tbody tr th:only-of-type {\n",
       "        vertical-align: middle;\n",
       "    }\n",
       "\n",
       "    .dataframe tbody tr th {\n",
       "        vertical-align: top;\n",
       "    }\n",
       "\n",
       "    .dataframe thead th {\n",
       "        text-align: right;\n",
       "    }\n",
       "</style>\n",
       "<table border=\"1\" class=\"dataframe\">\n",
       "  <thead>\n",
       "    <tr style=\"text-align: right;\">\n",
       "      <th></th>\n",
       "      <th>userguid</th>\n",
       "      <th>enterrole</th>\n",
       "    </tr>\n",
       "  </thead>\n",
       "  <tbody>\n",
       "    <tr>\n",
       "      <td>0</td>\n",
       "      <td>999918700498810</td>\n",
       "      <td>Nurse</td>\n",
       "    </tr>\n",
       "    <tr>\n",
       "      <td>1</td>\n",
       "      <td>999969353598810</td>\n",
       "      <td>Nurse</td>\n",
       "    </tr>\n",
       "    <tr>\n",
       "      <td>2</td>\n",
       "      <td>999997311598810</td>\n",
       "      <td>NP</td>\n",
       "    </tr>\n",
       "    <tr>\n",
       "      <td>3</td>\n",
       "      <td>999958233898810</td>\n",
       "      <td>Resident</td>\n",
       "    </tr>\n",
       "    <tr>\n",
       "      <td>4</td>\n",
       "      <td>999881516398810</td>\n",
       "      <td>Resident</td>\n",
       "    </tr>\n",
       "  </tbody>\n",
       "</table>\n",
       "</div>"
      ],
      "text/plain": [
       "          userguid enterrole\n",
       "0  999918700498810     Nurse\n",
       "1  999969353598810     Nurse\n",
       "2  999997311598810        NP\n",
       "3  999958233898810  Resident\n",
       "4  999881516398810  Resident"
      ]
     },
     "execution_count": 7,
     "metadata": {},
     "output_type": "execute_result"
    }
   ],
   "source": [
    "user_role.head()"
   ]
  },
  {
   "cell_type": "code",
   "execution_count": 8,
   "metadata": {},
   "outputs": [
    {
     "name": "stdout",
     "output_type": "stream",
     "text": [
      "<class 'pandas.core.frame.DataFrame'>\n",
      "RangeIndex: 1721 entries, 0 to 1720\n",
      "Data columns (total 2 columns):\n",
      "userguid        1721 non-null int64\n",
      "ordersetname    1721 non-null int64\n",
      "dtypes: int64(2)\n",
      "memory usage: 27.0 KB\n"
     ]
    }
   ],
   "source": [
    "user_os.info()"
   ]
  },
  {
   "cell_type": "code",
   "execution_count": 9,
   "metadata": {},
   "outputs": [
    {
     "data": {
      "text/html": [
       "<div>\n",
       "<style scoped>\n",
       "    .dataframe tbody tr th:only-of-type {\n",
       "        vertical-align: middle;\n",
       "    }\n",
       "\n",
       "    .dataframe tbody tr th {\n",
       "        vertical-align: top;\n",
       "    }\n",
       "\n",
       "    .dataframe thead th {\n",
       "        text-align: right;\n",
       "    }\n",
       "</style>\n",
       "<table border=\"1\" class=\"dataframe\">\n",
       "  <thead>\n",
       "    <tr style=\"text-align: right;\">\n",
       "      <th></th>\n",
       "      <th>userguid</th>\n",
       "      <th>ordersetname</th>\n",
       "    </tr>\n",
       "  </thead>\n",
       "  <tbody>\n",
       "    <tr>\n",
       "      <td>0</td>\n",
       "      <td>999766187598810</td>\n",
       "      <td>1</td>\n",
       "    </tr>\n",
       "    <tr>\n",
       "      <td>1</td>\n",
       "      <td>999766904798810</td>\n",
       "      <td>9</td>\n",
       "    </tr>\n",
       "    <tr>\n",
       "      <td>2</td>\n",
       "      <td>999767508198810</td>\n",
       "      <td>2</td>\n",
       "    </tr>\n",
       "    <tr>\n",
       "      <td>3</td>\n",
       "      <td>999769097398810</td>\n",
       "      <td>78</td>\n",
       "    </tr>\n",
       "    <tr>\n",
       "      <td>4</td>\n",
       "      <td>999769097498810</td>\n",
       "      <td>40</td>\n",
       "    </tr>\n",
       "  </tbody>\n",
       "</table>\n",
       "</div>"
      ],
      "text/plain": [
       "          userguid  ordersetname\n",
       "0  999766187598810             1\n",
       "1  999766904798810             9\n",
       "2  999767508198810             2\n",
       "3  999769097398810            78\n",
       "4  999769097498810            40"
      ]
     },
     "execution_count": 9,
     "metadata": {},
     "output_type": "execute_result"
    }
   ],
   "source": [
    "user_os.head()"
   ]
  },
  {
   "cell_type": "code",
   "execution_count": 10,
   "metadata": {},
   "outputs": [
    {
     "name": "stdout",
     "output_type": "stream",
     "text": [
      "<class 'pandas.core.frame.DataFrame'>\n",
      "RangeIndex: 4323 entries, 0 to 4322\n",
      "Data columns (total 2 columns):\n",
      "userguid    4323 non-null int64\n",
      "name        4323 non-null int64\n",
      "dtypes: int64(2)\n",
      "memory usage: 67.7 KB\n"
     ]
    }
   ],
   "source": [
    "mean_user_orders.info()"
   ]
  },
  {
   "cell_type": "code",
   "execution_count": 11,
   "metadata": {},
   "outputs": [
    {
     "data": {
      "text/html": [
       "<div>\n",
       "<style scoped>\n",
       "    .dataframe tbody tr th:only-of-type {\n",
       "        vertical-align: middle;\n",
       "    }\n",
       "\n",
       "    .dataframe tbody tr th {\n",
       "        vertical-align: top;\n",
       "    }\n",
       "\n",
       "    .dataframe thead th {\n",
       "        text-align: right;\n",
       "    }\n",
       "</style>\n",
       "<table border=\"1\" class=\"dataframe\">\n",
       "  <thead>\n",
       "    <tr style=\"text-align: right;\">\n",
       "      <th></th>\n",
       "      <th>userguid</th>\n",
       "      <th>name</th>\n",
       "    </tr>\n",
       "  </thead>\n",
       "  <tbody>\n",
       "    <tr>\n",
       "      <td>0</td>\n",
       "      <td>999766187598810</td>\n",
       "      <td>5</td>\n",
       "    </tr>\n",
       "    <tr>\n",
       "      <td>1</td>\n",
       "      <td>999766904798810</td>\n",
       "      <td>13</td>\n",
       "    </tr>\n",
       "    <tr>\n",
       "      <td>2</td>\n",
       "      <td>999767508198810</td>\n",
       "      <td>2</td>\n",
       "    </tr>\n",
       "    <tr>\n",
       "      <td>3</td>\n",
       "      <td>999767858798810</td>\n",
       "      <td>9</td>\n",
       "    </tr>\n",
       "    <tr>\n",
       "      <td>4</td>\n",
       "      <td>999769092398810</td>\n",
       "      <td>2</td>\n",
       "    </tr>\n",
       "  </tbody>\n",
       "</table>\n",
       "</div>"
      ],
      "text/plain": [
       "          userguid  name\n",
       "0  999766187598810     5\n",
       "1  999766904798810    13\n",
       "2  999767508198810     2\n",
       "3  999767858798810     9\n",
       "4  999769092398810     2"
      ]
     },
     "execution_count": 11,
     "metadata": {},
     "output_type": "execute_result"
    }
   ],
   "source": [
    "mean_user_orders.head()"
   ]
  },
  {
   "cell_type": "code",
   "execution_count": 12,
   "metadata": {},
   "outputs": [
    {
     "data": {
      "text/plain": [
       "4514"
      ]
     },
     "execution_count": 12,
     "metadata": {},
     "output_type": "execute_result"
    }
   ],
   "source": [
    "len(user_role['userguid'])"
   ]
  },
  {
   "cell_type": "code",
   "execution_count": 13,
   "metadata": {},
   "outputs": [
    {
     "data": {
      "text/plain": [
       "4323"
      ]
     },
     "execution_count": 13,
     "metadata": {},
     "output_type": "execute_result"
    }
   ],
   "source": [
    "len(mean_user_orders['userguid'])"
   ]
  },
  {
   "cell_type": "code",
   "execution_count": 14,
   "metadata": {},
   "outputs": [],
   "source": [
    "orderset_order = pd.merge(mean_user_orders, user_os, on=['userguid'], how='left')\n",
    "orderset_order_p = pd.merge(orderset_order, user_role, on=['userguid'], how='left')\n",
    "orderset_order_p.columns = ['userguid', '#order', '#orderset', 'role']\n",
    "orderset_order_p['#orderset/#order'] = orderset_order_p['#orderset'] / orderset_order_p['#order']"
   ]
  },
  {
   "cell_type": "code",
   "execution_count": 15,
   "metadata": {},
   "outputs": [
    {
     "data": {
      "text/plain": [
       "array(['NP', 'PA', 'Nurse', 'Resident', 'Physician', 'Fellow',\n",
       "       'VerifyChemoTherapy', 'Attending Physician', 'Registered Nurse',\n",
       "       'Medical Resident'], dtype=object)"
      ]
     },
     "execution_count": 15,
     "metadata": {},
     "output_type": "execute_result"
    }
   ],
   "source": [
    "orderset_order_p['role'].unique()"
   ]
  },
  {
   "cell_type": "code",
   "execution_count": 16,
   "metadata": {},
   "outputs": [
    {
     "data": {
      "text/html": [
       "<div>\n",
       "<style scoped>\n",
       "    .dataframe tbody tr th:only-of-type {\n",
       "        vertical-align: middle;\n",
       "    }\n",
       "\n",
       "    .dataframe tbody tr th {\n",
       "        vertical-align: top;\n",
       "    }\n",
       "\n",
       "    .dataframe thead th {\n",
       "        text-align: right;\n",
       "    }\n",
       "</style>\n",
       "<table border=\"1\" class=\"dataframe\">\n",
       "  <thead>\n",
       "    <tr style=\"text-align: right;\">\n",
       "      <th></th>\n",
       "      <th>userguid</th>\n",
       "      <th>#order</th>\n",
       "      <th>#orderset</th>\n",
       "      <th>role</th>\n",
       "      <th>#orderset/#order</th>\n",
       "    </tr>\n",
       "  </thead>\n",
       "  <tbody>\n",
       "    <tr>\n",
       "      <td>2035</td>\n",
       "      <td>999940120798810</td>\n",
       "      <td>233</td>\n",
       "      <td>4.0</td>\n",
       "      <td>Resident</td>\n",
       "      <td>0.017167</td>\n",
       "    </tr>\n",
       "    <tr>\n",
       "      <td>1132</td>\n",
       "      <td>999875371198810</td>\n",
       "      <td>41</td>\n",
       "      <td>1.0</td>\n",
       "      <td>Physician</td>\n",
       "      <td>0.024390</td>\n",
       "    </tr>\n",
       "    <tr>\n",
       "      <td>2395</td>\n",
       "      <td>999958162498810</td>\n",
       "      <td>38</td>\n",
       "      <td>1.0</td>\n",
       "      <td>Resident</td>\n",
       "      <td>0.026316</td>\n",
       "    </tr>\n",
       "    <tr>\n",
       "      <td>4352</td>\n",
       "      <td>7999998969880999</td>\n",
       "      <td>35</td>\n",
       "      <td>1.0</td>\n",
       "      <td>Physician</td>\n",
       "      <td>0.028571</td>\n",
       "    </tr>\n",
       "    <tr>\n",
       "      <td>37</td>\n",
       "      <td>999776145798810</td>\n",
       "      <td>75</td>\n",
       "      <td>3.0</td>\n",
       "      <td>PA</td>\n",
       "      <td>0.040000</td>\n",
       "    </tr>\n",
       "    <tr>\n",
       "      <td>...</td>\n",
       "      <td>...</td>\n",
       "      <td>...</td>\n",
       "      <td>...</td>\n",
       "      <td>...</td>\n",
       "      <td>...</td>\n",
       "    </tr>\n",
       "    <tr>\n",
       "      <td>3876</td>\n",
       "      <td>999997429898810</td>\n",
       "      <td>6</td>\n",
       "      <td>6.0</td>\n",
       "      <td>Physician</td>\n",
       "      <td>1.000000</td>\n",
       "    </tr>\n",
       "    <tr>\n",
       "      <td>2350</td>\n",
       "      <td>999957884098810</td>\n",
       "      <td>26</td>\n",
       "      <td>26.0</td>\n",
       "      <td>Resident</td>\n",
       "      <td>1.000000</td>\n",
       "    </tr>\n",
       "    <tr>\n",
       "      <td>1223</td>\n",
       "      <td>999880400098810</td>\n",
       "      <td>47</td>\n",
       "      <td>47.0</td>\n",
       "      <td>Resident</td>\n",
       "      <td>1.000000</td>\n",
       "    </tr>\n",
       "    <tr>\n",
       "      <td>1943</td>\n",
       "      <td>999937988498810</td>\n",
       "      <td>8</td>\n",
       "      <td>8.0</td>\n",
       "      <td>Resident</td>\n",
       "      <td>1.000000</td>\n",
       "    </tr>\n",
       "    <tr>\n",
       "      <td>441</td>\n",
       "      <td>999813380998810</td>\n",
       "      <td>7</td>\n",
       "      <td>7.0</td>\n",
       "      <td>Resident</td>\n",
       "      <td>1.000000</td>\n",
       "    </tr>\n",
       "  </tbody>\n",
       "</table>\n",
       "<p>1377 rows × 5 columns</p>\n",
       "</div>"
      ],
      "text/plain": [
       "              userguid  #order  #orderset       role  #orderset/#order\n",
       "2035   999940120798810     233        4.0   Resident          0.017167\n",
       "1132   999875371198810      41        1.0  Physician          0.024390\n",
       "2395   999958162498810      38        1.0   Resident          0.026316\n",
       "4352  7999998969880999      35        1.0  Physician          0.028571\n",
       "37     999776145798810      75        3.0         PA          0.040000\n",
       "...                ...     ...        ...        ...               ...\n",
       "3876   999997429898810       6        6.0  Physician          1.000000\n",
       "2350   999957884098810      26       26.0   Resident          1.000000\n",
       "1223   999880400098810      47       47.0   Resident          1.000000\n",
       "1943   999937988498810       8        8.0   Resident          1.000000\n",
       "441    999813380998810       7        7.0   Resident          1.000000\n",
       "\n",
       "[1377 rows x 5 columns]"
      ]
     },
     "execution_count": 16,
     "metadata": {},
     "output_type": "execute_result"
    }
   ],
   "source": [
    "# remove nurse, NP and Nurse Anesthetist\n",
    "orderset_order_p = orderset_order_p[(orderset_order_p['role'] != 'Nurse') & (orderset_order_p['role'] != 'NP') & (orderset_order_p['role'] != 'Nurse Anesthetist')] \n",
    "# remove #order <5\n",
    "orderset_order_p = orderset_order_p[orderset_order_p['#order'] >= 5] \n",
    "orderset_order_p = orderset_order_p.dropna().sort_values(by=['#orderset/#order'])\n",
    "orderset_order_p"
   ]
  },
  {
   "cell_type": "code",
   "execution_count": 17,
   "metadata": {},
   "outputs": [],
   "source": [
    "std = orderset_order_p['#orderset/#order'].std()\n",
    "mean = orderset_order_p['#orderset/#order'].mean()"
   ]
  },
  {
   "cell_type": "code",
   "execution_count": 18,
   "metadata": {},
   "outputs": [],
   "source": [
    "q1 = orderset_order_p['#orderset/#order'].describe()[4]\n",
    "q2 = orderset_order_p['#orderset/#order'].describe()[5]\n",
    "q3 = orderset_order_p['#orderset/#order'].describe()[6]\n",
    "q4 = orderset_order_p['#orderset/#order'].describe()[7]"
   ]
  },
  {
   "cell_type": "code",
   "execution_count": 19,
   "metadata": {},
   "outputs": [
    {
     "name": "stdout",
     "output_type": "stream",
     "text": [
      "0.4557291666666667 0.5555555555555556 0.6875 1.0\n"
     ]
    }
   ],
   "source": [
    "print(q1, q2, q3, q4)"
   ]
  },
  {
   "cell_type": "code",
   "execution_count": 20,
   "metadata": {},
   "outputs": [],
   "source": [
    "orderset_order_p['Q1'] = orderset_order_p.apply(lambda x: 1 if x['#orderset/#order'] <= q1 else 0, axis=1)\n",
    "orderset_order_p['Q4'] = orderset_order_p.apply(lambda x: 1 if x['#orderset/#order'] > q3 else 0, axis=1)"
   ]
  },
  {
   "cell_type": "code",
   "execution_count": 21,
   "metadata": {},
   "outputs": [],
   "source": [
    "orderset_order_p.to_excel(path + '2_quartile_analysis_0305.xlsx', sheet_name='orderset_order', index=False)"
   ]
  },
  {
   "cell_type": "code",
   "execution_count": 22,
   "metadata": {},
   "outputs": [],
   "source": [
    "## for EDDC"
   ]
  },
  {
   "cell_type": "code",
   "execution_count": 21,
   "metadata": {},
   "outputs": [],
   "source": [
    "user_role = pd.read_csv(path + \"2_2012_2018_user_role_cv3_notcancelled.csv\")\n",
    "user_role = user_role.iloc[:,1:]"
   ]
  },
  {
   "cell_type": "code",
   "execution_count": 22,
   "metadata": {},
   "outputs": [],
   "source": [
    "user_order_eddc = pd.read_csv(path+\"2_user_order_EDDC_2012_2018_cv3_notcancelled.csv\")"
   ]
  },
  {
   "cell_type": "code",
   "execution_count": 23,
   "metadata": {},
   "outputs": [],
   "source": [
    "user_os_eddc = pd.read_csv(path + \"2_user_order_EDDC_OSonly_2012_2018_cv3_notcancelled.csv\")"
   ]
  },
  {
   "cell_type": "code",
   "execution_count": 24,
   "metadata": {},
   "outputs": [
    {
     "data": {
      "text/html": [
       "<div>\n",
       "<style scoped>\n",
       "    .dataframe tbody tr th:only-of-type {\n",
       "        vertical-align: middle;\n",
       "    }\n",
       "\n",
       "    .dataframe tbody tr th {\n",
       "        vertical-align: top;\n",
       "    }\n",
       "\n",
       "    .dataframe thead th {\n",
       "        text-align: right;\n",
       "    }\n",
       "</style>\n",
       "<table border=\"1\" class=\"dataframe\">\n",
       "  <thead>\n",
       "    <tr style=\"text-align: right;\">\n",
       "      <th></th>\n",
       "      <th>userguid</th>\n",
       "      <th>name</th>\n",
       "    </tr>\n",
       "  </thead>\n",
       "  <tbody>\n",
       "    <tr>\n",
       "      <td>0</td>\n",
       "      <td>999766187598810</td>\n",
       "      <td>5</td>\n",
       "    </tr>\n",
       "    <tr>\n",
       "      <td>1</td>\n",
       "      <td>999766904798810</td>\n",
       "      <td>13</td>\n",
       "    </tr>\n",
       "    <tr>\n",
       "      <td>2</td>\n",
       "      <td>999767508198810</td>\n",
       "      <td>2</td>\n",
       "    </tr>\n",
       "    <tr>\n",
       "      <td>3</td>\n",
       "      <td>999767858798810</td>\n",
       "      <td>9</td>\n",
       "    </tr>\n",
       "    <tr>\n",
       "      <td>4</td>\n",
       "      <td>999769092398810</td>\n",
       "      <td>2</td>\n",
       "    </tr>\n",
       "  </tbody>\n",
       "</table>\n",
       "</div>"
      ],
      "text/plain": [
       "          userguid  name\n",
       "0  999766187598810     5\n",
       "1  999766904798810    13\n",
       "2  999767508198810     2\n",
       "3  999767858798810     9\n",
       "4  999769092398810     2"
      ]
     },
     "execution_count": 24,
     "metadata": {},
     "output_type": "execute_result"
    }
   ],
   "source": [
    "user_order_eddc.head()"
   ]
  },
  {
   "cell_type": "code",
   "execution_count": 25,
   "metadata": {},
   "outputs": [
    {
     "data": {
      "text/html": [
       "<div>\n",
       "<style scoped>\n",
       "    .dataframe tbody tr th:only-of-type {\n",
       "        vertical-align: middle;\n",
       "    }\n",
       "\n",
       "    .dataframe tbody tr th {\n",
       "        vertical-align: top;\n",
       "    }\n",
       "\n",
       "    .dataframe thead th {\n",
       "        text-align: right;\n",
       "    }\n",
       "</style>\n",
       "<table border=\"1\" class=\"dataframe\">\n",
       "  <thead>\n",
       "    <tr style=\"text-align: right;\">\n",
       "      <th></th>\n",
       "      <th>userguid</th>\n",
       "      <th>ordersetname</th>\n",
       "    </tr>\n",
       "  </thead>\n",
       "  <tbody>\n",
       "    <tr>\n",
       "      <td>0</td>\n",
       "      <td>999766187598810</td>\n",
       "      <td>1</td>\n",
       "    </tr>\n",
       "    <tr>\n",
       "      <td>1</td>\n",
       "      <td>999766904798810</td>\n",
       "      <td>9</td>\n",
       "    </tr>\n",
       "    <tr>\n",
       "      <td>2</td>\n",
       "      <td>999767508198810</td>\n",
       "      <td>2</td>\n",
       "    </tr>\n",
       "    <tr>\n",
       "      <td>3</td>\n",
       "      <td>999769097398810</td>\n",
       "      <td>78</td>\n",
       "    </tr>\n",
       "    <tr>\n",
       "      <td>4</td>\n",
       "      <td>999769097498810</td>\n",
       "      <td>40</td>\n",
       "    </tr>\n",
       "  </tbody>\n",
       "</table>\n",
       "</div>"
      ],
      "text/plain": [
       "          userguid  ordersetname\n",
       "0  999766187598810             1\n",
       "1  999766904798810             9\n",
       "2  999767508198810             2\n",
       "3  999769097398810            78\n",
       "4  999769097498810            40"
      ]
     },
     "execution_count": 25,
     "metadata": {},
     "output_type": "execute_result"
    }
   ],
   "source": [
    "user_os_eddc.head()"
   ]
  },
  {
   "cell_type": "code",
   "execution_count": 26,
   "metadata": {},
   "outputs": [
    {
     "data": {
      "text/plain": [
       "4514"
      ]
     },
     "execution_count": 26,
     "metadata": {},
     "output_type": "execute_result"
    }
   ],
   "source": [
    "len(user_role['userguid'])"
   ]
  },
  {
   "cell_type": "code",
   "execution_count": 27,
   "metadata": {},
   "outputs": [
    {
     "data": {
      "text/plain": [
       "4451"
      ]
     },
     "execution_count": 27,
     "metadata": {},
     "output_type": "execute_result"
    }
   ],
   "source": [
    "len(user_order_eddc['userguid'])"
   ]
  },
  {
   "cell_type": "code",
   "execution_count": 28,
   "metadata": {},
   "outputs": [
    {
     "data": {
      "text/plain": [
       "1721"
      ]
     },
     "execution_count": 28,
     "metadata": {},
     "output_type": "execute_result"
    }
   ],
   "source": [
    "len(user_os_eddc['userguid'])"
   ]
  },
  {
   "cell_type": "code",
   "execution_count": 29,
   "metadata": {},
   "outputs": [],
   "source": [
    "orderset_order_eddc = pd.merge(user_order_eddc, user_os_eddc, on=['userguid'], how='left')\n",
    "orderset_order_eddc_p = pd.merge(orderset_order_eddc, user_role, on=['userguid'], how='left')\n",
    "orderset_order_eddc_p.columns = ['userguid', '#order', '#orderset', 'role']\n",
    "orderset_order_eddc_p['#orderset/#order'] = orderset_order_eddc_p['#orderset'] / orderset_order_eddc_p['#order']"
   ]
  },
  {
   "cell_type": "code",
   "execution_count": 30,
   "metadata": {},
   "outputs": [
    {
     "data": {
      "text/html": [
       "<div>\n",
       "<style scoped>\n",
       "    .dataframe tbody tr th:only-of-type {\n",
       "        vertical-align: middle;\n",
       "    }\n",
       "\n",
       "    .dataframe tbody tr th {\n",
       "        vertical-align: top;\n",
       "    }\n",
       "\n",
       "    .dataframe thead th {\n",
       "        text-align: right;\n",
       "    }\n",
       "</style>\n",
       "<table border=\"1\" class=\"dataframe\">\n",
       "  <thead>\n",
       "    <tr style=\"text-align: right;\">\n",
       "      <th></th>\n",
       "      <th>userguid</th>\n",
       "      <th>#order</th>\n",
       "      <th>#orderset</th>\n",
       "      <th>role</th>\n",
       "      <th>#orderset/#order</th>\n",
       "    </tr>\n",
       "  </thead>\n",
       "  <tbody>\n",
       "    <tr>\n",
       "      <td>2117</td>\n",
       "      <td>999940120798810</td>\n",
       "      <td>233</td>\n",
       "      <td>4.0</td>\n",
       "      <td>Resident</td>\n",
       "      <td>0.017167</td>\n",
       "    </tr>\n",
       "    <tr>\n",
       "      <td>1155</td>\n",
       "      <td>999875371198810</td>\n",
       "      <td>41</td>\n",
       "      <td>1.0</td>\n",
       "      <td>Physician</td>\n",
       "      <td>0.024390</td>\n",
       "    </tr>\n",
       "    <tr>\n",
       "      <td>2485</td>\n",
       "      <td>999958162498810</td>\n",
       "      <td>38</td>\n",
       "      <td>1.0</td>\n",
       "      <td>Resident</td>\n",
       "      <td>0.026316</td>\n",
       "    </tr>\n",
       "    <tr>\n",
       "      <td>4487</td>\n",
       "      <td>7999998969880999</td>\n",
       "      <td>35</td>\n",
       "      <td>1.0</td>\n",
       "      <td>Physician</td>\n",
       "      <td>0.028571</td>\n",
       "    </tr>\n",
       "    <tr>\n",
       "      <td>37</td>\n",
       "      <td>999776145798810</td>\n",
       "      <td>75</td>\n",
       "      <td>3.0</td>\n",
       "      <td>PA</td>\n",
       "      <td>0.040000</td>\n",
       "    </tr>\n",
       "    <tr>\n",
       "      <td>...</td>\n",
       "      <td>...</td>\n",
       "      <td>...</td>\n",
       "      <td>...</td>\n",
       "      <td>...</td>\n",
       "      <td>...</td>\n",
       "    </tr>\n",
       "    <tr>\n",
       "      <td>1986</td>\n",
       "      <td>999937978698810</td>\n",
       "      <td>8</td>\n",
       "      <td>8.0</td>\n",
       "      <td>Resident</td>\n",
       "      <td>1.000000</td>\n",
       "    </tr>\n",
       "    <tr>\n",
       "      <td>4404</td>\n",
       "      <td>999998917880999</td>\n",
       "      <td>16</td>\n",
       "      <td>16.0</td>\n",
       "      <td>Physician</td>\n",
       "      <td>1.000000</td>\n",
       "    </tr>\n",
       "    <tr>\n",
       "      <td>4395</td>\n",
       "      <td>999998276898810</td>\n",
       "      <td>7</td>\n",
       "      <td>7.0</td>\n",
       "      <td>Physician</td>\n",
       "      <td>1.000000</td>\n",
       "    </tr>\n",
       "    <tr>\n",
       "      <td>1261</td>\n",
       "      <td>999880405498810</td>\n",
       "      <td>8</td>\n",
       "      <td>8.0</td>\n",
       "      <td>Resident</td>\n",
       "      <td>1.000000</td>\n",
       "    </tr>\n",
       "    <tr>\n",
       "      <td>3608</td>\n",
       "      <td>999976982898810</td>\n",
       "      <td>19</td>\n",
       "      <td>19.0</td>\n",
       "      <td>VerifyChemoTherapy</td>\n",
       "      <td>1.000000</td>\n",
       "    </tr>\n",
       "  </tbody>\n",
       "</table>\n",
       "<p>1504 rows × 5 columns</p>\n",
       "</div>"
      ],
      "text/plain": [
       "              userguid  #order  #orderset                role  \\\n",
       "2117   999940120798810     233        4.0            Resident   \n",
       "1155   999875371198810      41        1.0           Physician   \n",
       "2485   999958162498810      38        1.0            Resident   \n",
       "4487  7999998969880999      35        1.0           Physician   \n",
       "37     999776145798810      75        3.0                  PA   \n",
       "...                ...     ...        ...                 ...   \n",
       "1986   999937978698810       8        8.0            Resident   \n",
       "4404   999998917880999      16       16.0           Physician   \n",
       "4395   999998276898810       7        7.0           Physician   \n",
       "1261   999880405498810       8        8.0            Resident   \n",
       "3608   999976982898810      19       19.0  VerifyChemoTherapy   \n",
       "\n",
       "      #orderset/#order  \n",
       "2117          0.017167  \n",
       "1155          0.024390  \n",
       "2485          0.026316  \n",
       "4487          0.028571  \n",
       "37            0.040000  \n",
       "...                ...  \n",
       "1986          1.000000  \n",
       "4404          1.000000  \n",
       "4395          1.000000  \n",
       "1261          1.000000  \n",
       "3608          1.000000  \n",
       "\n",
       "[1504 rows x 5 columns]"
      ]
     },
     "execution_count": 30,
     "metadata": {},
     "output_type": "execute_result"
    }
   ],
   "source": [
    "# remove nurses, NP and Nurse Anesthetist\n",
    "orderset_order_eddc_p = orderset_order_eddc_p[(orderset_order_eddc_p['role'] != 'Nurse') & (orderset_order_eddc_p['role'] != 'NP') & (orderset_order_eddc_p['role'] != 'Nurse Anesthetist')] \n",
    "# remove #order <5\n",
    "orderset_order_eddc_p = orderset_order_eddc_p[orderset_order_eddc_p['#order'] >= 5]\n",
    "orderset_order_eddc_p = orderset_order_eddc_p.dropna().sort_values(by=['#orderset/#order'])\n",
    "orderset_order_eddc_p"
   ]
  },
  {
   "cell_type": "code",
   "execution_count": 31,
   "metadata": {},
   "outputs": [],
   "source": [
    "std_eddc = orderset_order_eddc_p['#orderset/#order'].std()\n",
    "mean_eddc = orderset_order_eddc_p['#orderset/#order'].mean()"
   ]
  },
  {
   "cell_type": "code",
   "execution_count": 32,
   "metadata": {},
   "outputs": [],
   "source": [
    "q1_eddc = orderset_order_eddc_p['#orderset/#order'].describe()[4]\n",
    "q2_eddc = orderset_order_eddc_p['#orderset/#order'].describe()[5]\n",
    "q3_eddc = orderset_order_eddc_p['#orderset/#order'].describe()[6]\n",
    "q4_eddc = orderset_order_eddc_p['#orderset/#order'].describe()[7]"
   ]
  },
  {
   "cell_type": "code",
   "execution_count": 33,
   "metadata": {},
   "outputs": [
    {
     "name": "stdout",
     "output_type": "stream",
     "text": [
      "0.45781271086493497 0.5534521230152314 0.6666666666666666 1.0\n"
     ]
    }
   ],
   "source": [
    "print(q1_eddc, q2_eddc, q3_eddc, q4_eddc)"
   ]
  },
  {
   "cell_type": "code",
   "execution_count": 34,
   "metadata": {},
   "outputs": [],
   "source": [
    "orderset_order_eddc_p['Q1'] = orderset_order_eddc_p.apply(lambda x: 1 if x['#orderset/#order'] <= q1 else 0, axis=1)\n",
    "orderset_order_eddc_p['Q4'] = orderset_order_eddc_p.apply(lambda x: 1 if x['#orderset/#order'] > q3 else 0, axis=1)"
   ]
  },
  {
   "cell_type": "code",
   "execution_count": 35,
   "metadata": {},
   "outputs": [],
   "source": [
    "orderset_order_eddc_p.to_excel(path + '2_quartile_analysis_eddc_cv3_notcancelled.xlsx', sheet_name='eddc_orderset_order', index=False)"
   ]
  },
  {
   "cell_type": "code",
   "execution_count": null,
   "metadata": {},
   "outputs": [],
   "source": [
    "# check"
   ]
  },
  {
   "cell_type": "code",
   "execution_count": 52,
   "metadata": {},
   "outputs": [
    {
     "data": {
      "text/html": [
       "<div>\n",
       "<style scoped>\n",
       "    .dataframe tbody tr th:only-of-type {\n",
       "        vertical-align: middle;\n",
       "    }\n",
       "\n",
       "    .dataframe tbody tr th {\n",
       "        vertical-align: top;\n",
       "    }\n",
       "\n",
       "    .dataframe thead th {\n",
       "        text-align: right;\n",
       "    }\n",
       "</style>\n",
       "<table border=\"1\" class=\"dataframe\">\n",
       "  <thead>\n",
       "    <tr style=\"text-align: right;\">\n",
       "      <th></th>\n",
       "      <th>userguid</th>\n",
       "      <th>#order</th>\n",
       "      <th>#orderset</th>\n",
       "      <th>role</th>\n",
       "      <th>#orderset/#order</th>\n",
       "      <th>Q1</th>\n",
       "      <th>Q4</th>\n",
       "    </tr>\n",
       "  </thead>\n",
       "  <tbody>\n",
       "  </tbody>\n",
       "</table>\n",
       "</div>"
      ],
      "text/plain": [
       "Empty DataFrame\n",
       "Columns: [userguid, #order, #orderset, role, #orderset/#order, Q1, Q4]\n",
       "Index: []"
      ]
     },
     "execution_count": 52,
     "metadata": {},
     "output_type": "execute_result"
    }
   ],
   "source": [
    "orderset_order_eddc_p[orderset_order_eddc_p['#orderset']==2]"
   ]
  },
  {
   "cell_type": "code",
   "execution_count": 53,
   "metadata": {},
   "outputs": [
    {
     "data": {
      "text/plain": [
       "userguid            6999998755880999\n",
       "#order                            71\n",
       "#orderset                          2\n",
       "role                       Physician\n",
       "#orderset/#order            0.028169\n",
       "Q1                                 1\n",
       "Q4                                 0\n",
       "Name: 3190, dtype: object"
      ]
     },
     "execution_count": 53,
     "metadata": {},
     "output_type": "execute_result"
    }
   ],
   "source": [
    "orderset_order_eddc_p.iloc[20,:]"
   ]
  },
  {
   "cell_type": "code",
   "execution_count": 42,
   "metadata": {},
   "outputs": [
    {
     "data": {
      "text/plain": [
       "array([ 999974338498810,  999976237898810, 7999998969880999, ...,\n",
       "        999880404898810,  999993239198810, 9999998979880999])"
      ]
     },
     "execution_count": 42,
     "metadata": {},
     "output_type": "execute_result"
    }
   ],
   "source": [
    "orderset_order_eddc_p['userguid'].unique()"
   ]
  },
  {
   "cell_type": "code",
   "execution_count": null,
   "metadata": {},
   "outputs": [],
   "source": []
  }
 ],
 "metadata": {
  "kernelspec": {
   "display_name": "Python 3",
   "language": "python",
   "name": "python3"
  },
  "language_info": {
   "codemirror_mode": {
    "name": "ipython",
    "version": 3
   },
   "file_extension": ".py",
   "mimetype": "text/x-python",
   "name": "python",
   "nbconvert_exporter": "python",
   "pygments_lexer": "ipython3",
   "version": "3.7.4"
  }
 },
 "nbformat": 4,
 "nbformat_minor": 2
}
