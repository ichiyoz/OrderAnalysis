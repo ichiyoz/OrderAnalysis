{
 "cells": [
  {
   "cell_type": "code",
   "execution_count": 102,
   "metadata": {},
   "outputs": [],
   "source": [
    "import pandas as pd"
   ]
  },
  {
   "cell_type": "code",
   "execution_count": 3,
   "metadata": {},
   "outputs": [],
   "source": [
    "path='/Users/fan/Desktop/Fullhouse/WCM/'"
   ]
  },
  {
   "cell_type": "code",
   "execution_count": 4,
   "metadata": {},
   "outputs": [],
   "source": [
    "data=pd.read_csv(path + 'HospitalManagement/OrderAnalysis-master/order_taskocc_2012_2018_new.csv', sep=',')"
   ]
  },
  {
   "cell_type": "code",
   "execution_count": 5,
   "metadata": {},
   "outputs": [
    {
     "data": {
      "text/plain": [
       "6249686"
      ]
     },
     "execution_count": 5,
     "metadata": {},
     "output_type": "execute_result"
    }
   ],
   "source": [
    "len(data)"
   ]
  },
  {
   "cell_type": "code",
   "execution_count": 6,
   "metadata": {},
   "outputs": [],
   "source": [
    "data1 = data[data['TaskStatusCode']!='Canceled']"
   ]
  },
  {
   "cell_type": "code",
   "execution_count": 7,
   "metadata": {},
   "outputs": [
    {
     "data": {
      "text/plain": [
       "5586425"
      ]
     },
     "execution_count": 7,
     "metadata": {},
     "output_type": "execute_result"
    }
   ],
   "source": [
    "len(data1)"
   ]
  },
  {
   "cell_type": "code",
   "execution_count": 8,
   "metadata": {},
   "outputs": [],
   "source": [
    "data2=data1[data1['enterrole'].isin(['PA', 'Resident', 'Nurse', 'NP', 'Physician', 'VerifyChemoTherapy',\n",
    "       'Fellow', 'Medical Resident', 'Attending Physician',\n",
    "       'Registered Nurse', 'Nurse Anesthetist'])]"
   ]
  },
  {
   "cell_type": "code",
   "execution_count": 9,
   "metadata": {},
   "outputs": [
    {
     "data": {
      "text/plain": [
       "4693792"
      ]
     },
     "execution_count": 9,
     "metadata": {},
     "output_type": "execute_result"
    }
   ],
   "source": [
    "len(data2)"
   ]
  },
  {
   "cell_type": "code",
   "execution_count": 10,
   "metadata": {},
   "outputs": [],
   "source": [
    "medication = data2[data2['typecode']=='Medication']"
   ]
  },
  {
   "cell_type": "code",
   "execution_count": 11,
   "metadata": {},
   "outputs": [
    {
     "data": {
      "text/plain": [
       "3382765"
      ]
     },
     "execution_count": 11,
     "metadata": {},
     "output_type": "execute_result"
    }
   ],
   "source": [
    "len(medication)"
   ]
  },
  {
   "cell_type": "code",
   "execution_count": 12,
   "metadata": {},
   "outputs": [
    {
     "data": {
      "text/plain": [
       "13629"
      ]
     },
     "execution_count": 12,
     "metadata": {},
     "output_type": "execute_result"
    }
   ],
   "source": [
    "medication['clientvisitguid'].nunique()"
   ]
  },
  {
   "cell_type": "code",
   "execution_count": 203,
   "metadata": {},
   "outputs": [],
   "source": [
    "#medication = medication.drop(['TaskStatusCode', 'clientguid', 'PerformedFromDtm', 'enterrole', 'typecode', 'userguid'], axis='columns')"
   ]
  },
  {
   "cell_type": "code",
   "execution_count": 13,
   "metadata": {},
   "outputs": [
    {
     "data": {
      "text/html": [
       "<div>\n",
       "<style scoped>\n",
       "    .dataframe tbody tr th:only-of-type {\n",
       "        vertical-align: middle;\n",
       "    }\n",
       "\n",
       "    .dataframe tbody tr th {\n",
       "        vertical-align: top;\n",
       "    }\n",
       "\n",
       "    .dataframe thead th {\n",
       "        text-align: right;\n",
       "    }\n",
       "</style>\n",
       "<table border=\"1\" class=\"dataframe\">\n",
       "  <thead>\n",
       "    <tr style=\"text-align: right;\">\n",
       "      <th></th>\n",
       "      <th>name</th>\n",
       "      <th>TaskStatusCode</th>\n",
       "      <th>clientvisitguid</th>\n",
       "      <th>clientguid</th>\n",
       "      <th>PerformedFromDtm</th>\n",
       "      <th>createdwhen</th>\n",
       "      <th>ordersetname</th>\n",
       "      <th>enterrole</th>\n",
       "      <th>typecode</th>\n",
       "      <th>userguid</th>\n",
       "    </tr>\n",
       "  </thead>\n",
       "  <tbody>\n",
       "    <tr>\n",
       "      <td>3</td>\n",
       "      <td>Docusate Sodium Cap</td>\n",
       "      <td>Performed</td>\n",
       "      <td>1184048800270</td>\n",
       "      <td>244373800200</td>\n",
       "      <td>2018-06-11 05:27:29.000</td>\n",
       "      <td>2018-06-06 14:55:28.153</td>\n",
       "      <td>MED - ED Admitted Patient Order Set</td>\n",
       "      <td>PA</td>\n",
       "      <td>Medication</td>\n",
       "      <td>999887323798810</td>\n",
       "    </tr>\n",
       "    <tr>\n",
       "      <td>6</td>\n",
       "      <td>Magnesium Oxide Oral</td>\n",
       "      <td>Performed</td>\n",
       "      <td>1105890400270</td>\n",
       "      <td>110788600200</td>\n",
       "      <td>2018-01-01 17:46:58.000</td>\n",
       "      <td>2018-01-01 13:08:02.230</td>\n",
       "      <td>NaN</td>\n",
       "      <td>Resident</td>\n",
       "      <td>Medication</td>\n",
       "      <td>999833822198810</td>\n",
       "    </tr>\n",
       "    <tr>\n",
       "      <td>7</td>\n",
       "      <td>Pantoprazole Delayed Release Tab</td>\n",
       "      <td>Performed</td>\n",
       "      <td>874422400270</td>\n",
       "      <td>118227100200</td>\n",
       "      <td>2016-05-08 09:40:09.000</td>\n",
       "      <td>2016-05-03 06:05:27.780</td>\n",
       "      <td>NaN</td>\n",
       "      <td>Resident</td>\n",
       "      <td>Medication</td>\n",
       "      <td>999971453298810</td>\n",
       "    </tr>\n",
       "    <tr>\n",
       "      <td>8</td>\n",
       "      <td>Finasteride Oral</td>\n",
       "      <td>Performed</td>\n",
       "      <td>948231500270</td>\n",
       "      <td>70872900200</td>\n",
       "      <td>2016-11-24 08:38:04.000</td>\n",
       "      <td>2016-11-19 19:22:25.333</td>\n",
       "      <td>NaN</td>\n",
       "      <td>Resident</td>\n",
       "      <td>Medication</td>\n",
       "      <td>999881239098810</td>\n",
       "    </tr>\n",
       "    <tr>\n",
       "      <td>14</td>\n",
       "      <td>Metoprolol Tartrate Tab</td>\n",
       "      <td>Performed</td>\n",
       "      <td>806082200270</td>\n",
       "      <td>208735000200</td>\n",
       "      <td>2015-12-03 16:00:00.000</td>\n",
       "      <td>2015-11-26 13:01:53.180</td>\n",
       "      <td>NaN</td>\n",
       "      <td>Resident</td>\n",
       "      <td>Medication</td>\n",
       "      <td>999958237898810</td>\n",
       "    </tr>\n",
       "    <tr>\n",
       "      <td>...</td>\n",
       "      <td>...</td>\n",
       "      <td>...</td>\n",
       "      <td>...</td>\n",
       "      <td>...</td>\n",
       "      <td>...</td>\n",
       "      <td>...</td>\n",
       "      <td>...</td>\n",
       "      <td>...</td>\n",
       "      <td>...</td>\n",
       "      <td>...</td>\n",
       "    </tr>\n",
       "    <tr>\n",
       "      <td>6249676</td>\n",
       "      <td>Calcium Citrate Tab 1500 mg + Vit D 250 (315 m...</td>\n",
       "      <td>Performed</td>\n",
       "      <td>640771700270</td>\n",
       "      <td>5564100200</td>\n",
       "      <td>2014-08-08 13:31:55.000</td>\n",
       "      <td>2014-08-08 08:20:12.077</td>\n",
       "      <td>NaN</td>\n",
       "      <td>PA</td>\n",
       "      <td>Medication</td>\n",
       "      <td>999977944798810</td>\n",
       "    </tr>\n",
       "    <tr>\n",
       "      <td>6249679</td>\n",
       "      <td>Insulin Aspart Prandial Scale Pre-Meal</td>\n",
       "      <td>Performed</td>\n",
       "      <td>570445100270</td>\n",
       "      <td>149892500200</td>\n",
       "      <td>2014-04-29 06:32:36.000</td>\n",
       "      <td>2014-02-14 12:37:17.327</td>\n",
       "      <td>Insulin Aspart Glargine Order Set, Med Dose</td>\n",
       "      <td>Resident</td>\n",
       "      <td>Medication</td>\n",
       "      <td>999974343298810</td>\n",
       "    </tr>\n",
       "    <tr>\n",
       "      <td>6249680</td>\n",
       "      <td>traMADol HCl Oral</td>\n",
       "      <td>Performed</td>\n",
       "      <td>891539100270</td>\n",
       "      <td>230591900200</td>\n",
       "      <td>2016-06-20 20:23:47.000</td>\n",
       "      <td>2016-06-20 10:28:15.727</td>\n",
       "      <td>NaN</td>\n",
       "      <td>PA</td>\n",
       "      <td>Medication</td>\n",
       "      <td>999957969798810</td>\n",
       "    </tr>\n",
       "    <tr>\n",
       "      <td>6249681</td>\n",
       "      <td>Acetaminophen Tab</td>\n",
       "      <td>Performed</td>\n",
       "      <td>922071600270</td>\n",
       "      <td>72967600200</td>\n",
       "      <td>2016-09-11 05:33:12.000</td>\n",
       "      <td>2016-09-10 15:05:23.920</td>\n",
       "      <td>NaN</td>\n",
       "      <td>Resident</td>\n",
       "      <td>Medication</td>\n",
       "      <td>999939744298810</td>\n",
       "    </tr>\n",
       "    <tr>\n",
       "      <td>6249685</td>\n",
       "      <td>Magnesium Sulfate Inj</td>\n",
       "      <td>Performed</td>\n",
       "      <td>797121800270</td>\n",
       "      <td>202122800200</td>\n",
       "      <td>2015-10-14 21:32:34.000</td>\n",
       "      <td>2015-10-14 19:45:52.227</td>\n",
       "      <td>NaN</td>\n",
       "      <td>PA</td>\n",
       "      <td>Medication</td>\n",
       "      <td>999946274598810</td>\n",
       "    </tr>\n",
       "  </tbody>\n",
       "</table>\n",
       "<p>3382765 rows × 10 columns</p>\n",
       "</div>"
      ],
      "text/plain": [
       "                                                      name TaskStatusCode  \\\n",
       "3                                      Docusate Sodium Cap      Performed   \n",
       "6                                     Magnesium Oxide Oral      Performed   \n",
       "7                         Pantoprazole Delayed Release Tab      Performed   \n",
       "8                                         Finasteride Oral      Performed   \n",
       "14                                 Metoprolol Tartrate Tab      Performed   \n",
       "...                                                    ...            ...   \n",
       "6249676  Calcium Citrate Tab 1500 mg + Vit D 250 (315 m...      Performed   \n",
       "6249679             Insulin Aspart Prandial Scale Pre-Meal      Performed   \n",
       "6249680                                  traMADol HCl Oral      Performed   \n",
       "6249681                                  Acetaminophen Tab      Performed   \n",
       "6249685                              Magnesium Sulfate Inj      Performed   \n",
       "\n",
       "         clientvisitguid    clientguid         PerformedFromDtm  \\\n",
       "3          1184048800270  244373800200  2018-06-11 05:27:29.000   \n",
       "6          1105890400270  110788600200  2018-01-01 17:46:58.000   \n",
       "7           874422400270  118227100200  2016-05-08 09:40:09.000   \n",
       "8           948231500270   70872900200  2016-11-24 08:38:04.000   \n",
       "14          806082200270  208735000200  2015-12-03 16:00:00.000   \n",
       "...                  ...           ...                      ...   \n",
       "6249676     640771700270    5564100200  2014-08-08 13:31:55.000   \n",
       "6249679     570445100270  149892500200  2014-04-29 06:32:36.000   \n",
       "6249680     891539100270  230591900200  2016-06-20 20:23:47.000   \n",
       "6249681     922071600270   72967600200  2016-09-11 05:33:12.000   \n",
       "6249685     797121800270  202122800200  2015-10-14 21:32:34.000   \n",
       "\n",
       "                     createdwhen                                 ordersetname  \\\n",
       "3        2018-06-06 14:55:28.153          MED - ED Admitted Patient Order Set   \n",
       "6        2018-01-01 13:08:02.230                                          NaN   \n",
       "7        2016-05-03 06:05:27.780                                          NaN   \n",
       "8        2016-11-19 19:22:25.333                                          NaN   \n",
       "14       2015-11-26 13:01:53.180                                          NaN   \n",
       "...                          ...                                          ...   \n",
       "6249676  2014-08-08 08:20:12.077                                          NaN   \n",
       "6249679  2014-02-14 12:37:17.327  Insulin Aspart Glargine Order Set, Med Dose   \n",
       "6249680  2016-06-20 10:28:15.727                                          NaN   \n",
       "6249681  2016-09-10 15:05:23.920                                          NaN   \n",
       "6249685  2015-10-14 19:45:52.227                                          NaN   \n",
       "\n",
       "        enterrole    typecode         userguid  \n",
       "3              PA  Medication  999887323798810  \n",
       "6        Resident  Medication  999833822198810  \n",
       "7        Resident  Medication  999971453298810  \n",
       "8        Resident  Medication  999881239098810  \n",
       "14       Resident  Medication  999958237898810  \n",
       "...           ...         ...              ...  \n",
       "6249676        PA  Medication  999977944798810  \n",
       "6249679  Resident  Medication  999974343298810  \n",
       "6249680        PA  Medication  999957969798810  \n",
       "6249681  Resident  Medication  999939744298810  \n",
       "6249685        PA  Medication  999946274598810  \n",
       "\n",
       "[3382765 rows x 10 columns]"
      ]
     },
     "execution_count": 13,
     "metadata": {},
     "output_type": "execute_result"
    }
   ],
   "source": [
    "medication"
   ]
  },
  {
   "cell_type": "code",
   "execution_count": null,
   "metadata": {},
   "outputs": [],
   "source": []
  },
  {
   "cell_type": "code",
   "execution_count": 18,
   "metadata": {},
   "outputs": [],
   "source": [
    "opioid = pd.read_excel(path + 'Opioid/Opioid Order GUID.xlsx', header=0)"
   ]
  },
  {
   "cell_type": "code",
   "execution_count": 20,
   "metadata": {},
   "outputs": [
    {
     "data": {
      "text/html": [
       "<div>\n",
       "<style scoped>\n",
       "    .dataframe tbody tr th:only-of-type {\n",
       "        vertical-align: middle;\n",
       "    }\n",
       "\n",
       "    .dataframe tbody tr th {\n",
       "        vertical-align: top;\n",
       "    }\n",
       "\n",
       "    .dataframe thead th {\n",
       "        text-align: right;\n",
       "    }\n",
       "</style>\n",
       "<table border=\"1\" class=\"dataframe\">\n",
       "  <thead>\n",
       "    <tr style=\"text-align: right;\">\n",
       "      <th></th>\n",
       "      <th>GUID</th>\n",
       "      <th>ImportSource</th>\n",
       "      <th>Generic</th>\n",
       "      <th>OrderMasterItemName</th>\n",
       "      <th>OrderName</th>\n",
       "      <th>Description</th>\n",
       "    </tr>\n",
       "  </thead>\n",
       "  <tbody>\n",
       "    <tr>\n",
       "      <td>0</td>\n",
       "      <td>7.230007e+08</td>\n",
       "      <td>Q</td>\n",
       "      <td>Codeine</td>\n",
       "      <td>Acetaminophen Codeine Oral Liq</td>\n",
       "      <td>Acetaminophen Codeine Oral Liq</td>\n",
       "      <td>Acetaminophen Codeine Oral Liq</td>\n",
       "    </tr>\n",
       "    <tr>\n",
       "      <td>1</td>\n",
       "      <td>8.818007e+08</td>\n",
       "      <td>Q</td>\n",
       "      <td>Codeine</td>\n",
       "      <td>chg codeine 30 mg tab</td>\n",
       "      <td>chg codeine 30 mg tab</td>\n",
       "      <td>chg codeine 30 mg tab</td>\n",
       "    </tr>\n",
       "    <tr>\n",
       "      <td>2</td>\n",
       "      <td>9.000050e+15</td>\n",
       "      <td>W</td>\n",
       "      <td>Codeine</td>\n",
       "      <td>chg codeine 30 mg tab</td>\n",
       "      <td>chg codeine 30 mg tab</td>\n",
       "      <td>chg codeine 30 mg tab</td>\n",
       "    </tr>\n",
       "    <tr>\n",
       "      <td>3</td>\n",
       "      <td>9.000003e+15</td>\n",
       "      <td>E</td>\n",
       "      <td>Codeine</td>\n",
       "      <td>chg codeine 30 mg tab</td>\n",
       "      <td>chg codeine 30 mg tab</td>\n",
       "      <td>chg codeine 30 mg tab</td>\n",
       "    </tr>\n",
       "    <tr>\n",
       "      <td>4</td>\n",
       "      <td>1.000002e+15</td>\n",
       "      <td>E</td>\n",
       "      <td>Codeine</td>\n",
       "      <td>Codeine Sulfate Oral</td>\n",
       "      <td>Codeine Sulfate Oral</td>\n",
       "      <td>Codeine Sulfate Oral</td>\n",
       "    </tr>\n",
       "    <tr>\n",
       "      <td>...</td>\n",
       "      <td>...</td>\n",
       "      <td>...</td>\n",
       "      <td>...</td>\n",
       "      <td>...</td>\n",
       "      <td>...</td>\n",
       "      <td>...</td>\n",
       "    </tr>\n",
       "    <tr>\n",
       "      <td>645</td>\n",
       "      <td>1.748073e+09</td>\n",
       "      <td>E</td>\n",
       "      <td>Oxycodone</td>\n",
       "      <td>oxyCODONE/Acetaminophen 5/325 mg Tab (Percocet)</td>\n",
       "      <td>Percocet Oral</td>\n",
       "      <td>oxyCODONE/Acetaminophen 5/325 mg Tab (Pe</td>\n",
       "    </tr>\n",
       "    <tr>\n",
       "      <td>646</td>\n",
       "      <td>1.273073e+09</td>\n",
       "      <td>W</td>\n",
       "      <td>Oxycodone</td>\n",
       "      <td>oxyCODONE/Acetaminophen 5/325 mg Tab (Percocet)</td>\n",
       "      <td>Oxycodone/Acetaminophen 5/325 mg Tab (Percocet)</td>\n",
       "      <td>oxyCODONE/Acetaminophen 5/325 mg Tab (Pe</td>\n",
       "    </tr>\n",
       "    <tr>\n",
       "      <td>647</td>\n",
       "      <td>1.273073e+09</td>\n",
       "      <td>W</td>\n",
       "      <td>Oxycodone</td>\n",
       "      <td>oxyCODONE/Acetaminophen 5/325 mg Tab (Percocet)</td>\n",
       "      <td>Percocet Oral</td>\n",
       "      <td>oxyCODONE/Acetaminophen 5/325 mg Tab (Pe</td>\n",
       "    </tr>\n",
       "    <tr>\n",
       "      <td>648</td>\n",
       "      <td>NaN</td>\n",
       "      <td>NaN</td>\n",
       "      <td>Oxycodone</td>\n",
       "      <td>Percocet Oral</td>\n",
       "      <td>Oxycodone/Acetaminophen 5/325 mg Tab (Percocet)</td>\n",
       "      <td>NaN</td>\n",
       "    </tr>\n",
       "    <tr>\n",
       "      <td>649</td>\n",
       "      <td>NaN</td>\n",
       "      <td>NaN</td>\n",
       "      <td>Oxycodone</td>\n",
       "      <td>Percocet Oral</td>\n",
       "      <td>Percocet Oral</td>\n",
       "      <td>NaN</td>\n",
       "    </tr>\n",
       "  </tbody>\n",
       "</table>\n",
       "<p>650 rows × 6 columns</p>\n",
       "</div>"
      ],
      "text/plain": [
       "             GUID ImportSource    Generic  \\\n",
       "0    7.230007e+08            Q    Codeine   \n",
       "1    8.818007e+08            Q    Codeine   \n",
       "2    9.000050e+15            W    Codeine   \n",
       "3    9.000003e+15            E    Codeine   \n",
       "4    1.000002e+15            E    Codeine   \n",
       "..            ...          ...        ...   \n",
       "645  1.748073e+09            E  Oxycodone   \n",
       "646  1.273073e+09            W  Oxycodone   \n",
       "647  1.273073e+09            W  Oxycodone   \n",
       "648           NaN          NaN  Oxycodone   \n",
       "649           NaN          NaN  Oxycodone   \n",
       "\n",
       "                                 OrderMasterItemName  \\\n",
       "0                     Acetaminophen Codeine Oral Liq   \n",
       "1                              chg codeine 30 mg tab   \n",
       "2                              chg codeine 30 mg tab   \n",
       "3                              chg codeine 30 mg tab   \n",
       "4                               Codeine Sulfate Oral   \n",
       "..                                               ...   \n",
       "645  oxyCODONE/Acetaminophen 5/325 mg Tab (Percocet)   \n",
       "646  oxyCODONE/Acetaminophen 5/325 mg Tab (Percocet)   \n",
       "647  oxyCODONE/Acetaminophen 5/325 mg Tab (Percocet)   \n",
       "648                                    Percocet Oral   \n",
       "649                                    Percocet Oral   \n",
       "\n",
       "                                           OrderName  \\\n",
       "0                     Acetaminophen Codeine Oral Liq   \n",
       "1                              chg codeine 30 mg tab   \n",
       "2                              chg codeine 30 mg tab   \n",
       "3                              chg codeine 30 mg tab   \n",
       "4                               Codeine Sulfate Oral   \n",
       "..                                               ...   \n",
       "645                                    Percocet Oral   \n",
       "646  Oxycodone/Acetaminophen 5/325 mg Tab (Percocet)   \n",
       "647                                    Percocet Oral   \n",
       "648  Oxycodone/Acetaminophen 5/325 mg Tab (Percocet)   \n",
       "649                                    Percocet Oral   \n",
       "\n",
       "                                  Description  \n",
       "0              Acetaminophen Codeine Oral Liq  \n",
       "1                       chg codeine 30 mg tab  \n",
       "2                       chg codeine 30 mg tab  \n",
       "3                       chg codeine 30 mg tab  \n",
       "4                        Codeine Sulfate Oral  \n",
       "..                                        ...  \n",
       "645  oxyCODONE/Acetaminophen 5/325 mg Tab (Pe  \n",
       "646  oxyCODONE/Acetaminophen 5/325 mg Tab (Pe  \n",
       "647  oxyCODONE/Acetaminophen 5/325 mg Tab (Pe  \n",
       "648                                       NaN  \n",
       "649                                       NaN  \n",
       "\n",
       "[650 rows x 6 columns]"
      ]
     },
     "execution_count": 20,
     "metadata": {},
     "output_type": "execute_result"
    }
   ],
   "source": [
    "opioid"
   ]
  },
  {
   "cell_type": "code",
   "execution_count": 21,
   "metadata": {},
   "outputs": [
    {
     "data": {
      "text/html": [
       "<div>\n",
       "<style scoped>\n",
       "    .dataframe tbody tr th:only-of-type {\n",
       "        vertical-align: middle;\n",
       "    }\n",
       "\n",
       "    .dataframe tbody tr th {\n",
       "        vertical-align: top;\n",
       "    }\n",
       "\n",
       "    .dataframe thead th {\n",
       "        text-align: right;\n",
       "    }\n",
       "</style>\n",
       "<table border=\"1\" class=\"dataframe\">\n",
       "  <thead>\n",
       "    <tr style=\"text-align: right;\">\n",
       "      <th></th>\n",
       "      <th>Generic</th>\n",
       "      <th>OrderName</th>\n",
       "    </tr>\n",
       "  </thead>\n",
       "  <tbody>\n",
       "    <tr>\n",
       "      <td>0</td>\n",
       "      <td>Codeine</td>\n",
       "      <td>Acetaminophen Codeine Oral Liq</td>\n",
       "    </tr>\n",
       "    <tr>\n",
       "      <td>1</td>\n",
       "      <td>Codeine</td>\n",
       "      <td>chg codeine 30 mg tab</td>\n",
       "    </tr>\n",
       "    <tr>\n",
       "      <td>2</td>\n",
       "      <td>Codeine</td>\n",
       "      <td>chg codeine 30 mg tab</td>\n",
       "    </tr>\n",
       "    <tr>\n",
       "      <td>3</td>\n",
       "      <td>Codeine</td>\n",
       "      <td>chg codeine 30 mg tab</td>\n",
       "    </tr>\n",
       "    <tr>\n",
       "      <td>4</td>\n",
       "      <td>Codeine</td>\n",
       "      <td>Codeine Sulfate Oral</td>\n",
       "    </tr>\n",
       "    <tr>\n",
       "      <td>...</td>\n",
       "      <td>...</td>\n",
       "      <td>...</td>\n",
       "    </tr>\n",
       "    <tr>\n",
       "      <td>645</td>\n",
       "      <td>Oxycodone</td>\n",
       "      <td>Percocet Oral</td>\n",
       "    </tr>\n",
       "    <tr>\n",
       "      <td>646</td>\n",
       "      <td>Oxycodone</td>\n",
       "      <td>Oxycodone/Acetaminophen 5/325 mg Tab (Percocet)</td>\n",
       "    </tr>\n",
       "    <tr>\n",
       "      <td>647</td>\n",
       "      <td>Oxycodone</td>\n",
       "      <td>Percocet Oral</td>\n",
       "    </tr>\n",
       "    <tr>\n",
       "      <td>648</td>\n",
       "      <td>Oxycodone</td>\n",
       "      <td>Oxycodone/Acetaminophen 5/325 mg Tab (Percocet)</td>\n",
       "    </tr>\n",
       "    <tr>\n",
       "      <td>649</td>\n",
       "      <td>Oxycodone</td>\n",
       "      <td>Percocet Oral</td>\n",
       "    </tr>\n",
       "  </tbody>\n",
       "</table>\n",
       "<p>650 rows × 2 columns</p>\n",
       "</div>"
      ],
      "text/plain": [
       "       Generic                                        OrderName\n",
       "0      Codeine                   Acetaminophen Codeine Oral Liq\n",
       "1      Codeine                            chg codeine 30 mg tab\n",
       "2      Codeine                            chg codeine 30 mg tab\n",
       "3      Codeine                            chg codeine 30 mg tab\n",
       "4      Codeine                             Codeine Sulfate Oral\n",
       "..         ...                                              ...\n",
       "645  Oxycodone                                    Percocet Oral\n",
       "646  Oxycodone  Oxycodone/Acetaminophen 5/325 mg Tab (Percocet)\n",
       "647  Oxycodone                                    Percocet Oral\n",
       "648  Oxycodone  Oxycodone/Acetaminophen 5/325 mg Tab (Percocet)\n",
       "649  Oxycodone                                    Percocet Oral\n",
       "\n",
       "[650 rows x 2 columns]"
      ]
     },
     "execution_count": 21,
     "metadata": {},
     "output_type": "execute_result"
    }
   ],
   "source": [
    "opioid_d = opioid.loc[:, ['Generic', 'OrderName']]\n",
    "opioid_d"
   ]
  },
  {
   "cell_type": "code",
   "execution_count": 22,
   "metadata": {},
   "outputs": [],
   "source": [
    "opioid_d_dropduplicates = opioid_d.drop_duplicates()"
   ]
  },
  {
   "cell_type": "code",
   "execution_count": 23,
   "metadata": {},
   "outputs": [
    {
     "data": {
      "text/plain": [
       "array(['Acetaminophen Codeine Oral Liq', 'chg codeine 30 mg tab',\n",
       "       'Codeine Sulfate Oral',\n",
       "       'chg atropine-diphenoxylate 0.025 mg-2.5 mg tab',\n",
       "       'Diphenoxylate/Atropine Oral', 'Adult PCA Fentanyl (CONTINUOUS)',\n",
       "       'Adult PCA Fentanyl (CONTINUOUS)-Restricted',\n",
       "       'Adult PCA Fentanyl (DEMAND ONLY)',\n",
       "       'Adult PCA Fentanyl (DEMAND ONLY)-Restricted',\n",
       "       'Adult PCA Fentanyl Clinician/Nurse Bolus Inj',\n",
       "       'Adult PCA Fentanyl Clinician/Nurse Bolus Inj.',\n",
       "       'Adult PCA Fentanyl Clinician/Nurse Bolus Inj -- LOADING DOSE',\n",
       "       'Adult PCA Fentanyl Clinician/Nurse Bolus Inj LOADING DOSE -- Restricted',\n",
       "       'Adult PCA Fentanyl Clinician/Nurse Bolus Inj-Restricted',\n",
       "       'Adult PCA Fentanyl Clinician/Nurse Bolus Inj-Restricted.',\n",
       "       'chg bupivacaine-fentaNYL 0.0625%-2 mcg/mL-0.9% 250 mL',\n",
       "       'chg fentaNYL 10 mcg/mL-0.9% NS 100 mL',\n",
       "       'chg fentaNYL 1000 mcg/20 mL ampule *R*',\n",
       "       'chg fentaNYL 50 mcg/mL inj *R* 2 mL',\n",
       "       'chg fentaNYL 50 mcg/mL inj *R* 20 mL',\n",
       "       'chg fentaNYL 50 mcg/mL inj *R* 5 mL',\n",
       "       'chg fentaNYL 50 mcg/mL inj *R* 5 mL vial',\n",
       "       'chg fentaNYL 50 mcg/mL inj *R* 50 mL',\n",
       "       'chg fentaNYL 75 mcg patch',\n",
       "       'Fentanyl 1000 Micrograms/100 mL NS PCA',\n",
       "       'Fentanyl 1000 Micrograms/100 mL NS PCA NB',\n",
       "       'Fentanyl 3 MICROgrams/mL + Bupivacaine 0.015% + Epinephrine 0.5 MICROgrams / mL in 0.9% Sodium Chloride 500 mL',\n",
       "       'Fentanyl 3 MICROgrams/mL + Bupivacaine 0.015% + Epinephrine 0.5 MICROgrams / mLin 0.9% Sodium Chloride 500 mL (No Basal)',\n",
       "       'Fentanyl 3 MICROgrams/mL + Bupivacaine 0.04% + Epinephrine 0.5 MICROgrams/mL in 0.9% Sodium Chloride 500 mL',\n",
       "       'Fentanyl 3 MICROgrams/mL + Bupivacaine 0.04% + Epinephrine 0.5 MICROgrams/mL in 0.9% Sodium Chloride 500 mL  (No Basal)',\n",
       "       'Fentanyl 3 MICROgrams/mL + Bupivacaine 0.06% in 0.9% Sodium Chloride 500 mL',\n",
       "       'Fentanyl 3 MICROgrams/mL + Bupivacaine 0.06% in 0.9% Sodium Chloride 500 mL (No Basal)',\n",
       "       'Fentanyl 5 MICROgrams/ mL + Bupivacaine 0.1% in 0.9% Sodium Chloride 500 mL',\n",
       "       'Fentanyl 5 MICROgrams/ mL + Bupivacaine 0.1%in 0.9% Sodium Chloride 500 mL (No Basal)',\n",
       "       'fentaNYL Citrate Inj +R+', 'Fentanyl Citrate Inj +R+ PACU OS',\n",
       "       'fentaNYL DRIP', 'fentaNYL DRIP 5000 microgram/250ml',\n",
       "       'fentaNYL DRIP. 5000 microgram/250ml', 'fentaNYL DRIP.',\n",
       "       'fentaNYL Intranasal Soln 50 mcg/ml', 'fentaNYL Oral Lozenge',\n",
       "       'fentaNYL Patch', 'Fentanyl w/Bupivacaine Inj',\n",
       "       'First Adjustment for Inadequate Relief 1+ hour(s) from initiation while on Adult Fentanyl PCA',\n",
       "       'For Inadequate Relief after 1 hour with current pump setting while on Adult Fentanyl PCA',\n",
       "       'First Adjustment for Inadequate Relief 1+ hour(s) from initiation while on Adult Remifentanyl PCA',\n",
       "       'For Inadequate Relief after 1 hour with current pump setting while on Adult Remifentanyl PCA',\n",
       "       'For Inadequate Pain Relief while on Fentanyl PCA',\n",
       "       'PCA Fentanyl  (CONTINUOUS)', 'PCA Fentanyl (CONTINUOUS)',\n",
       "       'PCA Fentanyl  (CONTINUOUS) - Restricted',\n",
       "       'PCA Fentanyl (CONTINUOUS) - Restricted',\n",
       "       'PCA Fentanyl (DEMAND ONLY)',\n",
       "       'PCA Fentanyl (DEMAND ONLY) - Restricted',\n",
       "       'PCA Fentanyl Clinician/Nurse Bolus Inj',\n",
       "       'PCEA fentaNYL 10 mcg/mL, bupivacaine 0.0625% in 0.9% sodium chloride',\n",
       "       'PCEA fentaNYL 10 mcg/mL, bupivacaine 0.1% in 0.9% sodium chloride',\n",
       "       'PCEA fentaNYL 10 mcg/mL, bupivacaine 0.125% in 0.9% sodium chloride',\n",
       "       'PCEA fentaNYL 10 mcg/mL, in 0.9% sodium chloride',\n",
       "       'PCEA fentaNYL 2 mcg/mL, bupivacaine 0.0625% in 0.9% sodium chloride',\n",
       "       'PCEA fentaNYL 2 mcg/mL, bupivacaine 0.1 % in 0.9% sodium chloride',\n",
       "       'PCEA fentaNYL 2 mcg/mL, bupivacaine 0.125% in 0.9% sodium chloride',\n",
       "       'PCEA fentaNYL 2 mcg/mL, in 0.9% sodium chloride',\n",
       "       'PCEA fentaNYL 2 mcg/mL, ropivacaine 0.0625% in 0.9% sodium chloride',\n",
       "       'PCEA fentaNYL 5 mcg/mL, bupivacaine 0.0625% in 0.9% sodium chloride',\n",
       "       'PCEA fentaNYL 5 mcg/mL, bupivacaine 0.1% in 0.9% sodium chloride',\n",
       "       'PCEA fentaNYL 5 mcg/mL, bupivacaine 0.125% in 0.9% sodium chloride',\n",
       "       'PCEA fentaNYL 5 mcg/mL, in 0.9% sodium chloride',\n",
       "       'For Inadequate Relief after 1 additional hour while on Adult Fentanyl PCA',\n",
       "       'Second Adjustment for Inadequate Relief 1+ hour(s) from first adjustment while on Adult Fentanyl PCA',\n",
       "       'chg acetaminophen-HYDROcodone 325 mg-5 mg tab',\n",
       "       'homatropine-HYDROcodone Syrup',\n",
       "       'HYDROcodone/Acetaminophen 2.5mg/108mg Soln (per 5mL)',\n",
       "       'Hydrocodone/Acetaminophen 5/325 Tab',\n",
       "       'HYDROcodone/Acetaminophen 5/325 Tab (Norco)',\n",
       "       'Hydrocodone/Acetaminophen 5/500 Tab',\n",
       "       'Hydrocodone/APAP 5/500 Oral',\n",
       "       'Hydrocodone/Acetaminophen 5mg/334 mg Liq',\n",
       "       'HYDROcodone/Acetaminophen 5mg/334mg Liq (per 10mL)',\n",
       "       'Hydrocodone/Acetam 7.5/750 Oral',\n",
       "       'Hydrocodone/Acetaminophen Oral',\n",
       "       'Adjustment for Inadequate Relief 1+ hour(s) from initiation while on Adult Hydromorphone PCA.',\n",
       "       'First Adjustment for Inadequate Relief 1+ hour(s) from initiation while on Adult Hydromorphone PCA.',\n",
       "       'Adult PCA Hydromorphone (CONTINUOUS)',\n",
       "       'Adult PCA Hydromorphone (CONTINUOUS)--Basic',\n",
       "       'Adult PCA Hydromorphone (CONTINUOUS)-Restricted',\n",
       "       'Adult PCA Hydromorphone (DEMAND ONLY)',\n",
       "       'Adult PCA Hydromorphone (DEMAND ONLY).',\n",
       "       'Adult PCA Hydromorphone (DEMAND ONLY)--Basic',\n",
       "       'Adult PCA Hydromorphone (DEMAND ONLY)-Restricted',\n",
       "       'Adult PCA Hydromorphone Clinician/Nurse Bolus Inj',\n",
       "       'Adult PCA Hydromorphone Clinician/Nurse Bolus Inj.',\n",
       "       'Adult PCA Hydromorphone Clinician/Nurse Bolus Inj -- Basic',\n",
       "       'Adult PCA Hydromorphone Clinician/Nurse Bolus Inj LOADING DOSE',\n",
       "       'Adult PCA Hydromorphone Clinician/Nurse Bolus Inj LOADING DOSE -- Restricted',\n",
       "       'Adult PCA Hydromorphone Clinician/Nurse Bolus Inj-Restricted',\n",
       "       'Adult PCA Hydromorphone Clinician/Nurse Bolus Inj-Restricted.',\n",
       "       'chg HYDROmorphone 0.5 mg/0.5 mL inj',\n",
       "       'chg HYDROmorphone 1 mg/mL inj',\n",
       "       'chg HYDROmorphone 10 mg/mL inj 5 mL vial',\n",
       "       'chg HYDROmorphone 2 mg tab', 'chg HYDROmorphone 2 mg/mL inj',\n",
       "       'chg HYDROmorphone 20mg-NaCl 0.9% 100 mL',\n",
       "       'chg HYDROmorphone 4 mg tab',\n",
       "       'chg kit - Hydromorphone Anesthesia Kit',\n",
       "       'First Adjustment for Inadequate Relief 1+ hour(s) from initiation while on Adult Hydromorphone PCA',\n",
       "       'For Inadequate Relief after 1 hour with current pump setting while on Adult Hydromorphone PCA',\n",
       "       'For Inadequate Pain Relief while on Hydromorphone PCA',\n",
       "       'HYDROmorphone 20 mg/100 mL NS For PCA',\n",
       "       'HYDROmorphone 20 mg/100 mL NS For PCA NB', 'HYDROmorphone DRIP',\n",
       "       'HYDROmorphone DRIP.', 'Hydromorphone HCl Inj',\n",
       "       'HYDROmorphone Inj', 'HYDROmorphone Inj PACU OS Mod Pain',\n",
       "       'HYDROmorphone Inj PACU OS Severe Pain', 'Hydromorphone HCl Oral',\n",
       "       'HYDROmorphone Oral', 'HYDROmorphone Oral Liq',\n",
       "       'HYDROmorphone Rectal',\n",
       "       'PACU USE ONLY - Adult PCA Hydromorphone - Clinician/Nurse Bolus Inj - Basic',\n",
       "       'PCA Hydromorphone (CONTINUOUS)',\n",
       "       'PCA Hydromorphone (CONTINUOUS) - Restricted',\n",
       "       'PCA Hydromorphone (DEMAND ONLY)',\n",
       "       'PCA Hydromorphone (DEMAND ONLY) - Restricted',\n",
       "       'PCA Hydromorphone Clinician/Nurse Bolus Inj',\n",
       "       'PCEA HYDROmorphone 1 mcg/mL, ropivacaine 0.1% in 0.9% sodium chloride',\n",
       "       'PCEA HYDROmorphone 10 mcg/mL in 0.9% sodium chloride',\n",
       "       'PCEA HYDROmorphone 10 mcg/mL, bupivacaine 0.0625% in 0.9% sodium chloride',\n",
       "       'PCEA HYDROmorphone 10 mcg/mL, bupivacaine 0.1% in 0.9% sodium chloride',\n",
       "       'PCEA HYDROmorphone 10 mcg/mL, bupivacaine 0.125% in 0.9% sodium chloride',\n",
       "       'PCEA HYDROmorphone 100 mcg/mL in 0.9% sodium chloride',\n",
       "       'PCEA HYDROmorphone 30 mcg/mL in 0.9% sodium chloride',\n",
       "       'PCEA Hydromorphone 30 mcg/mL, bupivacaine 0.0625% in 0.9% sodium chloride',\n",
       "       'For Inadequate Relief after 1 additional hour while on Adult Hydromorphone PCA',\n",
       "       'Second Adjustment for Inadequate Relief 1+ hour(s) from first adjustment while on Adult Hydromorphone PCA',\n",
       "       'Meperidine Drip +R+', 'Meperidine HCl Inj', 'Meperidine HCl Oral',\n",
       "       'Adult PCA Methadone (CONTINUOUS)',\n",
       "       'Adult PCA Methadone (DEMAND ONLY)',\n",
       "       'Adult PCA Methadone Clinician/Nurse Bolus Inj',\n",
       "       'Adult PCA Methadone Clinician/Nurse Bolus Inj.',\n",
       "       'Adult PCA Methadone Clinician/Nurse Bolus Inj -- LOADING DOSE',\n",
       "       'chg methadone 10 mg tab', 'chg methadone 10 mg/mL inj - 20 mL',\n",
       "       'First Adjustment for Inadequate Relief 1+ hour(s) from initiation while on Adult Methadone PCA',\n",
       "       'For Inadequate Relief after 1 hour with current pump setting while on Adult Methadone PCA',\n",
       "       'Methadone HCl Inj', 'Methadone HCl Oral',\n",
       "       'Methadone HCl Oral Liq',\n",
       "       'Methadone HCl Oral Liq for Adjuvant Analgesia',\n",
       "       'Methadone Inj for Adjuvant Analgesia',\n",
       "       'PCA Methadone (CONTINUOUS)', 'PCA Methadone (DEMAND ONLY)',\n",
       "       'PCA Methadone Clinician/Nurse Bolus Inj',\n",
       "       'For Inadequate Relief after 1 additional hour while on Adult Methadone PCA',\n",
       "       'Second Adjustment for Inadequate Relief 1+ hour(s) from first adjustment while on Adult Methadone PCA',\n",
       "       'Adjustment for Inadequate Relief 1+ hour(s) from initiation while on Adult Morphine Sulfate PCA.',\n",
       "       'First Adjustment for Inadequate Relief 1+ hour(s) from initiation while on Adult Morphine Sulfate PCA.',\n",
       "       'Adult PCA Morphine Sulfate (CONTINUOUS)',\n",
       "       'Adult PCA Morphine Sulfate (CONTINUOUS)--Basic',\n",
       "       'Adult PCA Morphine Sulfate (CONTINUOUS)-Restricted',\n",
       "       'Adult PCA Morphine Sulfate (DEMAND ONLY)',\n",
       "       'Adult PCA Morphine Sulfate (DEMAND ONLY)--Basic',\n",
       "       'Adult PCA Morphine Sulfate (DEMAND ONLY)-Restricted',\n",
       "       'Adult PCA Morphine Sulfate Clinician/Nurse Bolus Inj',\n",
       "       'Adult PCA Morphine Sulfate Clinician/Nurse Bolus Inj.',\n",
       "       'Adult PCA Morphine Sulfate Clinician/Nurse Bolus Inj -- LOADING DOSE',\n",
       "       'Adult PCA Morphine Sulfate Clinician/Nurse Bolus Inj LOADING DOSE -- Restricted',\n",
       "       'Adult PCA Morphine Sulfate Clinician/Nurse Bolus Inj--Basic',\n",
       "       'Adult PCA Morphine Sulfate Clinician/Nurse Bolus Inj--Restricted',\n",
       "       'Adult PCA Morphine Sulfate Clinician/Nurse Bolus Inj--Restricted.',\n",
       "       'chg morphine 1 mg/mL PF inj-10 mL',\n",
       "       'chg morphine 10 mg/mL inj tubex',\n",
       "       'chg morphine 10 mg/mL inj vial',\n",
       "       'chg morphine 10 mg/mL PF inj- 20 mL', 'chg morphine 2 mg/mL inj',\n",
       "       'chg morphine 4 mg/mL inj', 'chg morphine IR 15 mg tab',\n",
       "       'First Adjustment for Inadequate Relief 1+ hour(s) from initiation while on Adult Morphine Sulfate PCA',\n",
       "       'For Inadequate Relief after 1 hour with current pump setting while on Adult Morphine Sulfate PCA',\n",
       "       'For Inadequate Pain Relief while on Morphine Sulfate PCA',\n",
       "       'Morphine 100 MG/100 mL NS for PCA',\n",
       "       'Morphine 100 MG/100 mL NS for PCA NB', 'Morphine DRIP',\n",
       "       'Morphine DRIP.', 'Morphine Oral Conc 20 mg/ml',\n",
       "       'Morphine Sulfate 0.01%Sulfadiazine Cream',\n",
       "       'Morphine Sulf Control Release 8-12hr Ora',\n",
       "       'Morphine Sulf Control Release 8-12hr Tab',\n",
       "       'Morphine Sulf Control Release 8-12hrOral',\n",
       "       'Morphine Sulfate Control Release 8-12hr Tab',\n",
       "       'Morphine Sulf Immed Release Oral',\n",
       "       'Morphine Sulf Immed Release Tab',\n",
       "       'Morphine Sulfate Immed Release Tab', 'Morphine Sulfate Inj',\n",
       "       'Morphine Sulfate Inj PACU OS', 'Morphine Sulfate Oral Liq',\n",
       "       'Morphine Sulfate Oral Neonate Abstinence',\n",
       "       'Morphine Sulfate PF Inj',\n",
       "       'Morphine Sulfate Sustain Release 24h Ora',\n",
       "       'Morphine Sulfate Sustain Release 24hr Cap',\n",
       "       'Morphine Sulfate Sustained Release 24hr Cap',\n",
       "       'Morphine Sulfate Oral', 'Morphine Sulfate Tab',\n",
       "       'PACU USE ONLY - Adult PCA Morphine Sulfate - Clinician/Nurse Bolus Inj - Basic',\n",
       "       'PCA Morphine Clinician/Nurse Bolus Inj',\n",
       "       'PCA Morphine Sulfate (CONTINUOUS)',\n",
       "       'PCA Morphine Sulfate (CONTINUOUS) - Restricted',\n",
       "       'PCA Morphine Sulfate (DEMAND ONLY)',\n",
       "       'PCA Morphine Sulfate (DEMAND ONLY) - Restricted',\n",
       "       'PCEA Morphine sulfate 100 mcg/mL in 0.9% sodium chloride',\n",
       "       'PCEA Morphine sulfate 100 mcg/mL, bupivacaine 0.0625% in 0.9% sodium chloride',\n",
       "       'PCEA Morphine sulfate 20 mcg/mL in 0.9% sodium chloride',\n",
       "       'PCEA Morphine sulfate 200 mcg/mL in 0.9% sodium chloride',\n",
       "       'PCEA Morphine sulfate 50 mcg/mL in 0.9% sodium chloride',\n",
       "       'PCEA Morphine sulfate 50 mcg/mL, bupivacaine 0.0625% in 0.9% sodium chloride',\n",
       "       'For Inadequate Relief after 1 additional hour while on Adult Morphine Sulfate PCA',\n",
       "       'Second Adjustment for Inadequate Relief 1+ hour(s) from first adjustment while on Adult Morphine Sulfate PCA',\n",
       "       'chg acetaminophen-oxyCODONE 325 mg-5 mg tab',\n",
       "       'chg oxyCODONE 5 mg/5 mL soln 5 mL UD',\n",
       "       'chg oxyCODONE CR 10 mg tab, ext release',\n",
       "       'chg oxyCODONE SR 10 mg tab, ext release',\n",
       "       'chg oxyCODONE CR 40 mg tab, ext release',\n",
       "       'chg oxyCODONE IR 5 mg cap', 'chg oxyCODONE IR 5 mg tab',\n",
       "       'oxyCODONE CR Oral TAB', 'Oxycodone ER Oral TAB',\n",
       "       'oxyCODONE HCl/Aspirin Oral +NF+',\n",
       "       'oxyCODONE Immediate Release Oral',\n",
       "       'oxyCODONE Immediate Release Tab', 'Oxycodone Oral',\n",
       "       'oxyCODONE Oral CONCENTRATE Soln', 'Oxycodone Oral Liq',\n",
       "       'oxyCODONE Oral Liq 1 mg/ml', 'oxyCODONE Oral Liq 1 mg/ml PACU OS',\n",
       "       'Oxycodone/Acetaminophen 5/325 mg Tab (Percocet)', 'Percocet Oral'],\n",
       "      dtype=object)"
      ]
     },
     "execution_count": 23,
     "metadata": {},
     "output_type": "execute_result"
    }
   ],
   "source": [
    "opioid_d_dropduplicates['OrderName'].unique()"
   ]
  },
  {
   "cell_type": "code",
   "execution_count": 24,
   "metadata": {},
   "outputs": [
    {
     "data": {
      "text/plain": [
       "240"
      ]
     },
     "execution_count": 24,
     "metadata": {},
     "output_type": "execute_result"
    }
   ],
   "source": [
    "opioid_d_dropduplicates['OrderName'].nunique()"
   ]
  },
  {
   "cell_type": "code",
   "execution_count": 103,
   "metadata": {},
   "outputs": [
    {
     "data": {
      "text/html": [
       "<div>\n",
       "<style scoped>\n",
       "    .dataframe tbody tr th:only-of-type {\n",
       "        vertical-align: middle;\n",
       "    }\n",
       "\n",
       "    .dataframe tbody tr th {\n",
       "        vertical-align: top;\n",
       "    }\n",
       "\n",
       "    .dataframe thead th {\n",
       "        text-align: right;\n",
       "    }\n",
       "</style>\n",
       "<table border=\"1\" class=\"dataframe\">\n",
       "  <thead>\n",
       "    <tr style=\"text-align: right;\">\n",
       "      <th></th>\n",
       "      <th>GUID</th>\n",
       "      <th>ImportSource</th>\n",
       "      <th>OrderName</th>\n",
       "    </tr>\n",
       "  </thead>\n",
       "  <tbody>\n",
       "    <tr>\n",
       "      <td>0</td>\n",
       "      <td>7.230007e+08</td>\n",
       "      <td>Q</td>\n",
       "      <td>Acetaminophen Codeine Oral Liq</td>\n",
       "    </tr>\n",
       "    <tr>\n",
       "      <td>1</td>\n",
       "      <td>8.818007e+08</td>\n",
       "      <td>Q</td>\n",
       "      <td>chg codeine 30 mg tab</td>\n",
       "    </tr>\n",
       "    <tr>\n",
       "      <td>2</td>\n",
       "      <td>9.000050e+15</td>\n",
       "      <td>W</td>\n",
       "      <td>chg codeine 30 mg tab</td>\n",
       "    </tr>\n",
       "    <tr>\n",
       "      <td>3</td>\n",
       "      <td>9.000003e+15</td>\n",
       "      <td>E</td>\n",
       "      <td>chg codeine 30 mg tab</td>\n",
       "    </tr>\n",
       "    <tr>\n",
       "      <td>4</td>\n",
       "      <td>1.000002e+15</td>\n",
       "      <td>E</td>\n",
       "      <td>Codeine Sulfate Oral</td>\n",
       "    </tr>\n",
       "    <tr>\n",
       "      <td>...</td>\n",
       "      <td>...</td>\n",
       "      <td>...</td>\n",
       "      <td>...</td>\n",
       "    </tr>\n",
       "    <tr>\n",
       "      <td>645</td>\n",
       "      <td>1.748073e+09</td>\n",
       "      <td>E</td>\n",
       "      <td>Percocet Oral</td>\n",
       "    </tr>\n",
       "    <tr>\n",
       "      <td>646</td>\n",
       "      <td>1.273073e+09</td>\n",
       "      <td>W</td>\n",
       "      <td>Oxycodone/Acetaminophen 5/325 mg Tab (Percocet)</td>\n",
       "    </tr>\n",
       "    <tr>\n",
       "      <td>647</td>\n",
       "      <td>1.273073e+09</td>\n",
       "      <td>W</td>\n",
       "      <td>Percocet Oral</td>\n",
       "    </tr>\n",
       "    <tr>\n",
       "      <td>648</td>\n",
       "      <td>NaN</td>\n",
       "      <td>NaN</td>\n",
       "      <td>Oxycodone/Acetaminophen 5/325 mg Tab (Percocet)</td>\n",
       "    </tr>\n",
       "    <tr>\n",
       "      <td>649</td>\n",
       "      <td>NaN</td>\n",
       "      <td>NaN</td>\n",
       "      <td>Percocet Oral</td>\n",
       "    </tr>\n",
       "  </tbody>\n",
       "</table>\n",
       "<p>650 rows × 3 columns</p>\n",
       "</div>"
      ],
      "text/plain": [
       "             GUID ImportSource  \\\n",
       "0    7.230007e+08            Q   \n",
       "1    8.818007e+08            Q   \n",
       "2    9.000050e+15            W   \n",
       "3    9.000003e+15            E   \n",
       "4    1.000002e+15            E   \n",
       "..            ...          ...   \n",
       "645  1.748073e+09            E   \n",
       "646  1.273073e+09            W   \n",
       "647  1.273073e+09            W   \n",
       "648           NaN          NaN   \n",
       "649           NaN          NaN   \n",
       "\n",
       "                                           OrderName  \n",
       "0                     Acetaminophen Codeine Oral Liq  \n",
       "1                              chg codeine 30 mg tab  \n",
       "2                              chg codeine 30 mg tab  \n",
       "3                              chg codeine 30 mg tab  \n",
       "4                               Codeine Sulfate Oral  \n",
       "..                                               ...  \n",
       "645                                    Percocet Oral  \n",
       "646  Oxycodone/Acetaminophen 5/325 mg Tab (Percocet)  \n",
       "647                                    Percocet Oral  \n",
       "648  Oxycodone/Acetaminophen 5/325 mg Tab (Percocet)  \n",
       "649                                    Percocet Oral  \n",
       "\n",
       "[650 rows x 3 columns]"
      ]
     },
     "execution_count": 103,
     "metadata": {},
     "output_type": "execute_result"
    }
   ],
   "source": [
    "opioid_guid = opioid.loc[:, ['GUID', 'ImportSource', 'OrderName']]\n",
    "opioid_guid"
   ]
  },
  {
   "cell_type": "code",
   "execution_count": 133,
   "metadata": {},
   "outputs": [],
   "source": []
  },
  {
   "cell_type": "code",
   "execution_count": 25,
   "metadata": {},
   "outputs": [],
   "source": [
    "medication_opioid_dropduplicates = pd.merge(left=medication, right=opioid_d_dropduplicates, \n",
    "                       left_on = 'name', right_on = 'OrderName', how = 'left')"
   ]
  },
  {
   "cell_type": "code",
   "execution_count": 26,
   "metadata": {},
   "outputs": [
    {
     "data": {
      "text/html": [
       "<div>\n",
       "<style scoped>\n",
       "    .dataframe tbody tr th:only-of-type {\n",
       "        vertical-align: middle;\n",
       "    }\n",
       "\n",
       "    .dataframe tbody tr th {\n",
       "        vertical-align: top;\n",
       "    }\n",
       "\n",
       "    .dataframe thead th {\n",
       "        text-align: right;\n",
       "    }\n",
       "</style>\n",
       "<table border=\"1\" class=\"dataframe\">\n",
       "  <thead>\n",
       "    <tr style=\"text-align: right;\">\n",
       "      <th></th>\n",
       "      <th>name</th>\n",
       "      <th>TaskStatusCode</th>\n",
       "      <th>clientvisitguid</th>\n",
       "      <th>clientguid</th>\n",
       "      <th>PerformedFromDtm</th>\n",
       "      <th>createdwhen</th>\n",
       "      <th>ordersetname</th>\n",
       "      <th>enterrole</th>\n",
       "      <th>typecode</th>\n",
       "      <th>userguid</th>\n",
       "      <th>Generic</th>\n",
       "      <th>OrderName</th>\n",
       "    </tr>\n",
       "  </thead>\n",
       "  <tbody>\n",
       "    <tr>\n",
       "      <td>0</td>\n",
       "      <td>Docusate Sodium Cap</td>\n",
       "      <td>Performed</td>\n",
       "      <td>1184048800270</td>\n",
       "      <td>244373800200</td>\n",
       "      <td>2018-06-11 05:27:29.000</td>\n",
       "      <td>2018-06-06 14:55:28.153</td>\n",
       "      <td>MED - ED Admitted Patient Order Set</td>\n",
       "      <td>PA</td>\n",
       "      <td>Medication</td>\n",
       "      <td>999887323798810</td>\n",
       "      <td>NaN</td>\n",
       "      <td>NaN</td>\n",
       "    </tr>\n",
       "    <tr>\n",
       "      <td>1</td>\n",
       "      <td>Magnesium Oxide Oral</td>\n",
       "      <td>Performed</td>\n",
       "      <td>1105890400270</td>\n",
       "      <td>110788600200</td>\n",
       "      <td>2018-01-01 17:46:58.000</td>\n",
       "      <td>2018-01-01 13:08:02.230</td>\n",
       "      <td>NaN</td>\n",
       "      <td>Resident</td>\n",
       "      <td>Medication</td>\n",
       "      <td>999833822198810</td>\n",
       "      <td>NaN</td>\n",
       "      <td>NaN</td>\n",
       "    </tr>\n",
       "    <tr>\n",
       "      <td>2</td>\n",
       "      <td>Pantoprazole Delayed Release Tab</td>\n",
       "      <td>Performed</td>\n",
       "      <td>874422400270</td>\n",
       "      <td>118227100200</td>\n",
       "      <td>2016-05-08 09:40:09.000</td>\n",
       "      <td>2016-05-03 06:05:27.780</td>\n",
       "      <td>NaN</td>\n",
       "      <td>Resident</td>\n",
       "      <td>Medication</td>\n",
       "      <td>999971453298810</td>\n",
       "      <td>NaN</td>\n",
       "      <td>NaN</td>\n",
       "    </tr>\n",
       "    <tr>\n",
       "      <td>3</td>\n",
       "      <td>Finasteride Oral</td>\n",
       "      <td>Performed</td>\n",
       "      <td>948231500270</td>\n",
       "      <td>70872900200</td>\n",
       "      <td>2016-11-24 08:38:04.000</td>\n",
       "      <td>2016-11-19 19:22:25.333</td>\n",
       "      <td>NaN</td>\n",
       "      <td>Resident</td>\n",
       "      <td>Medication</td>\n",
       "      <td>999881239098810</td>\n",
       "      <td>NaN</td>\n",
       "      <td>NaN</td>\n",
       "    </tr>\n",
       "    <tr>\n",
       "      <td>4</td>\n",
       "      <td>Metoprolol Tartrate Tab</td>\n",
       "      <td>Performed</td>\n",
       "      <td>806082200270</td>\n",
       "      <td>208735000200</td>\n",
       "      <td>2015-12-03 16:00:00.000</td>\n",
       "      <td>2015-11-26 13:01:53.180</td>\n",
       "      <td>NaN</td>\n",
       "      <td>Resident</td>\n",
       "      <td>Medication</td>\n",
       "      <td>999958237898810</td>\n",
       "      <td>NaN</td>\n",
       "      <td>NaN</td>\n",
       "    </tr>\n",
       "    <tr>\n",
       "      <td>...</td>\n",
       "      <td>...</td>\n",
       "      <td>...</td>\n",
       "      <td>...</td>\n",
       "      <td>...</td>\n",
       "      <td>...</td>\n",
       "      <td>...</td>\n",
       "      <td>...</td>\n",
       "      <td>...</td>\n",
       "      <td>...</td>\n",
       "      <td>...</td>\n",
       "      <td>...</td>\n",
       "      <td>...</td>\n",
       "    </tr>\n",
       "    <tr>\n",
       "      <td>3382760</td>\n",
       "      <td>Calcium Citrate Tab 1500 mg + Vit D 250 (315 m...</td>\n",
       "      <td>Performed</td>\n",
       "      <td>640771700270</td>\n",
       "      <td>5564100200</td>\n",
       "      <td>2014-08-08 13:31:55.000</td>\n",
       "      <td>2014-08-08 08:20:12.077</td>\n",
       "      <td>NaN</td>\n",
       "      <td>PA</td>\n",
       "      <td>Medication</td>\n",
       "      <td>999977944798810</td>\n",
       "      <td>NaN</td>\n",
       "      <td>NaN</td>\n",
       "    </tr>\n",
       "    <tr>\n",
       "      <td>3382761</td>\n",
       "      <td>Insulin Aspart Prandial Scale Pre-Meal</td>\n",
       "      <td>Performed</td>\n",
       "      <td>570445100270</td>\n",
       "      <td>149892500200</td>\n",
       "      <td>2014-04-29 06:32:36.000</td>\n",
       "      <td>2014-02-14 12:37:17.327</td>\n",
       "      <td>Insulin Aspart Glargine Order Set, Med Dose</td>\n",
       "      <td>Resident</td>\n",
       "      <td>Medication</td>\n",
       "      <td>999974343298810</td>\n",
       "      <td>NaN</td>\n",
       "      <td>NaN</td>\n",
       "    </tr>\n",
       "    <tr>\n",
       "      <td>3382762</td>\n",
       "      <td>traMADol HCl Oral</td>\n",
       "      <td>Performed</td>\n",
       "      <td>891539100270</td>\n",
       "      <td>230591900200</td>\n",
       "      <td>2016-06-20 20:23:47.000</td>\n",
       "      <td>2016-06-20 10:28:15.727</td>\n",
       "      <td>NaN</td>\n",
       "      <td>PA</td>\n",
       "      <td>Medication</td>\n",
       "      <td>999957969798810</td>\n",
       "      <td>NaN</td>\n",
       "      <td>NaN</td>\n",
       "    </tr>\n",
       "    <tr>\n",
       "      <td>3382763</td>\n",
       "      <td>Acetaminophen Tab</td>\n",
       "      <td>Performed</td>\n",
       "      <td>922071600270</td>\n",
       "      <td>72967600200</td>\n",
       "      <td>2016-09-11 05:33:12.000</td>\n",
       "      <td>2016-09-10 15:05:23.920</td>\n",
       "      <td>NaN</td>\n",
       "      <td>Resident</td>\n",
       "      <td>Medication</td>\n",
       "      <td>999939744298810</td>\n",
       "      <td>NaN</td>\n",
       "      <td>NaN</td>\n",
       "    </tr>\n",
       "    <tr>\n",
       "      <td>3382764</td>\n",
       "      <td>Magnesium Sulfate Inj</td>\n",
       "      <td>Performed</td>\n",
       "      <td>797121800270</td>\n",
       "      <td>202122800200</td>\n",
       "      <td>2015-10-14 21:32:34.000</td>\n",
       "      <td>2015-10-14 19:45:52.227</td>\n",
       "      <td>NaN</td>\n",
       "      <td>PA</td>\n",
       "      <td>Medication</td>\n",
       "      <td>999946274598810</td>\n",
       "      <td>NaN</td>\n",
       "      <td>NaN</td>\n",
       "    </tr>\n",
       "  </tbody>\n",
       "</table>\n",
       "<p>3382765 rows × 12 columns</p>\n",
       "</div>"
      ],
      "text/plain": [
       "                                                      name TaskStatusCode  \\\n",
       "0                                      Docusate Sodium Cap      Performed   \n",
       "1                                     Magnesium Oxide Oral      Performed   \n",
       "2                         Pantoprazole Delayed Release Tab      Performed   \n",
       "3                                         Finasteride Oral      Performed   \n",
       "4                                  Metoprolol Tartrate Tab      Performed   \n",
       "...                                                    ...            ...   \n",
       "3382760  Calcium Citrate Tab 1500 mg + Vit D 250 (315 m...      Performed   \n",
       "3382761             Insulin Aspart Prandial Scale Pre-Meal      Performed   \n",
       "3382762                                  traMADol HCl Oral      Performed   \n",
       "3382763                                  Acetaminophen Tab      Performed   \n",
       "3382764                              Magnesium Sulfate Inj      Performed   \n",
       "\n",
       "         clientvisitguid    clientguid         PerformedFromDtm  \\\n",
       "0          1184048800270  244373800200  2018-06-11 05:27:29.000   \n",
       "1          1105890400270  110788600200  2018-01-01 17:46:58.000   \n",
       "2           874422400270  118227100200  2016-05-08 09:40:09.000   \n",
       "3           948231500270   70872900200  2016-11-24 08:38:04.000   \n",
       "4           806082200270  208735000200  2015-12-03 16:00:00.000   \n",
       "...                  ...           ...                      ...   \n",
       "3382760     640771700270    5564100200  2014-08-08 13:31:55.000   \n",
       "3382761     570445100270  149892500200  2014-04-29 06:32:36.000   \n",
       "3382762     891539100270  230591900200  2016-06-20 20:23:47.000   \n",
       "3382763     922071600270   72967600200  2016-09-11 05:33:12.000   \n",
       "3382764     797121800270  202122800200  2015-10-14 21:32:34.000   \n",
       "\n",
       "                     createdwhen                                 ordersetname  \\\n",
       "0        2018-06-06 14:55:28.153          MED - ED Admitted Patient Order Set   \n",
       "1        2018-01-01 13:08:02.230                                          NaN   \n",
       "2        2016-05-03 06:05:27.780                                          NaN   \n",
       "3        2016-11-19 19:22:25.333                                          NaN   \n",
       "4        2015-11-26 13:01:53.180                                          NaN   \n",
       "...                          ...                                          ...   \n",
       "3382760  2014-08-08 08:20:12.077                                          NaN   \n",
       "3382761  2014-02-14 12:37:17.327  Insulin Aspart Glargine Order Set, Med Dose   \n",
       "3382762  2016-06-20 10:28:15.727                                          NaN   \n",
       "3382763  2016-09-10 15:05:23.920                                          NaN   \n",
       "3382764  2015-10-14 19:45:52.227                                          NaN   \n",
       "\n",
       "        enterrole    typecode         userguid Generic OrderName  \n",
       "0              PA  Medication  999887323798810     NaN       NaN  \n",
       "1        Resident  Medication  999833822198810     NaN       NaN  \n",
       "2        Resident  Medication  999971453298810     NaN       NaN  \n",
       "3        Resident  Medication  999881239098810     NaN       NaN  \n",
       "4        Resident  Medication  999958237898810     NaN       NaN  \n",
       "...           ...         ...              ...     ...       ...  \n",
       "3382760        PA  Medication  999977944798810     NaN       NaN  \n",
       "3382761  Resident  Medication  999974343298810     NaN       NaN  \n",
       "3382762        PA  Medication  999957969798810     NaN       NaN  \n",
       "3382763  Resident  Medication  999939744298810     NaN       NaN  \n",
       "3382764        PA  Medication  999946274598810     NaN       NaN  \n",
       "\n",
       "[3382765 rows x 12 columns]"
      ]
     },
     "execution_count": 26,
     "metadata": {},
     "output_type": "execute_result"
    }
   ],
   "source": [
    "medication_opioid_dropduplicates"
   ]
  },
  {
   "cell_type": "code",
   "execution_count": null,
   "metadata": {},
   "outputs": [],
   "source": []
  },
  {
   "cell_type": "code",
   "execution_count": 27,
   "metadata": {},
   "outputs": [
    {
     "data": {
      "text/plain": [
       "Apixaban Tab                                       32\n",
       "Colchicine Oral                                    32\n",
       "Bumetanide Inj                                     31\n",
       "Docusate Sodium Cap                                30\n",
       "Aspirin Tab                                        27\n",
       "Atorvastatin Tab                                   27\n",
       "oxyCODONE/Acetaminophen 5/325 mg Tab (Percocet)    23\n",
       "Potassium Chloride Oral                            18\n",
       "Lisinopril Oral                                    13\n",
       "metroNIDAZOLE Oral                                 12\n",
       "Senna Oral                                         10\n",
       "Magnesium Oxide Oral                               10\n",
       "Lidocaine Patch 5% Transdermal                      9\n",
       "Bumetanide Oral                                     9\n",
       "Ketorolac Inj                                       8\n",
       "Heparin Inj                                         8\n",
       "Carvedilol Tab                                      7\n",
       "Acetaminophen Tab                                   7\n",
       "Furosemide Inj                                      7\n",
       "Potassium Chloride Inj                              5\n",
       "Amiodarone Tab                                      3\n",
       "Magnesium Sulfate Inj                               2\n",
       "cefTRIAXone IV Inj                                  2\n",
       "Amiodarone DRIP                                     2\n",
       "Pneumococcal 23-Valent Vacc (Pneumovax)             1\n",
       "Ibuprofen Oral                                      1\n",
       "Influenza Virus Vaccine Inj >3 Years Old            1\n",
       "Midazolam HCL Inj +R+                               1\n",
       "Amiodarone Inj                                      1\n",
       "Normal Saline Bolus                                 1\n",
       "Polyethylene Glycol Oral                            1\n",
       "Name: name, dtype: int64"
      ]
     },
     "execution_count": 27,
     "metadata": {},
     "output_type": "execute_result"
    }
   ],
   "source": [
    "medication_opioid_dropduplicates[medication_opioid_dropduplicates['clientvisitguid']==1002827500270]['name'].value_counts()"
   ]
  },
  {
   "cell_type": "code",
   "execution_count": 77,
   "metadata": {},
   "outputs": [
    {
     "data": {
      "text/plain": [
       "Sodium Chloride 0.9% Neb Soln                   1157\n",
       "Ferrous Sulfate Oral Liq 60 mg/mL (12 mg/ml)     951\n",
       "Gabapentin Oral Soln                             897\n",
       "Carvedilol Tab                                   788\n",
       "Bromocriptine Mesylate Oral                      716\n",
       "                                                ... \n",
       "Fleet Enema Adult Rectal                           1\n",
       "Amiodarone DRIP                                    1\n",
       "Sodium Chloride 2%                                 1\n",
       "niCARdipine DRIP                                   1\n",
       "Surgicel Dressing                                  1\n",
       "Name: name, Length: 164, dtype: int64"
      ]
     },
     "execution_count": 77,
     "metadata": {},
     "output_type": "execute_result"
    }
   ],
   "source": [
    "medication[medication['clientvisitguid']==503942200270]['name'].value_counts()"
   ]
  },
  {
   "cell_type": "code",
   "execution_count": 84,
   "metadata": {},
   "outputs": [
    {
     "data": {
      "text/plain": [
       "Performed        3045801\n",
       "Pending           172463\n",
       "Not Performed     149481\n",
       "Overdue            15018\n",
       "Rescheduled            2\n",
       "Name: TaskStatusCode, dtype: int64"
      ]
     },
     "execution_count": 84,
     "metadata": {},
     "output_type": "execute_result"
    }
   ],
   "source": [
    "medication['TaskStatusCode'].value_counts()"
   ]
  },
  {
   "cell_type": "code",
   "execution_count": 85,
   "metadata": {},
   "outputs": [
    {
     "data": {
      "text/plain": [
       "Performed        3045801\n",
       "Pending           172463\n",
       "Not Performed     149481\n",
       "Overdue            15018\n",
       "Rescheduled            2\n",
       "Name: TaskStatusCode, dtype: int64"
      ]
     },
     "execution_count": 85,
     "metadata": {},
     "output_type": "execute_result"
    }
   ],
   "source": [
    "medication_opioid_dropduplicates['TaskStatusCode'].value_counts()"
   ]
  },
  {
   "cell_type": "code",
   "execution_count": null,
   "metadata": {},
   "outputs": [],
   "source": []
  },
  {
   "cell_type": "code",
   "execution_count": 30,
   "metadata": {},
   "outputs": [],
   "source": [
    "medication_opioid_dropduplicates.loc[medication_opioid_dropduplicates['name'] == 'Fentanyl Intranasal Soln 50 mcg/ml', 'Generic'] ='Fentanyl'"
   ]
  },
  {
   "cell_type": "code",
   "execution_count": 31,
   "metadata": {},
   "outputs": [],
   "source": [
    "medication_opioid_dropduplicates.loc[medication_opioid_dropduplicates['name'] == 'Fentanyl Intranasal Soln 50 mcg/ml', 'OrderName'] ='fentaNYL Intranasal Soln 50 mcg/ml'"
   ]
  },
  {
   "cell_type": "markdown",
   "metadata": {},
   "source": [
    "fentaNYL Patch 100 microgram/hr    \n",
    "fentaNYL Patch  12 microgram/hr"
   ]
  },
  {
   "cell_type": "code",
   "execution_count": 50,
   "metadata": {},
   "outputs": [],
   "source": [
    "medication_opioid_dropduplicates.loc[medication_opioid_dropduplicates['name'] == 'fentaNYL Patch 12 microgram/hr', 'Generic'] ='Fentanyl'"
   ]
  },
  {
   "cell_type": "code",
   "execution_count": 51,
   "metadata": {},
   "outputs": [],
   "source": [
    "medication_opioid_dropduplicates.loc[medication_opioid_dropduplicates['name'] == 'fentaNYL Patch 12 microgram/hr', 'OrderName'] ='fentaNYL Patch'"
   ]
  },
  {
   "cell_type": "code",
   "execution_count": 52,
   "metadata": {},
   "outputs": [],
   "source": [
    "medication_opioid_dropduplicates.loc[medication_opioid_dropduplicates['name'] == 'fentaNYL Patch 25 microgram/hr', 'Generic'] ='Fentanyl'"
   ]
  },
  {
   "cell_type": "code",
   "execution_count": 53,
   "metadata": {},
   "outputs": [],
   "source": [
    "medication_opioid_dropduplicates.loc[medication_opioid_dropduplicates['name'] == 'fentaNYL Patch 25 microgram/hr', 'OrderName'] ='fentaNYL Patch'"
   ]
  },
  {
   "cell_type": "code",
   "execution_count": 54,
   "metadata": {},
   "outputs": [],
   "source": [
    "medication_opioid_dropduplicates.loc[medication_opioid_dropduplicates['name'] == 'fentaNYL Patch 50 microgram/hr', 'Generic'] ='Fentanyl'"
   ]
  },
  {
   "cell_type": "code",
   "execution_count": 55,
   "metadata": {},
   "outputs": [],
   "source": [
    "medication_opioid_dropduplicates.loc[medication_opioid_dropduplicates['name'] == 'fentaNYL Patch 50 microgram/hr', 'OrderName'] ='fentaNYL Patch'"
   ]
  },
  {
   "cell_type": "code",
   "execution_count": 56,
   "metadata": {},
   "outputs": [],
   "source": [
    "medication_opioid_dropduplicates.loc[medication_opioid_dropduplicates['name'] == 'fentaNYL Patch 75 microgram/hr', 'Generic'] ='Fentanyl'"
   ]
  },
  {
   "cell_type": "code",
   "execution_count": 57,
   "metadata": {},
   "outputs": [],
   "source": [
    "medication_opioid_dropduplicates.loc[medication_opioid_dropduplicates['name'] == 'fentaNYL Patch 75 microgram/hr', 'OrderName'] ='fentaNYL Patch'"
   ]
  },
  {
   "cell_type": "code",
   "execution_count": 58,
   "metadata": {},
   "outputs": [],
   "source": [
    "medication_opioid_dropduplicates.loc[medication_opioid_dropduplicates['name'] == 'fentaNYL Patch 100 microgram/hr', 'Generic'] ='Fentanyl'"
   ]
  },
  {
   "cell_type": "code",
   "execution_count": 59,
   "metadata": {},
   "outputs": [],
   "source": [
    "medication_opioid_dropduplicates.loc[medication_opioid_dropduplicates['name'] == 'fentaNYL Patch 100 microgram/hr', 'OrderName'] ='fentaNYL Patch'"
   ]
  },
  {
   "cell_type": "code",
   "execution_count": 60,
   "metadata": {},
   "outputs": [],
   "source": [
    "medication_opioid_dropduplicates.loc[medication_opioid_dropduplicates['name'] == 'Fentanyl Citrate Inj +R+', 'Generic'] ='Fentanyl'"
   ]
  },
  {
   "cell_type": "code",
   "execution_count": 61,
   "metadata": {},
   "outputs": [],
   "source": [
    "medication_opioid_dropduplicates.loc[medication_opioid_dropduplicates['name'] == 'Fentanyl Citrate Inj +R+', 'OrderName'] ='fentaNYL Citrate Inj +R+'"
   ]
  },
  {
   "cell_type": "code",
   "execution_count": 62,
   "metadata": {},
   "outputs": [],
   "source": [
    "medication_opioid_dropduplicates.loc[medication_opioid_dropduplicates['name'] == 'PCEA Fentanyl 2 mcg/mL, bupivacaine 0.1 % in 0.9% sodium chloride', 'Generic'] ='Fentanyl'"
   ]
  },
  {
   "cell_type": "code",
   "execution_count": 63,
   "metadata": {},
   "outputs": [],
   "source": [
    "medication_opioid_dropduplicates.loc[medication_opioid_dropduplicates['name'] == 'PCEA Fentanyl 2 mcg/mL, bupivacaine 0.1 % in 0.9% sodium chloride', 'OrderName'] ='PCEA fentaNYL 2 mcg/mL, bupivacaine 0.1 % in 0.9% sodium chloride'"
   ]
  },
  {
   "cell_type": "code",
   "execution_count": null,
   "metadata": {},
   "outputs": [],
   "source": []
  },
  {
   "cell_type": "code",
   "execution_count": 46,
   "metadata": {},
   "outputs": [],
   "source": [
    "medication_opioid_dropduplicates.loc[medication_opioid_dropduplicates['name'] == 'Hydrocodone/Acetaminophen 5mg/334mg Liq (per 10mL)', 'Generic'] ='Hydrocodone'"
   ]
  },
  {
   "cell_type": "code",
   "execution_count": 47,
   "metadata": {},
   "outputs": [],
   "source": [
    "medication_opioid_dropduplicates.loc[medication_opioid_dropduplicates['name'] == 'Hydrocodone/Acetaminophen 5mg/334mg Liq (per 10mL)', 'OrderName'] ='HYDROcodone/Acetaminophen 5mg/334mg Liq (per 10mL)'"
   ]
  },
  {
   "cell_type": "code",
   "execution_count": null,
   "metadata": {},
   "outputs": [],
   "source": []
  },
  {
   "cell_type": "code",
   "execution_count": 48,
   "metadata": {},
   "outputs": [],
   "source": [
    "medication_opioid_dropduplicates.loc[medication_opioid_dropduplicates['name'] == 'oxyCODONE/Acetaminophen 5/325 mg Tab (Percocet)', 'Generic'] ='Oxycodone'"
   ]
  },
  {
   "cell_type": "code",
   "execution_count": 49,
   "metadata": {},
   "outputs": [],
   "source": [
    "medication_opioid_dropduplicates.loc[medication_opioid_dropduplicates['name'] == 'oxyCODONE/Acetaminophen 5/325 mg Tab (Percocet)', 'OrderName'] ='Oxycodone/Acetaminophen 5/325 mg Tab (Percocet)'"
   ]
  },
  {
   "cell_type": "code",
   "execution_count": 188,
   "metadata": {},
   "outputs": [],
   "source": []
  },
  {
   "cell_type": "code",
   "execution_count": 64,
   "metadata": {},
   "outputs": [],
   "source": [
    "## check the failure in matching is the capital issue\n",
    "a = pd.DataFrame(medication_opioid_dropduplicates[medication_opioid_dropduplicates['OrderName'].isnull()==True]['name'].unique())"
   ]
  },
  {
   "cell_type": "code",
   "execution_count": 65,
   "metadata": {},
   "outputs": [],
   "source": [
    "a.to_excel(path + 'Opioid/a_dropduplicates.xlsx', index=False)"
   ]
  },
  {
   "cell_type": "code",
   "execution_count": null,
   "metadata": {},
   "outputs": [],
   "source": []
  },
  {
   "cell_type": "code",
   "execution_count": 69,
   "metadata": {},
   "outputs": [
    {
     "data": {
      "text/plain": [
       "Docusate Sodium Cap                        14\n",
       "Codeine Sulfate Oral                       12\n",
       "Metoprolol Tartrate Tab                    11\n",
       "Piperacillin Tazobactam Inj                 6\n",
       "Aspirin EC Tab                              6\n",
       "Multivitamin Oral                           6\n",
       "Pantoprazole Delayed Release Tab            6\n",
       "Acetaminophen Tab                           4\n",
       "guaiFENesin Oral Liq                        4\n",
       "Furosemide Inj                              3\n",
       "levoFLOXAcin Oral +R+                       3\n",
       "Clotrimazole 1% Cream                       2\n",
       "Tbo-Filgrastim (Granix) Inj                 2\n",
       "Hydrocortisone 1% Cream                     2\n",
       "Furosemide Oral                             2\n",
       "guaiFENesin + Dextromethorphan Oral Liq     1\n",
       "Zolpidem Tab                                1\n",
       "Name: name, dtype: int64"
      ]
     },
     "execution_count": 69,
     "metadata": {},
     "output_type": "execute_result"
    }
   ],
   "source": [
    "#check\n",
    "medication_opioid_dropduplicates[medication_opioid_dropduplicates['clientvisitguid']==1184048800270]['name'].value_counts()"
   ]
  },
  {
   "cell_type": "code",
   "execution_count": 67,
   "metadata": {},
   "outputs": [
    {
     "data": {
      "text/plain": [
       "Generic    TaskStatusCode\n",
       "Oxycodone  Performed         23\n",
       "Name: name, dtype: int64"
      ]
     },
     "execution_count": 67,
     "metadata": {},
     "output_type": "execute_result"
    }
   ],
   "source": [
    "#check\n",
    "medication_opioid_dropduplicates[medication_opioid_dropduplicates['clientvisitguid']==1002827500270].groupby(['Generic', 'TaskStatusCode'])['name'].count()"
   ]
  },
  {
   "cell_type": "code",
   "execution_count": 70,
   "metadata": {},
   "outputs": [
    {
     "data": {
      "text/plain": [
       "Index(['name', 'TaskStatusCode', 'clientvisitguid', 'clientguid',\n",
       "       'PerformedFromDtm', 'createdwhen', 'ordersetname', 'enterrole',\n",
       "       'typecode', 'userguid', 'Generic', 'OrderName'],\n",
       "      dtype='object')"
      ]
     },
     "execution_count": 70,
     "metadata": {},
     "output_type": "execute_result"
    }
   ],
   "source": [
    "medication_opioid_dropduplicates.columns"
   ]
  },
  {
   "cell_type": "code",
   "execution_count": 71,
   "metadata": {},
   "outputs": [
    {
     "data": {
      "text/plain": [
       "3382765"
      ]
     },
     "execution_count": 71,
     "metadata": {},
     "output_type": "execute_result"
    }
   ],
   "source": [
    "len(medication_opioid_dropduplicates)"
   ]
  },
  {
   "cell_type": "code",
   "execution_count": 72,
   "metadata": {},
   "outputs": [],
   "source": [
    "medication_opioid_dropduplicates.to_csv(path + 'Opioid/medication_opioid_12feature_dropduplicates_filtered_0305.csv', index=None)"
   ]
  },
  {
   "cell_type": "markdown",
   "metadata": {},
   "source": [
    "Match order data with opioid drugs"
   ]
  },
  {
   "cell_type": "code",
   "execution_count": null,
   "metadata": {},
   "outputs": [],
   "source": [
    "order_opioid_guid_match_filtered = pd.merge(left=medication_opioid_dropduplicates, right=opioid_guid, \n",
    "                       on = 'OrderName', how = 'left')"
   ]
  },
  {
   "cell_type": "code",
   "execution_count": null,
   "metadata": {},
   "outputs": [],
   "source": [
    "len(order_opioid_guid_match_filtered)"
   ]
  },
  {
   "cell_type": "code",
   "execution_count": null,
   "metadata": {},
   "outputs": [],
   "source": [
    "order_opioid_guid_match_filtered.to_csv(path + 'Opioid/medication_opioid_guid_order_match_filtered.csv')"
   ]
  },
  {
   "cell_type": "code",
   "execution_count": null,
   "metadata": {},
   "outputs": [],
   "source": [
    "#check\n",
    "medication_opioid_dropduplicates[(medication_opioid_dropduplicates['clientvisitguid']==1176574600270) & \n",
    "                                 (medication_opioid_dropduplicates['Generic']=='Oxycodone') & \n",
    "                                 (medication_opioid_dropduplicates['PerformedFromDtm'] == '2018-05-26 17:05:51.000')]"
   ]
  },
  {
   "cell_type": "code",
   "execution_count": null,
   "metadata": {},
   "outputs": [],
   "source": [
    "order_opioid_guid_match_filtered[(order_opioid_guid_match_filtered['clientvisitguid']==1176574600270) & \n",
    "                                 (order_opioid_guid_match_filtered['Generic']=='Oxycodone') & \n",
    "                                 (order_opioid_guid_match_filtered['PerformedFromDtm']=='2018-05-26 17:05:51.000')]"
   ]
  },
  {
   "cell_type": "code",
   "execution_count": null,
   "metadata": {},
   "outputs": [],
   "source": []
  },
  {
   "cell_type": "code",
   "execution_count": 73,
   "metadata": {
    "scrolled": true
   },
   "outputs": [
    {
     "data": {
      "text/plain": [
       "clientvisitguid  Generic        TaskStatusCode\n",
       "279306000270     Fentanyl       Pending             2\n",
       "503942200270     Fentanyl       Not Performed       2\n",
       "                                Pending            12\n",
       "                                Performed         123\n",
       "                 Hydromorphone  Not Performed       7\n",
       "                                                 ... \n",
       "1284928000270    Hydromorphone  Pending             2\n",
       "                                Performed          18\n",
       "                 Meperidine     Performed           1\n",
       "1284967200270    Fentanyl       Pending             1\n",
       "                                Performed           4\n",
       "Name: name, Length: 20754, dtype: int64"
      ]
     },
     "execution_count": 73,
     "metadata": {},
     "output_type": "execute_result"
    }
   ],
   "source": [
    "medication_opioid_dropduplicates.groupby(['clientvisitguid', 'Generic', 'TaskStatusCode'])['name'].count()"
   ]
  },
  {
   "cell_type": "code",
   "execution_count": 90,
   "metadata": {},
   "outputs": [],
   "source": [
    "ordercountby_id_generic_taskstatus=pd.DataFrame(medication_opioid_dropduplicates.groupby(['clientvisitguid', 'Generic', 'TaskStatusCode'])['name'].count())"
   ]
  },
  {
   "cell_type": "code",
   "execution_count": 86,
   "metadata": {},
   "outputs": [
    {
     "data": {
      "text/plain": [
       "Performed        3045801\n",
       "Pending           172463\n",
       "Not Performed     149481\n",
       "Overdue            15018\n",
       "Rescheduled            2\n",
       "Name: TaskStatusCode, dtype: int64"
      ]
     },
     "execution_count": 86,
     "metadata": {},
     "output_type": "execute_result"
    }
   ],
   "source": [
    "medication_opioid_dropduplicates['TaskStatusCode'].value_counts()"
   ]
  },
  {
   "cell_type": "code",
   "execution_count": 88,
   "metadata": {},
   "outputs": [
    {
     "data": {
      "text/html": [
       "<div>\n",
       "<style scoped>\n",
       "    .dataframe tbody tr th:only-of-type {\n",
       "        vertical-align: middle;\n",
       "    }\n",
       "\n",
       "    .dataframe tbody tr th {\n",
       "        vertical-align: top;\n",
       "    }\n",
       "\n",
       "    .dataframe thead th {\n",
       "        text-align: right;\n",
       "    }\n",
       "</style>\n",
       "<table border=\"1\" class=\"dataframe\">\n",
       "  <thead>\n",
       "    <tr style=\"text-align: right;\">\n",
       "      <th></th>\n",
       "      <th>name</th>\n",
       "      <th>TaskStatusCode</th>\n",
       "      <th>clientvisitguid</th>\n",
       "      <th>clientguid</th>\n",
       "      <th>PerformedFromDtm</th>\n",
       "      <th>createdwhen</th>\n",
       "      <th>ordersetname</th>\n",
       "      <th>enterrole</th>\n",
       "      <th>typecode</th>\n",
       "      <th>userguid</th>\n",
       "      <th>Generic</th>\n",
       "      <th>OrderName</th>\n",
       "    </tr>\n",
       "  </thead>\n",
       "  <tbody>\n",
       "    <tr>\n",
       "      <td>346064</td>\n",
       "      <td>Sodium Thiosulfate IVPB</td>\n",
       "      <td>Rescheduled</td>\n",
       "      <td>1228352000270</td>\n",
       "      <td>250233100200</td>\n",
       "      <td>NaN</td>\n",
       "      <td>2018-12-20 15:27:31.000</td>\n",
       "      <td>NaN</td>\n",
       "      <td>Resident</td>\n",
       "      <td>Medication</td>\n",
       "      <td>999833814298810</td>\n",
       "      <td>NaN</td>\n",
       "      <td>NaN</td>\n",
       "    </tr>\n",
       "    <tr>\n",
       "      <td>2717158</td>\n",
       "      <td>Insulin Aspart Prandial Scale Pre-Meal</td>\n",
       "      <td>Rescheduled</td>\n",
       "      <td>987271200270</td>\n",
       "      <td>213992000200</td>\n",
       "      <td>NaN</td>\n",
       "      <td>2017-03-13 07:57:39.167</td>\n",
       "      <td>Insulin Aspart Glargine Order Set:  Low Dose</td>\n",
       "      <td>Resident</td>\n",
       "      <td>Medication</td>\n",
       "      <td>999881515898810</td>\n",
       "      <td>NaN</td>\n",
       "      <td>NaN</td>\n",
       "    </tr>\n",
       "  </tbody>\n",
       "</table>\n",
       "</div>"
      ],
      "text/plain": [
       "                                           name TaskStatusCode  \\\n",
       "346064                  Sodium Thiosulfate IVPB    Rescheduled   \n",
       "2717158  Insulin Aspart Prandial Scale Pre-Meal    Rescheduled   \n",
       "\n",
       "         clientvisitguid    clientguid PerformedFromDtm  \\\n",
       "346064     1228352000270  250233100200              NaN   \n",
       "2717158     987271200270  213992000200              NaN   \n",
       "\n",
       "                     createdwhen  \\\n",
       "346064   2018-12-20 15:27:31.000   \n",
       "2717158  2017-03-13 07:57:39.167   \n",
       "\n",
       "                                         ordersetname enterrole    typecode  \\\n",
       "346064                                            NaN  Resident  Medication   \n",
       "2717158  Insulin Aspart Glargine Order Set:  Low Dose  Resident  Medication   \n",
       "\n",
       "                userguid Generic OrderName  \n",
       "346064   999833814298810     NaN       NaN  \n",
       "2717158  999881515898810     NaN       NaN  "
      ]
     },
     "execution_count": 88,
     "metadata": {},
     "output_type": "execute_result"
    }
   ],
   "source": [
    "## check why the 'Rescheduled' records disappear\n",
    "medication_opioid_dropduplicates[medication_opioid_dropduplicates['TaskStatusCode']=='Rescheduled']"
   ]
  },
  {
   "cell_type": "code",
   "execution_count": 95,
   "metadata": {},
   "outputs": [
    {
     "data": {
      "text/html": [
       "<div>\n",
       "<style scoped>\n",
       "    .dataframe tbody tr th:only-of-type {\n",
       "        vertical-align: middle;\n",
       "    }\n",
       "\n",
       "    .dataframe tbody tr th {\n",
       "        vertical-align: top;\n",
       "    }\n",
       "\n",
       "    .dataframe thead th {\n",
       "        text-align: right;\n",
       "    }\n",
       "</style>\n",
       "<table border=\"1\" class=\"dataframe\">\n",
       "  <thead>\n",
       "    <tr style=\"text-align: right;\">\n",
       "      <th></th>\n",
       "      <th>clientvisitguid</th>\n",
       "      <th>Generic</th>\n",
       "      <th>TaskStatusCode</th>\n",
       "      <th>name</th>\n",
       "    </tr>\n",
       "  </thead>\n",
       "  <tbody>\n",
       "    <tr>\n",
       "      <td>0</td>\n",
       "      <td>279306000270</td>\n",
       "      <td>Fentanyl</td>\n",
       "      <td>Pending</td>\n",
       "      <td>2</td>\n",
       "    </tr>\n",
       "    <tr>\n",
       "      <td>1</td>\n",
       "      <td>503942200270</td>\n",
       "      <td>Fentanyl</td>\n",
       "      <td>Not Performed</td>\n",
       "      <td>2</td>\n",
       "    </tr>\n",
       "    <tr>\n",
       "      <td>2</td>\n",
       "      <td>503942200270</td>\n",
       "      <td>Fentanyl</td>\n",
       "      <td>Pending</td>\n",
       "      <td>12</td>\n",
       "    </tr>\n",
       "    <tr>\n",
       "      <td>3</td>\n",
       "      <td>503942200270</td>\n",
       "      <td>Fentanyl</td>\n",
       "      <td>Performed</td>\n",
       "      <td>123</td>\n",
       "    </tr>\n",
       "    <tr>\n",
       "      <td>4</td>\n",
       "      <td>503942200270</td>\n",
       "      <td>Hydromorphone</td>\n",
       "      <td>Not Performed</td>\n",
       "      <td>7</td>\n",
       "    </tr>\n",
       "    <tr>\n",
       "      <td>...</td>\n",
       "      <td>...</td>\n",
       "      <td>...</td>\n",
       "      <td>...</td>\n",
       "      <td>...</td>\n",
       "    </tr>\n",
       "    <tr>\n",
       "      <td>20749</td>\n",
       "      <td>1284928000270</td>\n",
       "      <td>Hydromorphone</td>\n",
       "      <td>Pending</td>\n",
       "      <td>2</td>\n",
       "    </tr>\n",
       "    <tr>\n",
       "      <td>20750</td>\n",
       "      <td>1284928000270</td>\n",
       "      <td>Hydromorphone</td>\n",
       "      <td>Performed</td>\n",
       "      <td>18</td>\n",
       "    </tr>\n",
       "    <tr>\n",
       "      <td>20751</td>\n",
       "      <td>1284928000270</td>\n",
       "      <td>Meperidine</td>\n",
       "      <td>Performed</td>\n",
       "      <td>1</td>\n",
       "    </tr>\n",
       "    <tr>\n",
       "      <td>20752</td>\n",
       "      <td>1284967200270</td>\n",
       "      <td>Fentanyl</td>\n",
       "      <td>Pending</td>\n",
       "      <td>1</td>\n",
       "    </tr>\n",
       "    <tr>\n",
       "      <td>20753</td>\n",
       "      <td>1284967200270</td>\n",
       "      <td>Fentanyl</td>\n",
       "      <td>Performed</td>\n",
       "      <td>4</td>\n",
       "    </tr>\n",
       "  </tbody>\n",
       "</table>\n",
       "<p>20754 rows × 4 columns</p>\n",
       "</div>"
      ],
      "text/plain": [
       "       clientvisitguid        Generic TaskStatusCode  name\n",
       "0         279306000270       Fentanyl        Pending     2\n",
       "1         503942200270       Fentanyl  Not Performed     2\n",
       "2         503942200270       Fentanyl        Pending    12\n",
       "3         503942200270       Fentanyl      Performed   123\n",
       "4         503942200270  Hydromorphone  Not Performed     7\n",
       "...                ...            ...            ...   ...\n",
       "20749    1284928000270  Hydromorphone        Pending     2\n",
       "20750    1284928000270  Hydromorphone      Performed    18\n",
       "20751    1284928000270     Meperidine      Performed     1\n",
       "20752    1284967200270       Fentanyl        Pending     1\n",
       "20753    1284967200270       Fentanyl      Performed     4\n",
       "\n",
       "[20754 rows x 4 columns]"
      ]
     },
     "execution_count": 95,
     "metadata": {},
     "output_type": "execute_result"
    }
   ],
   "source": [
    "ordercountby_id_generic_taskstatus"
   ]
  },
  {
   "cell_type": "code",
   "execution_count": 93,
   "metadata": {},
   "outputs": [],
   "source": [
    "ordercountby_id_generic_taskstatus = ordercountby_id_generic_taskstatus.reset_index()"
   ]
  },
  {
   "cell_type": "code",
   "execution_count": 94,
   "metadata": {},
   "outputs": [
    {
     "data": {
      "text/plain": [
       "Performed        11089\n",
       "Pending           7968\n",
       "Not Performed     1588\n",
       "Overdue            109\n",
       "Name: TaskStatusCode, dtype: int64"
      ]
     },
     "execution_count": 94,
     "metadata": {},
     "output_type": "execute_result"
    }
   ],
   "source": [
    "ordercountby_id_generic_taskstatus['TaskStatusCode'].value_counts()"
   ]
  },
  {
   "cell_type": "code",
   "execution_count": 96,
   "metadata": {},
   "outputs": [],
   "source": [
    "result = ordercountby_id_generic_taskstatus.pivot_table(index=['clientvisitguid', 'Generic'], columns='TaskStatusCode', values='name')"
   ]
  },
  {
   "cell_type": "code",
   "execution_count": 97,
   "metadata": {},
   "outputs": [
    {
     "data": {
      "text/html": [
       "<div>\n",
       "<style scoped>\n",
       "    .dataframe tbody tr th:only-of-type {\n",
       "        vertical-align: middle;\n",
       "    }\n",
       "\n",
       "    .dataframe tbody tr th {\n",
       "        vertical-align: top;\n",
       "    }\n",
       "\n",
       "    .dataframe thead th {\n",
       "        text-align: right;\n",
       "    }\n",
       "</style>\n",
       "<table border=\"1\" class=\"dataframe\">\n",
       "  <thead>\n",
       "    <tr style=\"text-align: right;\">\n",
       "      <th></th>\n",
       "      <th>TaskStatusCode</th>\n",
       "      <th>Not Performed</th>\n",
       "      <th>Overdue</th>\n",
       "      <th>Pending</th>\n",
       "      <th>Performed</th>\n",
       "    </tr>\n",
       "    <tr>\n",
       "      <th>clientvisitguid</th>\n",
       "      <th>Generic</th>\n",
       "      <th></th>\n",
       "      <th></th>\n",
       "      <th></th>\n",
       "      <th></th>\n",
       "    </tr>\n",
       "  </thead>\n",
       "  <tbody>\n",
       "    <tr>\n",
       "      <td>279306000270</td>\n",
       "      <td>Fentanyl</td>\n",
       "      <td>NaN</td>\n",
       "      <td>NaN</td>\n",
       "      <td>2.0</td>\n",
       "      <td>NaN</td>\n",
       "    </tr>\n",
       "    <tr>\n",
       "      <td rowspan=\"4\" valign=\"top\">503942200270</td>\n",
       "      <td>Fentanyl</td>\n",
       "      <td>2.0</td>\n",
       "      <td>NaN</td>\n",
       "      <td>12.0</td>\n",
       "      <td>123.0</td>\n",
       "    </tr>\n",
       "    <tr>\n",
       "      <td>Hydromorphone</td>\n",
       "      <td>7.0</td>\n",
       "      <td>NaN</td>\n",
       "      <td>25.0</td>\n",
       "      <td>823.0</td>\n",
       "    </tr>\n",
       "    <tr>\n",
       "      <td>Meperidine</td>\n",
       "      <td>NaN</td>\n",
       "      <td>NaN</td>\n",
       "      <td>NaN</td>\n",
       "      <td>1.0</td>\n",
       "    </tr>\n",
       "    <tr>\n",
       "      <td>Morphine</td>\n",
       "      <td>NaN</td>\n",
       "      <td>NaN</td>\n",
       "      <td>NaN</td>\n",
       "      <td>3.0</td>\n",
       "    </tr>\n",
       "    <tr>\n",
       "      <td>...</td>\n",
       "      <td>...</td>\n",
       "      <td>...</td>\n",
       "      <td>...</td>\n",
       "      <td>...</td>\n",
       "      <td>...</td>\n",
       "    </tr>\n",
       "    <tr>\n",
       "      <td>1284379300270</td>\n",
       "      <td>Fentanyl</td>\n",
       "      <td>1.0</td>\n",
       "      <td>NaN</td>\n",
       "      <td>NaN</td>\n",
       "      <td>10.0</td>\n",
       "    </tr>\n",
       "    <tr>\n",
       "      <td>1284754600270</td>\n",
       "      <td>Oxycodone</td>\n",
       "      <td>NaN</td>\n",
       "      <td>NaN</td>\n",
       "      <td>1.0</td>\n",
       "      <td>NaN</td>\n",
       "    </tr>\n",
       "    <tr>\n",
       "      <td rowspan=\"2\" valign=\"top\">1284928000270</td>\n",
       "      <td>Hydromorphone</td>\n",
       "      <td>NaN</td>\n",
       "      <td>NaN</td>\n",
       "      <td>2.0</td>\n",
       "      <td>18.0</td>\n",
       "    </tr>\n",
       "    <tr>\n",
       "      <td>Meperidine</td>\n",
       "      <td>NaN</td>\n",
       "      <td>NaN</td>\n",
       "      <td>NaN</td>\n",
       "      <td>1.0</td>\n",
       "    </tr>\n",
       "    <tr>\n",
       "      <td>1284967200270</td>\n",
       "      <td>Fentanyl</td>\n",
       "      <td>NaN</td>\n",
       "      <td>NaN</td>\n",
       "      <td>1.0</td>\n",
       "      <td>4.0</td>\n",
       "    </tr>\n",
       "  </tbody>\n",
       "</table>\n",
       "<p>12763 rows × 4 columns</p>\n",
       "</div>"
      ],
      "text/plain": [
       "TaskStatusCode                 Not Performed  Overdue  Pending  Performed\n",
       "clientvisitguid Generic                                                  \n",
       "279306000270    Fentanyl                 NaN      NaN      2.0        NaN\n",
       "503942200270    Fentanyl                 2.0      NaN     12.0      123.0\n",
       "                Hydromorphone            7.0      NaN     25.0      823.0\n",
       "                Meperidine               NaN      NaN      NaN        1.0\n",
       "                Morphine                 NaN      NaN      NaN        3.0\n",
       "...                                      ...      ...      ...        ...\n",
       "1284379300270   Fentanyl                 1.0      NaN      NaN       10.0\n",
       "1284754600270   Oxycodone                NaN      NaN      1.0        NaN\n",
       "1284928000270   Hydromorphone            NaN      NaN      2.0       18.0\n",
       "                Meperidine               NaN      NaN      NaN        1.0\n",
       "1284967200270   Fentanyl                 NaN      NaN      1.0        4.0\n",
       "\n",
       "[12763 rows x 4 columns]"
      ]
     },
     "execution_count": 97,
     "metadata": {},
     "output_type": "execute_result"
    }
   ],
   "source": [
    "result"
   ]
  },
  {
   "cell_type": "code",
   "execution_count": 98,
   "metadata": {},
   "outputs": [],
   "source": [
    "result2 = result.reset_index()"
   ]
  },
  {
   "cell_type": "code",
   "execution_count": 99,
   "metadata": {
    "scrolled": true
   },
   "outputs": [
    {
     "data": {
      "text/html": [
       "<div>\n",
       "<style scoped>\n",
       "    .dataframe tbody tr th:only-of-type {\n",
       "        vertical-align: middle;\n",
       "    }\n",
       "\n",
       "    .dataframe tbody tr th {\n",
       "        vertical-align: top;\n",
       "    }\n",
       "\n",
       "    .dataframe thead th {\n",
       "        text-align: right;\n",
       "    }\n",
       "</style>\n",
       "<table border=\"1\" class=\"dataframe\">\n",
       "  <thead>\n",
       "    <tr style=\"text-align: right;\">\n",
       "      <th>TaskStatusCode</th>\n",
       "      <th>clientvisitguid</th>\n",
       "      <th>Generic</th>\n",
       "      <th>Not Performed</th>\n",
       "      <th>Overdue</th>\n",
       "      <th>Pending</th>\n",
       "      <th>Performed</th>\n",
       "    </tr>\n",
       "  </thead>\n",
       "  <tbody>\n",
       "    <tr>\n",
       "      <td>0</td>\n",
       "      <td>279306000270</td>\n",
       "      <td>Fentanyl</td>\n",
       "      <td>NaN</td>\n",
       "      <td>NaN</td>\n",
       "      <td>2.0</td>\n",
       "      <td>NaN</td>\n",
       "    </tr>\n",
       "    <tr>\n",
       "      <td>1</td>\n",
       "      <td>503942200270</td>\n",
       "      <td>Fentanyl</td>\n",
       "      <td>2.0</td>\n",
       "      <td>NaN</td>\n",
       "      <td>12.0</td>\n",
       "      <td>123.0</td>\n",
       "    </tr>\n",
       "    <tr>\n",
       "      <td>2</td>\n",
       "      <td>503942200270</td>\n",
       "      <td>Hydromorphone</td>\n",
       "      <td>7.0</td>\n",
       "      <td>NaN</td>\n",
       "      <td>25.0</td>\n",
       "      <td>823.0</td>\n",
       "    </tr>\n",
       "    <tr>\n",
       "      <td>3</td>\n",
       "      <td>503942200270</td>\n",
       "      <td>Meperidine</td>\n",
       "      <td>NaN</td>\n",
       "      <td>NaN</td>\n",
       "      <td>NaN</td>\n",
       "      <td>1.0</td>\n",
       "    </tr>\n",
       "    <tr>\n",
       "      <td>4</td>\n",
       "      <td>503942200270</td>\n",
       "      <td>Morphine</td>\n",
       "      <td>NaN</td>\n",
       "      <td>NaN</td>\n",
       "      <td>NaN</td>\n",
       "      <td>3.0</td>\n",
       "    </tr>\n",
       "    <tr>\n",
       "      <td>...</td>\n",
       "      <td>...</td>\n",
       "      <td>...</td>\n",
       "      <td>...</td>\n",
       "      <td>...</td>\n",
       "      <td>...</td>\n",
       "      <td>...</td>\n",
       "    </tr>\n",
       "    <tr>\n",
       "      <td>12758</td>\n",
       "      <td>1284379300270</td>\n",
       "      <td>Fentanyl</td>\n",
       "      <td>1.0</td>\n",
       "      <td>NaN</td>\n",
       "      <td>NaN</td>\n",
       "      <td>10.0</td>\n",
       "    </tr>\n",
       "    <tr>\n",
       "      <td>12759</td>\n",
       "      <td>1284754600270</td>\n",
       "      <td>Oxycodone</td>\n",
       "      <td>NaN</td>\n",
       "      <td>NaN</td>\n",
       "      <td>1.0</td>\n",
       "      <td>NaN</td>\n",
       "    </tr>\n",
       "    <tr>\n",
       "      <td>12760</td>\n",
       "      <td>1284928000270</td>\n",
       "      <td>Hydromorphone</td>\n",
       "      <td>NaN</td>\n",
       "      <td>NaN</td>\n",
       "      <td>2.0</td>\n",
       "      <td>18.0</td>\n",
       "    </tr>\n",
       "    <tr>\n",
       "      <td>12761</td>\n",
       "      <td>1284928000270</td>\n",
       "      <td>Meperidine</td>\n",
       "      <td>NaN</td>\n",
       "      <td>NaN</td>\n",
       "      <td>NaN</td>\n",
       "      <td>1.0</td>\n",
       "    </tr>\n",
       "    <tr>\n",
       "      <td>12762</td>\n",
       "      <td>1284967200270</td>\n",
       "      <td>Fentanyl</td>\n",
       "      <td>NaN</td>\n",
       "      <td>NaN</td>\n",
       "      <td>1.0</td>\n",
       "      <td>4.0</td>\n",
       "    </tr>\n",
       "  </tbody>\n",
       "</table>\n",
       "<p>12763 rows × 6 columns</p>\n",
       "</div>"
      ],
      "text/plain": [
       "TaskStatusCode  clientvisitguid        Generic  Not Performed  Overdue  \\\n",
       "0                  279306000270       Fentanyl            NaN      NaN   \n",
       "1                  503942200270       Fentanyl            2.0      NaN   \n",
       "2                  503942200270  Hydromorphone            7.0      NaN   \n",
       "3                  503942200270     Meperidine            NaN      NaN   \n",
       "4                  503942200270       Morphine            NaN      NaN   \n",
       "...                         ...            ...            ...      ...   \n",
       "12758             1284379300270       Fentanyl            1.0      NaN   \n",
       "12759             1284754600270      Oxycodone            NaN      NaN   \n",
       "12760             1284928000270  Hydromorphone            NaN      NaN   \n",
       "12761             1284928000270     Meperidine            NaN      NaN   \n",
       "12762             1284967200270       Fentanyl            NaN      NaN   \n",
       "\n",
       "TaskStatusCode  Pending  Performed  \n",
       "0                   2.0        NaN  \n",
       "1                  12.0      123.0  \n",
       "2                  25.0      823.0  \n",
       "3                   NaN        1.0  \n",
       "4                   NaN        3.0  \n",
       "...                 ...        ...  \n",
       "12758               NaN       10.0  \n",
       "12759               1.0        NaN  \n",
       "12760               2.0       18.0  \n",
       "12761               NaN        1.0  \n",
       "12762               1.0        4.0  \n",
       "\n",
       "[12763 rows x 6 columns]"
      ]
     },
     "execution_count": 99,
     "metadata": {},
     "output_type": "execute_result"
    }
   ],
   "source": [
    "result2"
   ]
  },
  {
   "cell_type": "code",
   "execution_count": 100,
   "metadata": {},
   "outputs": [],
   "source": [
    "result2.to_excel(path + 'Opioid/ordercountby_id_generic_taskstatus_dropduplicates_filtered_0305.xlsx', index=None)"
   ]
  },
  {
   "cell_type": "code",
   "execution_count": null,
   "metadata": {},
   "outputs": [],
   "source": []
  }
 ],
 "metadata": {
  "kernelspec": {
   "display_name": "Python 3",
   "language": "python",
   "name": "python3"
  },
  "language_info": {
   "codemirror_mode": {
    "name": "ipython",
    "version": 3
   },
   "file_extension": ".py",
   "mimetype": "text/x-python",
   "name": "python",
   "nbconvert_exporter": "python",
   "pygments_lexer": "ipython3",
   "version": "3.7.4"
  }
 },
 "nbformat": 4,
 "nbformat_minor": 2
}
