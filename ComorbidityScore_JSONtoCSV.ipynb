{
 "cells": [
  {
   "cell_type": "code",
   "execution_count": 2,
   "metadata": {},
   "outputs": [],
   "source": [
    "import json\n",
    "import csv\n",
    "import pandas as pd\n",
    "#import numpy as np"
   ]
  },
  {
   "cell_type": "code",
   "execution_count": 3,
   "metadata": {},
   "outputs": [],
   "source": [
    "## extract diagnosis from appt"
   ]
  },
  {
   "cell_type": "code",
   "execution_count": 9,
   "metadata": {},
   "outputs": [],
   "source": [
    "fh = open('/Users/fan/Desktop/Fullhouse/WCM/HospitalManagement/Data/EDDC_HF_2012_2018_ouput.json','r')"
   ]
  },
  {
   "cell_type": "code",
   "execution_count": 10,
   "metadata": {},
   "outputs": [],
   "source": [
    "data = json.load(fh)"
   ]
  },
  {
   "cell_type": "code",
   "execution_count": 11,
   "metadata": {},
   "outputs": [],
   "source": [
    "with open('/Users/fan/Desktop/Fullhouse/WCM/HospitalManagement/Data/diag.csv', 'w+') as f:\n",
    "    for pid in data:\n",
    "        for date in data[pid]['appt']: \n",
    "            print(pid, data[pid]['appt'][date]['diag'], file = f, sep = ' ')"
   ]
  },
  {
   "cell_type": "code",
   "execution_count": 12,
   "metadata": {},
   "outputs": [
    {
     "data": {
      "text/html": [
       "<div>\n",
       "<style scoped>\n",
       "    .dataframe tbody tr th:only-of-type {\n",
       "        vertical-align: middle;\n",
       "    }\n",
       "\n",
       "    .dataframe tbody tr th {\n",
       "        vertical-align: top;\n",
       "    }\n",
       "\n",
       "    .dataframe thead th {\n",
       "        text-align: right;\n",
       "    }\n",
       "</style>\n",
       "<table border=\"1\" class=\"dataframe\">\n",
       "  <thead>\n",
       "    <tr style=\"text-align: right;\">\n",
       "      <th></th>\n",
       "      <th>oldname</th>\n",
       "    </tr>\n",
       "  </thead>\n",
       "  <tbody>\n",
       "    <tr>\n",
       "      <th>0</th>\n",
       "      <td>9000556943700270 []</td>\n",
       "    </tr>\n",
       "    <tr>\n",
       "      <th>1</th>\n",
       "      <td>9000556943700270 []</td>\n",
       "    </tr>\n",
       "    <tr>\n",
       "      <th>2</th>\n",
       "      <td>9000556943700270 []</td>\n",
       "    </tr>\n",
       "    <tr>\n",
       "      <th>3</th>\n",
       "      <td>9000556943700270 [nan]</td>\n",
       "    </tr>\n",
       "    <tr>\n",
       "      <th>4</th>\n",
       "      <td>9000556943700270 ['M25.519']</td>\n",
       "    </tr>\n",
       "    <tr>\n",
       "      <th>...</th>\n",
       "      <td>...</td>\n",
       "    </tr>\n",
       "    <tr>\n",
       "      <th>122063</th>\n",
       "      <td>9001285016600270 ['I50.1']</td>\n",
       "    </tr>\n",
       "    <tr>\n",
       "      <th>122064</th>\n",
       "      <td>9001285016600270 ['C74.90']</td>\n",
       "    </tr>\n",
       "    <tr>\n",
       "      <th>122065</th>\n",
       "      <td>9001285016600270 ['C22.0']</td>\n",
       "    </tr>\n",
       "    <tr>\n",
       "      <th>122066</th>\n",
       "      <td>9001285016600270 []</td>\n",
       "    </tr>\n",
       "    <tr>\n",
       "      <th>122067</th>\n",
       "      <td>9001285016600270 []</td>\n",
       "    </tr>\n",
       "  </tbody>\n",
       "</table>\n",
       "<p>122068 rows × 1 columns</p>\n",
       "</div>"
      ],
      "text/plain": [
       "                             oldname\n",
       "0                9000556943700270 []\n",
       "1                9000556943700270 []\n",
       "2                9000556943700270 []\n",
       "3             9000556943700270 [nan]\n",
       "4       9000556943700270 ['M25.519']\n",
       "...                              ...\n",
       "122063    9001285016600270 ['I50.1']\n",
       "122064   9001285016600270 ['C74.90']\n",
       "122065    9001285016600270 ['C22.0']\n",
       "122066           9001285016600270 []\n",
       "122067           9001285016600270 []\n",
       "\n",
       "[122068 rows x 1 columns]"
      ]
     },
     "execution_count": 12,
     "metadata": {},
     "output_type": "execute_result"
    }
   ],
   "source": [
    "diag = pd.read_csv('/Users/fan/Desktop/Fullhouse/WCM/HospitalManagement/Data/diag.csv', header=None)\n",
    "diag.columns = ['oldname']\n",
    "diag"
   ]
  },
  {
   "cell_type": "code",
   "execution_count": 13,
   "metadata": {},
   "outputs": [
    {
     "data": {
      "text/html": [
       "<div>\n",
       "<style scoped>\n",
       "    .dataframe tbody tr th:only-of-type {\n",
       "        vertical-align: middle;\n",
       "    }\n",
       "\n",
       "    .dataframe tbody tr th {\n",
       "        vertical-align: top;\n",
       "    }\n",
       "\n",
       "    .dataframe thead th {\n",
       "        text-align: right;\n",
       "    }\n",
       "</style>\n",
       "<table border=\"1\" class=\"dataframe\">\n",
       "  <thead>\n",
       "    <tr style=\"text-align: right;\">\n",
       "      <th></th>\n",
       "      <th>ID</th>\n",
       "      <th>Diagnosis</th>\n",
       "    </tr>\n",
       "  </thead>\n",
       "  <tbody>\n",
       "    <tr>\n",
       "      <th>0</th>\n",
       "      <td>9000556943700270</td>\n",
       "      <td>[]</td>\n",
       "    </tr>\n",
       "    <tr>\n",
       "      <th>1</th>\n",
       "      <td>9000556943700270</td>\n",
       "      <td>[]</td>\n",
       "    </tr>\n",
       "    <tr>\n",
       "      <th>2</th>\n",
       "      <td>9000556943700270</td>\n",
       "      <td>[]</td>\n",
       "    </tr>\n",
       "    <tr>\n",
       "      <th>3</th>\n",
       "      <td>9000556943700270</td>\n",
       "      <td>[nan]</td>\n",
       "    </tr>\n",
       "    <tr>\n",
       "      <th>4</th>\n",
       "      <td>9000556943700270</td>\n",
       "      <td>['M25.519']</td>\n",
       "    </tr>\n",
       "    <tr>\n",
       "      <th>...</th>\n",
       "      <td>...</td>\n",
       "      <td>...</td>\n",
       "    </tr>\n",
       "    <tr>\n",
       "      <th>122063</th>\n",
       "      <td>9001285016600270</td>\n",
       "      <td>['I50.1']</td>\n",
       "    </tr>\n",
       "    <tr>\n",
       "      <th>122064</th>\n",
       "      <td>9001285016600270</td>\n",
       "      <td>['C74.90']</td>\n",
       "    </tr>\n",
       "    <tr>\n",
       "      <th>122065</th>\n",
       "      <td>9001285016600270</td>\n",
       "      <td>['C22.0']</td>\n",
       "    </tr>\n",
       "    <tr>\n",
       "      <th>122066</th>\n",
       "      <td>9001285016600270</td>\n",
       "      <td>[]</td>\n",
       "    </tr>\n",
       "    <tr>\n",
       "      <th>122067</th>\n",
       "      <td>9001285016600270</td>\n",
       "      <td>[]</td>\n",
       "    </tr>\n",
       "  </tbody>\n",
       "</table>\n",
       "<p>122068 rows × 2 columns</p>\n",
       "</div>"
      ],
      "text/plain": [
       "                      ID    Diagnosis\n",
       "0       9000556943700270           []\n",
       "1       9000556943700270           []\n",
       "2       9000556943700270           []\n",
       "3       9000556943700270        [nan]\n",
       "4       9000556943700270  ['M25.519']\n",
       "...                  ...          ...\n",
       "122063  9001285016600270    ['I50.1']\n",
       "122064  9001285016600270   ['C74.90']\n",
       "122065  9001285016600270    ['C22.0']\n",
       "122066  9001285016600270           []\n",
       "122067  9001285016600270           []\n",
       "\n",
       "[122068 rows x 2 columns]"
      ]
     },
     "execution_count": 13,
     "metadata": {},
     "output_type": "execute_result"
    }
   ],
   "source": [
    "diagnosis = diag['oldname'].str.split(\" \", n = 1, expand = True)\n",
    "diagnosis.columns = ['ID', 'Diagnosis']\n",
    "diagnosis"
   ]
  },
  {
   "cell_type": "code",
   "execution_count": 14,
   "metadata": {},
   "outputs": [],
   "source": [
    "diagnosis['ID'] = diagnosis['ID'].astype(int)\n",
    "diagnosis['Diagnosis'] = diagnosis['Diagnosis'].astype(str)"
   ]
  },
  {
   "cell_type": "code",
   "execution_count": 15,
   "metadata": {},
   "outputs": [],
   "source": [
    "diagnosis['Diagnosis'] = diagnosis['Diagnosis'].str.strip('['']')"
   ]
  },
  {
   "cell_type": "code",
   "execution_count": 16,
   "metadata": {},
   "outputs": [],
   "source": [
    "nan_value = float(\"NaN\")\n",
    "diagnosis.replace(\"nan\", nan_value, inplace = True)\n",
    "diagnosis.replace(\"\", nan_value, inplace = True)\n",
    "diagnosis.dropna(subset = [\"Diagnosis\"], inplace = True)"
   ]
  },
  {
   "cell_type": "code",
   "execution_count": 17,
   "metadata": {},
   "outputs": [],
   "source": [
    "diagnosis.to_csv('/Users/fan/Desktop/Fullhouse/WCM/HospitalManagement/Data/diagnosis.csv')"
   ]
  },
  {
   "cell_type": "code",
   "execution_count": null,
   "metadata": {},
   "outputs": [],
   "source": []
  }
 ],
 "metadata": {
  "kernelspec": {
   "display_name": "Python 3",
   "language": "python",
   "name": "python3"
  },
  "language_info": {
   "codemirror_mode": {
    "name": "ipython",
    "version": 3
   },
   "file_extension": ".py",
   "mimetype": "text/x-python",
   "name": "python",
   "nbconvert_exporter": "python",
   "pygments_lexer": "ipython3",
   "version": "3.7.1"
  }
 },
 "nbformat": 4,
 "nbformat_minor": 2
}
