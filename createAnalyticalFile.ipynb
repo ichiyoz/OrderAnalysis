{
 "cells": [
  {
   "cell_type": "code",
   "execution_count": 1,
   "metadata": {},
   "outputs": [],
   "source": [
    "import pickle\n",
    "import os\n",
    "import json\n",
    "from copy import deepcopy\n",
    "import pandas as pd\n",
    "import csv\n",
    "from datetime import datetime, timedelta\n",
    "from collections import Counter"
   ]
  },
  {
   "cell_type": "code",
   "execution_count": 2,
   "metadata": {},
   "outputs": [],
   "source": [
    "path =os.path.expanduser('~/Documents/Data/NYPData/HF/')"
   ]
  },
  {
   "cell_type": "code",
   "execution_count": 3,
   "metadata": {},
   "outputs": [],
   "source": [
    "fh = open(path + \"EDDC_HF_2012_2018_ouput.json\", 'r')\n",
    "data3 = json.load(fh)"
   ]
  },
  {
   "cell_type": "code",
   "execution_count": 4,
   "metadata": {},
   "outputs": [],
   "source": [
    "data = deepcopy(data3)"
   ]
  },
  {
   "cell_type": "markdown",
   "metadata": {},
   "source": [
    "add age eligibility"
   ]
  },
  {
   "cell_type": "code",
   "execution_count": 5,
   "metadata": {},
   "outputs": [
    {
     "name": "stdout",
     "output_type": "stream",
     "text": [
      "1288\n"
     ]
    }
   ],
   "source": [
    "eligible=[]\n",
    "for pid in data3:   \n",
    "  if len(data3[pid]['appt'])>1:\n",
    "    for date in data3[pid]['appt']:\n",
    "        age=int(date[0:4])-data3[pid]['age']\n",
    "        if age>17 and age<90:\n",
    "            eligible.append(pid)\n",
    "        break\n",
    "print(len(eligible))"
   ]
  },
  {
   "cell_type": "code",
   "execution_count": 6,
   "metadata": {},
   "outputs": [],
   "source": [
    "for pid in data3:\n",
    "    if pid in eligible:\n",
    "        pass\n",
    "    else:\n",
    "        del data[pid]"
   ]
  },
  {
   "cell_type": "code",
   "execution_count": 7,
   "metadata": {},
   "outputs": [
    {
     "name": "stdout",
     "output_type": "stream",
     "text": [
      "1061\n"
     ]
    }
   ],
   "source": [
    "clientguid=[]\n",
    "for pid in data:\n",
    "    if data[pid]['clientID'] not in clientguid and pid in eligible:\n",
    "        clientguid.append(data[pid]['clientID'])\n",
    "print(len(clientguid))"
   ]
  },
  {
   "cell_type": "code",
   "execution_count": 8,
   "metadata": {},
   "outputs": [
    {
     "name": "stdout",
     "output_type": "stream",
     "text": [
      "1288\n"
     ]
    }
   ],
   "source": [
    "print(len(data))"
   ]
  },
  {
   "cell_type": "markdown",
   "metadata": {},
   "source": [
    "compute outcome measures for 30, 60, 90 day readmissions"
   ]
  },
  {
   "cell_type": "code",
   "execution_count": 10,
   "metadata": {},
   "outputs": [
    {
     "name": "stdout",
     "output_type": "stream",
     "text": [
      "num unique pt guids 1061\n",
      "num visits 1288\n",
      "num unique pt guids with more than 1 admission 173\n",
      "num readmissions 227\n",
      "num re-admissions that are NOT 30-day 188\n",
      "num re-admissions that are 30-day 39\n",
      "num re-admissions that are 60-day 65\n",
      "num re-admissions that are 90-day 91\n"
     ]
    }
   ],
   "source": [
    "readmission={}\n",
    "readmissionvisitguids30=[]\n",
    "readmissionvisitguids60=[]\n",
    "readmissionvisitguids90=[]\n",
    "c=0\n",
    "s=0\n",
    "r=0\n",
    "for guid in clientguid:\n",
    "    readmission[guid]=[]\n",
    "for guid in clientguid:\n",
    "    for pid in data:\n",
    "        if int(guid)==int(data[pid]['clientID']):\n",
    "            readmission[guid].append([data[pid]['admittime'],data[pid]['dischargetime'],pid])\n",
    "            r=r+1\n",
    "print(\"num unique pt guids\",len(readmission))  \n",
    "print(\"num visits\",len(data))\n",
    "l=0\n",
    "a=0\n",
    "b=0\n",
    "for guid in readmission:\n",
    "    if len(readmission[guid])>1:\n",
    "        l=l+1\n",
    "for guid in readmission:\n",
    "    for i in range(len(readmission[guid])-1):\n",
    "        s=s+1\n",
    "        if (datetime.strptime(readmission[guid][i+1][0],'%Y-%m-%d %H:%M:%S')-datetime.strptime(readmission[guid][i][1],'%Y-%m-%d %H:%M:%S')).days>=30:\n",
    "            c=c+1\n",
    "        else:\n",
    "            readmissionvisitguids30.append(readmission[guid][i+1][2])\n",
    "            \n",
    "        if (datetime.strptime(readmission[guid][i+1][0],'%Y-%m-%d %H:%M:%S')-datetime.strptime(readmission[guid][i][1],'%Y-%m-%d %H:%M:%S')).days<60:\n",
    "            readmissionvisitguids60.append(readmission[guid][i+1][2])\n",
    "        if (datetime.strptime(readmission[guid][i+1][0],'%Y-%m-%d %H:%M:%S')-datetime.strptime(readmission[guid][i][1],'%Y-%m-%d %H:%M:%S')).days<90:\n",
    "            readmissionvisitguids90.append(readmission[guid][i+1][2])\n",
    "        \n",
    "readmissionvisitguids30=list(set(readmissionvisitguids30))\n",
    "print(\"num unique pt guids with more than 1 admission\",l)\n",
    "print(\"num readmissions\",s)\n",
    "print(\"num re-admissions that are NOT 30-day\",c)\n",
    "print(\"num re-admissions that are 30-day\",len(readmissionvisitguids30))\n",
    "print(\"num re-admissions that are 60-day\",len(readmissionvisitguids60))\n",
    "print(\"num re-admissions that are 90-day\",len(readmissionvisitguids90))"
   ]
  },
  {
   "cell_type": "code",
   "execution_count": 11,
   "metadata": {},
   "outputs": [],
   "source": [
    "for pid in data:\n",
    "    data[pid]['30day_readmit']=0\n",
    "    data[pid]['60day_readmit']=0\n",
    "    data[pid]['90day_readmit']=0\n",
    "    data[pid]['LOS']=(datetime.strptime(data[pid]['dischargetime'],'%Y-%m-%d %H:%M:%S') - datetime.strptime(data[pid]['admittime'], '%Y-%m-%d %H:%M:%S')).days\n",
    "    if pid in readmissionvisitguids30:\n",
    "        data[pid]['30day_readmit']=1\n",
    "    if pid in readmissionvisitguids60:\n",
    "        data[pid]['60day_readmit']=1\n",
    "    if pid in readmissionvisitguids90:\n",
    "        data[pid]['90day_readmit']=1"
   ]
  },
  {
   "cell_type": "code",
   "execution_count": 13,
   "metadata": {},
   "outputs": [],
   "source": [
    "user_quartile=pd.read_excel('/Users/yiyezhang/Dropbox/Grant-and-IRB/AHRQ R03/Analysis/EDDC_order_2012_2018_analysis.xlsx', sheetname='MDOnly_1order_peryear')"
   ]
  },
  {
   "cell_type": "code",
   "execution_count": 14,
   "metadata": {},
   "outputs": [],
   "source": [
    "Q1=[]\n",
    "for user in user_quartile[user_quartile['Q1']==1]['userguid']:\n",
    "    Q1.append(user)\n",
    "Q3=[]\n",
    "for user in user_quartile[user_quartile['Q4']==1]['userguid']:\n",
    "    Q3.append(user)"
   ]
  },
  {
   "cell_type": "code",
   "execution_count": 15,
   "metadata": {},
   "outputs": [
    {
     "name": "stdout",
     "output_type": "stream",
     "text": [
      "2490\n"
     ]
    }
   ],
   "source": [
    "userguid=[]\n",
    "for pid in data:\n",
    "    for date in data[pid]['appt']:\n",
    "        for u in data[pid]['appt'][date]['user']:\n",
    "            if u not in userguid:\n",
    "                userguid.append(u)\n",
    "print(len(userguid))"
   ]
  },
  {
   "cell_type": "markdown",
   "metadata": {},
   "source": [
    "get list of unique diagnoses"
   ]
  },
  {
   "cell_type": "code",
   "execution_count": 16,
   "metadata": {},
   "outputs": [],
   "source": [
    "diaglist = list()\n",
    "for pid in data:\n",
    "    if len(data[pid]['appt']) != 0:\n",
    "        for date in sorted(iter(data[pid]['appt'])):\n",
    "            if 'withinappt' not in data[pid]['appt'][date] or len(data[pid]['appt'][date]['withinappt']) == 0:\n",
    "                for i in data[pid]['appt'][date]['diag']:\n",
    "                    diaglist.append(i)\n",
    "                    # for key, value in i.items():\n",
    "                    #     diaglist.append(value)\n",
    "            elif len(data[pid]['appt'][date]['withinappt']) > 0:\n",
    "                for time in sorted(iter(data[pid]['appt'][date]['withinappt'])):\n",
    "                    for i in data[pid]['appt'][date]['withinappt'][time]['diag']:\n",
    "                        for key, value in i.items():\n",
    "                            diaglist.append(value)"
   ]
  },
  {
   "cell_type": "code",
   "execution_count": 17,
   "metadata": {},
   "outputs": [],
   "source": [
    "diaglist=list(set(diaglist))"
   ]
  },
  {
   "cell_type": "code",
   "execution_count": 18,
   "metadata": {},
   "outputs": [
    {
     "data": {
      "text/plain": [
       "14"
      ]
     },
     "execution_count": 18,
     "metadata": {},
     "output_type": "execute_result"
    }
   ],
   "source": [
    "#create VTE outcome\n",
    "import math\n",
    "c=Counter(diaglist)\n",
    "num=0\n",
    "for i in c:\n",
    "    if isinstance(i, float)==False:\n",
    "        if i[0:3]=='I82':\n",
    "            num=num+c[i]\n",
    "num"
   ]
  },
  {
   "cell_type": "code",
   "execution_count": 19,
   "metadata": {},
   "outputs": [],
   "source": [
    "orderlist = []\n",
    "for pid in data:\n",
    "    if len(data[pid]['appt']) != 0:\n",
    "        for date in sorted(iter(data[pid]['appt'])):\n",
    "            if 'withinappt' not in data[pid]['appt'][date] or len(data[pid]['appt'][date]['withinappt']) == 0:\n",
    "                for icd in range(len(data[pid]['appt'][date]['proc'])):\n",
    "                    orderlist.append(str(data[pid]['appt'][date]['proc'][icd]))\n",
    "            elif len(data[pid]['appt'][date]['withinappt']) > 0:\n",
    "                for time in sorted(iter(data[pid]['appt'][date]['withinappt'])):\n",
    "                    for p in data[pid]['appt'][date]['withinappt'][time]['proc']:\n",
    "                        orderlist.append(p)"
   ]
  },
  {
   "cell_type": "code",
   "execution_count": 20,
   "metadata": {},
   "outputs": [],
   "source": [
    "orderlist=list(set(orderlist))"
   ]
  },
  {
   "cell_type": "code",
   "execution_count": 21,
   "metadata": {},
   "outputs": [],
   "source": [
    "druglist = []\n",
    "for pid in data:\n",
    "    if len(data[pid]['appt']) != 0:\n",
    "        for date in sorted(iter(data[pid]['appt'])):\n",
    "            if 'withinappt' not in data[pid]['appt'][date] or len(data[pid]['appt'][date]['withinappt']) == 0:\n",
    "                for icd in range(len(data[pid]['appt'][date]['drug'])):\n",
    "                    druglist.append(data[pid]['appt'][date]['drug'][icd])\n",
    "                    # druglist.append(data[pid]['appt'][date]['drug'][icd]['name'])\n",
    "            elif len(data[pid]['appt'][date]['withinappt']) > 0:\n",
    "                for time in sorted(iter(data[pid]['appt'][date]['withinappt'])):\n",
    "                    for p in data[pid]['appt'][date]['withinappt'][time]['drug']:\n",
    "                        druglist.append(p['name'])"
   ]
  },
  {
   "cell_type": "code",
   "execution_count": 22,
   "metadata": {},
   "outputs": [],
   "source": [
    "druglist=list(set(druglist))"
   ]
  },
  {
   "cell_type": "code",
   "execution_count": 23,
   "metadata": {},
   "outputs": [
    {
     "data": {
      "text/plain": [
       "1492"
      ]
     },
     "execution_count": 23,
     "metadata": {},
     "output_type": "execute_result"
    }
   ],
   "source": [
    "len(diaglist)"
   ]
  },
  {
   "cell_type": "code",
   "execution_count": 24,
   "metadata": {},
   "outputs": [
    {
     "data": {
      "text/plain": [
       "161"
      ]
     },
     "execution_count": 24,
     "metadata": {},
     "output_type": "execute_result"
    }
   ],
   "source": [
    "len(orderlist)"
   ]
  },
  {
   "cell_type": "code",
   "execution_count": 25,
   "metadata": {},
   "outputs": [
    {
     "data": {
      "text/plain": [
       "1114"
      ]
     },
     "execution_count": 25,
     "metadata": {},
     "output_type": "execute_result"
    }
   ],
   "source": [
    "len(druglist)"
   ]
  },
  {
   "cell_type": "markdown",
   "metadata": {},
   "source": [
    "get diagnoses, orders, and drugs observed by 90%+ of the patients"
   ]
  },
  {
   "cell_type": "code",
   "execution_count": 32,
   "metadata": {},
   "outputs": [],
   "source": [
    "N=len(data)"
   ]
  },
  {
   "cell_type": "code",
   "execution_count": 33,
   "metadata": {},
   "outputs": [
    {
     "data": {
      "text/plain": [
       "1159.2"
      ]
     },
     "execution_count": 33,
     "metadata": {},
     "output_type": "execute_result"
    }
   ],
   "source": [
    "N*0.9"
   ]
  },
  {
   "cell_type": "code",
   "execution_count": 34,
   "metadata": {},
   "outputs": [],
   "source": [
    "diagNotusedbyall=[]\n",
    "for item in diaglist:\n",
    "    used=0\n",
    "    for pid in data:\n",
    "        for date in data[pid]['appt']:\n",
    "            for i in data[pid]['appt'][date]['diag']:\n",
    "                if i==item:\n",
    "                    used+=1\n",
    "    \n",
    "    if used>N*0.9 : #used by more than 90% of patients\n",
    "        diagNotusedbyall.append(item)       "
   ]
  },
  {
   "cell_type": "code",
   "execution_count": 35,
   "metadata": {},
   "outputs": [],
   "source": [
    "orderNotusedbyall=[]\n",
    "for item in orderlist:\n",
    "    used=0\n",
    "    for pid in data:\n",
    "        for date in data[pid]['appt']:\n",
    "            for i in data[pid]['appt'][date]['proc']:\n",
    "                if i==item:\n",
    "                    used+=1\n",
    "    \n",
    "    if used>N*0.9 : #used by more than 90% \n",
    "        orderNotusedbyall.append(item)       "
   ]
  },
  {
   "cell_type": "code",
   "execution_count": 36,
   "metadata": {},
   "outputs": [
    {
     "data": {
      "text/plain": [
       "6"
      ]
     },
     "execution_count": 36,
     "metadata": {},
     "output_type": "execute_result"
    }
   ],
   "source": [
    "len(orderNotusedbyall)"
   ]
  },
  {
   "cell_type": "code",
   "execution_count": 28,
   "metadata": {},
   "outputs": [
    {
     "data": {
      "text/plain": [
       "['CTS AM Labs Order Set',\n",
       " 'Lab_order',\n",
       " 'AM Lab Order Set',\n",
       " 'Heparin  Drip Order Set (Adult)',\n",
       " 'Commonly Used Orders - AM Draw',\n",
       " 'Warfarin Order Set']"
      ]
     },
     "execution_count": 28,
     "metadata": {},
     "output_type": "execute_result"
    }
   ],
   "source": [
    "orderNotusedbyall"
   ]
  },
  {
   "cell_type": "code",
   "execution_count": 37,
   "metadata": {},
   "outputs": [],
   "source": [
    "drugNotusedbyall=[]\n",
    "for item in druglist:\n",
    "    used=0\n",
    "    for pid in data:\n",
    "        for date in data[pid]['appt']:\n",
    "            for i in data[pid]['appt'][date]['drug']:\n",
    "                if i==item:\n",
    "                    used+=1\n",
    "    \n",
    "    if used>N*0.9 :\n",
    "        drugNotusedbyall.append(item)       "
   ]
  },
  {
   "cell_type": "code",
   "execution_count": 38,
   "metadata": {},
   "outputs": [
    {
     "data": {
      "text/plain": [
       "13"
      ]
     },
     "execution_count": 38,
     "metadata": {},
     "output_type": "execute_result"
    }
   ],
   "source": [
    "len(drugNotusedbyall)"
   ]
  },
  {
   "cell_type": "code",
   "execution_count": 39,
   "metadata": {},
   "outputs": [],
   "source": [
    "for pid in data:\n",
    "    for date in sorted(iter(data[pid]['appt'])):\n",
    "        data[pid]['appt'][date]['type'] = 'I'"
   ]
  },
  {
   "cell_type": "code",
   "execution_count": 40,
   "metadata": {},
   "outputs": [],
   "source": [
    "data2 = deepcopy(data)"
   ]
  },
  {
   "cell_type": "markdown",
   "metadata": {},
   "source": [
    "re-labeling orders"
   ]
  },
  {
   "cell_type": "code",
   "execution_count": 41,
   "metadata": {},
   "outputs": [],
   "source": [
    "for pid in data:\n",
    "    for date in sorted(data[pid]['appt']):\n",
    "        data2[pid]['appt'][date]['diag'] = []\n",
    "        data2[pid]['appt'][date]['proc'] = []\n",
    "        data2[pid]['appt'][date]['drugclass'] = []\n",
    "        data2[pid]['appt'][date]['user']=[]\n",
    "#         for icd in range(len(data[pid]['appt'][date]['diag'])):\n",
    "#             if data[pid]['appt'][date]['diag'][icd] in diagNotusedbyall and data[pid]['appt'][date]['diag'][icd] not in data2[pid]['appt'][date]['diag']: #ADD ONLY DIAGNOSIS THAT WE WANT\n",
    "#                 data2[pid]['appt'][date]['diag'].append(data[pid]['appt'][date]['diag'][icd])\n",
    "\n",
    "        for icd in range(len(data[pid]['appt'][date]['proc'])):\n",
    "            if data[pid]['appt'][date]['proc'][icd] in orderNotusedbyall and data[pid]['appt'][date]['proc'][icd] not in data2[pid]['appt'][date]['proc']:\n",
    "                if data[pid]['appt'][date]['proc'][icd]=='AM Lab Order Set' or data[pid]['appt'][date]['proc'][icd]=='CTS AM Labs Order Set':\n",
    "                    data2[pid]['appt'][date]['proc'].append('Commonly Used Orders - AM Draw')\n",
    "                elif data[pid]['appt'][date]['proc'][icd]=='Lab_order':\n",
    "                    pass\n",
    "                else:\n",
    "                    data2[pid]['appt'][date]['proc'].append(str(data[pid]['appt'][date]['proc'][icd]))\n",
    "                data2[pid]['appt'][date]['proc']=list(set(data2[pid]['appt'][date]['proc']))\n",
    "#             if data[pid]['appt'][date]['proc'][icd]== 'Clinical Pathway - Heart Failure Order Set':\n",
    "#                 data2[pid]['appt'][date]['proc'].append(str(data[pid]['appt'][date]['proc'][icd]))\n",
    "#             if data[pid]['appt'][date]['proc'][icd]==  'Clinical Pathway - Heart Failure Order Set (LMH)':\n",
    "#                 data2[pid]['appt'][date]['proc'].append('Clinical Pathway - Heart Failure Order Set')\n",
    "                \n",
    "#             if data[pid]['appt'][date]['proc'][icd]==  'ED Order set - Dyspnea/CHF/COPD/Asthma':\n",
    "#                 data2[pid]['appt'][date]['proc'].append(str(data[pid]['appt'][date]['proc'][icd]))\n",
    "#             if data[pid]['appt'][date]['proc'][icd]==   'ED Order set - Dyspnea/CHF/COPD/Asthma (LMH)':\n",
    "#                 data2[pid]['appt'][date]['proc'].append('ED Order set - Dyspnea/CHF/COPD/Asthma')\n",
    "\n",
    "        for icd in range(len(data[pid]['appt'][date]['drug'])):\n",
    "            if str(data[pid]['appt'][date]['drug'][icd]) in drugNotusedbyall and data[pid]['appt'][date]['drug'][icd] not in data2[pid]['appt'][date]['drugclass']:\n",
    "                if str(data[pid]['appt'][date]['drug'][icd])== 'Furosemide Inj' or str(data[pid]['appt'][date]['drug'][icd])== 'Furosemide Oral':\n",
    "                    data2[pid]['appt'][date]['drug'].append('Furosemide')\n",
    "                    \n",
    "                elif str(data[pid]['appt'][date]['drug'][icd])==  'Insulin Aspart Prandial Scale Pre-Meal' or str(data[pid]['appt'][date]['drug'][icd])==  'Insulin Aspart Bedtime Scale':\n",
    "                    data2[pid]['appt'][date]['drug'].append('Insulin Aspart')\n",
    "                elif str(data[pid]['appt'][date]['drug'][icd])==  'Potassium Chloride Inj' or str(data[pid]['appt'][date]['drug'][icd])==  'Potassium Chloride Oral':\n",
    "                    data2[pid]['appt'][date]['drug'].append('Potassium Chloride') \n",
    "                else:\n",
    "                    data2[pid]['appt'][date]['drug'].append(str(data[pid]['appt'][date]['drug'][icd]))\n",
    "                data2[pid]['appt'][date]['drug']=list(set(data2[pid]['appt'][date]['drug']))\n",
    "\n",
    "        for u in data[pid]['appt'][date]['user']:\n",
    "            if u in Q1 and 'Q1' not in data2[pid]['appt'][date]['user']:\n",
    "                data2[pid]['appt'][date]['user'].append('Q1')\n",
    "            if u in Q3 and 'Q3' not in data2[pid]['appt'][date]['user']:\n",
    "                data2[pid]['appt'][date]['user'].append('Q3')"
   ]
  },
  {
   "cell_type": "code",
   "execution_count": 42,
   "metadata": {},
   "outputs": [
    {
     "data": {
      "text/plain": [
       "1288"
      ]
     },
     "execution_count": 42,
     "metadata": {},
     "output_type": "execute_result"
    }
   ],
   "source": [
    "len(data2)"
   ]
  },
  {
   "cell_type": "code",
   "execution_count": 77,
   "metadata": {},
   "outputs": [],
   "source": [
    "#JSON_FILE = os.path.expanduser(path+\"HF_data_filtered_OS.json\")\n",
    "\n",
    "# with open(JSON_FILE, 'w') as outfile:\n",
    "#     json.dump(data2, outfile, indent=2, sort_keys=True, separators=(',', ': '))\n"
   ]
  },
  {
   "cell_type": "code",
   "execution_count": 78,
   "metadata": {},
   "outputs": [],
   "source": [
    "# pickle_out = open(path + 'HF_data_filtered_OS.pickle', 'wb')\n",
    "# pickle.dump(data2, pickle_out)\n",
    "# pickle_out.close()"
   ]
  },
  {
   "cell_type": "markdown",
   "metadata": {},
   "source": [
    "#get number of users for patients who appeared in data2, if patient is seen by >1 user, remove. Else, categorize patient as treated by high/low users"
   ]
  },
  {
   "cell_type": "code",
   "execution_count": 43,
   "metadata": {},
   "outputs": [],
   "source": [
    "piduser={}\n",
    "for pid in data2:\n",
    "    piduser[pid]=[]\n",
    "    for date in data2[pid]['appt']:\n",
    "        for i in data2[pid]['appt'][date]['user']:\n",
    "            piduser[pid].append(i)\n",
    "    if len(piduser[pid])>0:\n",
    "        piduser[pid]=list(set(piduser[pid]))"
   ]
  },
  {
   "cell_type": "code",
   "execution_count": 45,
   "metadata": {},
   "outputs": [
    {
     "name": "stdout",
     "output_type": "stream",
     "text": [
      "519\n"
     ]
    }
   ],
   "source": [
    "piduser2=deepcopy(piduser)\n",
    "for pid in piduser:\n",
    "    if len(piduser[pid])==1:\n",
    "        pass\n",
    "    else:\n",
    "        del piduser2[pid]\n",
    "print(len(piduser2))"
   ]
  },
  {
   "cell_type": "code",
   "execution_count": 46,
   "metadata": {},
   "outputs": [],
   "source": [
    "data_1Q = deepcopy(data2)\n",
    "for pid in data2:\n",
    "    if pid in piduser2:\n",
    "        if piduser2[pid]==['Q1']:\n",
    "            pass\n",
    "        else:\n",
    "            del data_1Q[pid]\n",
    "    else:\n",
    "        del data_1Q[pid]"
   ]
  },
  {
   "cell_type": "code",
   "execution_count": 47,
   "metadata": {},
   "outputs": [],
   "source": [
    "data_3Q = deepcopy(data2)\n",
    "for pid in data2:\n",
    "    if pid in piduser2:\n",
    "        if piduser2[pid]==['Q3']:\n",
    "            pass\n",
    "        else:\n",
    "            del data_3Q[pid]\n",
    "    else:\n",
    "        del data_3Q[pid]"
   ]
  },
  {
   "cell_type": "code",
   "execution_count": 48,
   "metadata": {},
   "outputs": [
    {
     "name": "stdout",
     "output_type": "stream",
     "text": [
      "189 330\n"
     ]
    }
   ],
   "source": [
    "print(len(data_1Q),len(data_3Q))"
   ]
  },
  {
   "cell_type": "code",
   "execution_count": 49,
   "metadata": {},
   "outputs": [],
   "source": [
    "#only have HF as diagnosis, got from getSourceData.ipynb\n",
    "HFlist=[9001251915900270,9001216906000270,9001121093200270,9001173168800270,9001211775200270,9001246400900270,9001220441100270,9001174426900270,9001247254900270,9001109270200270,9001176608700270,9001241780400270,9001234306600270,9001206891600270,9001179229100270,9001265609400270,9001148298400270,9001282931300270,9001246979700270,9001236154600270,9001232695300270,9001283883400270,9001225771000270,9001180467800270,9001235742900270,9001140573400270,9001262036300270,9001277843700270,9001191425900270,9001170806400270,9001143998000270,9001115258800270,9001251701600270,9001189761100270,9001172050300270,9001213409300270,9001174120900270,9001269084300270,9001192844000270,9001187189200270,9001127051300270,9001145898800270,9001241929400270,9001157423500270,9001281548600270,9001277336200270,9001153999000270,9001124832900270,9001103203000270,9001197850700270,9001122106400270,9001183064500270,9001229215400270,9001190326000270,9001283307400270,9001247873000270,9001271734400270,9001137168300270,9001176846300270,9001219793500270,9001205152300270,9001224174300270,9001180232100270,9001162665900270,9001280700600270,9001122902200270,9001283296000270,9001231182100270,9001175917800270,9001118690900270,9001198997800270,9001199107500270,9001257904300270,9001241691500270,9001217549800270,9001133189700270,9001130637700270,9001139094600270,9001134950300270,9001135748000270,9001208316600270,9001139543800270,9001164070700270,9001250210700270,9001161881700270,9001183117300270,9001169276400270,9001188841900270,9001170830800270,9001175772200270,9001175857400270,9001239669600270,9001173008500270,9001176464400270,9001179229900270,9001134997500270,9001213095600270,9001212260100270,9001190777500270,9001261274500270,9001192647900270,9001221808200270,9001204705400270,9001212284600270,9001213056600270,9001226275500270,9001236382900270,9001238991200270,9001234738100270,9001240443800270,9001282946900270,9001260567600270,9001171950100270,9001185043000270,9001256154500270,9001272344700270,9001217202600270,9001273899200270,9001209675100270,9001231430000270,9001124571900270,9001161193900270,9001284903800270,9001144030000270,9001127460400270,9001284311200270,9001142706400270,9001152684100270,9001146841500270]"
   ]
  },
  {
   "cell_type": "raw",
   "metadata": {},
   "source": [
    "HFlist=[str(i) for i in HFlist]"
   ]
  },
  {
   "cell_type": "code",
   "execution_count": 50,
   "metadata": {},
   "outputs": [
    {
     "name": "stdout",
     "output_type": "stream",
     "text": [
      "91 11.652950310559007\n"
     ]
    }
   ],
   "source": [
    "s=0\n",
    "l=0\n",
    "for pid in data2:\n",
    "#     if int(pid) in HFlist:\n",
    "        s=s+data2[pid]['90day_readmit']\n",
    "        l=l+data2[pid]['LOS']\n",
    "print(s,l/len(data2))"
   ]
  },
  {
   "cell_type": "markdown",
   "metadata": {},
   "source": [
    "compare readmission outcome and LOS across patients treated by high/low users"
   ]
  },
  {
   "cell_type": "code",
   "execution_count": 51,
   "metadata": {},
   "outputs": [
    {
     "name": "stdout",
     "output_type": "stream",
     "text": [
      "18 9.063492063492063\n"
     ]
    }
   ],
   "source": [
    "s=0\n",
    "l=0\n",
    "for pid in data_1Q:\n",
    "#     if int(pid) in HFlist:\n",
    "        s=s+data_1Q[pid]['90day_readmit']\n",
    "        l=l+data_1Q[pid]['LOS']\n",
    "print(s,l/len(data_1Q))"
   ]
  },
  {
   "cell_type": "code",
   "execution_count": 52,
   "metadata": {},
   "outputs": [
    {
     "name": "stdout",
     "output_type": "stream",
     "text": [
      "26 6.666666666666667\n"
     ]
    }
   ],
   "source": [
    "s=0\n",
    "l=0\n",
    "for pid in data_3Q:\n",
    "#     if int(pid) in HFlist:\n",
    "        s=s+data_3Q[pid]['90day_readmit']\n",
    "        l=l+data_3Q[pid]['LOS']\n",
    "print(s,l/len(data_3Q))"
   ]
  },
  {
   "cell_type": "code",
   "execution_count": 409,
   "metadata": {},
   "outputs": [],
   "source": [
    "#all orders for EDDC_18_89, for Disco\n",
    "with open(path+'orders_EDDC_18_89_2012_2018.csv', 'w') as csv_file:\n",
    "    writer = csv.writer(csv_file, delimiter=',')\n",
    "    combined_row = []\n",
    "    combined_row.append('pid')\n",
    "    combined_row.append('date')\n",
    "    combined_row.append('activity')\n",
    "    combined_row.append('user')\n",
    "    writer.writerow(combined_row)\n",
    "    for pid in data2:\n",
    "#         if int(pid) in HFlist:\n",
    "                for date in data2[pid]['appt']:\n",
    "                    if len(data2[pid]['appt'][date]['proc'])>0 or len(data2[pid]['appt'][date]['drug'])>0:\n",
    "                        combined_row = []\n",
    "                        combined_row.append(pid)\n",
    "                        #combined_row.append('@')\n",
    "                        combined_row.append(date)\n",
    "                        #combined_row.append('@')\n",
    "                        combined_row.append(str(sorted(data2[pid]['appt'][date]['proc']))+str(sorted(data2[pid]['appt'][date]['drug'])))\n",
    "                        combined_row.append(data2[pid]['appt'][date]['user'])\n",
    "                        writer.writerow(combined_row)"
   ]
  },
  {
   "cell_type": "code",
   "execution_count": 104,
   "metadata": {},
   "outputs": [],
   "source": [
    "#only patients treated by low users, for Disco, change Q1 to Q3 for high users\n",
    "with open('Q1_orders_EDDC_HFonly_18_89.csv', 'w') as csv_file:\n",
    "    writer = csv.writer(csv_file, delimiter=',')\n",
    "    combined_row = []\n",
    "    combined_row.append('pid')\n",
    "    combined_row.append('date')\n",
    "    combined_row.append('activity')\n",
    "    combined_row.append('user')\n",
    "    writer.writerow(combined_row)\n",
    "    for pid in data2:\n",
    "        if int(pid) in HFlist and pid in piduser2:\n",
    "            if piduser2[pid]==['Q1']:\n",
    "                for date in data2[pid]['appt']:\n",
    "                    if len(data2[pid]['appt'][date]['proc'])>0 or len(data2[pid]['appt'][date]['drug'])>0:\n",
    "                        combined_row = []\n",
    "                        combined_row.append(pid)\n",
    "                        #combined_row.append('@')\n",
    "                        combined_row.append(date)\n",
    "                        #combined_row.append('@')\n",
    "                        combined_row.append(str(sorted(data2[pid]['appt'][date]['proc']))+str(sorted(data2[pid]['appt'][date]['drug'])))\n",
    "                        combined_row.append(data2[pid]['appt'][date]['user'])\n",
    "                        writer.writerow(combined_row)\n",
    "                "
   ]
  },
  {
   "cell_type": "code",
   "execution_count": 114,
   "metadata": {},
   "outputs": [],
   "source": [
    "#SPADE on all orders for EDDC_18_89\n",
    "with open(path+'SPADE_orders_EDDC_HFonly_18_89.csv', 'w') as csv_file:\n",
    "    writer = csv.writer(csv_file, delimiter=',')\n",
    "    writer.writerow(combined_row)\n",
    "    for pid in data2:\n",
    "        if int(pid) in HFlist:\n",
    "            n=0\n",
    "            for date in data2[pid]['appt']:\n",
    "                if len(data2[pid]['appt'][date]['proc'])>0 or len(data2[pid]['appt'][date]['drug'])>0:\n",
    "                    n=n+1\n",
    "                    combined_row = []\n",
    "                    combined_row.append(pid)\n",
    "                    #combined_row.append('@')\n",
    "                    combined_row.append(n)\n",
    "                    #combined_row.append('@')\n",
    "                    combined_row.append('1')\n",
    "                    combined_row.append(str(sorted(data2[pid]['appt'][date]['proc']))+str(sorted(data2[pid]['appt'][date]['drug'])))\n",
    "                    writer.writerow(combined_row)"
   ]
  },
  {
   "cell_type": "code",
   "execution_count": 54,
   "metadata": {},
   "outputs": [],
   "source": [
    "#optional, subgroup for patients with HF diagnosis only\n",
    "data_18_89_HFonly_EDDC = deepcopy(data2)\n",
    "for pid in data2:\n",
    "    if int(pid) in HFlist:\n",
    "        pass\n",
    "    else:\n",
    "        del data_18_89_HFonly_EDDC[pid]"
   ]
  },
  {
   "cell_type": "code",
   "execution_count": 55,
   "metadata": {},
   "outputs": [
    {
     "data": {
      "text/plain": [
       "67"
      ]
     },
     "execution_count": 55,
     "metadata": {},
     "output_type": "execute_result"
    }
   ],
   "source": [
    "len(data_18_89_HFonly_EDDC)"
   ]
  },
  {
   "cell_type": "code",
   "execution_count": 597,
   "metadata": {},
   "outputs": [],
   "source": [
    "pickle_out = open(path + 'data_18_89_EDDC_2012_2018.pickle', 'wb')\n",
    "pickle.dump(data, pickle_out)\n",
    "pickle_out.close()\n"
   ]
  },
  {
   "cell_type": "code",
   "execution_count": null,
   "metadata": {},
   "outputs": [],
   "source": [
    "for pid in data2:\n",
    "    print(pid,data2[pid]['30day_readmit'],data2[pid]['60day_readmit'],data2[pid]['90day_readmit'],data2[pid]['LOS'],data2[pid]['dischargedisposition'])"
   ]
  },
  {
   "cell_type": "code",
   "execution_count": 58,
   "metadata": {},
   "outputs": [],
   "source": [
    "cluster=pd.read_excel('/Users/yiyezhang/Dropbox/Grant-and-IRB/AHRQ R03/Analysis/EDDC_order_2012_2018_cluster.xlsx', sheetname='EDDC_order_2012_2018_cluster')"
   ]
  },
  {
   "cell_type": "markdown",
   "metadata": {},
   "source": [
    "generate cluster-specific data for Disco"
   ]
  },
  {
   "cell_type": "code",
   "execution_count": 650,
   "metadata": {},
   "outputs": [],
   "source": [
    "#data2: filtered\n",
    "#data: all\n",
    "with open(path+'C1_orders_EDDC_HFonly_18_89_6clusters_all.csv', 'w') as csv_file:\n",
    "    writer = csv.writer(csv_file, delimiter=',')\n",
    "    combined_row = []\n",
    "    combined_row.append('pid')\n",
    "    combined_row.append('date')\n",
    "    combined_row.append('activity')\n",
    "    combined_row.append('user')\n",
    "    writer.writerow(combined_row)\n",
    "    for pid in data:\n",
    "        if  int(pid) in cluster['clientvisitguid'].values:\n",
    "#             print(pid,cluster.loc[cluster['clientvisitguid']==int(pid)][['cluster']].values[0])\n",
    "            if cluster.loc[cluster['clientvisitguid']==int(pid)][['cluster6']].values[0]==1:\n",
    "                for date in data[pid]['appt']:\n",
    "                    if len(data[pid]['appt'][date]['proc'])>0 or len(data[pid]['appt'][date]['drug'])>0:\n",
    "                        combined_row = []\n",
    "                        combined_row.append(pid)\n",
    "                        #combined_row.append('@')\n",
    "                        combined_row.append(date)\n",
    "                        #combined_row.append('@')\n",
    "                        combined_row.append(str(sorted(data[pid]['appt'][date]['proc']))+str(sorted(data[pid]['appt'][date]['drug'])))\n",
    "                        combined_row.append(data[pid]['appt'][date]['user'])\n",
    "                        writer.writerow(combined_row)\n",
    "                "
   ]
  },
  {
   "cell_type": "code",
   "execution_count": null,
   "metadata": {},
   "outputs": [],
   "source": [
    "#can skip\n",
    "for pid in data2:\n",
    "    os=0\n",
    "    for date in data2[pid]['appt']:\n",
    "        if  'Clinical Pathway - Heart Failure Order Set (LMH)' in data2[pid]['appt'][date]['proc'] or 'Clinical Pathway - Heart Failure Order Set' in data2[pid]['appt'][date]['proc'] or  'ED Order set - Dyspnea/CHF/COPD/Asthma (LMH)' in data2[pid]['appt'][date]['proc'] or  'ED Order set - Dyspnea/CHF/COPD/Asthma' in data2[pid]['appt'][date]['proc']:\n",
    "            os=1\n",
    "            break\n",
    "    print(pid,os)  "
   ]
  },
  {
   "cell_type": "code",
   "execution_count": 61,
   "metadata": {},
   "outputs": [],
   "source": [
    "#common drugs in cluster 2\n",
    "diaglistC2=[]\n",
    "for pid in data:\n",
    "    if  int(pid) in cluster['clientvisitguid'].values:\n",
    "        if cluster.loc[cluster['clientvisitguid']==int(pid)][['cluster6']].values[0]==2:\n",
    "            for date in data[pid]['appt']:\n",
    "                for icd in data[pid]['appt'][date]['diag']:\n",
    "                    diaglistC2.append(icd)\n",
    "c=Counter(diaglistC2)\n",
    "c_most_common = [item for item in c.most_common(20)]"
   ]
  },
  {
   "cell_type": "code",
   "execution_count": 62,
   "metadata": {},
   "outputs": [
    {
     "data": {
      "text/plain": [
       "[('I50.9', 183),\n",
       " ('N17.9', 107),\n",
       " ('I48.91', 95),\n",
       " ('I10', 89),\n",
       " ('D64.9', 72),\n",
       " ('R06.02', 71),\n",
       " ('I50.23', 69),\n",
       " ('I50.33', 68),\n",
       " ('J18.9', 53),\n",
       " ('E11.9', 46),\n",
       " ('I50.21', 42),\n",
       " ('I25.10', 42),\n",
       " ('R07.9', 38),\n",
       " ('R09.02', 37),\n",
       " ('A41.9', 34),\n",
       " ('R53.1', 34),\n",
       " ('R06.00', 33),\n",
       " ('E87.1', 32),\n",
       " ('I50.30', 32),\n",
       " ('R41.82', 32)]"
      ]
     },
     "execution_count": 62,
     "metadata": {},
     "output_type": "execute_result"
    }
   ],
   "source": [
    "c_most_common"
   ]
  },
  {
   "cell_type": "code",
   "execution_count": 63,
   "metadata": {},
   "outputs": [],
   "source": [
    "orderlistC3=[]\n",
    "for pid in data2:\n",
    "    if  int(pid) in cluster['clientvisitguid'].values:\n",
    "        if cluster.loc[cluster['clientvisitguid']==int(pid)][['cluster']].values[0]==3:\n",
    "            for date in data2[pid]['appt']:\n",
    "                for icd in data2[pid]['appt'][date]['proc']:\n",
    "                    orderlistC3.append(icd)\n",
    "c=Counter(orderlistC3)\n",
    "c_most_common = [item for item in c.most_common(20)]"
   ]
  },
  {
   "cell_type": "code",
   "execution_count": 64,
   "metadata": {},
   "outputs": [
    {
     "data": {
      "text/plain": [
       "[('Commonly Used Orders - AM Draw', 4054),\n",
       " ('Heparin  Drip Order Set (Adult)', 875),\n",
       " ('Warfarin Order Set', 566)]"
      ]
     },
     "execution_count": 64,
     "metadata": {},
     "output_type": "execute_result"
    }
   ],
   "source": [
    "c_most_common"
   ]
  },
  {
   "cell_type": "code",
   "execution_count": 65,
   "metadata": {},
   "outputs": [],
   "source": [
    "druglistC3=[]\n",
    "for pid in data2:\n",
    "    if  int(pid) in cluster['clientvisitguid'].values:\n",
    "        if cluster.loc[cluster['clientvisitguid']==int(pid)][['cluster']].values[0]==3:\n",
    "            for date in data2[pid]['appt']:\n",
    "                for icd in data2[pid]['appt'][date]['drug']:\n",
    "                    druglistC3.append(icd)\n",
    "c=Counter(druglistC3)\n",
    "c_most_common = [item for item in c.most_common(20)]"
   ]
  },
  {
   "cell_type": "code",
   "execution_count": 66,
   "metadata": {},
   "outputs": [
    {
     "data": {
      "text/plain": [
       "[('Potassium Chloride', 1662),\n",
       " ('Magnesium Sulfate Inj', 1412),\n",
       " ('Warfarin Sodium Oral', 1374),\n",
       " ('Potassium Chloride Oral', 1121),\n",
       " ('Heparin Drip', 1097),\n",
       " ('Furosemide', 1093),\n",
       " ('Bumetanide Inj', 994),\n",
       " ('Magnesium Oxide Oral', 946),\n",
       " ('Furosemide Inj', 919),\n",
       " ('Potassium Chloride Inj', 644),\n",
       " ('HYDROmorphone Inj', 551),\n",
       " ('Potassium Chloride Oral Liq', 353),\n",
       " ('Insulin Aspart', 343),\n",
       " ('Insulin Aspart Prandial Scale Pre-Meal', 335),\n",
       " ('Calcium Gluconate Inj', 301),\n",
       " ('Metolazone Oral', 294),\n",
       " ('Insulin Aspart Bedtime Scale', 282),\n",
       " ('Bumetanide DRIP', 276),\n",
       " ('Acetaminophen Tab', 272),\n",
       " ('Metoprolol Tartrate Tab', 269)]"
      ]
     },
     "execution_count": 66,
     "metadata": {},
     "output_type": "execute_result"
    }
   ],
   "source": [
    "c_most_common"
   ]
  },
  {
   "cell_type": "code",
   "execution_count": null,
   "metadata": {},
   "outputs": [],
   "source": [
    "#generate number of diagnosis\n",
    "diaglistpt={}\n",
    "for pid in data:\n",
    "    diaglistpt[pid]=[]\n",
    "    for date in data[pid]['appt']:\n",
    "        for icd in data[pid]['appt'][date]['diag']:\n",
    "            if icd not in diaglistpt[pid] and pd.isna(icd)==False:\n",
    "                diaglistpt[pid].append(icd)\n",
    "    print(pid,len(diaglistpt[pid]))"
   ]
  },
  {
   "cell_type": "code",
   "execution_count": 68,
   "metadata": {},
   "outputs": [
    {
     "name": "stdout",
     "output_type": "stream",
     "text": [
      "161 6\n",
      "1114 13\n",
      "1492 1\n"
     ]
    }
   ],
   "source": [
    "print(len(orderlist),len(orderNotusedbyall))\n",
    "print(len(druglist),len(drugNotusedbyall))\n",
    "print(len(diaglist),len(diagNotusedbyall))"
   ]
  },
  {
   "cell_type": "markdown",
   "metadata": {},
   "source": [
    "below are list for CCW: https://www2.ccwdata.org/web/guest/condition-categories, ask Yufang for code"
   ]
  },
  {
   "cell_type": "code",
   "execution_count": 602,
   "metadata": {},
   "outputs": [],
   "source": [
    "obesity=['DXE66.01'\t,\n",
    "'E66.09'\t,\n",
    "'E66.1'\t,\n",
    "'E66.2'\t,\n",
    "'E66.8'\t,\n",
    "'E66.9'\t,\n",
    "'Z68.30'\t,\n",
    "'Z68.31'\t,\n",
    "'Z68.32'\t,\n",
    "'Z68.33'\t,\n",
    "'Z68.34'\t,\n",
    "'Z68.35'\t,\n",
    "'Z68.36'\t,\n",
    "'Z68.37'\t,\n",
    "'Z68.38'\t,\n",
    "'Z68.39'\t,\n",
    "'Z68.41'\t,\n",
    "'Z68.42'\t,\n",
    "'Z68.43'\t,\n",
    "'Z68.44'\t,\n",
    "'Z68.45'\t,]"
   ]
  },
  {
   "cell_type": "code",
   "execution_count": 604,
   "metadata": {},
   "outputs": [],
   "source": [
    "depression=['DXF31.30'\t,\n",
    "'F31.31'\t,\n",
    "'F31.32'\t,\n",
    "'F31.4'\t,\n",
    "'F31.5'\t,\n",
    "'F31.60'\t,\n",
    "'F31.61'\t,\n",
    "'F31.62'\t,\n",
    "'F31.63'\t,\n",
    "'F31.64'\t,\n",
    "'F31.75'\t,\n",
    "'F31.76'\t,\n",
    "'F31.77'\t,\n",
    "'F31.78'\t,\n",
    "'F31.81'\t,\n",
    "'F32.0'\t,\n",
    "'F32.1'\t,\n",
    "'F32.2'\t,\n",
    "'F32.3'\t,\n",
    "'F32.4'\t,\n",
    "'F32.5'\t,\n",
    "'F32.9'\t,\n",
    "'F33.0'\t,\n",
    "'F33.1'\t,\n",
    "'F33.2'\t,\n",
    "'F33.3'\t,\n",
    "'F33.40'\t,\n",
    "'F33.41'\t,\n",
    "'F33.42'\t,\n",
    "'F33.8'\t,\n",
    "'F33.9'\t,\n",
    "'F34.1'\t,\n",
    "'F43.21'\t,\n",
    "'F43.23'\t]"
   ]
  },
  {
   "cell_type": "code",
   "execution_count": 606,
   "metadata": {},
   "outputs": [],
   "source": [
    "HTN=['DXH35.031'\t,\n",
    "'H35.032'\t,\n",
    "'H35.033'\t,\n",
    "'H35.039'\t,\n",
    "'I10'\t,\n",
    "'I11.0'\t,\n",
    "'I11.9'\t,\n",
    "'I12.0'\t,\n",
    "'I12.9'\t,\n",
    "'I13.0'\t,\n",
    "'I13.10'\t,\n",
    "'I13.11'\t,\n",
    "'I13.2'\t,\n",
    "'I15.0'\t,\n",
    "'I15.1'\t,\n",
    "'I15.2'\t,\n",
    "'I15.8'\t,\n",
    "'I15.9'\t,\n",
    "'I67.4'\t,\n",
    "'N26.2']"
   ]
  },
  {
   "cell_type": "code",
   "execution_count": 608,
   "metadata": {},
   "outputs": [],
   "source": [
    "DM=['DXE08.00'\t,\n",
    "'E08.01'\t,\n",
    "'E08.10'\t,\n",
    "'E08.11'\t,\n",
    "'E08.21'\t,\n",
    "'E08.22'\t,\n",
    "'E08.29'\t,\n",
    "'E08.311'\t,\n",
    "'E08.319'\t,\n",
    "'E08.321'\t,\n",
    "'E08.3211'\t,\n",
    "'E08.3212'\t,\n",
    "'E08.3213'\t,\n",
    "'E08.3219'\t,\n",
    "'E08.329'\t,\n",
    "'E08.3291'\t,\n",
    "'E08.3292'\t,\n",
    "'E08.3293'\t,\n",
    "'E08.3299'\t,\n",
    "'E08.331'\t,\n",
    "'E08.3311'\t,\n",
    "'E08.3312'\t,\n",
    "'E08.3313'\t,\n",
    "'E08.3319'\t,\n",
    "'E08.339'\t,\n",
    "'E08.3391'\t,\n",
    "'E08.3392'\t,\n",
    "'E08.3393'\t,\n",
    "'E08.3399'\t,\n",
    "'E08.341'\t,\n",
    "'E08.3411'\t,\n",
    "'E08.3412'\t,\n",
    "'E08.3413'\t,\n",
    "'E08.3419'\t,\n",
    "'E08.349'\t,\n",
    "'E08.3491'\t,\n",
    "'E08.3492'\t,\n",
    "'E08.3493'\t,\n",
    "'E08.3499'\t,\n",
    "'E08.351'\t,\n",
    "'E08.3511'\t,\n",
    "'E08.3512'\t,\n",
    "'E08.3513'\t,\n",
    "'E08.3519'\t,\n",
    "'E08.3521'\t,\n",
    "'E08.3522'\t,\n",
    "'E08.3523'\t,\n",
    "'E08.3529'\t,\n",
    "'E08.3531'\t,\n",
    "'E08.3532'\t,\n",
    "'E08.3533'\t,\n",
    "'E08.3539'\t,\n",
    "'E08.3541'\t,\n",
    "'E08.3542'\t,\n",
    "'E08.3543'\t,\n",
    "'E08.3549'\t,\n",
    "'E08.3551'\t,\n",
    "'E08.3552'\t,\n",
    "'E08.3553'\t,\n",
    "'E08.3559'\t,\n",
    "'E08.359'\t,\n",
    "'E08.3591'\t,\n",
    "'E08.3592'\t,\n",
    "'E08.3593'\t,\n",
    "'E08.3599'\t,\n",
    "'E08.36'\t,\n",
    "'E08.37X1'\t,\n",
    "'E08.37X2'\t,\n",
    "'E08.37X3'\t,\n",
    "'E08.37X9'\t,\n",
    "'E08.39'\t,\n",
    "'E08.40'\t,\n",
    "'E08.41'\t,\n",
    "'E08.42'\t,\n",
    "'E08.43'\t,\n",
    "'E08.44'\t,\n",
    "'E08.49'\t,\n",
    "'E08.51'\t,\n",
    "'E08.52'\t,\n",
    "'E08.59'\t,\n",
    "'E08.610'\t,\n",
    "'E08.618'\t,\n",
    "'E08.620'\t,\n",
    "'E08.621'\t,\n",
    "'E08.622'\t,\n",
    "'E08.628'\t,\n",
    "'E08.630'\t,\n",
    "'E08.638'\t,\n",
    "'E08.641'\t,\n",
    "'E08.649'\t,\n",
    "'E08.65'\t,\n",
    "'E08.69'\t,\n",
    "'E08.8'\t,\n",
    "'E08.9'\t,\n",
    "'E09.00'\t,\n",
    "'E09.01'\t,\n",
    "'E09.10'\t,\n",
    "'E09.11'\t,\n",
    "'E09.21'\t,\n",
    "'E09.22'\t,\n",
    "'E09.29'\t,\n",
    "'E09.311'\t,\n",
    "'E09.319'\t,\n",
    "'E09.321'\t,\n",
    "'E09.3211'\t,\n",
    "'E09.3212'\t,\n",
    "'E09.3213'\t,\n",
    "'E09.3219'\t,\n",
    "'E09.329'\t,\n",
    "'E09.3291'\t,\n",
    "'E09.3292'\t,\n",
    "'E09.3293'\t,\n",
    "'E09.3299'\t,\n",
    "'E09.331'\t,\n",
    "'E09.3311'\t,\n",
    "'E09.3312'\t,\n",
    "'E09.3313'\t,\n",
    "'E09.3319'\t,\n",
    "'E09.339'\t,\n",
    "'E09.3391'\t,\n",
    "'E09.3392'\t,\n",
    "'E09.3393'\t,\n",
    "'E09.3399'\t,\n",
    "'E09.341'\t,\n",
    "'E09.3411'\t,\n",
    "'E09.3412'\t,\n",
    "'E09.3413'\t,\n",
    "'E09.3419'\t,\n",
    "'E09.349'\t,\n",
    "'E09.3491'\t,\n",
    "'E09.3492'\t,\n",
    "'E09.3493'\t,\n",
    "'E09.3499'\t,\n",
    "'E09.351'\t,\n",
    "'E09.3511'\t,\n",
    "'E09.3512'\t,\n",
    "'E09.3513'\t,\n",
    "'E09.3519'\t,\n",
    "'E09.3521'\t,\n",
    "'E09.3522'\t,\n",
    "'E09.3523'\t,\n",
    "'E09.3529'\t,\n",
    "'E09.3531'\t,\n",
    "'E09.3532'\t,\n",
    "'E09.3533'\t,\n",
    "'E09.3539'\t,\n",
    "'E09.3541'\t,\n",
    "'E09.3542'\t,\n",
    "'E09.3543'\t,\n",
    "'E09.3549'\t,\n",
    "'E09.3551'\t,\n",
    "'E09.3552'\t,\n",
    "'E09.3553'\t,\n",
    "'E09.3559'\t,\n",
    "'E09.359'\t,\n",
    "'E09.3591'\t,\n",
    "'E09.3592'\t,\n",
    "'E09.3593'\t,\n",
    "'E09.3599'\t,\n",
    "'E09.36'\t,\n",
    "'E09.37X1'\t,\n",
    "'E09.37X2'\t,\n",
    "'E09.37X3'\t,\n",
    "'E09.37X9'\t,\n",
    "'E09.39'\t,\n",
    "'E09.40'\t,\n",
    "'E09.41'\t,\n",
    "'E09.42'\t,\n",
    "'E09.43'\t,\n",
    "'E09.44'\t,\n",
    "'E09.49'\t,\n",
    "'E09.51'\t,\n",
    "'E09.52'\t,\n",
    "'E09.59'\t,\n",
    "'E09.610'\t,\n",
    "'E09.618'\t,\n",
    "'E09.620'\t,\n",
    "'E09.621'\t,\n",
    "'E09.622'\t,\n",
    "'E09.628'\t,\n",
    "'E09.630'\t,\n",
    "'E09.638'\t,\n",
    "'E09.641'\t,\n",
    "'E09.649'\t,\n",
    "'E09.65'\t,\n",
    "'E09.69'\t,\n",
    "'E09.8'\t,\n",
    "'E09.9'\t,\n",
    "'E10.10'\t,\n",
    "'E10.11'\t,\n",
    "'E10.21'\t,\n",
    "'E10.22'\t,\n",
    "'E10.29'\t,\n",
    "'E10.311'\t,\n",
    "'E10.319'\t,\n",
    "'E10.321'\t,\n",
    "'E10.3211'\t,\n",
    "'E10.3212'\t,\n",
    "'E10.3213'\t,\n",
    "'E10.3219'\t,\n",
    "'E10.329'\t,\n",
    "'E10.3291'\t,\n",
    "'E10.3292'\t,\n",
    "'E10.3293'\t,\n",
    "'E10.3299'\t,\n",
    "'E10.331'\t,\n",
    "'E10.3311'\t,\n",
    "'E10.3312'\t,\n",
    "'E10.3313'\t,\n",
    "'E10.3319'\t,\n",
    "'E10.339'\t,\n",
    "'E10.3391'\t,\n",
    "'E10.3392'\t,\n",
    "'E10.3393'\t,\n",
    "'E10.3399'\t,\n",
    "'E10.341'\t,\n",
    "'E10.3411'\t,\n",
    "'E10.3412'\t,\n",
    "'E10.3413'\t,\n",
    "'E10.3419'\t,\n",
    "'E10.349'\t,\n",
    "'E10.3491'\t,\n",
    "'E10.3492'\t,\n",
    "'E10.3493'\t,\n",
    "'E10.3499'\t,\n",
    "'E10.351'\t,\n",
    "'E10.3511'\t,\n",
    "'E10.3512'\t,\n",
    "'E10.3513'\t,\n",
    "'E10.3519'\t,\n",
    "'E10.359'\t,\n",
    "'E10.36'\t,\n",
    "'E10.37X1'\t,\n",
    "'E10.37X2'\t,\n",
    "'E10.37X3'\t,\n",
    "'E10.37X9'\t,\n",
    "'E10.39'\t,\n",
    "'E10.40'\t,\n",
    "'E10.41'\t,\n",
    "'E10.42'\t,\n",
    "'E10.43'\t,\n",
    "'E10.44'\t,\n",
    "'E10.49'\t,\n",
    "'E10.51'\t,\n",
    "'E10.52'\t,\n",
    "'E10.59'\t,\n",
    "'E10.610'\t,\n",
    "'E10.618'\t,\n",
    "'E10.620'\t,\n",
    "'E10.621'\t,\n",
    "'E10.622'\t,\n",
    "'E10.628'\t,\n",
    "'E10.630'\t,\n",
    "'E10.638'\t,\n",
    "'E10.641'\t,\n",
    "'E10.649'\t,\n",
    "'E10.65'\t,\n",
    "'E10.69'\t,\n",
    "'E10.8'\t,\n",
    "'E10.9'\t,\n",
    "'E11.00'\t,\n",
    "'E11.01'\t,\n",
    "'E11.10'\t,\n",
    "'E11.11'\t,\n",
    "'E11.21'\t,\n",
    "'E11.22'\t,\n",
    "'E11.29'\t,\n",
    "'E11.311'\t,\n",
    "'E11.319'\t,\n",
    "'E11.321'\t,\n",
    "'E11.3211'\t,\n",
    "'E11.3212'\t,\n",
    "'E11.3213'\t,\n",
    "'E11.3219'\t,\n",
    "'E11.329'\t,\n",
    "'E11.3291'\t,\n",
    "'E11.3292'\t,\n",
    "'E11.3293'\t,\n",
    "'E11.3299'\t,\n",
    "'E11.331'\t,\n",
    "'E11.3311'\t,\n",
    "'E11.3312'\t,\n",
    "'E11.3313'\t,\n",
    "'E11.3319'\t,\n",
    "'E11.339'\t,\n",
    "'E11.3391'\t,\n",
    "'E11.3392'\t,\n",
    "'E11.3393'\t,\n",
    "'E11.3399'\t,\n",
    "'E11.341'\t,\n",
    "'E11.3411'\t,\n",
    "'E11.3412'\t,\n",
    "'E11.3413'\t,\n",
    "'E11.3419'\t,\n",
    "'E11.349'\t,\n",
    "'E11.3491'\t,\n",
    "'E11.3492'\t,\n",
    "'E11.3493'\t,\n",
    "'E11.3499'\t,\n",
    "'E11.351'\t,\n",
    "'E11.3511'\t,\n",
    "'E11.3512'\t,\n",
    "'E11.3513'\t,\n",
    "'E11.3519'\t,\n",
    "'E11.3521'\t,\n",
    "'E11.3522'\t,\n",
    "'E11.3523'\t,\n",
    "'E11.3529'\t,\n",
    "'E11.3531'\t,\n",
    "'E11.3532'\t,\n",
    "'E11.3533'\t,\n",
    "'E11.3539'\t,\n",
    "'E11.3541'\t,\n",
    "'E11.3542'\t,\n",
    "'E11.3543'\t,\n",
    "'E11.3549'\t,\n",
    "'E11.3551'\t,\n",
    "'E11.3552'\t,\n",
    "'E11.3553'\t,\n",
    "'E11.3559'\t,\n",
    "'E11.359'\t,\n",
    "'E11.3591'\t,\n",
    "'E11.3592'\t,\n",
    "'E11.3593'\t,\n",
    "'E11.3599'\t,\n",
    "'E11.36'\t,\n",
    "'E11.37X1'\t,\n",
    "'E11.37X2'\t,\n",
    "'E11.37X3'\t,\n",
    "'E11.37X9'\t,\n",
    "'E11.39'\t,\n",
    "'E11.40'\t,\n",
    "'E11.41'\t,\n",
    "'E11.42'\t,\n",
    "'E11.43'\t,\n",
    "'E11.44'\t,\n",
    "'E11.49'\t,\n",
    "'E11.51'\t,\n",
    "'E11.52'\t,\n",
    "'E11.59'\t,\n",
    "'E11.610'\t,\n",
    "'E11.618'\t,\n",
    "'E11.620'\t,\n",
    "'E11.621'\t,\n",
    "'E11.622'\t,\n",
    "'E11.628'\t,\n",
    "'E11.630'\t,\n",
    "'E11.638'\t,\n",
    "'E11.641'\t,\n",
    "'E11.649'\t,\n",
    "'E11.65'\t,\n",
    "'E11.69'\t,\n",
    "'E11.8'\t,\n",
    "'E11.9'\t,\n",
    "'E13.00'\t,\n",
    "'E13.01'\t,\n",
    "'E13.10'\t,\n",
    "'E13.11'\t,\n",
    "'E13.21'\t,\n",
    "'E13.22'\t,\n",
    "'E13.29'\t,\n",
    "'E13.311'\t,\n",
    "'E13.319'\t,\n",
    "'E13.321'\t,\n",
    "'E13.3211'\t,\n",
    "'E13.3212'\t,\n",
    "'E13.3213'\t,\n",
    "'E13.3219'\t,\n",
    "'E13.329'\t,\n",
    "'E13.3291'\t,\n",
    "'E13.3292'\t,\n",
    "'E13.3293'\t,\n",
    "'E13.3299'\t,\n",
    "'E13.331'\t,\n",
    "'E13.3311'\t,\n",
    "'E13.3312'\t,\n",
    "'E13.3313'\t,\n",
    "'E13.3319'\t,\n",
    "'E13.339'\t,\n",
    "'E13.3391'\t,\n",
    "'E13.3392'\t,\n",
    "'E13.3393'\t,\n",
    "'E13.3399'\t,\n",
    "'E13.341'\t,\n",
    "'E13.3411'\t,\n",
    "'E13.3412'\t,\n",
    "'E13.3413'\t,\n",
    "'E13.3419'\t,\n",
    "'E13.349'\t,\n",
    "'E13.3491'\t,\n",
    "'E13.3492'\t,\n",
    "'E13.3493'\t,\n",
    "'E13.3499'\t,\n",
    "'E13.351'\t,\n",
    "'E13.3511'\t,\n",
    "'E13.3512'\t,\n",
    "'E13.3513'\t,\n",
    "'E13.3519'\t,\n",
    "'E13.3521'\t,\n",
    "'E13.3522'\t,\n",
    "'E13.3523'\t,\n",
    "'E13.3529'\t,\n",
    "'E13.3531'\t,\n",
    "'E13.3532'\t,\n",
    "'E13.3533'\t,\n",
    "'E13.3539'\t,\n",
    "'E13.3541'\t,\n",
    "'E13.3542'\t,\n",
    "'E13.3543'\t,\n",
    "'E13.3549'\t,\n",
    "'E13.3551'\t,\n",
    "'E13.3552'\t,\n",
    "'E13.3553'\t,\n",
    "'E13.3559'\t,\n",
    "'E13.359'\t,\n",
    "'E13.36'\t,\n",
    "'E13.39'\t,\n",
    "'E13.40'\t,\n",
    "'E13.41'\t,\n",
    "'E13.42'\t,\n",
    "'E13.43'\t,\n",
    "'E13.44'\t,\n",
    "'E13.49'\t,\n",
    "'E13.51'\t,\n",
    "'E13.52'\t,\n",
    "'E13.59'\t,\n",
    "'E13.610'\t,\n",
    "'E13.618'\t,\n",
    "'E13.620'\t,\n",
    "'E13.621'\t,\n",
    "'E13.622'\t,\n",
    "'E13.628'\t,\n",
    "'E13.630'\t,\n",
    "'E13.638'\t,\n",
    "'E13.641'\t,\n",
    "'E13.649'\t,\n",
    "'E13.65'\t,\n",
    "'E13.69'\t,\n",
    "'E13.8'\t,\n",
    "'E13.9']"
   ]
  },
  {
   "cell_type": "code",
   "execution_count": 610,
   "metadata": {},
   "outputs": [],
   "source": [
    "Ischemic=['DXI20.0'\t,\n",
    "'I20.1'\t,\n",
    "'I20.8'\t,\n",
    "'I20.9'\t,\n",
    "'I21.01'\t,\n",
    "'I21.02'\t,\n",
    "'I21.09'\t,\n",
    "'I21.11'\t,\n",
    "'I21.19'\t,\n",
    "'I21.21'\t,\n",
    "'I21.29'\t,\n",
    "'I21.3'\t,\n",
    "'I21.4'\t,\n",
    "'I21.A1'\t,\n",
    "'I21.A9'\t,\n",
    "'I22.0'\t,\n",
    "'I22.1'\t,\n",
    "'I22.2'\t,\n",
    "'I22.8'\t,\n",
    "'I22.9'\t,\n",
    "'I23.0'\t,\n",
    "'I23.1'\t,\n",
    "'I23.2'\t,\n",
    "'I23.3'\t,\n",
    "'I23.4'\t,\n",
    "'I23.5'\t,\n",
    "'I23.6'\t,\n",
    "'I23.7'\t,\n",
    "'I23.8'\t,\n",
    "'I24.0'\t,\n",
    "'I24.1'\t,\n",
    "'I24.8'\t,\n",
    "'I24.9'\t,\n",
    "'I25.10'\t,\n",
    "'I25.110'\t,\n",
    "'I25.111'\t,\n",
    "'I25.118'\t,\n",
    "'I25.119'\t,\n",
    "'I25.2'\t,\n",
    "'I25.3'\t,\n",
    "'I25.41'\t,\n",
    "'I25.42'\t,\n",
    "'I25.5'\t,\n",
    "'I25.6'\t,\n",
    "'I25.700'\t,\n",
    "'I25.701'\t,\n",
    "'I25.708'\t,\n",
    "'I25.709'\t,\n",
    "'I25.710'\t,\n",
    "'I25.711'\t,\n",
    "'I25.718'\t,\n",
    "'I25.719'\t,\n",
    "'I25.720'\t,\n",
    "'I25.721'\t,\n",
    "'I25.728'\t,\n",
    "'I25.729'\t,\n",
    "'I25.730'\t,\n",
    "'I25.731'\t,\n",
    "'I25.738'\t,\n",
    "'I25.739'\t,\n",
    "'I25.750'\t,\n",
    "'I25.751'\t,\n",
    "'I25.758'\t,\n",
    "'I25.759'\t,\n",
    "'I25.760'\t,\n",
    "'I25.761'\t,\n",
    "'I25.768'\t,\n",
    "'I25.769'\t,\n",
    "'I25.790'\t,\n",
    "'I25.791'\t,\n",
    "'I25.798'\t,\n",
    "'I25.799'\t,\n",
    "'I25.810'\t,\n",
    "'I25.811'\t,\n",
    "'I25.812'\t,\n",
    "'I25.82'\t,\n",
    "'I25.83'\t,\n",
    "'I25.84'\t,\n",
    "'I25.89'\t,\n",
    "'I25.9']"
   ]
  },
  {
   "cell_type": "code",
   "execution_count": 612,
   "metadata": {},
   "outputs": [],
   "source": [
    "Afib=['DXI48.0'\t,\n",
    "'I48.1'\t,\n",
    "'I48.2'\t,\n",
    "'I48.91'\t]"
   ]
  },
  {
   "cell_type": "code",
   "execution_count": 614,
   "metadata": {},
   "outputs": [],
   "source": [
    "CKD=['DXA18.11'\t,\n",
    "'A52.75'\t,\n",
    "'B52.0'\t,\n",
    "'C64.1'\t,\n",
    "'C64.2'\t,\n",
    "'C64.9'\t,\n",
    "'C68.9'\t,\n",
    "'D30.00'\t,\n",
    "'D30.01'\t,\n",
    "'D30.02'\t,\n",
    "'D41.00'\t,\n",
    "'D41.01'\t,\n",
    "'D41.02'\t,\n",
    "'D41.10'\t,\n",
    "'D41.11'\t,\n",
    "'D41.12'\t,\n",
    "'D41.20'\t,\n",
    "'D41.21'\t,\n",
    "'D41.22'\t,\n",
    "'D59.3'\t,\n",
    "'E08.21'\t,\n",
    "'E08.22'\t,\n",
    "'E08.29'\t,\n",
    "'E08.65'\t,\n",
    "'E09.21'\t,\n",
    "'E09.22'\t,\n",
    "'E09.29'\t,\n",
    "'E10.21'\t,\n",
    "'E10.22'\t,\n",
    "'E10.29'\t,\n",
    "'E10.65'\t,\n",
    "'E11.21'\t,\n",
    "'E11.22'\t,\n",
    "'E11.29'\t,\n",
    "'E11.65'\t,\n",
    "'E13.21'\t,\n",
    "'E13.22'\t,\n",
    "'E13.29'\t,\n",
    "'E74.8'\t,\n",
    "'I12.0'\t,\n",
    "'I12.9'\t,\n",
    "'I13.0'\t,\n",
    "'I13.10'\t,\n",
    "'I13.11'\t,\n",
    "'I13.2'\t,\n",
    "'I70.1'\t,\n",
    "'I72.2'\t,\n",
    "'K76.7'\t,\n",
    "'M10.30'\t,\n",
    "'M10.311'\t,\n",
    "'M10.312'\t,\n",
    "'M10.319'\t,\n",
    "'M10.321'\t,\n",
    "'M10.322'\t,\n",
    "'M10.329'\t,\n",
    "'M10.331'\t,\n",
    "'M10.332'\t,\n",
    "'M10.339'\t,\n",
    "'M10.341'\t,\n",
    "'M10.342'\t,\n",
    "'M10.349'\t,\n",
    "'M10.351'\t,\n",
    "'M10.352'\t,\n",
    "'M10.359'\t,\n",
    "'M10.361'\t,\n",
    "'M10.362'\t,\n",
    "'M10.369'\t,\n",
    "'M10.371'\t,\n",
    "'M10.372'\t,\n",
    "'M10.379'\t,\n",
    "'M10.38'\t,\n",
    "'M10.39'\t,\n",
    "'M32.14'\t,\n",
    "'M32.15'\t,\n",
    "'M35.04'\t,\n",
    "'N00.0'\t,\n",
    "'N00.1'\t,\n",
    "'N00.2'\t,\n",
    "'N00.3'\t,\n",
    "'N00.4'\t,\n",
    "'N00.5'\t,\n",
    "'N00.6'\t,\n",
    "'N00.7'\t,\n",
    "'N00.8'\t,\n",
    "'N00.9'\t,\n",
    "'N01.0'\t,\n",
    "'N01.1'\t,\n",
    "'N01.2'\t,\n",
    "'N01.3'\t,\n",
    "'N01.4'\t,\n",
    "'N01.5'\t,\n",
    "'N01.6'\t,\n",
    "'N01.7'\t,\n",
    "'N01.8'\t,\n",
    "'N01.9'\t,\n",
    "'N02.0'\t,\n",
    "'N02.1'\t,\n",
    "'N02.2'\t,\n",
    "'N02.3'\t,\n",
    "'N02.4'\t,\n",
    "'N02.5'\t,\n",
    "'N02.6'\t,\n",
    "'N02.7'\t,\n",
    "'N02.8'\t,\n",
    "'N02.9'\t,\n",
    "'N03.0'\t,\n",
    "'N03.1'\t,\n",
    "'N03.2'\t,\n",
    "'N03.3'\t,\n",
    "'N03.4'\t,\n",
    "'N03.5'\t,\n",
    "'N03.6'\t,\n",
    "'N03.7'\t,\n",
    "'N03.8'\t,\n",
    "'N03.9'\t,\n",
    "'N04.0'\t,\n",
    "'N04.1'\t,\n",
    "'N04.2'\t,\n",
    "'N04.3'\t,\n",
    "'N04.4'\t,\n",
    "'N04.5'\t,\n",
    "'N04.6'\t,\n",
    "'N04.7'\t,\n",
    "'N04.8'\t,\n",
    "'N04.9'\t,\n",
    "'N05.0'\t,\n",
    "'N05.1'\t,\n",
    "'N05.2'\t,\n",
    "'N05.3'\t,\n",
    "'N05.4'\t,\n",
    "'N05.5'\t,\n",
    "'N05.6'\t,\n",
    "'N05.7'\t,\n",
    "'N05.8'\t,\n",
    "'N05.9'\t,\n",
    "'N06.0'\t,\n",
    "'N06.1'\t,\n",
    "'N06.2'\t,\n",
    "'N06.3'\t,\n",
    "'N06.4'\t,\n",
    "'N06.5'\t,\n",
    "'N06.6'\t,\n",
    "'N06.7'\t,\n",
    "'N06.8'\t,\n",
    "'N06.9'\t,\n",
    "'N07.0'\t,\n",
    "'N07.1'\t,\n",
    "'N07.2'\t,\n",
    "'N07.3'\t,\n",
    "'N07.4'\t,\n",
    "'N07.5'\t,\n",
    "'N07.6'\t,\n",
    "'N07.7'\t,\n",
    "'N07.8'\t,\n",
    "'N07.9'\t,\n",
    "'N08'\t,\n",
    "'N13.1'\t,\n",
    "'N13.2'\t,\n",
    "'N13.30'\t,\n",
    "'N13.39'\t,\n",
    "'N14.0'\t,\n",
    "'N14.1'\t,\n",
    "'N14.2'\t,\n",
    "'N14.3'\t,\n",
    "'N14.4'\t,\n",
    "'N15.0'\t,\n",
    "'N15.8'\t,\n",
    "'N15.9'\t,\n",
    "'N16'\t,\n",
    "'N17.0'\t,\n",
    "'N17.1'\t,\n",
    "'N17.2'\t,\n",
    "'N17.8'\t,\n",
    "'N17.9'\t,\n",
    "'N18.1'\t,\n",
    "'N18.2'\t,\n",
    "'N18.3'\t,\n",
    "'N18.4'\t,\n",
    "'N18.5'\t,\n",
    "'N18.6'\t,\n",
    "'N18.9'\t,\n",
    "'N19'\t,\n",
    "'N25.0'\t,\n",
    "'N25.1'\t,\n",
    "'N25.81'\t,\n",
    "'N25.89'\t,\n",
    "'N25.9'\t,\n",
    "'N26.1'\t,\n",
    "'N26.9'\t,\n",
    "'Q61.02'\t,\n",
    "'Q61.11'\t,\n",
    "'Q61.19'\t,\n",
    "'Q61.2'\t,\n",
    "'Q61.3'\t,\n",
    "'Q61.4'\t,\n",
    "'Q61.5'\t,\n",
    "'Q61.8'\t,\n",
    "'Q62.0'\t,\n",
    "'Q62.2'\t,\n",
    "'Q62.10'\t,\n",
    "'Q62.11'\t,\n",
    "'Q62.12'\t,\n",
    "'Q62.31'\t,\n",
    "'Q62.32'\t,\n",
    "'Q62.39'\t,\n",
    "'R94.4'\t]"
   ]
  },
  {
   "cell_type": "code",
   "execution_count": 636,
   "metadata": {},
   "outputs": [],
   "source": [
    "COPD=['DXJ40'\t,\n",
    "'J41.0'\t,\n",
    "'J41.1'\t,\n",
    "'J41.8'\t,\n",
    "'J42'\t,\n",
    "'J43.0'\t,\n",
    "'J43.1'\t,\n",
    "'J43.2'\t,\n",
    "'J43.8'\t,\n",
    "'J43.9'\t,\n",
    "'J44.0'\t,\n",
    "'J44.1'\t,\n",
    "'J44.9'\t,\n",
    "'J47.0'\t,\n",
    "'J47.1'\t,\n",
    "'J47.9'\t]"
   ]
  },
  {
   "cell_type": "code",
   "execution_count": null,
   "metadata": {},
   "outputs": [],
   "source": [
    "CCW={}\n",
    "for pid in data:\n",
    "    CCW[pid]={}\n",
    "    CCW[pid]['score']=0\n",
    "    if len(data[pid]['appt']) != 0:\n",
    "        for date in data[pid]['appt']:\n",
    "            for i in data[pid]['appt'][date]['diag']:\n",
    "                if i in CKD:\n",
    "                    if 'CKD' not in CCW[pid]:\n",
    "                        CCW[pid]['CKD']=1\n",
    "                if i in obesity:\n",
    "                    if 'obesity' not in CCW[pid]:\n",
    "                        CCW[pid]['obesity']=1\n",
    "                if i in depression:\n",
    "                    if 'depression' not in CCW[pid]:\n",
    "                        CCW[pid]['depression']=1\n",
    "                if i in HTN:\n",
    "                    if 'HTN' not in CCW[pid]:\n",
    "                        CCW[pid]['HTN']=1\n",
    "                if i in DM:\n",
    "                    if 'DM' not in CCW[pid]:\n",
    "                        CCW[pid]['DM']=1\n",
    "                if i in Ischemic:\n",
    "                    if 'Ischemic' not in CCW[pid]:\n",
    "                        CCW[pid]['Ischemic']=1\n",
    "                if i in Afib:\n",
    "                    if 'Afib' not in CCW[pid]:\n",
    "                        CCW[pid]['Afib']=1\n",
    "                if i in COPD:\n",
    "                    if 'COPD' not in CCW[pid]:\n",
    "                        CCW[pid]['COPD']=1\n",
    "for pid in CCW:\n",
    "    for item in CCW[pid]:\n",
    "        CCW[pid]['score']=CCW[pid][item]+CCW[pid]['score']"
   ]
  },
  {
   "cell_type": "code",
   "execution_count": null,
   "metadata": {},
   "outputs": [],
   "source": [
    "for pid in CCW:\n",
    "    print (pid,CCW[pid]['score'])"
   ]
  },
  {
   "cell_type": "code",
   "execution_count": null,
   "metadata": {},
   "outputs": [],
   "source": [
    "for pid in data:\n",
    "    VTE=0\n",
    "    for date in data[pid]['appt']:\n",
    "        for icd in data[pid]['appt'][date]['diag']:\n",
    "            if isinstance(icd, float)==False:\n",
    "                if icd[0:3]=='I82':\n",
    "                    VTE=1\n",
    "                    break\n",
    "    print(pid,VTE)"
   ]
  },
  {
   "cell_type": "code",
   "execution_count": null,
   "metadata": {},
   "outputs": [],
   "source": []
  }
 ],
 "metadata": {
  "kernelspec": {
   "display_name": "Python 3",
   "language": "python",
   "name": "python3"
  },
  "language_info": {
   "codemirror_mode": {
    "name": "ipython",
    "version": 3
   },
   "file_extension": ".py",
   "mimetype": "text/x-python",
   "name": "python",
   "nbconvert_exporter": "python",
   "pygments_lexer": "ipython3",
   "version": "3.7.3"
  }
 },
 "nbformat": 4,
 "nbformat_minor": 2
}
