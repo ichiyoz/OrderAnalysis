{
 "cells": [
  {
   "cell_type": "code",
   "execution_count": 1,
   "metadata": {},
   "outputs": [],
   "source": [
    "import pandas as pd\n",
    "import numpy as np\n",
    "import matplotlib.pyplot as plt\n",
    "import statsmodels.api as sm\n",
    "from statsmodels.formula.api import ols\n",
    "import scipy.stats as stats\n",
    "from tableone import TableOne\n",
    "from scipy.stats import normaltest\n",
    "import scipy"
   ]
  },
  {
   "cell_type": "markdown",
   "metadata": {},
   "source": [
    "# Data loading"
   ]
  },
  {
   "cell_type": "code",
   "execution_count": 2,
   "metadata": {},
   "outputs": [
    {
     "name": "stderr",
     "output_type": "stream",
     "text": [
      "/anaconda3/lib/python3.7/site-packages/defusedxml/ElementTree.py:68: DeprecationWarning: The html argument of XMLParser() is deprecated\n",
      "  _XMLParser.__init__(self, html, target, encoding)\n",
      "/anaconda3/lib/python3.7/site-packages/defusedxml/ElementTree.py:68: DeprecationWarning: The html argument of XMLParser() is deprecated\n",
      "  _XMLParser.__init__(self, html, target, encoding)\n",
      "/anaconda3/lib/python3.7/site-packages/defusedxml/ElementTree.py:68: DeprecationWarning: The html argument of XMLParser() is deprecated\n",
      "  _XMLParser.__init__(self, html, target, encoding)\n",
      "/anaconda3/lib/python3.7/site-packages/defusedxml/ElementTree.py:68: DeprecationWarning: The html argument of XMLParser() is deprecated\n",
      "  _XMLParser.__init__(self, html, target, encoding)\n",
      "/anaconda3/lib/python3.7/site-packages/defusedxml/ElementTree.py:68: DeprecationWarning: The html argument of XMLParser() is deprecated\n",
      "  _XMLParser.__init__(self, html, target, encoding)\n",
      "/anaconda3/lib/python3.7/site-packages/defusedxml/ElementTree.py:68: DeprecationWarning: The html argument of XMLParser() is deprecated\n",
      "  _XMLParser.__init__(self, html, target, encoding)\n",
      "/anaconda3/lib/python3.7/site-packages/defusedxml/ElementTree.py:68: DeprecationWarning: The html argument of XMLParser() is deprecated\n",
      "  _XMLParser.__init__(self, html, target, encoding)\n",
      "/anaconda3/lib/python3.7/site-packages/defusedxml/ElementTree.py:68: DeprecationWarning: The html argument of XMLParser() is deprecated\n",
      "  _XMLParser.__init__(self, html, target, encoding)\n",
      "/anaconda3/lib/python3.7/site-packages/defusedxml/ElementTree.py:68: DeprecationWarning: The html argument of XMLParser() is deprecated\n",
      "  _XMLParser.__init__(self, html, target, encoding)\n",
      "/anaconda3/lib/python3.7/site-packages/defusedxml/ElementTree.py:68: DeprecationWarning: The html argument of XMLParser() is deprecated\n",
      "  _XMLParser.__init__(self, html, target, encoding)\n",
      "/anaconda3/lib/python3.7/site-packages/defusedxml/ElementTree.py:68: DeprecationWarning: The html argument of XMLParser() is deprecated\n",
      "  _XMLParser.__init__(self, html, target, encoding)\n",
      "/anaconda3/lib/python3.7/site-packages/defusedxml/ElementTree.py:68: DeprecationWarning: The html argument of XMLParser() is deprecated\n",
      "  _XMLParser.__init__(self, html, target, encoding)\n"
     ]
    }
   ],
   "source": [
    "eddc_order = pd.read_excel(open('/Users/fan/Desktop/Fullhouse/WCM/HospitalManagement/Data/EDDC_order_2012_2018_cluster_MED.xlsx', 'rb'), sheet_name='EDDC_order_2012_2018_cluster', header=0, index_col=None)"
   ]
  },
  {
   "cell_type": "code",
   "execution_count": 3,
   "metadata": {},
   "outputs": [
    {
     "data": {
      "text/html": [
       "<div>\n",
       "<style scoped>\n",
       "    .dataframe tbody tr th:only-of-type {\n",
       "        vertical-align: middle;\n",
       "    }\n",
       "\n",
       "    .dataframe tbody tr th {\n",
       "        vertical-align: top;\n",
       "    }\n",
       "\n",
       "    .dataframe thead th {\n",
       "        text-align: right;\n",
       "    }\n",
       "</style>\n",
       "<table border=\"1\" class=\"dataframe\">\n",
       "  <thead>\n",
       "    <tr style=\"text-align: right;\">\n",
       "      <th></th>\n",
       "      <th>clientvisitguid</th>\n",
       "      <th>LOS</th>\n",
       "      <th>30day</th>\n",
       "      <th>60day</th>\n",
       "      <th>90ay</th>\n",
       "      <th>charlson</th>\n",
       "      <th>elixhauser</th>\n",
       "      <th>userQ</th>\n",
       "      <th>dischargedisposition</th>\n",
       "      <th>home</th>\n",
       "      <th>...</th>\n",
       "      <th>marital</th>\n",
       "      <th>language_raw</th>\n",
       "      <th>language</th>\n",
       "      <th>ethnicity_raw</th>\n",
       "      <th>ethnicity</th>\n",
       "      <th>race_raw</th>\n",
       "      <th>race</th>\n",
       "      <th>death</th>\n",
       "      <th>insurance</th>\n",
       "      <th>payor</th>\n",
       "    </tr>\n",
       "  </thead>\n",
       "  <tbody>\n",
       "    <tr>\n",
       "      <th>0</th>\n",
       "      <td>9000556943700270</td>\n",
       "      <td>8</td>\n",
       "      <td>0</td>\n",
       "      <td>0</td>\n",
       "      <td>0</td>\n",
       "      <td>1</td>\n",
       "      <td>1</td>\n",
       "      <td>medium</td>\n",
       "      <td>ROUTINE/HOME</td>\n",
       "      <td>1</td>\n",
       "      <td>...</td>\n",
       "      <td>Married</td>\n",
       "      <td>Spanish</td>\n",
       "      <td>Non-English</td>\n",
       "      <td>H</td>\n",
       "      <td>H</td>\n",
       "      <td>OtherNotDescribed</td>\n",
       "      <td>Other</td>\n",
       "      <td>0</td>\n",
       "      <td>MCRFFS</td>\n",
       "      <td>Medicare</td>\n",
       "    </tr>\n",
       "    <tr>\n",
       "      <th>1</th>\n",
       "      <td>9000561002000270</td>\n",
       "      <td>5</td>\n",
       "      <td>0</td>\n",
       "      <td>0</td>\n",
       "      <td>0</td>\n",
       "      <td>0</td>\n",
       "      <td>1</td>\n",
       "      <td>low</td>\n",
       "      <td>PATIENTEXPIRED</td>\n",
       "      <td>0</td>\n",
       "      <td>...</td>\n",
       "      <td>Married</td>\n",
       "      <td>English</td>\n",
       "      <td>English</td>\n",
       "      <td>N</td>\n",
       "      <td>N</td>\n",
       "      <td>OtherNotDescribed</td>\n",
       "      <td>Other</td>\n",
       "      <td>1</td>\n",
       "      <td>MCRFFS</td>\n",
       "      <td>Medicare</td>\n",
       "    </tr>\n",
       "    <tr>\n",
       "      <th>2</th>\n",
       "      <td>9000562000000270</td>\n",
       "      <td>9</td>\n",
       "      <td>0</td>\n",
       "      <td>0</td>\n",
       "      <td>0</td>\n",
       "      <td>2</td>\n",
       "      <td>3</td>\n",
       "      <td>medium</td>\n",
       "      <td>ROUTINE/HOME</td>\n",
       "      <td>1</td>\n",
       "      <td>...</td>\n",
       "      <td>NotMarried</td>\n",
       "      <td>English</td>\n",
       "      <td>English</td>\n",
       "      <td>N</td>\n",
       "      <td>N</td>\n",
       "      <td>OtherNotDescribed</td>\n",
       "      <td>Other</td>\n",
       "      <td>0</td>\n",
       "      <td>MCRFFS</td>\n",
       "      <td>Medicare</td>\n",
       "    </tr>\n",
       "    <tr>\n",
       "      <th>3</th>\n",
       "      <td>9000567313100270</td>\n",
       "      <td>52</td>\n",
       "      <td>0</td>\n",
       "      <td>0</td>\n",
       "      <td>0</td>\n",
       "      <td>1</td>\n",
       "      <td>5</td>\n",
       "      <td>medium</td>\n",
       "      <td>DISCHARGETOSNF</td>\n",
       "      <td>0</td>\n",
       "      <td>...</td>\n",
       "      <td>Married</td>\n",
       "      <td>German</td>\n",
       "      <td>Non-English</td>\n",
       "      <td>N</td>\n",
       "      <td>N</td>\n",
       "      <td>OtherNotDescribed</td>\n",
       "      <td>Other</td>\n",
       "      <td>0</td>\n",
       "      <td>MCRFFS</td>\n",
       "      <td>Medicare</td>\n",
       "    </tr>\n",
       "    <tr>\n",
       "      <th>4</th>\n",
       "      <td>9000579333200270</td>\n",
       "      <td>21</td>\n",
       "      <td>0</td>\n",
       "      <td>0</td>\n",
       "      <td>0</td>\n",
       "      <td>3</td>\n",
       "      <td>4</td>\n",
       "      <td>medium</td>\n",
       "      <td>DISCHARGEHOMEWITHHMHLTHSERV</td>\n",
       "      <td>0</td>\n",
       "      <td>...</td>\n",
       "      <td>NotMarried</td>\n",
       "      <td>English</td>\n",
       "      <td>English</td>\n",
       "      <td>D</td>\n",
       "      <td>unknown</td>\n",
       "      <td>Declined</td>\n",
       "      <td>Unknown</td>\n",
       "      <td>0</td>\n",
       "      <td>MCRFFS</td>\n",
       "      <td>Medicare</td>\n",
       "    </tr>\n",
       "  </tbody>\n",
       "</table>\n",
       "<p>5 rows × 27 columns</p>\n",
       "</div>"
      ],
      "text/plain": [
       "    clientvisitguid  LOS  30day  60day  90ay  charlson  elixhauser   userQ  \\\n",
       "0  9000556943700270    8      0      0     0         1           1  medium   \n",
       "1  9000561002000270    5      0      0     0         0           1     low   \n",
       "2  9000562000000270    9      0      0     0         2           3  medium   \n",
       "3  9000567313100270   52      0      0     0         1           5  medium   \n",
       "4  9000579333200270   21      0      0     0         3           4  medium   \n",
       "\n",
       "          dischargedisposition  home  ...     marital language_raw  \\\n",
       "0                 ROUTINE/HOME     1  ...     Married      Spanish   \n",
       "1               PATIENTEXPIRED     0  ...     Married      English   \n",
       "2                 ROUTINE/HOME     1  ...  NotMarried      English   \n",
       "3               DISCHARGETOSNF     0  ...     Married       German   \n",
       "4  DISCHARGEHOMEWITHHMHLTHSERV     0  ...  NotMarried      English   \n",
       "\n",
       "      language  ethnicity_raw  ethnicity           race_raw     race death  \\\n",
       "0  Non-English              H          H  OtherNotDescribed    Other     0   \n",
       "1      English              N          N  OtherNotDescribed    Other     1   \n",
       "2      English              N          N  OtherNotDescribed    Other     0   \n",
       "3  Non-English              N          N  OtherNotDescribed    Other     0   \n",
       "4      English              D    unknown           Declined  Unknown     0   \n",
       "\n",
       "  insurance     payor  \n",
       "0    MCRFFS  Medicare  \n",
       "1    MCRFFS  Medicare  \n",
       "2    MCRFFS  Medicare  \n",
       "3    MCRFFS  Medicare  \n",
       "4    MCRFFS  Medicare  \n",
       "\n",
       "[5 rows x 27 columns]"
      ]
     },
     "execution_count": 3,
     "metadata": {},
     "output_type": "execute_result"
    }
   ],
   "source": [
    "eddc_order.head()"
   ]
  },
  {
   "cell_type": "code",
   "execution_count": 4,
   "metadata": {},
   "outputs": [
    {
     "name": "stdout",
     "output_type": "stream",
     "text": [
      "<class 'pandas.core.frame.DataFrame'>\n",
      "RangeIndex: 1473 entries, 0 to 1472\n",
      "Data columns (total 27 columns):\n",
      "clientvisitguid         1473 non-null int64\n",
      "LOS                     1473 non-null int64\n",
      "30day                   1473 non-null int64\n",
      "60day                   1473 non-null int64\n",
      "90ay                    1473 non-null int64\n",
      "charlson                1473 non-null int64\n",
      "elixhauser              1473 non-null int64\n",
      "userQ                   1473 non-null object\n",
      "dischargedisposition    1468 non-null object\n",
      "home                    1473 non-null int64\n",
      "campus                  1473 non-null object\n",
      "Eddecision              1229 non-null object\n",
      "Edcampus                1229 non-null object\n",
      "cluster_by30%           1473 non-null int64\n",
      "VTE                     1473 non-null int64\n",
      "CCW                     1473 non-null int64\n",
      "gender                  1473 non-null object\n",
      "marital                 1473 non-null object\n",
      "language_raw            1473 non-null object\n",
      "language                1473 non-null object\n",
      "ethnicity_raw           1432 non-null object\n",
      "ethnicity               1473 non-null object\n",
      "race_raw                1473 non-null object\n",
      "race                    1473 non-null object\n",
      "death                   1473 non-null int64\n",
      "insurance               1459 non-null object\n",
      "payor                   1473 non-null object\n",
      "dtypes: int64(12), object(15)\n",
      "memory usage: 310.8+ KB\n"
     ]
    }
   ],
   "source": [
    "eddc_order.info()"
   ]
  },
  {
   "cell_type": "code",
   "execution_count": 5,
   "metadata": {},
   "outputs": [],
   "source": [
    "eddc_order_cols = list(eddc_order)"
   ]
  },
  {
   "cell_type": "code",
   "execution_count": 6,
   "metadata": {},
   "outputs": [
    {
     "data": {
      "text/plain": [
       "Index(['clientvisitguid', 'LOS', '30day', '60day', '90ay', 'charlson',\n",
       "       'elixhauser', 'userQ', 'dischargedisposition', 'home', 'campus',\n",
       "       'Eddecision', 'Edcampus', 'cluster_by30%', 'VTE', 'CCW', 'gender',\n",
       "       'marital', 'language_raw', 'language', 'ethnicity_raw', 'ethnicity',\n",
       "       'race_raw', 'race', 'death', 'insurance', 'payor'],\n",
       "      dtype='object')"
      ]
     },
     "execution_count": 6,
     "metadata": {},
     "output_type": "execute_result"
    }
   ],
   "source": [
    "eddc_order.columns"
   ]
  },
  {
   "cell_type": "code",
   "execution_count": 7,
   "metadata": {
    "scrolled": true
   },
   "outputs": [
    {
     "data": {
      "text/html": [
       "<div>\n",
       "<style scoped>\n",
       "    .dataframe tbody tr th:only-of-type {\n",
       "        vertical-align: middle;\n",
       "    }\n",
       "\n",
       "    .dataframe tbody tr th {\n",
       "        vertical-align: top;\n",
       "    }\n",
       "\n",
       "    .dataframe thead th {\n",
       "        text-align: right;\n",
       "    }\n",
       "</style>\n",
       "<table border=\"1\" class=\"dataframe\">\n",
       "  <thead>\n",
       "    <tr style=\"text-align: right;\">\n",
       "      <th></th>\n",
       "      <th>clientvisitguid</th>\n",
       "      <th>LOS</th>\n",
       "      <th>30day</th>\n",
       "      <th>60day</th>\n",
       "      <th>90ay</th>\n",
       "      <th>charlson</th>\n",
       "      <th>elixhauser</th>\n",
       "      <th>home</th>\n",
       "      <th>cluster_by30%</th>\n",
       "      <th>VTE</th>\n",
       "      <th>CCW</th>\n",
       "      <th>death</th>\n",
       "    </tr>\n",
       "  </thead>\n",
       "  <tbody>\n",
       "    <tr>\n",
       "      <th>count</th>\n",
       "      <td>1.473000e+03</td>\n",
       "      <td>1473.000000</td>\n",
       "      <td>1473.000000</td>\n",
       "      <td>1473.000000</td>\n",
       "      <td>1473.000000</td>\n",
       "      <td>1473.000000</td>\n",
       "      <td>1473.000000</td>\n",
       "      <td>1473.000000</td>\n",
       "      <td>1473.000000</td>\n",
       "      <td>1473.000000</td>\n",
       "      <td>1473.000000</td>\n",
       "      <td>1473.00000</td>\n",
       "    </tr>\n",
       "    <tr>\n",
       "      <th>mean</th>\n",
       "      <td>9.001025e+15</td>\n",
       "      <td>11.252546</td>\n",
       "      <td>0.023082</td>\n",
       "      <td>0.041412</td>\n",
       "      <td>0.060421</td>\n",
       "      <td>1.933469</td>\n",
       "      <td>3.331976</td>\n",
       "      <td>0.365241</td>\n",
       "      <td>2.200950</td>\n",
       "      <td>0.030550</td>\n",
       "      <td>1.649695</td>\n",
       "      <td>0.04888</td>\n",
       "    </tr>\n",
       "    <tr>\n",
       "      <th>std</th>\n",
       "      <td>1.462923e+11</td>\n",
       "      <td>19.280750</td>\n",
       "      <td>0.150215</td>\n",
       "      <td>0.199309</td>\n",
       "      <td>0.238346</td>\n",
       "      <td>0.977839</td>\n",
       "      <td>1.674348</td>\n",
       "      <td>0.481661</td>\n",
       "      <td>1.054403</td>\n",
       "      <td>0.172153</td>\n",
       "      <td>1.230622</td>\n",
       "      <td>0.21569</td>\n",
       "    </tr>\n",
       "    <tr>\n",
       "      <th>min</th>\n",
       "      <td>9.000557e+15</td>\n",
       "      <td>0.000000</td>\n",
       "      <td>0.000000</td>\n",
       "      <td>0.000000</td>\n",
       "      <td>0.000000</td>\n",
       "      <td>0.000000</td>\n",
       "      <td>0.000000</td>\n",
       "      <td>0.000000</td>\n",
       "      <td>1.000000</td>\n",
       "      <td>0.000000</td>\n",
       "      <td>0.000000</td>\n",
       "      <td>0.00000</td>\n",
       "    </tr>\n",
       "    <tr>\n",
       "      <th>25%</th>\n",
       "      <td>9.000906e+15</td>\n",
       "      <td>4.000000</td>\n",
       "      <td>0.000000</td>\n",
       "      <td>0.000000</td>\n",
       "      <td>0.000000</td>\n",
       "      <td>1.000000</td>\n",
       "      <td>2.000000</td>\n",
       "      <td>0.000000</td>\n",
       "      <td>1.000000</td>\n",
       "      <td>0.000000</td>\n",
       "      <td>1.000000</td>\n",
       "      <td>0.00000</td>\n",
       "    </tr>\n",
       "    <tr>\n",
       "      <th>50%</th>\n",
       "      <td>9.001023e+15</td>\n",
       "      <td>7.000000</td>\n",
       "      <td>0.000000</td>\n",
       "      <td>0.000000</td>\n",
       "      <td>0.000000</td>\n",
       "      <td>2.000000</td>\n",
       "      <td>3.000000</td>\n",
       "      <td>0.000000</td>\n",
       "      <td>2.000000</td>\n",
       "      <td>0.000000</td>\n",
       "      <td>2.000000</td>\n",
       "      <td>0.00000</td>\n",
       "    </tr>\n",
       "    <tr>\n",
       "      <th>75%</th>\n",
       "      <td>9.001147e+15</td>\n",
       "      <td>13.000000</td>\n",
       "      <td>0.000000</td>\n",
       "      <td>0.000000</td>\n",
       "      <td>0.000000</td>\n",
       "      <td>2.000000</td>\n",
       "      <td>4.000000</td>\n",
       "      <td>1.000000</td>\n",
       "      <td>3.000000</td>\n",
       "      <td>0.000000</td>\n",
       "      <td>2.000000</td>\n",
       "      <td>0.00000</td>\n",
       "    </tr>\n",
       "    <tr>\n",
       "      <th>max</th>\n",
       "      <td>9.001285e+15</td>\n",
       "      <td>490.000000</td>\n",
       "      <td>1.000000</td>\n",
       "      <td>1.000000</td>\n",
       "      <td>1.000000</td>\n",
       "      <td>8.000000</td>\n",
       "      <td>10.000000</td>\n",
       "      <td>1.000000</td>\n",
       "      <td>4.000000</td>\n",
       "      <td>1.000000</td>\n",
       "      <td>6.000000</td>\n",
       "      <td>1.00000</td>\n",
       "    </tr>\n",
       "  </tbody>\n",
       "</table>\n",
       "</div>"
      ],
      "text/plain": [
       "       clientvisitguid          LOS        30day        60day         90ay  \\\n",
       "count     1.473000e+03  1473.000000  1473.000000  1473.000000  1473.000000   \n",
       "mean      9.001025e+15    11.252546     0.023082     0.041412     0.060421   \n",
       "std       1.462923e+11    19.280750     0.150215     0.199309     0.238346   \n",
       "min       9.000557e+15     0.000000     0.000000     0.000000     0.000000   \n",
       "25%       9.000906e+15     4.000000     0.000000     0.000000     0.000000   \n",
       "50%       9.001023e+15     7.000000     0.000000     0.000000     0.000000   \n",
       "75%       9.001147e+15    13.000000     0.000000     0.000000     0.000000   \n",
       "max       9.001285e+15   490.000000     1.000000     1.000000     1.000000   \n",
       "\n",
       "          charlson   elixhauser         home  cluster_by30%          VTE  \\\n",
       "count  1473.000000  1473.000000  1473.000000    1473.000000  1473.000000   \n",
       "mean      1.933469     3.331976     0.365241       2.200950     0.030550   \n",
       "std       0.977839     1.674348     0.481661       1.054403     0.172153   \n",
       "min       0.000000     0.000000     0.000000       1.000000     0.000000   \n",
       "25%       1.000000     2.000000     0.000000       1.000000     0.000000   \n",
       "50%       2.000000     3.000000     0.000000       2.000000     0.000000   \n",
       "75%       2.000000     4.000000     1.000000       3.000000     0.000000   \n",
       "max       8.000000    10.000000     1.000000       4.000000     1.000000   \n",
       "\n",
       "               CCW       death  \n",
       "count  1473.000000  1473.00000  \n",
       "mean      1.649695     0.04888  \n",
       "std       1.230622     0.21569  \n",
       "min       0.000000     0.00000  \n",
       "25%       1.000000     0.00000  \n",
       "50%       2.000000     0.00000  \n",
       "75%       2.000000     0.00000  \n",
       "max       6.000000     1.00000  "
      ]
     },
     "execution_count": 7,
     "metadata": {},
     "output_type": "execute_result"
    }
   ],
   "source": [
    "eddc_order.describe()"
   ]
  },
  {
   "cell_type": "code",
   "execution_count": 8,
   "metadata": {},
   "outputs": [
    {
     "data": {
      "text/plain": [
       "1473"
      ]
     },
     "execution_count": 8,
     "metadata": {},
     "output_type": "execute_result"
    }
   ],
   "source": [
    "n = eddc_order['clientvisitguid'].count()\n",
    "n"
   ]
  },
  {
   "cell_type": "code",
   "execution_count": 9,
   "metadata": {},
   "outputs": [
    {
     "data": {
      "text/plain": [
       "1473"
      ]
     },
     "execution_count": 9,
     "metadata": {},
     "output_type": "execute_result"
    }
   ],
   "source": [
    "eddc_order['clientvisitguid'].nunique()"
   ]
  },
  {
   "cell_type": "markdown",
   "metadata": {},
   "source": [
    "# Exploratory data analysis"
   ]
  },
  {
   "cell_type": "code",
   "execution_count": 10,
   "metadata": {},
   "outputs": [
    {
     "data": {
      "text/plain": [
       "Text(0, 0.5, 'Frequency')"
      ]
     },
     "execution_count": 10,
     "metadata": {},
     "output_type": "execute_result"
    },
    {
     "data": {
      "image/png": "[encoded data removed]",
      "text/plain": [
       "<Figure size 432x288 with 1 Axes>"
      ]
     },
     "metadata": {
      "needs_background": "light"
     },
     "output_type": "display_data"
    }
   ],
   "source": [
    "eddc_order['gender'].value_counts().plot(kind='bar', color='orange', rot=0)\n",
    "plt.title('Distribution of gender', fontsize=16)\n",
    "plt.xlabel('Gender', fontsize=12)\n",
    "plt.ylabel('Frequency', fontsize=12)"
   ]
  },
  {
   "cell_type": "code",
   "execution_count": 11,
   "metadata": {},
   "outputs": [
    {
     "data": {
      "text/plain": [
       "Text(0, 0.5, 'Frequency')"
      ]
     },
     "execution_count": 11,
     "metadata": {},
     "output_type": "execute_result"
    },
    {
     "data": {
      "image/png": "[encoded data removed]",
      "text/plain": [
       "<Figure size 432x288 with 1 Axes>"
      ]
     },
     "metadata": {
      "needs_background": "light"
     },
     "output_type": "display_data"
    }
   ],
   "source": [
    "eddc_order['marital'].value_counts().plot(kind='bar', color='orange', rot=0)\n",
    "plt.title('Distribution of marital status', fontsize=16)\n",
    "plt.xlabel('Marital status', fontsize=12)\n",
    "plt.ylabel('Frequency', fontsize=12)"
   ]
  },
  {
   "cell_type": "code",
   "execution_count": 12,
   "metadata": {},
   "outputs": [
    {
     "data": {
      "text/plain": [
       "Text(0, 0.5, 'Frequency')"
      ]
     },
     "execution_count": 12,
     "metadata": {},
     "output_type": "execute_result"
    },
    {
     "data": {
      "image/png": "[encoded data removed]",
      "text/plain": [
       "<Figure size 432x288 with 1 Axes>"
      ]
     },
     "metadata": {
      "needs_background": "light"
     },
     "output_type": "display_data"
    }
   ],
   "source": [
    "eddc_order['language'].value_counts().plot(kind='bar', color='orange', rot=0)\n",
    "plt.title('Distribution of language', fontsize=16)\n",
    "plt.xlabel('Language', fontsize=12)\n",
    "plt.ylabel('Frequency', fontsize=12)"
   ]
  },
  {
   "cell_type": "code",
   "execution_count": 13,
   "metadata": {},
   "outputs": [
    {
     "data": {
      "text/plain": [
       "Text(0, 0.5, 'Frequency')"
      ]
     },
     "execution_count": 13,
     "metadata": {},
     "output_type": "execute_result"
    },
    {
     "data": {
      "image/png": "[encoded data removed]",
      "text/plain": [
       "<Figure size 432x288 with 1 Axes>"
      ]
     },
     "metadata": {
      "needs_background": "light"
     },
     "output_type": "display_data"
    }
   ],
   "source": [
    "eddc_order['race'].value_counts().plot(kind='bar', color='orange', rot=0)\n",
    "plt.title('Distribution of race', fontsize=16)\n",
    "plt.xlabel('Race', fontsize=12)\n",
    "plt.ylabel('Frequency', fontsize=12)"
   ]
  },
  {
   "cell_type": "code",
   "execution_count": 14,
   "metadata": {},
   "outputs": [
    {
     "data": {
      "text/plain": [
       "Text(0, 0.5, 'Frequency')"
      ]
     },
     "execution_count": 14,
     "metadata": {},
     "output_type": "execute_result"
    },
    {
     "data": {
      "image/png": "[encoded data removed]",
      "text/plain": [
       "<Figure size 432x288 with 1 Axes>"
      ]
     },
     "metadata": {
      "needs_background": "light"
     },
     "output_type": "display_data"
    }
   ],
   "source": [
    "eddc_order['ethnicity'].value_counts().plot(kind='bar', color='orange', rot=0)\n",
    "plt.title('Distribution of ethnicity', fontsize=16)\n",
    "plt.xlabel('Ethnicity', fontsize=12)\n",
    "plt.ylabel('Frequency', fontsize=12)"
   ]
  },
  {
   "cell_type": "code",
   "execution_count": 15,
   "metadata": {},
   "outputs": [
    {
     "data": {
      "text/plain": [
       "Text(0, 0.5, 'Frequency')"
      ]
     },
     "execution_count": 15,
     "metadata": {},
     "output_type": "execute_result"
    },
    {
     "data": {
      "image/png": "[encoded data removed]",
      "text/plain": [
       "<Figure size 432x288 with 1 Axes>"
      ]
     },
     "metadata": {
      "needs_background": "light"
     },
     "output_type": "display_data"
    }
   ],
   "source": [
    "eddc_order['death'].value_counts().plot(kind='bar', color='orange', rot=0)\n",
    "plt.title('Distribution of death', fontsize=16)\n",
    "plt.xlabel('Death', fontsize=12)\n",
    "plt.ylabel('Frequency', fontsize=12)"
   ]
  },
  {
   "cell_type": "code",
   "execution_count": 16,
   "metadata": {},
   "outputs": [
    {
     "data": {
      "text/plain": [
       "Text(0, 0.5, 'Frequency')"
      ]
     },
     "execution_count": 16,
     "metadata": {},
     "output_type": "execute_result"
    },
    {
     "data": {
      "image/png": "[encoded data removed]",
      "text/plain": [
       "<Figure size 432x288 with 1 Axes>"
      ]
     },
     "metadata": {
      "needs_background": "light"
     },
     "output_type": "display_data"
    }
   ],
   "source": [
    "eddc_order['payor'].value_counts().plot(kind='bar', color='orange', rot=0)\n",
    "plt.title('Distribution of payor', fontsize=16)\n",
    "plt.xlabel('Payor', fontsize=12)\n",
    "plt.ylabel('Frequency', fontsize=12)"
   ]
  },
  {
   "cell_type": "code",
   "execution_count": 17,
   "metadata": {},
   "outputs": [
    {
     "data": {
      "text/plain": [
       "Text(0, 0.5, 'Frequency')"
      ]
     },
     "execution_count": 17,
     "metadata": {},
     "output_type": "execute_result"
    },
    {
     "data": {
      "image/png": "[encoded data removed]",
      "text/plain": [
       "<Figure size 432x288 with 1 Axes>"
      ]
     },
     "metadata": {
      "needs_background": "light"
     },
     "output_type": "display_data"
    }
   ],
   "source": [
    "eddc_order['LOS'].plot(kind = 'hist', bins=20)\n",
    "plt.title('Distribution of length of stay', fontsize=16)\n",
    "plt.xlabel('Length of stay', fontsize=12)\n",
    "plt.ylabel('Frequency', fontsize=12)"
   ]
  },
  {
   "cell_type": "code",
   "execution_count": 18,
   "metadata": {
    "scrolled": true
   },
   "outputs": [
    {
     "data": {
      "text/plain": [
       "Text(0.5, 1.0, 'Distribution of 30-day Readmission')"
      ]
     },
     "execution_count": 18,
     "metadata": {},
     "output_type": "execute_result"
    },
    {
     "data": {
      "image/png": "[encoded data removed]",
      "text/plain": [
       "<Figure size 432x288 with 1 Axes>"
      ]
     },
     "metadata": {
      "needs_background": "light"
     },
     "output_type": "display_data"
    }
   ],
   "source": [
    "eddc_order['30day'].value_counts().plot(kind='bar', color='orange', rot=0)\n",
    "plt.title('Distribution of 30-day Readmission', fontsize=16)"
   ]
  },
  {
   "cell_type": "code",
   "execution_count": 19,
   "metadata": {
    "scrolled": true
   },
   "outputs": [
    {
     "data": {
      "text/plain": [
       "Text(0.5, 1.0, 'Distribution of 60-day Readmission')"
      ]
     },
     "execution_count": 19,
     "metadata": {},
     "output_type": "execute_result"
    },
    {
     "data": {
      "image/png": "[encoded data removed]",
      "text/plain": [
       "<Figure size 432x288 with 1 Axes>"
      ]
     },
     "metadata": {
      "needs_background": "light"
     },
     "output_type": "display_data"
    }
   ],
   "source": [
    "eddc_order['60day'].value_counts().plot(kind='bar', color='orange', rot=0)\n",
    "plt.title('Distribution of 60-day Readmission', fontsize=16)"
   ]
  },
  {
   "cell_type": "code",
   "execution_count": 20,
   "metadata": {},
   "outputs": [
    {
     "data": {
      "text/plain": [
       "Text(0.5, 1.0, 'Distribution of 90-day Readmission')"
      ]
     },
     "execution_count": 20,
     "metadata": {},
     "output_type": "execute_result"
    },
    {
     "data": {
      "image/png": "[encoded data removed]",
      "text/plain": [
       "<Figure size 432x288 with 1 Axes>"
      ]
     },
     "metadata": {
      "needs_background": "light"
     },
     "output_type": "display_data"
    }
   ],
   "source": [
    "eddc_order['90ay'].value_counts().plot(kind='bar', color='orange', rot=0)\n",
    "plt.title('Distribution of 90-day Readmission', fontsize=16)"
   ]
  },
  {
   "cell_type": "code",
   "execution_count": 21,
   "metadata": {},
   "outputs": [
    {
     "data": {
      "text/plain": [
       "Text(0.5, 1.0, 'Distribution of Charlson score')"
      ]
     },
     "execution_count": 21,
     "metadata": {},
     "output_type": "execute_result"
    },
    {
     "data": {
      "image/png": "[encoded data removed]",
      "text/plain": [
       "<Figure size 432x288 with 1 Axes>"
      ]
     },
     "metadata": {
      "needs_background": "light"
     },
     "output_type": "display_data"
    }
   ],
   "source": [
    "eddc_order['charlson'].plot(kind = 'hist', bins=20)\n",
    "plt.title('Distribution of Charlson score', fontsize=16)"
   ]
  },
  {
   "cell_type": "code",
   "execution_count": 22,
   "metadata": {},
   "outputs": [
    {
     "data": {
      "text/plain": [
       "Text(0.5, 1.0, 'Distribution of Elixhauser score')"
      ]
     },
     "execution_count": 22,
     "metadata": {},
     "output_type": "execute_result"
    },
    {
     "data": {
      "image/png": "[encoded data removed]",
      "text/plain": [
       "<Figure size 432x288 with 1 Axes>"
      ]
     },
     "metadata": {
      "needs_background": "light"
     },
     "output_type": "display_data"
    }
   ],
   "source": [
    "eddc_order['elixhauser'].plot(kind = 'hist', bins=20)\n",
    "plt.title('Distribution of Elixhauser score', fontsize=16)"
   ]
  },
  {
   "cell_type": "code",
   "execution_count": 23,
   "metadata": {},
   "outputs": [
    {
     "data": {
      "text/plain": [
       "Text(0.5, 1.0, 'Distribution of care provider quartile')"
      ]
     },
     "execution_count": 23,
     "metadata": {},
     "output_type": "execute_result"
    },
    {
     "data": {
      "image/png": "[encoded data removed]",
      "text/plain": [
       "<Figure size 432x288 with 1 Axes>"
      ]
     },
     "metadata": {
      "needs_background": "light"
     },
     "output_type": "display_data"
    }
   ],
   "source": [
    "eddc_order['userQ'].value_counts().plot(kind='bar', color='orange', rot=0)\n",
    "plt.title('Distribution of care provider quartile', fontsize=16)"
   ]
  },
  {
   "cell_type": "code",
   "execution_count": 24,
   "metadata": {},
   "outputs": [
    {
     "data": {
      "text/plain": [
       "Text(0.5, 1.0, 'Distribution of discharge disposition')"
      ]
     },
     "execution_count": 24,
     "metadata": {},
     "output_type": "execute_result"
    },
    {
     "data": {
      "image/png": "[encoded data removed]",
      "text/plain": [
       "<Figure size 432x288 with 1 Axes>"
      ]
     },
     "metadata": {
      "needs_background": "light"
     },
     "output_type": "display_data"
    }
   ],
   "source": [
    "eddc_order['dischargedisposition'].value_counts().plot(kind='bar', color='orange', rot=90)\n",
    "plt.title('Distribution of discharge disposition', fontsize=16)"
   ]
  },
  {
   "cell_type": "code",
   "execution_count": 25,
   "metadata": {},
   "outputs": [
    {
     "data": {
      "text/plain": [
       "ROUTINE/HOME                      538\n",
       "DISCHARGEHOMEWITHHMHLTHSERV       508\n",
       "DISCHARGETOSNF                    240\n",
       "PATIENTEXPIRED                     72\n",
       "TRANS/DISCHARGETO/FMIPREHABFAC     37\n",
       "DISCHARGEHOMEWITHHOSPICE           20\n",
       "DISCHARGEHOSPICEFACILITY           17\n",
       "AGAINSTMEDICALADVICE               14\n",
       "DISCHARGETOACUTEFACILITY            8\n",
       "DISCHARGETOOTHERFACNOTLISTED        4\n",
       "DISCHARGETOINTERIMFACILITY          4\n",
       "ADMITTEDTOSAMEFACILITY              2\n",
       "DISCHARGETOLAWENFORCEMENT           2\n",
       "TRANS/DISCHARGETO/FMIPPSYCH         2\n",
       "Name: dischargedisposition, dtype: int64"
      ]
     },
     "execution_count": 25,
     "metadata": {},
     "output_type": "execute_result"
    }
   ],
   "source": [
    "eddc_order['dischargedisposition'].value_counts()"
   ]
  },
  {
   "cell_type": "code",
   "execution_count": 26,
   "metadata": {},
   "outputs": [
    {
     "data": {
      "text/plain": [
       "Text(0.5, 1.0, 'Distribution of home')"
      ]
     },
     "execution_count": 26,
     "metadata": {},
     "output_type": "execute_result"
    },
    {
     "data": {
      "image/png": "[encoded data removed]",
      "text/plain": [
       "<Figure size 432x288 with 1 Axes>"
      ]
     },
     "metadata": {
      "needs_background": "light"
     },
     "output_type": "display_data"
    }
   ],
   "source": [
    "eddc_order['home'].value_counts().plot(kind='bar', color='orange', rot=0)\n",
    "plt.title('Distribution of home', fontsize=16)"
   ]
  },
  {
   "cell_type": "code",
   "execution_count": 27,
   "metadata": {},
   "outputs": [
    {
     "data": {
      "text/plain": [
       "Text(0.5, 1.0, 'Distribution of campus')"
      ]
     },
     "execution_count": 27,
     "metadata": {},
     "output_type": "execute_result"
    },
    {
     "data": {
      "image/png": "[encoded data removed]",
      "text/plain": [
       "<Figure size 432x288 with 1 Axes>"
      ]
     },
     "metadata": {
      "needs_background": "light"
     },
     "output_type": "display_data"
    }
   ],
   "source": [
    "eddc_order['campus'].value_counts().plot(kind='bar', color='orange', rot=0)\n",
    "plt.title('Distribution of campus', fontsize=16)"
   ]
  },
  {
   "cell_type": "code",
   "execution_count": 28,
   "metadata": {},
   "outputs": [
    {
     "data": {
      "text/plain": [
       "Text(0.5, 1.0, 'Distribution of ED decision')"
      ]
     },
     "execution_count": 28,
     "metadata": {},
     "output_type": "execute_result"
    },
    {
     "data": {
      "image/png": "[encoded data removed]",
      "text/plain": [
       "<Figure size 432x288 with 1 Axes>"
      ]
     },
     "metadata": {
      "needs_background": "light"
     },
     "output_type": "display_data"
    }
   ],
   "source": [
    "eddc_order['Eddecision'].value_counts().plot(kind='bar', color='orange', rot=0)\n",
    "plt.title('Distribution of ED decision', fontsize=16)"
   ]
  },
  {
   "cell_type": "code",
   "execution_count": 29,
   "metadata": {},
   "outputs": [
    {
     "data": {
      "text/plain": [
       "Text(0.5, 1.0, 'Distribution of edcampus')"
      ]
     },
     "execution_count": 29,
     "metadata": {},
     "output_type": "execute_result"
    },
    {
     "data": {
      "image/png": "[encoded data removed]",
      "text/plain": [
       "<Figure size 432x288 with 1 Axes>"
      ]
     },
     "metadata": {
      "needs_background": "light"
     },
     "output_type": "display_data"
    }
   ],
   "source": [
    "eddc_order['Edcampus'].value_counts().plot(kind='bar', color='orange', rot=0)\n",
    "plt.title('Distribution of edcampus', fontsize=16)"
   ]
  },
  {
   "cell_type": "code",
   "execution_count": 30,
   "metadata": {},
   "outputs": [
    {
     "data": {
      "text/plain": [
       "Text(0.5, 1.0, 'Distribution of VTE')"
      ]
     },
     "execution_count": 30,
     "metadata": {},
     "output_type": "execute_result"
    },
    {
     "data": {
      "image/png": "[encoded data removed]",
      "text/plain": [
       "<Figure size 432x288 with 1 Axes>"
      ]
     },
     "metadata": {
      "needs_background": "light"
     },
     "output_type": "display_data"
    }
   ],
   "source": [
    "eddc_order['VTE'].value_counts().plot(kind='bar', color='orange', rot=0)\n",
    "plt.title('Distribution of VTE', fontsize=16)"
   ]
  },
  {
   "cell_type": "code",
   "execution_count": 31,
   "metadata": {},
   "outputs": [
    {
     "data": {
      "text/plain": [
       "Text(0.5, 1.0, 'Distribution of CCW')"
      ]
     },
     "execution_count": 31,
     "metadata": {},
     "output_type": "execute_result"
    },
    {
     "data": {
      "image/png": "[encoded data removed]",
      "text/plain": [
       "<Figure size 432x288 with 1 Axes>"
      ]
     },
     "metadata": {
      "needs_background": "light"
     },
     "output_type": "display_data"
    }
   ],
   "source": [
    "eddc_order['CCW'].plot(kind='hist', rot=0)\n",
    "plt.title('Distribution of CCW', fontsize=16)"
   ]
  },
  {
   "cell_type": "markdown",
   "metadata": {},
   "source": [
    "# Table 1: Total"
   ]
  },
  {
   "cell_type": "code",
   "execution_count": 32,
   "metadata": {},
   "outputs": [
    {
     "data": {
      "text/plain": [
       "count    1473.000000\n",
       "mean       11.252546\n",
       "std        19.280750\n",
       "min         0.000000\n",
       "25%         4.000000\n",
       "50%         7.000000\n",
       "75%        13.000000\n",
       "max       490.000000\n",
       "Name: LOS, dtype: float64"
      ]
     },
     "execution_count": 32,
     "metadata": {},
     "output_type": "execute_result"
    }
   ],
   "source": [
    "eddc_order['LOS'].describe()"
   ]
  },
  {
   "cell_type": "code",
   "execution_count": 33,
   "metadata": {},
   "outputs": [
    {
     "name": "stdout",
     "output_type": "stream",
     "text": [
      "0    1439\n",
      "1      34\n",
      "Name: 30day, dtype: int64\n",
      "0    97.691785\n",
      "1     2.308215\n",
      "Name: 30day, dtype: float64\n"
     ]
    }
   ],
   "source": [
    "print(eddc_order['30day'].value_counts())\n",
    "print(eddc_order['30day'].value_counts()/n *100)"
   ]
  },
  {
   "cell_type": "code",
   "execution_count": 34,
   "metadata": {},
   "outputs": [
    {
     "name": "stdout",
     "output_type": "stream",
     "text": [
      "0    1412\n",
      "1      61\n",
      "Name: 60day, dtype: int64\n",
      "0    95.858792\n",
      "1     4.141208\n",
      "Name: 60day, dtype: float64\n"
     ]
    }
   ],
   "source": [
    "print(eddc_order['60day'].value_counts())\n",
    "print(eddc_order['60day'].value_counts()/n *100)"
   ]
  },
  {
   "cell_type": "code",
   "execution_count": 35,
   "metadata": {},
   "outputs": [
    {
     "name": "stdout",
     "output_type": "stream",
     "text": [
      "0    1384\n",
      "1      89\n",
      "Name: 90ay, dtype: int64\n",
      "0    93.957909\n",
      "1     6.042091\n",
      "Name: 90ay, dtype: float64\n"
     ]
    }
   ],
   "source": [
    "print(eddc_order['90ay'].value_counts())\n",
    "print(eddc_order['90ay'].value_counts()/n *100)"
   ]
  },
  {
   "cell_type": "code",
   "execution_count": 36,
   "metadata": {},
   "outputs": [
    {
     "data": {
      "text/plain": [
       "count    1473.000000\n",
       "mean        1.933469\n",
       "std         0.977839\n",
       "min         0.000000\n",
       "25%         1.000000\n",
       "50%         2.000000\n",
       "75%         2.000000\n",
       "max         8.000000\n",
       "Name: charlson, dtype: float64"
      ]
     },
     "execution_count": 36,
     "metadata": {},
     "output_type": "execute_result"
    }
   ],
   "source": [
    "eddc_order['charlson'].describe()"
   ]
  },
  {
   "cell_type": "code",
   "execution_count": 37,
   "metadata": {},
   "outputs": [
    {
     "data": {
      "text/plain": [
       "count    1473.000000\n",
       "mean        3.331976\n",
       "std         1.674348\n",
       "min         0.000000\n",
       "25%         2.000000\n",
       "50%         3.000000\n",
       "75%         4.000000\n",
       "max        10.000000\n",
       "Name: elixhauser, dtype: float64"
      ]
     },
     "execution_count": 37,
     "metadata": {},
     "output_type": "execute_result"
    }
   ],
   "source": [
    "eddc_order['elixhauser'].describe()"
   ]
  },
  {
   "cell_type": "code",
   "execution_count": 38,
   "metadata": {},
   "outputs": [
    {
     "name": "stdout",
     "output_type": "stream",
     "text": [
      "medium    958\n",
      "high      327\n",
      "low       188\n",
      "Name: userQ, dtype: int64\n",
      "medium    65.037339\n",
      "high      22.199593\n",
      "low       12.763069\n",
      "Name: userQ, dtype: float64\n"
     ]
    }
   ],
   "source": [
    "print(eddc_order['userQ'].value_counts())\n",
    "print(eddc_order['userQ'].value_counts()/n *100)"
   ]
  },
  {
   "cell_type": "code",
   "execution_count": 39,
   "metadata": {},
   "outputs": [
    {
     "data": {
      "text/plain": [
       "count             1468\n",
       "unique              14\n",
       "top       ROUTINE/HOME\n",
       "freq               538\n",
       "Name: dischargedisposition, dtype: object"
      ]
     },
     "execution_count": 39,
     "metadata": {},
     "output_type": "execute_result"
    }
   ],
   "source": [
    "eddc_order['dischargedisposition'].describe()"
   ]
  },
  {
   "cell_type": "code",
   "execution_count": 40,
   "metadata": {},
   "outputs": [
    {
     "data": {
      "text/plain": [
       "1468"
      ]
     },
     "execution_count": 40,
     "metadata": {},
     "output_type": "execute_result"
    }
   ],
   "source": [
    "n_discharge = eddc_order['dischargedisposition'].count()\n",
    "n_discharge"
   ]
  },
  {
   "cell_type": "code",
   "execution_count": 41,
   "metadata": {},
   "outputs": [
    {
     "name": "stdout",
     "output_type": "stream",
     "text": [
      "ROUTINE/HOME                      538\n",
      "DISCHARGEHOMEWITHHMHLTHSERV       508\n",
      "DISCHARGETOSNF                    240\n",
      "PATIENTEXPIRED                     72\n",
      "TRANS/DISCHARGETO/FMIPREHABFAC     37\n",
      "DISCHARGEHOMEWITHHOSPICE           20\n",
      "DISCHARGEHOSPICEFACILITY           17\n",
      "AGAINSTMEDICALADVICE               14\n",
      "DISCHARGETOACUTEFACILITY            8\n",
      "DISCHARGETOOTHERFACNOTLISTED        4\n",
      "DISCHARGETOINTERIMFACILITY          4\n",
      "ADMITTEDTOSAMEFACILITY              2\n",
      "DISCHARGETOLAWENFORCEMENT           2\n",
      "TRANS/DISCHARGETO/FMIPPSYCH         2\n",
      "Name: dischargedisposition, dtype: int64\n",
      "ROUTINE/HOME                      36.648501\n",
      "DISCHARGEHOMEWITHHMHLTHSERV       34.604905\n",
      "DISCHARGETOSNF                    16.348774\n",
      "PATIENTEXPIRED                     4.904632\n",
      "TRANS/DISCHARGETO/FMIPREHABFAC     2.520436\n",
      "DISCHARGEHOMEWITHHOSPICE           1.362398\n",
      "DISCHARGEHOSPICEFACILITY           1.158038\n",
      "AGAINSTMEDICALADVICE               0.953678\n",
      "DISCHARGETOACUTEFACILITY           0.544959\n",
      "DISCHARGETOOTHERFACNOTLISTED       0.272480\n",
      "DISCHARGETOINTERIMFACILITY         0.272480\n",
      "ADMITTEDTOSAMEFACILITY             0.136240\n",
      "DISCHARGETOLAWENFORCEMENT          0.136240\n",
      "TRANS/DISCHARGETO/FMIPPSYCH        0.136240\n",
      "Name: dischargedisposition, dtype: float64\n"
     ]
    }
   ],
   "source": [
    "print(eddc_order['dischargedisposition'].value_counts())\n",
    "print(eddc_order['dischargedisposition'].value_counts()/n_discharge * 100)  ## 99.99%"
   ]
  },
  {
   "cell_type": "code",
   "execution_count": 42,
   "metadata": {},
   "outputs": [
    {
     "name": "stdout",
     "output_type": "stream",
     "text": [
      "0    935\n",
      "1    538\n",
      "Name: home, dtype: int64\n",
      "0    63.4759\n",
      "1    36.5241\n",
      "Name: home, dtype: float64\n"
     ]
    }
   ],
   "source": [
    "print(eddc_order['home'].value_counts())\n",
    "print(eddc_order['home'].value_counts()/n*100)"
   ]
  },
  {
   "cell_type": "code",
   "execution_count": 43,
   "metadata": {},
   "outputs": [
    {
     "name": "stdout",
     "output_type": "stream",
     "text": [
      "Cornell    1094\n",
      "LMH         379\n",
      "Name: campus, dtype: int64\n",
      "Cornell    74.270197\n",
      "LMH        25.729803\n",
      "Name: campus, dtype: float64\n"
     ]
    }
   ],
   "source": [
    "print(eddc_order['campus'].value_counts())\n",
    "print(eddc_order['campus'].value_counts()/n*100)"
   ]
  },
  {
   "cell_type": "code",
   "execution_count": 44,
   "metadata": {},
   "outputs": [
    {
     "name": "stdout",
     "output_type": "stream",
     "text": [
      "Admitted    1229\n",
      "Name: Eddecision, dtype: int64\n",
      "Admitted    83.435166\n",
      "Name: Eddecision, dtype: float64\n"
     ]
    }
   ],
   "source": [
    "print(eddc_order['Eddecision'].value_counts())\n",
    "print(eddc_order['Eddecision'].value_counts()/n*100)"
   ]
  },
  {
   "cell_type": "code",
   "execution_count": 45,
   "metadata": {},
   "outputs": [
    {
     "name": "stdout",
     "output_type": "stream",
     "text": [
      "Cornell ED    818\n",
      "LMH ED        411\n",
      "Name: Edcampus, dtype: int64\n",
      "Cornell ED    55.532926\n",
      "LMH ED        27.902240\n",
      "Name: Edcampus, dtype: float64\n"
     ]
    }
   ],
   "source": [
    "print(eddc_order['Edcampus'].value_counts())\n",
    "print(eddc_order['Edcampus'].value_counts()/n*100)"
   ]
  },
  {
   "cell_type": "code",
   "execution_count": 46,
   "metadata": {},
   "outputs": [
    {
     "name": "stdout",
     "output_type": "stream",
     "text": [
      "0    1428\n",
      "1      45\n",
      "Name: VTE, dtype: int64\n",
      "0    96.94501\n",
      "1     3.05499\n",
      "Name: VTE, dtype: float64\n"
     ]
    }
   ],
   "source": [
    "print(eddc_order['VTE'].value_counts())\n",
    "print(eddc_order['VTE'].value_counts()/n*100)"
   ]
  },
  {
   "cell_type": "code",
   "execution_count": 47,
   "metadata": {},
   "outputs": [
    {
     "data": {
      "text/plain": [
       "count    1473.000000\n",
       "mean        1.649695\n",
       "std         1.230622\n",
       "min         0.000000\n",
       "25%         1.000000\n",
       "50%         2.000000\n",
       "75%         2.000000\n",
       "max         6.000000\n",
       "Name: CCW, dtype: float64"
      ]
     },
     "execution_count": 47,
     "metadata": {},
     "output_type": "execute_result"
    }
   ],
   "source": [
    "eddc_order['CCW'].describe()"
   ]
  },
  {
   "cell_type": "code",
   "execution_count": 48,
   "metadata": {},
   "outputs": [
    {
     "name": "stdout",
     "output_type": "stream",
     "text": [
      "Male      830\n",
      "Female    643\n",
      "Name: gender, dtype: int64\n",
      "Male      56.34759\n",
      "Female    43.65241\n",
      "Name: gender, dtype: float64\n"
     ]
    }
   ],
   "source": [
    "print(eddc_order['gender'].value_counts())\n",
    "print(eddc_order['gender'].value_counts()/n*100)"
   ]
  },
  {
   "cell_type": "code",
   "execution_count": 49,
   "metadata": {},
   "outputs": [
    {
     "name": "stdout",
     "output_type": "stream",
     "text": [
      "NotMarried    902\n",
      "Married       571\n",
      "Name: marital, dtype: int64\n",
      "NotMarried    61.235574\n",
      "Married       38.764426\n",
      "Name: marital, dtype: float64\n"
     ]
    }
   ],
   "source": [
    "print(eddc_order['marital'].value_counts())\n",
    "print(eddc_order['marital'].value_counts()/n*100)"
   ]
  },
  {
   "cell_type": "code",
   "execution_count": 50,
   "metadata": {},
   "outputs": [
    {
     "name": "stdout",
     "output_type": "stream",
     "text": [
      "English        1132\n",
      "Non-English     341\n",
      "Name: language, dtype: int64\n",
      "English        76.849966\n",
      "Non-English    23.150034\n",
      "Name: language, dtype: float64\n"
     ]
    }
   ],
   "source": [
    "print(eddc_order['language'].value_counts())\n",
    "print(eddc_order['language'].value_counts()/n*100)"
   ]
  },
  {
   "cell_type": "code",
   "execution_count": 51,
   "metadata": {},
   "outputs": [
    {
     "name": "stdout",
     "output_type": "stream",
     "text": [
      "N          903\n",
      "unknown    348\n",
      "H          222\n",
      "Name: ethnicity, dtype: int64\n",
      "N          61.303462\n",
      "unknown    23.625255\n",
      "H          15.071283\n",
      "Name: ethnicity, dtype: float64\n"
     ]
    }
   ],
   "source": [
    "print(eddc_order['ethnicity'].value_counts())\n",
    "print(eddc_order['ethnicity'].value_counts()/n*100)"
   ]
  },
  {
   "cell_type": "code",
   "execution_count": 52,
   "metadata": {},
   "outputs": [
    {
     "name": "stdout",
     "output_type": "stream",
     "text": [
      "White      577\n",
      "Black      308\n",
      "Other      224\n",
      "Unknown    184\n",
      "Asian      180\n",
      "Name: race, dtype: int64\n",
      "White      39.171758\n",
      "Black      20.909708\n",
      "Other      15.207060\n",
      "Unknown    12.491514\n",
      "Asian      12.219959\n",
      "Name: race, dtype: float64\n"
     ]
    }
   ],
   "source": [
    "print(eddc_order['race'].value_counts())\n",
    "print(eddc_order['race'].value_counts()/n*100)"
   ]
  },
  {
   "cell_type": "code",
   "execution_count": 53,
   "metadata": {},
   "outputs": [
    {
     "name": "stdout",
     "output_type": "stream",
     "text": [
      "0    1401\n",
      "1      72\n",
      "Name: death, dtype: int64\n",
      "0    95.112016\n",
      "1     4.887984\n",
      "Name: death, dtype: float64\n"
     ]
    }
   ],
   "source": [
    "print(eddc_order['death'].value_counts())\n",
    "print(eddc_order['death'].value_counts()/n*100)"
   ]
  },
  {
   "cell_type": "code",
   "execution_count": 54,
   "metadata": {},
   "outputs": [
    {
     "name": "stdout",
     "output_type": "stream",
     "text": [
      "Medicare      882\n",
      "Medicaid      339\n",
      "Commercial    226\n",
      "Selfpay        26\n",
      "Name: payor, dtype: int64\n",
      "Medicare      59.877800\n",
      "Medicaid      23.014257\n",
      "Commercial    15.342838\n",
      "Selfpay        1.765105\n",
      "Name: payor, dtype: float64\n"
     ]
    }
   ],
   "source": [
    "print(eddc_order['payor'].value_counts())\n",
    "print(eddc_order['payor'].value_counts()/n*100)"
   ]
  },
  {
   "cell_type": "markdown",
   "metadata": {},
   "source": [
    "# Table 1: by cluster"
   ]
  },
  {
   "cell_type": "code",
   "execution_count": 55,
   "metadata": {},
   "outputs": [
    {
     "data": {
      "text/plain": [
       "2    680\n",
       "1    399\n",
       "4    301\n",
       "3     93\n",
       "Name: cluster_by30%, dtype: int64"
      ]
     },
     "execution_count": 55,
     "metadata": {},
     "output_type": "execute_result"
    }
   ],
   "source": [
    "eddc_order['cluster_by30%'].value_counts()"
   ]
  },
  {
   "cell_type": "code",
   "execution_count": 56,
   "metadata": {},
   "outputs": [
    {
     "name": "stdout",
     "output_type": "stream",
     "text": [
      "399\n",
      "680\n",
      "93\n",
      "301\n"
     ]
    }
   ],
   "source": [
    "n_cluster1 = eddc_order['cluster_by30%'].value_counts()[1]\n",
    "n_cluster2 = eddc_order['cluster_by30%'].value_counts()[2]\n",
    "n_cluster3 = eddc_order['cluster_by30%'].value_counts()[3]\n",
    "n_cluster4 = eddc_order['cluster_by30%'].value_counts()[4]\n",
    "print(n_cluster1)\n",
    "print(n_cluster2)\n",
    "print(n_cluster3)\n",
    "print(n_cluster4)"
   ]
  },
  {
   "cell_type": "code",
   "execution_count": 57,
   "metadata": {},
   "outputs": [
    {
     "data": {
      "text/html": [
       "<div>\n",
       "<style scoped>\n",
       "    .dataframe tbody tr th:only-of-type {\n",
       "        vertical-align: middle;\n",
       "    }\n",
       "\n",
       "    .dataframe tbody tr th {\n",
       "        vertical-align: top;\n",
       "    }\n",
       "\n",
       "    .dataframe thead th {\n",
       "        text-align: right;\n",
       "    }\n",
       "</style>\n",
       "<table border=\"1\" class=\"dataframe\">\n",
       "  <thead>\n",
       "    <tr style=\"text-align: right;\">\n",
       "      <th></th>\n",
       "      <th>count</th>\n",
       "      <th>mean</th>\n",
       "      <th>std</th>\n",
       "      <th>min</th>\n",
       "      <th>25%</th>\n",
       "      <th>50%</th>\n",
       "      <th>75%</th>\n",
       "      <th>max</th>\n",
       "    </tr>\n",
       "    <tr>\n",
       "      <th>cluster_by30%</th>\n",
       "      <th></th>\n",
       "      <th></th>\n",
       "      <th></th>\n",
       "      <th></th>\n",
       "      <th></th>\n",
       "      <th></th>\n",
       "      <th></th>\n",
       "      <th></th>\n",
       "    </tr>\n",
       "  </thead>\n",
       "  <tbody>\n",
       "    <tr>\n",
       "      <th>1</th>\n",
       "      <td>399.0</td>\n",
       "      <td>12.486216</td>\n",
       "      <td>8.860118</td>\n",
       "      <td>1.0</td>\n",
       "      <td>7.0</td>\n",
       "      <td>10.0</td>\n",
       "      <td>17.0</td>\n",
       "      <td>69.0</td>\n",
       "    </tr>\n",
       "    <tr>\n",
       "      <th>2</th>\n",
       "      <td>680.0</td>\n",
       "      <td>5.869118</td>\n",
       "      <td>8.601927</td>\n",
       "      <td>0.0</td>\n",
       "      <td>2.0</td>\n",
       "      <td>4.0</td>\n",
       "      <td>7.0</td>\n",
       "      <td>191.0</td>\n",
       "    </tr>\n",
       "    <tr>\n",
       "      <th>3</th>\n",
       "      <td>93.0</td>\n",
       "      <td>41.344086</td>\n",
       "      <td>57.812007</td>\n",
       "      <td>6.0</td>\n",
       "      <td>18.0</td>\n",
       "      <td>26.0</td>\n",
       "      <td>43.0</td>\n",
       "      <td>490.0</td>\n",
       "    </tr>\n",
       "    <tr>\n",
       "      <th>4</th>\n",
       "      <td>301.0</td>\n",
       "      <td>12.481728</td>\n",
       "      <td>13.324307</td>\n",
       "      <td>0.0</td>\n",
       "      <td>4.0</td>\n",
       "      <td>7.0</td>\n",
       "      <td>15.0</td>\n",
       "      <td>106.0</td>\n",
       "    </tr>\n",
       "  </tbody>\n",
       "</table>\n",
       "</div>"
      ],
      "text/plain": [
       "               count       mean        std  min   25%   50%   75%    max\n",
       "cluster_by30%                                                           \n",
       "1              399.0  12.486216   8.860118  1.0   7.0  10.0  17.0   69.0\n",
       "2              680.0   5.869118   8.601927  0.0   2.0   4.0   7.0  191.0\n",
       "3               93.0  41.344086  57.812007  6.0  18.0  26.0  43.0  490.0\n",
       "4              301.0  12.481728  13.324307  0.0   4.0   7.0  15.0  106.0"
      ]
     },
     "execution_count": 57,
     "metadata": {},
     "output_type": "execute_result"
    }
   ],
   "source": [
    "eddc_order.groupby(['cluster_by30%'])['LOS'].describe()"
   ]
  },
  {
   "cell_type": "code",
   "execution_count": 58,
   "metadata": {},
   "outputs": [
    {
     "name": "stdout",
     "output_type": "stream",
     "text": [
      "cluster_by30%  30day\n",
      "1              0        390\n",
      "               1          9\n",
      "2              0        662\n",
      "               1         18\n",
      "3              0         90\n",
      "               1          3\n",
      "4              0        297\n",
      "               1          4\n",
      "Name: 30day, dtype: int64\n",
      "30day\n",
      "0    97.744361\n",
      "1     2.255639\n",
      "Name: 30day, dtype: float64\n",
      "30day\n",
      "0    97.352941\n",
      "1     2.647059\n",
      "Name: 30day, dtype: float64\n",
      "30day\n",
      "0    96.774194\n",
      "1     3.225806\n",
      "Name: 30day, dtype: float64\n",
      "30day\n",
      "0    98.671096\n",
      "1     1.328904\n",
      "Name: 30day, dtype: float64\n"
     ]
    }
   ],
   "source": [
    "print(eddc_order.groupby(['cluster_by30%'])['30day'].value_counts())\n",
    "print(eddc_order.groupby(['cluster_by30%'])['30day'].value_counts()[1]/n_cluster1*100)\n",
    "print(eddc_order.groupby(['cluster_by30%'])['30day'].value_counts()[2]/n_cluster2*100)\n",
    "print(eddc_order.groupby(['cluster_by30%'])['30day'].value_counts()[3]/n_cluster3*100)\n",
    "print(eddc_order.groupby(['cluster_by30%'])['30day'].value_counts()[4]/n_cluster4*100)"
   ]
  },
  {
   "cell_type": "code",
   "execution_count": 59,
   "metadata": {},
   "outputs": [
    {
     "name": "stdout",
     "output_type": "stream",
     "text": [
      "cluster_by30%  60day\n",
      "1              0        378\n",
      "               1         21\n",
      "2              0        652\n",
      "               1         28\n",
      "3              0         89\n",
      "               1          4\n",
      "4              0        293\n",
      "               1          8\n",
      "Name: 60day, dtype: int64\n",
      "60day\n",
      "0    94.736842\n",
      "1     5.263158\n",
      "Name: 60day, dtype: float64\n",
      "60day\n",
      "0    95.882353\n",
      "1     4.117647\n",
      "Name: 60day, dtype: float64\n",
      "60day\n",
      "0    95.698925\n",
      "1     4.301075\n",
      "Name: 60day, dtype: float64\n",
      "60day\n",
      "0    97.342193\n",
      "1     2.657807\n",
      "Name: 60day, dtype: float64\n"
     ]
    }
   ],
   "source": [
    "print(eddc_order.groupby(['cluster_by30%'])['60day'].value_counts())\n",
    "print(eddc_order.groupby(['cluster_by30%'])['60day'].value_counts()[1]/n_cluster1*100)\n",
    "print(eddc_order.groupby(['cluster_by30%'])['60day'].value_counts()[2]/n_cluster2*100)\n",
    "print(eddc_order.groupby(['cluster_by30%'])['60day'].value_counts()[3]/n_cluster3*100)\n",
    "print(eddc_order.groupby(['cluster_by30%'])['60day'].value_counts()[4]/n_cluster4*100)"
   ]
  },
  {
   "cell_type": "code",
   "execution_count": 60,
   "metadata": {},
   "outputs": [
    {
     "name": "stdout",
     "output_type": "stream",
     "text": [
      "cluster_by30%  90ay\n",
      "1              0       366\n",
      "               1        33\n",
      "2              0       638\n",
      "               1        42\n",
      "3              0        89\n",
      "               1         4\n",
      "4              0       291\n",
      "               1        10\n",
      "Name: 90ay, dtype: int64\n",
      "90ay\n",
      "0    91.729323\n",
      "1     8.270677\n",
      "Name: 90ay, dtype: float64\n",
      "90ay\n",
      "0    93.823529\n",
      "1     6.176471\n",
      "Name: 90ay, dtype: float64\n",
      "90ay\n",
      "0    95.698925\n",
      "1     4.301075\n",
      "Name: 90ay, dtype: float64\n",
      "90ay\n",
      "0    96.677741\n",
      "1     3.322259\n",
      "Name: 90ay, dtype: float64\n"
     ]
    }
   ],
   "source": [
    "print(eddc_order.groupby(['cluster_by30%'])['90ay'].value_counts())\n",
    "print(eddc_order.groupby(['cluster_by30%'])['90ay'].value_counts()[1]/n_cluster1*100)\n",
    "print(eddc_order.groupby(['cluster_by30%'])['90ay'].value_counts()[2]/n_cluster2*100)\n",
    "print(eddc_order.groupby(['cluster_by30%'])['90ay'].value_counts()[3]/n_cluster3*100)\n",
    "print(eddc_order.groupby(['cluster_by30%'])['90ay'].value_counts()[4]/n_cluster4*100)"
   ]
  },
  {
   "cell_type": "code",
   "execution_count": 61,
   "metadata": {},
   "outputs": [
    {
     "data": {
      "text/html": [
       "<div>\n",
       "<style scoped>\n",
       "    .dataframe tbody tr th:only-of-type {\n",
       "        vertical-align: middle;\n",
       "    }\n",
       "\n",
       "    .dataframe tbody tr th {\n",
       "        vertical-align: top;\n",
       "    }\n",
       "\n",
       "    .dataframe thead th {\n",
       "        text-align: right;\n",
       "    }\n",
       "</style>\n",
       "<table border=\"1\" class=\"dataframe\">\n",
       "  <thead>\n",
       "    <tr style=\"text-align: right;\">\n",
       "      <th></th>\n",
       "      <th>count</th>\n",
       "      <th>mean</th>\n",
       "      <th>std</th>\n",
       "      <th>min</th>\n",
       "      <th>25%</th>\n",
       "      <th>50%</th>\n",
       "      <th>75%</th>\n",
       "      <th>max</th>\n",
       "    </tr>\n",
       "    <tr>\n",
       "      <th>cluster_by30%</th>\n",
       "      <th></th>\n",
       "      <th></th>\n",
       "      <th></th>\n",
       "      <th></th>\n",
       "      <th></th>\n",
       "      <th></th>\n",
       "      <th></th>\n",
       "      <th></th>\n",
       "    </tr>\n",
       "  </thead>\n",
       "  <tbody>\n",
       "    <tr>\n",
       "      <th>1</th>\n",
       "      <td>399.0</td>\n",
       "      <td>2.022556</td>\n",
       "      <td>1.018420</td>\n",
       "      <td>1.0</td>\n",
       "      <td>1.0</td>\n",
       "      <td>2.0</td>\n",
       "      <td>3.0</td>\n",
       "      <td>8.0</td>\n",
       "    </tr>\n",
       "    <tr>\n",
       "      <th>2</th>\n",
       "      <td>680.0</td>\n",
       "      <td>1.830882</td>\n",
       "      <td>0.931807</td>\n",
       "      <td>0.0</td>\n",
       "      <td>1.0</td>\n",
       "      <td>2.0</td>\n",
       "      <td>2.0</td>\n",
       "      <td>5.0</td>\n",
       "    </tr>\n",
       "    <tr>\n",
       "      <th>3</th>\n",
       "      <td>93.0</td>\n",
       "      <td>2.268817</td>\n",
       "      <td>1.199092</td>\n",
       "      <td>1.0</td>\n",
       "      <td>1.0</td>\n",
       "      <td>2.0</td>\n",
       "      <td>3.0</td>\n",
       "      <td>5.0</td>\n",
       "    </tr>\n",
       "    <tr>\n",
       "      <th>4</th>\n",
       "      <td>301.0</td>\n",
       "      <td>1.943522</td>\n",
       "      <td>0.916588</td>\n",
       "      <td>0.0</td>\n",
       "      <td>1.0</td>\n",
       "      <td>2.0</td>\n",
       "      <td>3.0</td>\n",
       "      <td>5.0</td>\n",
       "    </tr>\n",
       "  </tbody>\n",
       "</table>\n",
       "</div>"
      ],
      "text/plain": [
       "               count      mean       std  min  25%  50%  75%  max\n",
       "cluster_by30%                                                    \n",
       "1              399.0  2.022556  1.018420  1.0  1.0  2.0  3.0  8.0\n",
       "2              680.0  1.830882  0.931807  0.0  1.0  2.0  2.0  5.0\n",
       "3               93.0  2.268817  1.199092  1.0  1.0  2.0  3.0  5.0\n",
       "4              301.0  1.943522  0.916588  0.0  1.0  2.0  3.0  5.0"
      ]
     },
     "execution_count": 61,
     "metadata": {},
     "output_type": "execute_result"
    }
   ],
   "source": [
    "eddc_order.groupby(['cluster_by30%'])['charlson'].describe()"
   ]
  },
  {
   "cell_type": "code",
   "execution_count": 62,
   "metadata": {},
   "outputs": [
    {
     "data": {
      "text/html": [
       "<div>\n",
       "<style scoped>\n",
       "    .dataframe tbody tr th:only-of-type {\n",
       "        vertical-align: middle;\n",
       "    }\n",
       "\n",
       "    .dataframe tbody tr th {\n",
       "        vertical-align: top;\n",
       "    }\n",
       "\n",
       "    .dataframe thead th {\n",
       "        text-align: right;\n",
       "    }\n",
       "</style>\n",
       "<table border=\"1\" class=\"dataframe\">\n",
       "  <thead>\n",
       "    <tr style=\"text-align: right;\">\n",
       "      <th></th>\n",
       "      <th>count</th>\n",
       "      <th>mean</th>\n",
       "      <th>std</th>\n",
       "      <th>min</th>\n",
       "      <th>25%</th>\n",
       "      <th>50%</th>\n",
       "      <th>75%</th>\n",
       "      <th>max</th>\n",
       "    </tr>\n",
       "    <tr>\n",
       "      <th>cluster_by30%</th>\n",
       "      <th></th>\n",
       "      <th></th>\n",
       "      <th></th>\n",
       "      <th></th>\n",
       "      <th></th>\n",
       "      <th></th>\n",
       "      <th></th>\n",
       "      <th></th>\n",
       "    </tr>\n",
       "  </thead>\n",
       "  <tbody>\n",
       "    <tr>\n",
       "      <th>1</th>\n",
       "      <td>399.0</td>\n",
       "      <td>3.476190</td>\n",
       "      <td>1.665134</td>\n",
       "      <td>1.0</td>\n",
       "      <td>2.0</td>\n",
       "      <td>3.0</td>\n",
       "      <td>4.0</td>\n",
       "      <td>9.0</td>\n",
       "    </tr>\n",
       "    <tr>\n",
       "      <th>2</th>\n",
       "      <td>680.0</td>\n",
       "      <td>3.064706</td>\n",
       "      <td>1.547078</td>\n",
       "      <td>0.0</td>\n",
       "      <td>2.0</td>\n",
       "      <td>3.0</td>\n",
       "      <td>4.0</td>\n",
       "      <td>9.0</td>\n",
       "    </tr>\n",
       "    <tr>\n",
       "      <th>3</th>\n",
       "      <td>93.0</td>\n",
       "      <td>4.569892</td>\n",
       "      <td>1.924656</td>\n",
       "      <td>1.0</td>\n",
       "      <td>3.0</td>\n",
       "      <td>5.0</td>\n",
       "      <td>6.0</td>\n",
       "      <td>10.0</td>\n",
       "    </tr>\n",
       "    <tr>\n",
       "      <th>4</th>\n",
       "      <td>301.0</td>\n",
       "      <td>3.362126</td>\n",
       "      <td>1.690688</td>\n",
       "      <td>0.0</td>\n",
       "      <td>2.0</td>\n",
       "      <td>3.0</td>\n",
       "      <td>4.0</td>\n",
       "      <td>10.0</td>\n",
       "    </tr>\n",
       "  </tbody>\n",
       "</table>\n",
       "</div>"
      ],
      "text/plain": [
       "               count      mean       std  min  25%  50%  75%   max\n",
       "cluster_by30%                                                     \n",
       "1              399.0  3.476190  1.665134  1.0  2.0  3.0  4.0   9.0\n",
       "2              680.0  3.064706  1.547078  0.0  2.0  3.0  4.0   9.0\n",
       "3               93.0  4.569892  1.924656  1.0  3.0  5.0  6.0  10.0\n",
       "4              301.0  3.362126  1.690688  0.0  2.0  3.0  4.0  10.0"
      ]
     },
     "execution_count": 62,
     "metadata": {},
     "output_type": "execute_result"
    }
   ],
   "source": [
    "eddc_order.groupby(['cluster_by30%'])['elixhauser'].describe()"
   ]
  },
  {
   "cell_type": "code",
   "execution_count": 63,
   "metadata": {},
   "outputs": [
    {
     "name": "stdout",
     "output_type": "stream",
     "text": [
      "cluster_by30%  userQ \n",
      "1              medium    246\n",
      "               high       92\n",
      "               low        61\n",
      "2              medium    358\n",
      "               high      219\n",
      "               low       103\n",
      "3              medium     81\n",
      "               low        11\n",
      "               high        1\n",
      "4              medium    273\n",
      "               high       15\n",
      "               low        13\n",
      "Name: userQ, dtype: int64\n",
      "userQ\n",
      "medium    61.654135\n",
      "high      23.057644\n",
      "low       15.288221\n",
      "Name: userQ, dtype: float64\n",
      "userQ\n",
      "medium    52.647059\n",
      "high      32.205882\n",
      "low       15.147059\n",
      "Name: userQ, dtype: float64\n",
      "userQ\n",
      "medium    87.096774\n",
      "low       11.827957\n",
      "high       1.075269\n",
      "Name: userQ, dtype: float64\n",
      "userQ\n",
      "medium    90.697674\n",
      "high       4.983389\n",
      "low        4.318937\n",
      "Name: userQ, dtype: float64\n"
     ]
    }
   ],
   "source": [
    "print(eddc_order.groupby(['cluster_by30%'])['userQ'].value_counts())\n",
    "print(eddc_order.groupby(['cluster_by30%'])['userQ'].value_counts()[1]/n_cluster1*100)\n",
    "print(eddc_order.groupby(['cluster_by30%'])['userQ'].value_counts()[2]/n_cluster2*100) ## 110.01%\n",
    "print(eddc_order.groupby(['cluster_by30%'])['userQ'].value_counts()[3]/n_cluster3*100)\n",
    "print(eddc_order.groupby(['cluster_by30%'])['userQ'].value_counts()[4]/n_cluster4*100) ## 110.01%"
   ]
  },
  {
   "cell_type": "code",
   "execution_count": 64,
   "metadata": {},
   "outputs": [
    {
     "name": "stdout",
     "output_type": "stream",
     "text": [
      "cluster_by30%  dischargedisposition          \n",
      "1              DISCHARGEHOMEWITHHMHLTHSERV       160\n",
      "               ROUTINE/HOME                       99\n",
      "               DISCHARGETOSNF                     81\n",
      "               PATIENTEXPIRED                     21\n",
      "               TRANS/DISCHARGETO/FMIPREHABFAC     14\n",
      "               DISCHARGEHOMEWITHHOSPICE           12\n",
      "               DISCHARGEHOSPICEFACILITY            8\n",
      "               AGAINSTMEDICALADVICE                1\n",
      "               DISCHARGETOACUTEFACILITY            1\n",
      "               DISCHARGETOINTERIMFACILITY          1\n",
      "               DISCHARGETOOTHERFACNOTLISTED        1\n",
      "2              ROUTINE/HOME                      306\n",
      "               DISCHARGEHOMEWITHHMHLTHSERV       223\n",
      "               DISCHARGETOSNF                     92\n",
      "               PATIENTEXPIRED                     15\n",
      "               TRANS/DISCHARGETO/FMIPREHABFAC     12\n",
      "               AGAINSTMEDICALADVICE                9\n",
      "               DISCHARGEHOMEWITHHOSPICE            5\n",
      "               DISCHARGETOACUTEFACILITY            4\n",
      "               DISCHARGEHOSPICEFACILITY            3\n",
      "               DISCHARGETOINTERIMFACILITY          2\n",
      "               DISCHARGETOOTHERFACNOTLISTED        2\n",
      "               TRANS/DISCHARGETO/FMIPPSYCH         2\n",
      "               ADMITTEDTOSAMEFACILITY              1\n",
      "3              DISCHARGEHOMEWITHHMHLTHSERV        30\n",
      "               DISCHARGETOSNF                     30\n",
      "               PATIENTEXPIRED                     16\n",
      "               ROUTINE/HOME                        6\n",
      "               DISCHARGEHOSPICEFACILITY            5\n",
      "               TRANS/DISCHARGETO/FMIPREHABFAC      5\n",
      "               DISCHARGEHOMEWITHHOSPICE            1\n",
      "4              ROUTINE/HOME                      127\n",
      "               DISCHARGEHOMEWITHHMHLTHSERV        95\n",
      "               DISCHARGETOSNF                     37\n",
      "               PATIENTEXPIRED                     20\n",
      "               TRANS/DISCHARGETO/FMIPREHABFAC      6\n",
      "               AGAINSTMEDICALADVICE                4\n",
      "               DISCHARGETOACUTEFACILITY            3\n",
      "               DISCHARGEHOMEWITHHOSPICE            2\n",
      "               DISCHARGETOLAWENFORCEMENT           2\n",
      "               ADMITTEDTOSAMEFACILITY              1\n",
      "               DISCHARGEHOSPICEFACILITY            1\n",
      "               DISCHARGETOINTERIMFACILITY          1\n",
      "               DISCHARGETOOTHERFACNOTLISTED        1\n",
      "Name: dischargedisposition, dtype: int64\n",
      "dischargedisposition\n",
      "DISCHARGEHOMEWITHHMHLTHSERV       40.100251\n",
      "ROUTINE/HOME                      24.812030\n",
      "DISCHARGETOSNF                    20.300752\n",
      "PATIENTEXPIRED                     5.263158\n",
      "TRANS/DISCHARGETO/FMIPREHABFAC     3.508772\n",
      "DISCHARGEHOMEWITHHOSPICE           3.007519\n",
      "DISCHARGEHOSPICEFACILITY           2.005013\n",
      "AGAINSTMEDICALADVICE               0.250627\n",
      "DISCHARGETOACUTEFACILITY           0.250627\n",
      "DISCHARGETOINTERIMFACILITY         0.250627\n",
      "DISCHARGETOOTHERFACNOTLISTED       0.250627\n",
      "Name: dischargedisposition, dtype: float64\n",
      "dischargedisposition\n",
      "ROUTINE/HOME                      45.266272\n",
      "DISCHARGEHOMEWITHHMHLTHSERV       32.988166\n",
      "DISCHARGETOSNF                    13.609467\n",
      "PATIENTEXPIRED                     2.218935\n",
      "TRANS/DISCHARGETO/FMIPREHABFAC     1.775148\n",
      "AGAINSTMEDICALADVICE               1.331361\n",
      "DISCHARGEHOMEWITHHOSPICE           0.739645\n",
      "DISCHARGETOACUTEFACILITY           0.591716\n",
      "DISCHARGEHOSPICEFACILITY           0.443787\n",
      "DISCHARGETOINTERIMFACILITY         0.295858\n",
      "DISCHARGETOOTHERFACNOTLISTED       0.295858\n",
      "TRANS/DISCHARGETO/FMIPPSYCH        0.295858\n",
      "ADMITTEDTOSAMEFACILITY             0.147929\n",
      "Name: dischargedisposition, dtype: float64\n",
      "dischargedisposition\n",
      "DISCHARGEHOMEWITHHMHLTHSERV       32.258065\n",
      "DISCHARGETOSNF                    32.258065\n",
      "PATIENTEXPIRED                    17.204301\n",
      "ROUTINE/HOME                       6.451613\n",
      "DISCHARGEHOSPICEFACILITY           5.376344\n",
      "TRANS/DISCHARGETO/FMIPREHABFAC     5.376344\n",
      "DISCHARGEHOMEWITHHOSPICE           1.075269\n",
      "Name: dischargedisposition, dtype: float64\n",
      "dischargedisposition\n",
      "ROUTINE/HOME                      42.333333\n",
      "DISCHARGEHOMEWITHHMHLTHSERV       31.666667\n",
      "DISCHARGETOSNF                    12.333333\n",
      "PATIENTEXPIRED                     6.666667\n",
      "TRANS/DISCHARGETO/FMIPREHABFAC     2.000000\n",
      "AGAINSTMEDICALADVICE               1.333333\n",
      "DISCHARGETOACUTEFACILITY           1.000000\n",
      "DISCHARGEHOMEWITHHOSPICE           0.666667\n",
      "DISCHARGETOLAWENFORCEMENT          0.666667\n",
      "ADMITTEDTOSAMEFACILITY             0.333333\n",
      "DISCHARGEHOSPICEFACILITY           0.333333\n",
      "DISCHARGETOINTERIMFACILITY         0.333333\n",
      "DISCHARGETOOTHERFACNOTLISTED       0.333333\n",
      "Name: dischargedisposition, dtype: float64\n"
     ]
    }
   ],
   "source": [
    "print(eddc_order.groupby(['cluster_by30%'])['dischargedisposition'].value_counts())\n",
    "print(eddc_order.groupby(['cluster_by30%'])['dischargedisposition'].value_counts()[1]/n_cluster1*100)\n",
    "print(eddc_order.groupby(['cluster_by30%'])['dischargedisposition'].value_counts()[2]/676*100) ## not number of cluster2(680), 100.02%\n",
    "print(eddc_order.groupby(['cluster_by30%'])['dischargedisposition'].value_counts()[3]/n_cluster3*100)\n",
    "print(eddc_order.groupby(['cluster_by30%'])['dischargedisposition'].value_counts()[4]/300*100) ## not number of cluster4(301), 99.99%"
   ]
  },
  {
   "cell_type": "code",
   "execution_count": 65,
   "metadata": {},
   "outputs": [
    {
     "name": "stdout",
     "output_type": "stream",
     "text": [
      "cluster_by30%  home\n",
      "1              0       300\n",
      "               1        99\n",
      "2              0       374\n",
      "               1       306\n",
      "3              0        87\n",
      "               1         6\n",
      "4              0       174\n",
      "               1       127\n",
      "Name: home, dtype: int64\n",
      "home\n",
      "0    75.18797\n",
      "1    24.81203\n",
      "Name: home, dtype: float64\n",
      "home\n",
      "0    55.0\n",
      "1    45.0\n",
      "Name: home, dtype: float64\n",
      "home\n",
      "0    93.548387\n",
      "1     6.451613\n",
      "Name: home, dtype: float64\n",
      "home\n",
      "0    57.807309\n",
      "1    42.192691\n",
      "Name: home, dtype: float64\n"
     ]
    }
   ],
   "source": [
    "print(eddc_order.groupby(['cluster_by30%'])['home'].value_counts())\n",
    "print(eddc_order.groupby(['cluster_by30%'])['home'].value_counts()[1]/n_cluster1*100)\n",
    "print(eddc_order.groupby(['cluster_by30%'])['home'].value_counts()[2]/n_cluster2*100) \n",
    "print(eddc_order.groupby(['cluster_by30%'])['home'].value_counts()[3]/n_cluster3*100)\n",
    "print(eddc_order.groupby(['cluster_by30%'])['home'].value_counts()[4]/n_cluster4*100) "
   ]
  },
  {
   "cell_type": "code",
   "execution_count": 66,
   "metadata": {},
   "outputs": [
    {
     "name": "stdout",
     "output_type": "stream",
     "text": [
      "cluster_by30%  campus \n",
      "1              Cornell    341\n",
      "               LMH         58\n",
      "2              Cornell    470\n",
      "               LMH        210\n",
      "3              Cornell     86\n",
      "               LMH          7\n",
      "4              Cornell    197\n",
      "               LMH        104\n",
      "Name: campus, dtype: int64\n",
      "campus\n",
      "Cornell    85.463659\n",
      "LMH        14.536341\n",
      "Name: campus, dtype: float64\n",
      "campus\n",
      "Cornell    69.117647\n",
      "LMH        30.882353\n",
      "Name: campus, dtype: float64\n",
      "campus\n",
      "Cornell    92.473118\n",
      "LMH         7.526882\n",
      "Name: campus, dtype: float64\n",
      "campus\n",
      "Cornell    65.448505\n",
      "LMH        34.551495\n",
      "Name: campus, dtype: float64\n"
     ]
    }
   ],
   "source": [
    "print(eddc_order.groupby(['cluster_by30%'])['campus'].value_counts())\n",
    "print(eddc_order.groupby(['cluster_by30%'])['campus'].value_counts()[1]/n_cluster1*100)\n",
    "print(eddc_order.groupby(['cluster_by30%'])['campus'].value_counts()[2]/n_cluster2*100) \n",
    "print(eddc_order.groupby(['cluster_by30%'])['campus'].value_counts()[3]/n_cluster3*100)\n",
    "print(eddc_order.groupby(['cluster_by30%'])['campus'].value_counts()[4]/n_cluster4*100)"
   ]
  },
  {
   "cell_type": "code",
   "execution_count": 67,
   "metadata": {},
   "outputs": [
    {
     "name": "stdout",
     "output_type": "stream",
     "text": [
      "cluster_by30%  Eddecision\n",
      "1              Admitted      332\n",
      "2              Admitted      591\n",
      "3              Admitted       65\n",
      "4              Admitted      241\n",
      "Name: Eddecision, dtype: int64\n",
      "Eddecision\n",
      "Admitted    83.20802\n",
      "Name: Eddecision, dtype: float64\n",
      "Eddecision\n",
      "Admitted    86.911765\n",
      "Name: Eddecision, dtype: float64\n",
      "Eddecision\n",
      "Admitted    69.892473\n",
      "Name: Eddecision, dtype: float64\n",
      "Eddecision\n",
      "Admitted    80.066445\n",
      "Name: Eddecision, dtype: float64\n"
     ]
    }
   ],
   "source": [
    "print(eddc_order.groupby(['cluster_by30%'])['Eddecision'].value_counts())\n",
    "print(eddc_order.groupby(['cluster_by30%'])['Eddecision'].value_counts()[1]/n_cluster1*100)\n",
    "print(eddc_order.groupby(['cluster_by30%'])['Eddecision'].value_counts()[2]/n_cluster2*100) \n",
    "print(eddc_order.groupby(['cluster_by30%'])['Eddecision'].value_counts()[3]/n_cluster3*100)\n",
    "print(eddc_order.groupby(['cluster_by30%'])['Eddecision'].value_counts()[4]/n_cluster4*100)"
   ]
  },
  {
   "cell_type": "code",
   "execution_count": 68,
   "metadata": {},
   "outputs": [
    {
     "name": "stdout",
     "output_type": "stream",
     "text": [
      "cluster_by30%  VTE\n",
      "1              0      390\n",
      "               1        9\n",
      "2              0      672\n",
      "               1        8\n",
      "3              0       79\n",
      "               1       14\n",
      "4              0      287\n",
      "               1       14\n",
      "Name: VTE, dtype: int64\n",
      "VTE\n",
      "0    97.744361\n",
      "1     2.255639\n",
      "Name: VTE, dtype: float64\n",
      "VTE\n",
      "0    98.823529\n",
      "1     1.176471\n",
      "Name: VTE, dtype: float64\n",
      "VTE\n",
      "0    84.946237\n",
      "1    15.053763\n",
      "Name: VTE, dtype: float64\n",
      "VTE\n",
      "0    95.348837\n",
      "1     4.651163\n",
      "Name: VTE, dtype: float64\n"
     ]
    }
   ],
   "source": [
    "print(eddc_order.groupby(['cluster_by30%'])['VTE'].value_counts())\n",
    "print(eddc_order.groupby(['cluster_by30%'])['VTE'].value_counts()[1]/n_cluster1*100)\n",
    "print(eddc_order.groupby(['cluster_by30%'])['VTE'].value_counts()[2]/n_cluster2*100) \n",
    "print(eddc_order.groupby(['cluster_by30%'])['VTE'].value_counts()[3]/n_cluster3*100)\n",
    "print(eddc_order.groupby(['cluster_by30%'])['VTE'].value_counts()[4]/n_cluster4*100)"
   ]
  },
  {
   "cell_type": "code",
   "execution_count": 69,
   "metadata": {},
   "outputs": [
    {
     "data": {
      "text/html": [
       "<div>\n",
       "<style scoped>\n",
       "    .dataframe tbody tr th:only-of-type {\n",
       "        vertical-align: middle;\n",
       "    }\n",
       "\n",
       "    .dataframe tbody tr th {\n",
       "        vertical-align: top;\n",
       "    }\n",
       "\n",
       "    .dataframe thead th {\n",
       "        text-align: right;\n",
       "    }\n",
       "</style>\n",
       "<table border=\"1\" class=\"dataframe\">\n",
       "  <thead>\n",
       "    <tr style=\"text-align: right;\">\n",
       "      <th></th>\n",
       "      <th>count</th>\n",
       "      <th>mean</th>\n",
       "      <th>std</th>\n",
       "      <th>min</th>\n",
       "      <th>25%</th>\n",
       "      <th>50%</th>\n",
       "      <th>75%</th>\n",
       "      <th>max</th>\n",
       "    </tr>\n",
       "    <tr>\n",
       "      <th>cluster_by30%</th>\n",
       "      <th></th>\n",
       "      <th></th>\n",
       "      <th></th>\n",
       "      <th></th>\n",
       "      <th></th>\n",
       "      <th></th>\n",
       "      <th></th>\n",
       "      <th></th>\n",
       "    </tr>\n",
       "  </thead>\n",
       "  <tbody>\n",
       "    <tr>\n",
       "      <th>1</th>\n",
       "      <td>399.0</td>\n",
       "      <td>1.724311</td>\n",
       "      <td>1.225436</td>\n",
       "      <td>0.0</td>\n",
       "      <td>1.0</td>\n",
       "      <td>2.0</td>\n",
       "      <td>3.0</td>\n",
       "      <td>6.0</td>\n",
       "    </tr>\n",
       "    <tr>\n",
       "      <th>2</th>\n",
       "      <td>680.0</td>\n",
       "      <td>1.520588</td>\n",
       "      <td>1.198742</td>\n",
       "      <td>0.0</td>\n",
       "      <td>1.0</td>\n",
       "      <td>1.0</td>\n",
       "      <td>2.0</td>\n",
       "      <td>6.0</td>\n",
       "    </tr>\n",
       "    <tr>\n",
       "      <th>3</th>\n",
       "      <td>93.0</td>\n",
       "      <td>2.129032</td>\n",
       "      <td>1.320621</td>\n",
       "      <td>0.0</td>\n",
       "      <td>1.0</td>\n",
       "      <td>2.0</td>\n",
       "      <td>3.0</td>\n",
       "      <td>6.0</td>\n",
       "    </tr>\n",
       "    <tr>\n",
       "      <th>4</th>\n",
       "      <td>301.0</td>\n",
       "      <td>1.694352</td>\n",
       "      <td>1.238117</td>\n",
       "      <td>0.0</td>\n",
       "      <td>1.0</td>\n",
       "      <td>2.0</td>\n",
       "      <td>2.0</td>\n",
       "      <td>6.0</td>\n",
       "    </tr>\n",
       "  </tbody>\n",
       "</table>\n",
       "</div>"
      ],
      "text/plain": [
       "               count      mean       std  min  25%  50%  75%  max\n",
       "cluster_by30%                                                    \n",
       "1              399.0  1.724311  1.225436  0.0  1.0  2.0  3.0  6.0\n",
       "2              680.0  1.520588  1.198742  0.0  1.0  1.0  2.0  6.0\n",
       "3               93.0  2.129032  1.320621  0.0  1.0  2.0  3.0  6.0\n",
       "4              301.0  1.694352  1.238117  0.0  1.0  2.0  2.0  6.0"
      ]
     },
     "execution_count": 69,
     "metadata": {},
     "output_type": "execute_result"
    }
   ],
   "source": [
    "eddc_order.groupby(['cluster_by30%'])['CCW'].describe()"
   ]
  },
  {
   "cell_type": "code",
   "execution_count": 70,
   "metadata": {},
   "outputs": [
    {
     "name": "stdout",
     "output_type": "stream",
     "text": [
      "cluster_by30%  gender\n",
      "1              Male      214\n",
      "               Female    185\n",
      "2              Male      383\n",
      "               Female    297\n",
      "3              Male       56\n",
      "               Female     37\n",
      "4              Male      177\n",
      "               Female    124\n",
      "Name: gender, dtype: int64\n",
      "gender\n",
      "Male      53.634085\n",
      "Female    46.365915\n",
      "Name: gender, dtype: float64\n",
      "gender\n",
      "Male      56.323529\n",
      "Female    43.676471\n",
      "Name: gender, dtype: float64\n",
      "gender\n",
      "Male      60.215054\n",
      "Female    39.784946\n",
      "Name: gender, dtype: float64\n",
      "gender\n",
      "Male      58.803987\n",
      "Female    41.196013\n",
      "Name: gender, dtype: float64\n"
     ]
    }
   ],
   "source": [
    "print(eddc_order.groupby(['cluster_by30%'])['gender'].value_counts())\n",
    "print(eddc_order.groupby(['cluster_by30%'])['gender'].value_counts()[1]/n_cluster1*100)\n",
    "print(eddc_order.groupby(['cluster_by30%'])['gender'].value_counts()[2]/n_cluster2*100) \n",
    "print(eddc_order.groupby(['cluster_by30%'])['gender'].value_counts()[3]/n_cluster3*100)\n",
    "print(eddc_order.groupby(['cluster_by30%'])['gender'].value_counts()[4]/n_cluster4*100)"
   ]
  },
  {
   "cell_type": "code",
   "execution_count": 71,
   "metadata": {},
   "outputs": [
    {
     "name": "stdout",
     "output_type": "stream",
     "text": [
      "cluster_by30%  marital   \n",
      "1              NotMarried    226\n",
      "               Married       173\n",
      "2              NotMarried    444\n",
      "               Married       236\n",
      "3              Married        49\n",
      "               NotMarried     44\n",
      "4              NotMarried    188\n",
      "               Married       113\n",
      "Name: marital, dtype: int64\n",
      "marital\n",
      "NotMarried    56.641604\n",
      "Married       43.358396\n",
      "Name: marital, dtype: float64\n",
      "marital\n",
      "NotMarried    65.294118\n",
      "Married       34.705882\n",
      "Name: marital, dtype: float64\n",
      "marital\n",
      "Married       52.688172\n",
      "NotMarried    47.311828\n",
      "Name: marital, dtype: float64\n",
      "marital\n",
      "NotMarried    62.458472\n",
      "Married       37.541528\n",
      "Name: marital, dtype: float64\n"
     ]
    }
   ],
   "source": [
    "print(eddc_order.groupby(['cluster_by30%'])['marital'].value_counts())\n",
    "print(eddc_order.groupby(['cluster_by30%'])['marital'].value_counts()[1]/n_cluster1*100)\n",
    "print(eddc_order.groupby(['cluster_by30%'])['marital'].value_counts()[2]/n_cluster2*100) \n",
    "print(eddc_order.groupby(['cluster_by30%'])['marital'].value_counts()[3]/n_cluster3*100)\n",
    "print(eddc_order.groupby(['cluster_by30%'])['marital'].value_counts()[4]/n_cluster4*100)"
   ]
  },
  {
   "cell_type": "code",
   "execution_count": 72,
   "metadata": {},
   "outputs": [
    {
     "name": "stdout",
     "output_type": "stream",
     "text": [
      "cluster_by30%  language   \n",
      "1              English        304\n",
      "               Non-English     95\n",
      "2              English        544\n",
      "               Non-English    136\n",
      "3              English         78\n",
      "               Non-English     15\n",
      "4              English        206\n",
      "               Non-English     95\n",
      "Name: language, dtype: int64\n",
      "language\n",
      "English        76.190476\n",
      "Non-English    23.809524\n",
      "Name: language, dtype: float64\n",
      "language\n",
      "English        80.0\n",
      "Non-English    20.0\n",
      "Name: language, dtype: float64\n",
      "language\n",
      "English        83.870968\n",
      "Non-English    16.129032\n",
      "Name: language, dtype: float64\n",
      "language\n",
      "English        68.438538\n",
      "Non-English    31.561462\n",
      "Name: language, dtype: float64\n"
     ]
    }
   ],
   "source": [
    "print(eddc_order.groupby(['cluster_by30%'])['language'].value_counts())\n",
    "print(eddc_order.groupby(['cluster_by30%'])['language'].value_counts()[1]/n_cluster1*100)\n",
    "print(eddc_order.groupby(['cluster_by30%'])['language'].value_counts()[2]/n_cluster2*100) \n",
    "print(eddc_order.groupby(['cluster_by30%'])['language'].value_counts()[3]/n_cluster3*100)\n",
    "print(eddc_order.groupby(['cluster_by30%'])['language'].value_counts()[4]/n_cluster4*100)"
   ]
  },
  {
   "cell_type": "code",
   "execution_count": 73,
   "metadata": {},
   "outputs": [
    {
     "name": "stdout",
     "output_type": "stream",
     "text": [
      "cluster_by30%  ethnicity\n",
      "1              N            230\n",
      "               unknown      107\n",
      "               H             62\n",
      "2              N            440\n",
      "               unknown      133\n",
      "               H            107\n",
      "3              N             54\n",
      "               unknown       25\n",
      "               H             14\n",
      "4              N            179\n",
      "               unknown       83\n",
      "               H             39\n",
      "Name: ethnicity, dtype: int64\n",
      "ethnicity\n",
      "N          57.644110\n",
      "unknown    26.817043\n",
      "H          15.538847\n",
      "Name: ethnicity, dtype: float64\n",
      "ethnicity\n",
      "N          64.705882\n",
      "unknown    19.558824\n",
      "H          15.735294\n",
      "Name: ethnicity, dtype: float64\n",
      "ethnicity\n",
      "N          58.064516\n",
      "unknown    26.881720\n",
      "H          15.053763\n",
      "Name: ethnicity, dtype: float64\n",
      "ethnicity\n",
      "N          59.468439\n",
      "unknown    27.574751\n",
      "H          12.956811\n",
      "Name: ethnicity, dtype: float64\n"
     ]
    }
   ],
   "source": [
    "print(eddc_order.groupby(['cluster_by30%'])['ethnicity'].value_counts())\n",
    "print(eddc_order.groupby(['cluster_by30%'])['ethnicity'].value_counts()[1]/n_cluster1*100)\n",
    "print(eddc_order.groupby(['cluster_by30%'])['ethnicity'].value_counts()[2]/n_cluster2*100)  ## 100.01% \n",
    "print(eddc_order.groupby(['cluster_by30%'])['ethnicity'].value_counts()[3]/n_cluster3*100)  ## 99.99%\n",
    "print(eddc_order.groupby(['cluster_by30%'])['ethnicity'].value_counts()[4]/n_cluster4*100)"
   ]
  },
  {
   "cell_type": "code",
   "execution_count": 74,
   "metadata": {},
   "outputs": [
    {
     "name": "stdout",
     "output_type": "stream",
     "text": [
      "cluster_by30%  race   \n",
      "1              White      171\n",
      "               Other       75\n",
      "               Black       64\n",
      "               Unknown     52\n",
      "               Asian       37\n",
      "2              White      279\n",
      "               Black      150\n",
      "               Other       97\n",
      "               Unknown     78\n",
      "               Asian       76\n",
      "3              White       44\n",
      "               Black       17\n",
      "               Unknown     17\n",
      "               Other       11\n",
      "               Asian        4\n",
      "4              White       83\n",
      "               Black       77\n",
      "               Asian       63\n",
      "               Other       41\n",
      "               Unknown     37\n",
      "Name: race, dtype: int64\n",
      "race\n",
      "White      42.857143\n",
      "Other      18.796992\n",
      "Black      16.040100\n",
      "Unknown    13.032581\n",
      "Asian       9.273183\n",
      "Name: race, dtype: float64\n",
      "race\n",
      "White      41.029412\n",
      "Black      22.058824\n",
      "Other      14.264706\n",
      "Unknown    11.470588\n",
      "Asian      11.176471\n",
      "Name: race, dtype: float64\n",
      "race\n",
      "White      47.311828\n",
      "Black      18.279570\n",
      "Unknown    18.279570\n",
      "Other      11.827957\n",
      "Asian       4.301075\n",
      "Name: race, dtype: float64\n",
      "race\n",
      "White      27.574751\n",
      "Black      25.581395\n",
      "Asian      20.930233\n",
      "Other      13.621262\n",
      "Unknown    12.292359\n",
      "Name: race, dtype: float64\n"
     ]
    }
   ],
   "source": [
    "print(eddc_order.groupby(['cluster_by30%'])['race'].value_counts())\n",
    "print(eddc_order.groupby(['cluster_by30%'])['race'].value_counts()[1]/n_cluster1*100)\n",
    "print(eddc_order.groupby(['cluster_by30%'])['race'].value_counts()[2]/n_cluster2*100) \n",
    "print(eddc_order.groupby(['cluster_by30%'])['race'].value_counts()[3]/n_cluster3*100)\n",
    "print(eddc_order.groupby(['cluster_by30%'])['race'].value_counts()[4]/n_cluster4*100)"
   ]
  },
  {
   "cell_type": "code",
   "execution_count": 75,
   "metadata": {},
   "outputs": [
    {
     "name": "stdout",
     "output_type": "stream",
     "text": [
      "cluster_by30%  death\n",
      "1              0        378\n",
      "               1         21\n",
      "2              0        665\n",
      "               1         15\n",
      "3              0         77\n",
      "               1         16\n",
      "4              0        281\n",
      "               1         20\n",
      "Name: death, dtype: int64\n",
      "death\n",
      "0    94.736842\n",
      "1     5.263158\n",
      "Name: death, dtype: float64\n",
      "death\n",
      "0    97.794118\n",
      "1     2.205882\n",
      "Name: death, dtype: float64\n",
      "death\n",
      "0    82.795699\n",
      "1    17.204301\n",
      "Name: death, dtype: float64\n",
      "death\n",
      "0    93.355482\n",
      "1     6.644518\n",
      "Name: death, dtype: float64\n"
     ]
    }
   ],
   "source": [
    "print(eddc_order.groupby(['cluster_by30%'])['death'].value_counts())\n",
    "print(eddc_order.groupby(['cluster_by30%'])['death'].value_counts()[1]/n_cluster1*100)\n",
    "print(eddc_order.groupby(['cluster_by30%'])['death'].value_counts()[2]/n_cluster2*100) \n",
    "print(eddc_order.groupby(['cluster_by30%'])['death'].value_counts()[3]/n_cluster3*100)\n",
    "print(eddc_order.groupby(['cluster_by30%'])['death'].value_counts()[4]/n_cluster4*100)"
   ]
  },
  {
   "cell_type": "code",
   "execution_count": 76,
   "metadata": {},
   "outputs": [
    {
     "name": "stdout",
     "output_type": "stream",
     "text": [
      "cluster_by30%  payor     \n",
      "1              Medicare      249\n",
      "               Medicaid       90\n",
      "               Commercial     53\n",
      "               Selfpay         7\n",
      "2              Medicare      423\n",
      "               Medicaid      146\n",
      "               Commercial    100\n",
      "               Selfpay        11\n",
      "3              Medicare       57\n",
      "               Commercial     18\n",
      "               Medicaid       17\n",
      "               Selfpay         1\n",
      "4              Medicare      153\n",
      "               Medicaid       86\n",
      "               Commercial     55\n",
      "               Selfpay         7\n",
      "Name: payor, dtype: int64\n",
      "payor\n",
      "Medicare      62.406015\n",
      "Medicaid      22.556391\n",
      "Commercial    13.283208\n",
      "Selfpay        1.754386\n",
      "Name: payor, dtype: float64\n",
      "payor\n",
      "Medicare      62.205882\n",
      "Medicaid      21.470588\n",
      "Commercial    14.705882\n",
      "Selfpay        1.617647\n",
      "Name: payor, dtype: float64\n",
      "payor\n",
      "Medicare      61.290323\n",
      "Commercial    19.354839\n",
      "Medicaid      18.279570\n",
      "Selfpay        1.075269\n",
      "Name: payor, dtype: float64\n",
      "payor\n",
      "Medicare      50.830565\n",
      "Medicaid      28.571429\n",
      "Commercial    18.272425\n",
      "Selfpay        2.325581\n",
      "Name: payor, dtype: float64\n"
     ]
    }
   ],
   "source": [
    "print(eddc_order.groupby(['cluster_by30%'])['payor'].value_counts())\n",
    "print(eddc_order.groupby(['cluster_by30%'])['payor'].value_counts()[1]/n_cluster1*100)\n",
    "print(eddc_order.groupby(['cluster_by30%'])['payor'].value_counts()[2]/n_cluster2*100) ## 100.01%\n",
    "print(eddc_order.groupby(['cluster_by30%'])['payor'].value_counts()[3]/n_cluster3*100)\n",
    "print(eddc_order.groupby(['cluster_by30%'])['payor'].value_counts()[4]/n_cluster4*100)"
   ]
  },
  {
   "cell_type": "markdown",
   "metadata": {},
   "source": [
    "# Table 1: P value"
   ]
  },
  {
   "cell_type": "code",
   "execution_count": 77,
   "metadata": {},
   "outputs": [
    {
     "name": "stdout",
     "output_type": "stream",
     "text": [
      "{'LOS': 0.0, 'charlson': 1.5331882360576835e-50, 'elixhauser': 8.313619217510059e-27, 'CCW': 9.177575776227363e-17}\n"
     ]
    }
   ],
   "source": [
    "## normal distribution test\n",
    "continuous = ['LOS', 'charlson', 'elixhauser', 'CCW']\n",
    "pvalues = {}\n",
    "for i in continuous:\n",
    "    pvalues[i] = normaltest(eddc_order[i])[1]\n",
    "print(pvalues) # P<0.05, not normal distribution"
   ]
  },
  {
   "cell_type": "code",
   "execution_count": 78,
   "metadata": {},
   "outputs": [],
   "source": [
    "x_name = ['LOS', '30day', '60day', '90ay', 'charlson', 'elixhauser', 'userQ', 'dischargedisposition', 'home', 'campus', 'Eddecision', 'Edcampus', 'VTE', 'CCW', 'gender', 'marital', 'language', 'ethnicity', 'race', 'death', 'payor']\n",
    "categorical = ['30day', '60day', '90ay', 'userQ', 'dischargedisposition', 'home', 'campus', 'Eddecision', 'Edcampus', 'VTE', 'gender', 'marital', 'language', 'ethnicity', 'race', 'death', 'payor']\n",
    "groupby = ['cluster_by30%']\n",
    "nonnormal = ['LOS', 'charlson', 'elixhauser', 'CCW']"
   ]
  },
  {
   "cell_type": "code",
   "execution_count": 79,
   "metadata": {},
   "outputs": [
    {
     "name": "stderr",
     "output_type": "stream",
     "text": [
      "/anaconda3/lib/python3.7/site-packages/tableone.py:752: UserWarning: Chi-squared test for {} may be invalid (expected cell counts are < 5).\n",
      "  \"(expected cell counts are < 5).\".format(v))\n"
     ]
    },
    {
     "name": "stdout",
     "output_type": "stream",
     "text": [
      "|                      |                                | Missing   | 1               | 2             | 3                | 4              | P-Value   | Test                                      |\n",
      "|----------------------|--------------------------------|-----------|-----------------|---------------|------------------|----------------|-----------|-------------------------------------------|\n",
      "| n                    |                                |           | 399             | 680           | 93               | 301            |           |                                           |\n",
      "| LOS                  |                                | 0         | 10.0 [7.0,17.0] | 4.0 [2.0,7.0] | 26.0 [18.0,43.0] | 7.0 [4.0,15.0] | <0.001    | Kruskal-Wallis                            |\n",
      "| 30day                | 0                              | 0         | 390 (97.7)      | 662 (97.4)    | 90 (96.8)        | 297 (98.7)     | 0.577     | Chi-squared (warning: expected count < 5) |\n",
      "|                      | 1                              |           | 9 (2.3)         | 18 (2.6)      | 3 (3.2)          | 4 (1.3)        |           |                                           |\n",
      "| 60day                | 0                              | 0         | 378 (94.7)      | 652 (95.9)    | 89 (95.7)        | 293 (97.3)     | 0.401     | Chi-squared (warning: expected count < 5) |\n",
      "|                      | 1                              |           | 21 (5.3)        | 28 (4.1)      | 4 (4.3)          | 8 (2.7)        |           |                                           |\n",
      "| 90ay                 | 0                              | 0         | 366 (91.7)      | 638 (93.8)    | 89 (95.7)        | 291 (96.7)     | 0.047     | Chi-squared                               |\n",
      "|                      | 1                              |           | 33 (8.3)        | 42 (6.2)      | 4 (4.3)          | 10 (3.3)       |           |                                           |\n",
      "| charlson             |                                | 0         | 2.0 [1.0,3.0]   | 2.0 [1.0,2.0] | 2.0 [1.0,3.0]    | 2.0 [1.0,3.0]  | <0.001    | Kruskal-Wallis                            |\n",
      "| elixhauser           |                                | 0         | 3.0 [2.0,4.0]   | 3.0 [2.0,4.0] | 5.0 [3.0,6.0]    | 3.0 [2.0,4.0]  | <0.001    | Kruskal-Wallis                            |\n",
      "| userQ                | high                           | 0         | 92 (23.1)       | 219 (32.2)    | 1 (1.1)          | 15 (5.0)       | <0.001    | Chi-squared                               |\n",
      "|                      | low                            |           | 61 (15.3)       | 103 (15.1)    | 11 (11.8)        | 13 (4.3)       |           |                                           |\n",
      "|                      | medium                         |           | 246 (61.7)      | 358 (52.6)    | 81 (87.1)        | 273 (90.7)     |           |                                           |\n",
      "| dischargedisposition | ADMITTEDTOSAMEFACILITY         | 5         |                 | 1 (0.1)       |                  | 1 (0.3)        | <0.001    | Chi-squared (warning: expected count < 5) |\n",
      "|                      | AGAINSTMEDICALADVICE           |           | 1 (0.3)         | 9 (1.3)       |                  | 4 (1.3)        |           |                                           |\n",
      "|                      | DISCHARGEHOMEWITHHMHLTHSERV    |           | 160 (40.1)      | 223 (33.0)    | 30 (32.3)        | 95 (31.7)      |           |                                           |\n",
      "|                      | DISCHARGEHOMEWITHHOSPICE       |           | 12 (3.0)        | 5 (0.7)       | 1 (1.1)          | 2 (0.7)        |           |                                           |\n",
      "|                      | DISCHARGEHOSPICEFACILITY       |           | 8 (2.0)         | 3 (0.4)       | 5 (5.4)          | 1 (0.3)        |           |                                           |\n",
      "|                      | DISCHARGETOACUTEFACILITY       |           | 1 (0.3)         | 4 (0.6)       |                  | 3 (1.0)        |           |                                           |\n",
      "|                      | DISCHARGETOINTERIMFACILITY     |           | 1 (0.3)         | 2 (0.3)       |                  | 1 (0.3)        |           |                                           |\n",
      "|                      | DISCHARGETOLAWENFORCEMENT      |           |                 |               |                  | 2 (0.7)        |           |                                           |\n",
      "|                      | DISCHARGETOOTHERFACNOTLISTED   |           | 1 (0.3)         | 2 (0.3)       |                  | 1 (0.3)        |           |                                           |\n",
      "|                      | DISCHARGETOSNF                 |           | 81 (20.3)       | 92 (13.6)     | 30 (32.3)        | 37 (12.3)      |           |                                           |\n",
      "|                      | PATIENTEXPIRED                 |           | 21 (5.3)        | 15 (2.2)      | 16 (17.2)        | 20 (6.7)       |           |                                           |\n",
      "|                      | ROUTINE/HOME                   |           | 99 (24.8)       | 306 (45.3)    | 6 (6.5)          | 127 (42.3)     |           |                                           |\n",
      "|                      | TRANS/DISCHARGETO/FMIPPSYCH    |           |                 | 2 (0.3)       |                  |                |           |                                           |\n",
      "|                      | TRANS/DISCHARGETO/FMIPREHABFAC |           | 14 (3.5)        | 12 (1.8)      | 5 (5.4)          | 6 (2.0)        |           |                                           |\n",
      "| home                 | 0                              | 0         | 300 (75.2)      | 374 (55.0)    | 87 (93.5)        | 174 (57.8)     | <0.001    | Chi-squared                               |\n",
      "|                      | 1                              |           | 99 (24.8)       | 306 (45.0)    | 6 (6.5)          | 127 (42.2)     |           |                                           |\n",
      "| campus               | Cornell                        | 0         | 341 (85.5)      | 470 (69.1)    | 86 (92.5)        | 197 (65.4)     | <0.001    | Chi-squared                               |\n",
      "|                      | LMH                            |           | 58 (14.5)       | 210 (30.9)    | 7 (7.5)          | 104 (34.6)     |           |                                           |\n",
      "| Eddecision           | Admitted                       | 244       | 332 (100.0)     | 591 (100.0)   | 65 (100.0)       | 241 (100.0)    | 1.000     | Chi-squared                               |\n",
      "| Edcampus             | Cornell ED                     | 244       | 262 (78.9)      | 373 (63.1)    | 55 (84.6)        | 128 (53.1)     | <0.001    | Chi-squared                               |\n",
      "|                      | LMH ED                         |           | 70 (21.1)       | 218 (36.9)    | 10 (15.4)        | 113 (46.9)     |           |                                           |\n",
      "| VTE                  | 0                              | 0         | 390 (97.7)      | 672 (98.8)    | 79 (84.9)        | 287 (95.3)     | <0.001    | Chi-squared (warning: expected count < 5) |\n",
      "|                      | 1                              |           | 9 (2.3)         | 8 (1.2)       | 14 (15.1)        | 14 (4.7)       |           |                                           |\n",
      "| CCW                  |                                | 0         | 2.0 [1.0,3.0]   | 1.0 [1.0,2.0] | 2.0 [1.0,3.0]    | 2.0 [1.0,2.0]  | <0.001    | Kruskal-Wallis                            |\n",
      "| gender               | Female                         | 0         | 185 (46.4)      | 297 (43.7)    | 37 (39.8)        | 124 (41.2)     | 0.476     | Chi-squared                               |\n",
      "|                      | Male                           |           | 214 (53.6)      | 383 (56.3)    | 56 (60.2)        | 177 (58.8)     |           |                                           |\n",
      "| marital              | Married                        | 0         | 173 (43.4)      | 236 (34.7)    | 49 (52.7)        | 113 (37.5)     | 0.001     | Chi-squared                               |\n",
      "|                      | NotMarried                     |           | 226 (56.6)      | 444 (65.3)    | 44 (47.3)        | 188 (62.5)     |           |                                           |\n",
      "| language             | English                        | 0         | 304 (76.2)      | 544 (80.0)    | 78 (83.9)        | 206 (68.4)     | <0.001    | Chi-squared                               |\n",
      "|                      | Non-English                    |           | 95 (23.8)       | 136 (20.0)    | 15 (16.1)        | 95 (31.6)      |           |                                           |\n",
      "| ethnicity            | H                              | 0         | 62 (15.5)       | 107 (15.7)    | 14 (15.1)        | 39 (13.0)      | 0.051     | Chi-squared                               |\n",
      "|                      | N                              |           | 230 (57.6)      | 440 (64.7)    | 54 (58.1)        | 179 (59.5)     |           |                                           |\n",
      "|                      | unknown                        |           | 107 (26.8)      | 133 (19.6)    | 25 (26.9)        | 83 (27.6)      |           |                                           |\n",
      "| race                 | Asian                          | 0         | 37 (9.3)        | 76 (11.2)     | 4 (4.3)          | 63 (20.9)      | <0.001    | Chi-squared                               |\n",
      "|                      | Black                          |           | 64 (16.0)       | 150 (22.1)    | 17 (18.3)        | 77 (25.6)      |           |                                           |\n",
      "|                      | Other                          |           | 75 (18.8)       | 97 (14.3)     | 11 (11.8)        | 41 (13.6)      |           |                                           |\n",
      "|                      | Unknown                        |           | 52 (13.0)       | 78 (11.5)     | 17 (18.3)        | 37 (12.3)      |           |                                           |\n",
      "|                      | White                          |           | 171 (42.9)      | 279 (41.0)    | 44 (47.3)        | 83 (27.6)      |           |                                           |\n",
      "| death                | 0                              | 0         | 378 (94.7)      | 665 (97.8)    | 77 (82.8)        | 281 (93.4)     | <0.001    | Chi-squared (warning: expected count < 5) |\n",
      "|                      | 1                              |           | 21 (5.3)        | 15 (2.2)      | 16 (17.2)        | 20 (6.6)       |           |                                           |\n",
      "| payor                | Commercial                     | 0         | 53 (13.3)       | 100 (14.7)    | 18 (19.4)        | 55 (18.3)      | 0.074     | Chi-squared (warning: expected count < 5) |\n",
      "|                      | Medicaid                       |           | 90 (22.6)       | 146 (21.5)    | 17 (18.3)        | 86 (28.6)      |           |                                           |\n",
      "|                      | Medicare                       |           | 249 (62.4)      | 423 (62.2)    | 57 (61.3)        | 153 (50.8)     |           |                                           |\n",
      "|                      | Selfpay                        |           | 7 (1.8)         | 11 (1.6)      | 1 (1.1)          | 7 (2.3)        |           |                                           |\n"
     ]
    }
   ],
   "source": [
    "mytable = TableOne(eddc_order, x_name, categorical, groupby, nonnormal, pval = True)\n",
    "print(mytable.tabulate(tablefmt = \"github\"))\n",
    "mytable.to_excel('/Users/fan/Desktop/Fullhouse/WCM/HospitalManagement/Table_1.xlsx')"
   ]
  },
  {
   "cell_type": "markdown",
   "metadata": {},
   "source": [
    "Normal distribution has been tested so that one-way ANOVA cann't be used\n",
    "Kruskal-Wallis or chi-squared test: "
   ]
  },
  {
   "cell_type": "code",
   "execution_count": 80,
   "metadata": {},
   "outputs": [],
   "source": [
    "eddc_order_1 = eddc_order[eddc_order['cluster_by30%']==1]\n",
    "eddc_order_2 = eddc_order[eddc_order['cluster_by30%']==2]\n",
    "eddc_order_3 = eddc_order[eddc_order['cluster_by30%']==3]\n",
    "eddc_order_4 = eddc_order[eddc_order['cluster_by30%']==4]"
   ]
  },
  {
   "cell_type": "code",
   "execution_count": 82,
   "metadata": {},
   "outputs": [],
   "source": [
    "#f,p = stats.f_oneway(eddc_order_1['LOS'], eddc_order_2['LOS'], eddc_order_3['LOS'], eddc_order_4['LOS'])\n",
    "#print(f,p)"
   ]
  },
  {
   "cell_type": "code",
   "execution_count": 83,
   "metadata": {},
   "outputs": [
    {
     "name": "stdout",
     "output_type": "stream",
     "text": [
      "7.349256660984074 6.871493656130703e-05\n"
     ]
    }
   ],
   "source": [
    "#f,p = stats.f_oneway(eddc_order_1['charlson'], eddc_order_2['charlson'], eddc_order_3['charlson'], eddc_order_4['charlson'])\n",
    "#print(f,p)"
   ]
  },
  {
   "cell_type": "code",
   "execution_count": 84,
   "metadata": {},
   "outputs": [
    {
     "name": "stdout",
     "output_type": "stream",
     "text": [
      "24.896467265898224 1.0326726675164726e-15\n"
     ]
    }
   ],
   "source": [
    "#f,p = stats.f_oneway(eddc_order_1['elixhauser'], eddc_order_2['elixhauser'], eddc_order_3['elixhauser'], eddc_order_4['elixhauser'])\n",
    "#print(f,p)"
   ]
  },
  {
   "cell_type": "code",
   "execution_count": 85,
   "metadata": {},
   "outputs": [
    {
     "name": "stdout",
     "output_type": "stream",
     "text": [
      "7.929512917980649 3.018722478942286e-05\n"
     ]
    }
   ],
   "source": [
    "#f,p = stats.f_oneway(eddc_order_1['CCW'], eddc_order_2['CCW'], eddc_order_3['CCW'], eddc_order_4['CCW'])\n",
    "#print(f,p)"
   ]
  },
  {
   "cell_type": "code",
   "execution_count": 86,
   "metadata": {},
   "outputs": [
    {
     "name": "stdout",
     "output_type": "stream",
     "text": [
      "LOS\n",
      "KruskalResult(statistic=434.41709215093374, pvalue=7.752054536367961e-94)\n",
      "charlson\n",
      "KruskalResult(statistic=18.189286941732288, pvalue=0.00040202739087321976)\n",
      "elixhauser\n",
      "KruskalResult(statistic=60.73125519012608, pvalue=4.102078611464514e-13)\n",
      "CCW\n",
      "KruskalResult(statistic=23.272400209642132, pvalue=3.5432992870826796e-05)\n"
     ]
    }
   ],
   "source": [
    "for i in nonnormal:\n",
    "    kwresult = scipy.stats.kruskal(eddc_order_1[i], eddc_order_2[i], eddc_order_3[i], eddc_order_4[i]) \n",
    "    print(i)\n",
    "    print(kwresult)"
   ]
  },
  {
   "cell_type": "code",
   "execution_count": 87,
   "metadata": {},
   "outputs": [
    {
     "name": "stdout",
     "output_type": "stream",
     "text": [
      "30day\n",
      "chisq = 1.9786\n",
      " p-value = 0.9817\n",
      " dof = 8\n",
      " expected_freq = [[ 389.79022403  664.30414121   90.85336049  294.05227427 1439.        ]\n",
      " [   9.20977597   15.69585879    2.14663951    6.94772573   34.        ]\n",
      " [ 399.          680.           93.          301.         1473.        ]]\n",
      "60day\n",
      "chisq = 2.9406\n",
      " p-value = 0.9380\n",
      " dof = 8\n",
      " expected_freq = [[ 382.47657841  651.83978276   89.14867617  288.53496266 1412.        ]\n",
      " [  16.52342159   28.16021724    3.85132383   12.46503734   61.        ]\n",
      " [ 399.          680.           93.          301.         1473.        ]]\n",
      "90ay\n",
      "chisq = 7.9311\n",
      " p-value = 0.4402\n",
      " dof = 8\n",
      " expected_freq = [[ 374.89205703  638.9137814    87.3808554   282.81330618 1384.        ]\n",
      " [  24.10794297   41.0862186     5.6191446    18.18669382   89.        ]\n",
      " [ 399.          680.           93.          301.         1473.        ]]\n",
      "userQ\n",
      "chisq = 165.7710\n",
      " p-value = 0.0000\n",
      " dof = 12\n",
      " expected_freq = [[  88.57637475  150.95723014   20.64562118   66.82077393  327.        ]\n",
      " [  50.92464358   86.78886626   11.86965377   38.41683639  188.        ]\n",
      " [ 259.49898167  442.2539036    60.48472505  195.76238968  958.        ]\n",
      " [ 399.          680.           93.          301.         1473.        ]]\n",
      "dischargedisposition\n",
      "chisq = 182.3893\n",
      " p-value = 0.0000\n",
      " dof = 56\n",
      " expected_freq = [[5.43596730e-01 9.20980926e-01 1.26702997e-01 4.08719346e-01\n",
      "  2.00000000e+00]\n",
      " [3.80517711e+00 6.44686649e+00 8.86920981e-01 2.86103542e+00\n",
      "  1.40000000e+01]\n",
      " [1.38073569e+02 2.33929155e+02 3.21825613e+01 1.03814714e+02\n",
      "  5.08000000e+02]\n",
      " [5.43596730e+00 9.20980926e+00 1.26702997e+00 4.08719346e+00\n",
      "  2.00000000e+01]\n",
      " [4.62057221e+00 7.82833787e+00 1.07697548e+00 3.47411444e+00\n",
      "  1.70000000e+01]\n",
      " [2.17438692e+00 3.68392371e+00 5.06811989e-01 1.63487738e+00\n",
      "  8.00000000e+00]\n",
      " [1.08719346e+00 1.84196185e+00 2.53405995e-01 8.17438692e-01\n",
      "  4.00000000e+00]\n",
      " [5.43596730e-01 9.20980926e-01 1.26702997e-01 4.08719346e-01\n",
      "  2.00000000e+00]\n",
      " [1.08719346e+00 1.84196185e+00 2.53405995e-01 8.17438692e-01\n",
      "  4.00000000e+00]\n",
      " [6.52316076e+01 1.10517711e+02 1.52043597e+01 4.90463215e+01\n",
      "  2.40000000e+02]\n",
      " [1.95694823e+01 3.31553134e+01 4.56130790e+00 1.47138965e+01\n",
      "  7.20000000e+01]\n",
      " [1.46227520e+02 2.47743869e+02 3.40831063e+01 1.09945504e+02\n",
      "  5.38000000e+02]\n",
      " [5.43596730e-01 9.20980926e-01 1.26702997e-01 4.08719346e-01\n",
      "  2.00000000e+00]\n",
      " [1.00565395e+01 1.70381471e+01 2.34400545e+00 7.56130790e+00\n",
      "  3.70000000e+01]\n",
      " [3.99000000e+02 6.76000000e+02 9.30000000e+01 3.00000000e+02\n",
      "  1.46800000e+03]]\n",
      "home\n",
      "chisq = 85.1279\n",
      " p-value = 0.0000\n",
      " dof = 8\n",
      " expected_freq = [[ 253.2688391   431.63611677   59.03258656  191.06245757  935.        ]\n",
      " [ 145.7311609   248.36388323   33.96741344  109.93754243  538.        ]\n",
      " [ 399.          680.           93.          301.         1473.        ]]\n",
      "campus\n",
      "chisq = 63.9915\n",
      " p-value = 0.0000\n",
      " dof = 8\n",
      " expected_freq = [[ 296.33808554  505.03733876   69.0712831   223.5532926  1094.        ]\n",
      " [ 102.66191446  174.96266124   23.9287169    77.4467074   379.        ]\n",
      " [ 399.          680.           93.          301.         1473.        ]]\n",
      "Eddecision\n",
      "chisq = 0.0000\n",
      " p-value = 1.0000\n",
      " dof = 4\n",
      " expected_freq = [[ 332.  591.   65.  241. 1229.]\n",
      " [ 332.  591.   65.  241. 1229.]]\n",
      "Edcampus\n",
      "chisq = 55.0262\n",
      " p-value = 0.0000\n",
      " dof = 8\n",
      " expected_freq = [[ 220.9731489   393.35882832   43.2628153   160.40520749  818.        ]\n",
      " [ 111.0268511   197.64117168   21.7371847    80.59479251  411.        ]\n",
      " [ 332.          591.           65.          241.         1229.        ]]\n",
      "VTE\n",
      "chisq = 56.7611\n",
      " p-value = 0.0000\n",
      " dof = 8\n",
      " expected_freq = [[ 386.81059063  659.22606925   90.15885947  291.80448065 1428.        ]\n",
      " [  12.18940937   20.77393075    2.84114053    9.19551935   45.        ]\n",
      " [ 399.          680.           93.          301.         1473.        ]]\n",
      "gender\n",
      "chisq = 2.4985\n",
      " p-value = 0.9618\n",
      " dof = 8\n",
      " expected_freq = [[ 174.17311609  296.83638832   40.59674134  131.39375424  643.        ]\n",
      " [ 224.82688391  383.16361168   52.40325866  169.60624576  830.        ]\n",
      " [ 399.          680.           93.          301.         1473.        ]]\n",
      "marital\n",
      "chisq = 16.0512\n",
      " p-value = 0.0417\n",
      " dof = 8\n",
      " expected_freq = [[ 154.6700611   263.59809912   36.0509165   116.68092329  571.        ]\n",
      " [ 244.3299389   416.40190088   56.9490835   184.31907671  902.        ]\n",
      " [ 399.          680.           93.          301.         1473.        ]]\n",
      "language\n",
      "chisq = 18.4375\n",
      " p-value = 0.0182\n",
      " dof = 8\n",
      " expected_freq = [[ 306.63136456  522.57976918   71.47046843  231.31839783 1132.        ]\n",
      " [  92.36863544  157.42023082   21.52953157   69.68160217  341.        ]\n",
      " [ 399.          680.           93.          301.         1473.        ]]\n",
      "ethnicity\n",
      "chisq = 12.5147\n",
      " p-value = 0.4053\n",
      " dof = 12\n",
      " expected_freq = [[  60.13441955  102.48472505   14.01629328   45.36456212  222.        ]\n",
      " [ 244.60081466  416.86354379   57.01221996  184.52342159  903.        ]\n",
      " [  94.26476578  160.65173116   21.97148676   71.11201629  348.        ]\n",
      " [ 399.          680.           93.          301.         1473.        ]]\n",
      "race\n",
      "chisq = 57.3346\n",
      " p-value = 0.0000\n",
      " dof = 20\n",
      " expected_freq = [[  48.75763747   83.09572301   11.36456212   36.78207739  180.        ]\n",
      " [  83.42973523  142.18601494   19.44602851   62.93822132  308.        ]\n",
      " [  60.67617108  103.40801086   14.14256619   45.77325187  224.        ]\n",
      " [  49.84114053   84.94229464   11.61710794   37.59945689  184.        ]\n",
      " [ 156.29531568  266.36795655   36.42973523  117.90699253  577.        ]\n",
      " [ 399.          680.           93.          301.         1473.        ]]\n",
      "death\n",
      "chisq = 42.9848\n",
      " p-value = 0.0000\n",
      " dof = 8\n",
      " expected_freq = [[ 379.49694501  646.76171079   88.45417515  286.28716904 1401.        ]\n",
      " [  19.50305499   33.23828921    4.54582485   14.71283096   72.        ]\n",
      " [ 399.          680.           93.          301.         1473.        ]]\n",
      "payor\n",
      "chisq = 15.6852\n",
      " p-value = 0.4751\n",
      " dof = 16\n",
      " expected_freq = [[  61.21792261  104.33129667   14.2688391    46.18194162  226.        ]\n",
      " [  91.82688391  156.49694501   21.40325866   69.27291242  339.        ]\n",
      " [ 238.91242363  407.16904277   55.68635438  180.23217923  882.        ]\n",
      " [   7.04276986   12.00271555    1.64154786    5.31296673   26.        ]\n",
      " [ 399.          680.           93.          301.         1473.        ]]\n"
     ]
    }
   ],
   "source": [
    "for i in categorical: \n",
    "    print(i)\n",
    "    cross_table = pd.crosstab(eddc_order[i], eddc_order['cluster_by30%'], margins=True)\n",
    "    print('chisq = %6.4f\\n p-value = %6.4f\\n dof = %i\\n expected_freq = %s' %stats.chi2_contingency(cross_table))"
   ]
  },
  {
   "cell_type": "code",
   "execution_count": null,
   "metadata": {},
   "outputs": [],
   "source": []
  }
 ],
 "metadata": {
  "kernelspec": {
   "display_name": "Python 3",
   "language": "python",
   "name": "python3"
  },
  "language_info": {
   "codemirror_mode": {
    "name": "ipython",
    "version": 3
   },
   "file_extension": ".py",
   "mimetype": "text/x-python",
   "name": "python",
   "nbconvert_exporter": "python",
   "pygments_lexer": "ipython3",
   "version": "3.7.1"
  }
 },
 "nbformat": 4,
 "nbformat_minor": 2
}
